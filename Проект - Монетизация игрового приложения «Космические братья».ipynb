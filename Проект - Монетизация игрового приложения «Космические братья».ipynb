{
 "cells": [
  {
   "cell_type": "markdown",
   "metadata": {},
   "source": [
    "# Проект - Монетизация игрового приложения «Космические братья»"
   ]
  },
  {
   "cell_type": "markdown",
   "metadata": {},
   "source": [
    "## 1. Откроем файлы с данными и изучим общую информацию"
   ]
  },
  {
   "cell_type": "markdown",
   "metadata": {},
   "source": [
    "Загружаем библиотеки:"
   ]
  },
  {
   "cell_type": "code",
   "execution_count": 1,
   "metadata": {},
   "outputs": [],
   "source": [
    "import pandas as pd\n",
    "import numpy as np\n",
    "import matplotlib.pyplot as plt\n",
    "\n",
    "from plotly import graph_objects as go \n",
    "import seaborn as sns\n",
    "\n",
    "from scipy import stats as st\n"
   ]
  },
  {
   "cell_type": "markdown",
   "metadata": {},
   "source": [
    "Загружаем данные о затратах, действиях пользователей и источников пользователей из CSV-файлов в переменные:"
   ]
  },
  {
   "cell_type": "code",
   "execution_count": 2,
   "metadata": {},
   "outputs": [],
   "source": [
    "ad_costs = pd.read_csv('/datasets/ad_costs.csv')\n",
    "game_actions = pd.read_csv('/datasets/game_actions.csv')\n",
    "user_source = pd.read_csv('/datasets/user_source.csv')"
   ]
  },
  {
   "cell_type": "markdown",
   "metadata": {},
   "source": [
    "Изучим общую информацию:"
   ]
  },
  {
   "cell_type": "code",
   "execution_count": 3,
   "metadata": {},
   "outputs": [
    {
     "name": "stdout",
     "output_type": "stream",
     "text": [
      "<class 'pandas.core.frame.DataFrame'>\n",
      "RangeIndex: 28 entries, 0 to 27\n",
      "Data columns (total 3 columns):\n",
      " #   Column  Non-Null Count  Dtype  \n",
      "---  ------  --------------  -----  \n",
      " 0   source  28 non-null     object \n",
      " 1   day     28 non-null     object \n",
      " 2   cost    28 non-null     float64\n",
      "dtypes: float64(1), object(2)\n",
      "memory usage: 800.0+ bytes\n"
     ]
    }
   ],
   "source": [
    "ad_costs.info()"
   ]
  },
  {
   "cell_type": "code",
   "execution_count": 4,
   "metadata": {},
   "outputs": [
    {
     "data": {
      "text/html": [
       "<div>\n",
       "<style scoped>\n",
       "    .dataframe tbody tr th:only-of-type {\n",
       "        vertical-align: middle;\n",
       "    }\n",
       "\n",
       "    .dataframe tbody tr th {\n",
       "        vertical-align: top;\n",
       "    }\n",
       "\n",
       "    .dataframe thead th {\n",
       "        text-align: right;\n",
       "    }\n",
       "</style>\n",
       "<table border=\"1\" class=\"dataframe\">\n",
       "  <thead>\n",
       "    <tr style=\"text-align: right;\">\n",
       "      <th></th>\n",
       "      <th>source</th>\n",
       "      <th>day</th>\n",
       "      <th>cost</th>\n",
       "    </tr>\n",
       "  </thead>\n",
       "  <tbody>\n",
       "    <tr>\n",
       "      <th>0</th>\n",
       "      <td>facebook_ads</td>\n",
       "      <td>2020-05-03</td>\n",
       "      <td>935.882786</td>\n",
       "    </tr>\n",
       "    <tr>\n",
       "      <th>1</th>\n",
       "      <td>facebook_ads</td>\n",
       "      <td>2020-05-04</td>\n",
       "      <td>548.354480</td>\n",
       "    </tr>\n",
       "    <tr>\n",
       "      <th>2</th>\n",
       "      <td>facebook_ads</td>\n",
       "      <td>2020-05-05</td>\n",
       "      <td>260.185754</td>\n",
       "    </tr>\n",
       "    <tr>\n",
       "      <th>3</th>\n",
       "      <td>facebook_ads</td>\n",
       "      <td>2020-05-06</td>\n",
       "      <td>177.982200</td>\n",
       "    </tr>\n",
       "    <tr>\n",
       "      <th>4</th>\n",
       "      <td>facebook_ads</td>\n",
       "      <td>2020-05-07</td>\n",
       "      <td>111.766796</td>\n",
       "    </tr>\n",
       "  </tbody>\n",
       "</table>\n",
       "</div>"
      ],
      "text/plain": [
       "         source         day        cost\n",
       "0  facebook_ads  2020-05-03  935.882786\n",
       "1  facebook_ads  2020-05-04  548.354480\n",
       "2  facebook_ads  2020-05-05  260.185754\n",
       "3  facebook_ads  2020-05-06  177.982200\n",
       "4  facebook_ads  2020-05-07  111.766796"
      ]
     },
     "execution_count": 4,
     "metadata": {},
     "output_type": "execute_result"
    }
   ],
   "source": [
    "ad_costs.head(5)"
   ]
  },
  {
   "cell_type": "code",
   "execution_count": 5,
   "metadata": {},
   "outputs": [
    {
     "data": {
      "text/html": [
       "<div>\n",
       "<style scoped>\n",
       "    .dataframe tbody tr th:only-of-type {\n",
       "        vertical-align: middle;\n",
       "    }\n",
       "\n",
       "    .dataframe tbody tr th {\n",
       "        vertical-align: top;\n",
       "    }\n",
       "\n",
       "    .dataframe thead th {\n",
       "        text-align: right;\n",
       "    }\n",
       "</style>\n",
       "<table border=\"1\" class=\"dataframe\">\n",
       "  <thead>\n",
       "    <tr style=\"text-align: right;\">\n",
       "      <th></th>\n",
       "      <th>cost</th>\n",
       "    </tr>\n",
       "  </thead>\n",
       "  <tbody>\n",
       "    <tr>\n",
       "      <th>count</th>\n",
       "      <td>28.000000</td>\n",
       "    </tr>\n",
       "    <tr>\n",
       "      <th>mean</th>\n",
       "      <td>271.556321</td>\n",
       "    </tr>\n",
       "    <tr>\n",
       "      <th>std</th>\n",
       "      <td>286.867650</td>\n",
       "    </tr>\n",
       "    <tr>\n",
       "      <th>min</th>\n",
       "      <td>23.314669</td>\n",
       "    </tr>\n",
       "    <tr>\n",
       "      <th>25%</th>\n",
       "      <td>66.747365</td>\n",
       "    </tr>\n",
       "    <tr>\n",
       "      <th>50%</th>\n",
       "      <td>160.056443</td>\n",
       "    </tr>\n",
       "    <tr>\n",
       "      <th>75%</th>\n",
       "      <td>349.034473</td>\n",
       "    </tr>\n",
       "    <tr>\n",
       "      <th>max</th>\n",
       "      <td>969.139394</td>\n",
       "    </tr>\n",
       "  </tbody>\n",
       "</table>\n",
       "</div>"
      ],
      "text/plain": [
       "             cost\n",
       "count   28.000000\n",
       "mean   271.556321\n",
       "std    286.867650\n",
       "min     23.314669\n",
       "25%     66.747365\n",
       "50%    160.056443\n",
       "75%    349.034473\n",
       "max    969.139394"
      ]
     },
     "execution_count": 5,
     "metadata": {},
     "output_type": "execute_result"
    }
   ],
   "source": [
    "ad_costs.describe()"
   ]
  },
  {
   "cell_type": "code",
   "execution_count": 6,
   "metadata": {},
   "outputs": [
    {
     "name": "stdout",
     "output_type": "stream",
     "text": [
      "<class 'pandas.core.frame.DataFrame'>\n",
      "RangeIndex: 135640 entries, 0 to 135639\n",
      "Data columns (total 5 columns):\n",
      " #   Column          Non-Null Count   Dtype \n",
      "---  ------          --------------   ----- \n",
      " 0   event_datetime  135640 non-null  object\n",
      " 1   event           135640 non-null  object\n",
      " 2   building_type   127957 non-null  object\n",
      " 3   user_id         135640 non-null  object\n",
      " 4   project_type    1866 non-null    object\n",
      "dtypes: object(5)\n",
      "memory usage: 5.2+ MB\n"
     ]
    }
   ],
   "source": [
    "game_actions.info()"
   ]
  },
  {
   "cell_type": "code",
   "execution_count": 7,
   "metadata": {},
   "outputs": [
    {
     "data": {
      "text/html": [
       "<div>\n",
       "<style scoped>\n",
       "    .dataframe tbody tr th:only-of-type {\n",
       "        vertical-align: middle;\n",
       "    }\n",
       "\n",
       "    .dataframe tbody tr th {\n",
       "        vertical-align: top;\n",
       "    }\n",
       "\n",
       "    .dataframe thead th {\n",
       "        text-align: right;\n",
       "    }\n",
       "</style>\n",
       "<table border=\"1\" class=\"dataframe\">\n",
       "  <thead>\n",
       "    <tr style=\"text-align: right;\">\n",
       "      <th></th>\n",
       "      <th>event_datetime</th>\n",
       "      <th>event</th>\n",
       "      <th>building_type</th>\n",
       "      <th>user_id</th>\n",
       "      <th>project_type</th>\n",
       "    </tr>\n",
       "  </thead>\n",
       "  <tbody>\n",
       "    <tr>\n",
       "      <th>count</th>\n",
       "      <td>135640</td>\n",
       "      <td>135640</td>\n",
       "      <td>127957</td>\n",
       "      <td>135640</td>\n",
       "      <td>1866</td>\n",
       "    </tr>\n",
       "    <tr>\n",
       "      <th>unique</th>\n",
       "      <td>128790</td>\n",
       "      <td>3</td>\n",
       "      <td>3</td>\n",
       "      <td>13576</td>\n",
       "      <td>1</td>\n",
       "    </tr>\n",
       "    <tr>\n",
       "      <th>top</th>\n",
       "      <td>2020-05-10 03:08:18</td>\n",
       "      <td>building</td>\n",
       "      <td>spaceport</td>\n",
       "      <td>d6aca06a-cd75-4cd8-b8cd-240a3c163884</td>\n",
       "      <td>satellite_orbital_assembly</td>\n",
       "    </tr>\n",
       "    <tr>\n",
       "      <th>freq</th>\n",
       "      <td>4</td>\n",
       "      <td>127957</td>\n",
       "      <td>59325</td>\n",
       "      <td>22</td>\n",
       "      <td>1866</td>\n",
       "    </tr>\n",
       "  </tbody>\n",
       "</table>\n",
       "</div>"
      ],
      "text/plain": [
       "             event_datetime     event building_type  \\\n",
       "count                135640    135640        127957   \n",
       "unique               128790         3             3   \n",
       "top     2020-05-10 03:08:18  building     spaceport   \n",
       "freq                      4    127957         59325   \n",
       "\n",
       "                                     user_id                project_type  \n",
       "count                                 135640                        1866  \n",
       "unique                                 13576                           1  \n",
       "top     d6aca06a-cd75-4cd8-b8cd-240a3c163884  satellite_orbital_assembly  \n",
       "freq                                      22                        1866  "
      ]
     },
     "execution_count": 7,
     "metadata": {},
     "output_type": "execute_result"
    }
   ],
   "source": [
    "game_actions.describe()"
   ]
  },
  {
   "cell_type": "code",
   "execution_count": 8,
   "metadata": {},
   "outputs": [
    {
     "data": {
      "text/html": [
       "<div>\n",
       "<style scoped>\n",
       "    .dataframe tbody tr th:only-of-type {\n",
       "        vertical-align: middle;\n",
       "    }\n",
       "\n",
       "    .dataframe tbody tr th {\n",
       "        vertical-align: top;\n",
       "    }\n",
       "\n",
       "    .dataframe thead th {\n",
       "        text-align: right;\n",
       "    }\n",
       "</style>\n",
       "<table border=\"1\" class=\"dataframe\">\n",
       "  <thead>\n",
       "    <tr style=\"text-align: right;\">\n",
       "      <th></th>\n",
       "      <th>event_datetime</th>\n",
       "      <th>event</th>\n",
       "      <th>building_type</th>\n",
       "      <th>user_id</th>\n",
       "      <th>project_type</th>\n",
       "    </tr>\n",
       "  </thead>\n",
       "  <tbody>\n",
       "    <tr>\n",
       "      <th>0</th>\n",
       "      <td>2020-05-04 00:00:01</td>\n",
       "      <td>building</td>\n",
       "      <td>assembly_shop</td>\n",
       "      <td>55e92310-cb8e-4754-b622-597e124b03de</td>\n",
       "      <td>NaN</td>\n",
       "    </tr>\n",
       "    <tr>\n",
       "      <th>1</th>\n",
       "      <td>2020-05-04 00:00:03</td>\n",
       "      <td>building</td>\n",
       "      <td>assembly_shop</td>\n",
       "      <td>c07b1c10-f477-44dc-81dc-ec82254b1347</td>\n",
       "      <td>NaN</td>\n",
       "    </tr>\n",
       "    <tr>\n",
       "      <th>2</th>\n",
       "      <td>2020-05-04 00:00:16</td>\n",
       "      <td>building</td>\n",
       "      <td>assembly_shop</td>\n",
       "      <td>6edd42cc-e753-4ff6-a947-2107cd560710</td>\n",
       "      <td>NaN</td>\n",
       "    </tr>\n",
       "    <tr>\n",
       "      <th>3</th>\n",
       "      <td>2020-05-04 00:00:16</td>\n",
       "      <td>building</td>\n",
       "      <td>assembly_shop</td>\n",
       "      <td>92c69003-d60a-444a-827f-8cc51bf6bf4c</td>\n",
       "      <td>NaN</td>\n",
       "    </tr>\n",
       "    <tr>\n",
       "      <th>4</th>\n",
       "      <td>2020-05-04 00:00:35</td>\n",
       "      <td>building</td>\n",
       "      <td>assembly_shop</td>\n",
       "      <td>cdc6bb92-0ccb-4490-9866-ef142f09139d</td>\n",
       "      <td>NaN</td>\n",
       "    </tr>\n",
       "  </tbody>\n",
       "</table>\n",
       "</div>"
      ],
      "text/plain": [
       "        event_datetime     event  building_type  \\\n",
       "0  2020-05-04 00:00:01  building  assembly_shop   \n",
       "1  2020-05-04 00:00:03  building  assembly_shop   \n",
       "2  2020-05-04 00:00:16  building  assembly_shop   \n",
       "3  2020-05-04 00:00:16  building  assembly_shop   \n",
       "4  2020-05-04 00:00:35  building  assembly_shop   \n",
       "\n",
       "                                user_id project_type  \n",
       "0  55e92310-cb8e-4754-b622-597e124b03de          NaN  \n",
       "1  c07b1c10-f477-44dc-81dc-ec82254b1347          NaN  \n",
       "2  6edd42cc-e753-4ff6-a947-2107cd560710          NaN  \n",
       "3  92c69003-d60a-444a-827f-8cc51bf6bf4c          NaN  \n",
       "4  cdc6bb92-0ccb-4490-9866-ef142f09139d          NaN  "
      ]
     },
     "execution_count": 8,
     "metadata": {},
     "output_type": "execute_result"
    }
   ],
   "source": [
    "game_actions.head(5)"
   ]
  },
  {
   "cell_type": "code",
   "execution_count": 9,
   "metadata": {},
   "outputs": [
    {
     "name": "stdout",
     "output_type": "stream",
     "text": [
      "<class 'pandas.core.frame.DataFrame'>\n",
      "RangeIndex: 13576 entries, 0 to 13575\n",
      "Data columns (total 2 columns):\n",
      " #   Column   Non-Null Count  Dtype \n",
      "---  ------   --------------  ----- \n",
      " 0   user_id  13576 non-null  object\n",
      " 1   source   13576 non-null  object\n",
      "dtypes: object(2)\n",
      "memory usage: 212.2+ KB\n"
     ]
    }
   ],
   "source": [
    "user_source.info()"
   ]
  },
  {
   "cell_type": "code",
   "execution_count": 10,
   "metadata": {},
   "outputs": [
    {
     "data": {
      "text/html": [
       "<div>\n",
       "<style scoped>\n",
       "    .dataframe tbody tr th:only-of-type {\n",
       "        vertical-align: middle;\n",
       "    }\n",
       "\n",
       "    .dataframe tbody tr th {\n",
       "        vertical-align: top;\n",
       "    }\n",
       "\n",
       "    .dataframe thead th {\n",
       "        text-align: right;\n",
       "    }\n",
       "</style>\n",
       "<table border=\"1\" class=\"dataframe\">\n",
       "  <thead>\n",
       "    <tr style=\"text-align: right;\">\n",
       "      <th></th>\n",
       "      <th>user_id</th>\n",
       "      <th>source</th>\n",
       "    </tr>\n",
       "  </thead>\n",
       "  <tbody>\n",
       "    <tr>\n",
       "      <th>0</th>\n",
       "      <td>0001f83c-c6ac-4621-b7f0-8a28b283ac30</td>\n",
       "      <td>facebook_ads</td>\n",
       "    </tr>\n",
       "    <tr>\n",
       "      <th>1</th>\n",
       "      <td>00151b4f-ba38-44a8-a650-d7cf130a0105</td>\n",
       "      <td>yandex_direct</td>\n",
       "    </tr>\n",
       "    <tr>\n",
       "      <th>2</th>\n",
       "      <td>001aaea6-3d14-43f1-8ca8-7f48820f17aa</td>\n",
       "      <td>youtube_channel_reklama</td>\n",
       "    </tr>\n",
       "    <tr>\n",
       "      <th>3</th>\n",
       "      <td>001d39dc-366c-4021-9604-6a3b9ff01e25</td>\n",
       "      <td>instagram_new_adverts</td>\n",
       "    </tr>\n",
       "    <tr>\n",
       "      <th>4</th>\n",
       "      <td>002f508f-67b6-479f-814b-b05f00d4e995</td>\n",
       "      <td>facebook_ads</td>\n",
       "    </tr>\n",
       "  </tbody>\n",
       "</table>\n",
       "</div>"
      ],
      "text/plain": [
       "                                user_id                   source\n",
       "0  0001f83c-c6ac-4621-b7f0-8a28b283ac30             facebook_ads\n",
       "1  00151b4f-ba38-44a8-a650-d7cf130a0105            yandex_direct\n",
       "2  001aaea6-3d14-43f1-8ca8-7f48820f17aa  youtube_channel_reklama\n",
       "3  001d39dc-366c-4021-9604-6a3b9ff01e25    instagram_new_adverts\n",
       "4  002f508f-67b6-479f-814b-b05f00d4e995             facebook_ads"
      ]
     },
     "execution_count": 10,
     "metadata": {},
     "output_type": "execute_result"
    }
   ],
   "source": [
    "user_source.head(5)"
   ]
  },
  {
   "cell_type": "code",
   "execution_count": 11,
   "metadata": {},
   "outputs": [
    {
     "data": {
      "text/html": [
       "<div>\n",
       "<style scoped>\n",
       "    .dataframe tbody tr th:only-of-type {\n",
       "        vertical-align: middle;\n",
       "    }\n",
       "\n",
       "    .dataframe tbody tr th {\n",
       "        vertical-align: top;\n",
       "    }\n",
       "\n",
       "    .dataframe thead th {\n",
       "        text-align: right;\n",
       "    }\n",
       "</style>\n",
       "<table border=\"1\" class=\"dataframe\">\n",
       "  <thead>\n",
       "    <tr style=\"text-align: right;\">\n",
       "      <th></th>\n",
       "      <th>user_id</th>\n",
       "      <th>source</th>\n",
       "    </tr>\n",
       "  </thead>\n",
       "  <tbody>\n",
       "    <tr>\n",
       "      <th>count</th>\n",
       "      <td>13576</td>\n",
       "      <td>13576</td>\n",
       "    </tr>\n",
       "    <tr>\n",
       "      <th>unique</th>\n",
       "      <td>13576</td>\n",
       "      <td>4</td>\n",
       "    </tr>\n",
       "    <tr>\n",
       "      <th>top</th>\n",
       "      <td>e8a8e26a-6ef0-4173-ae08-d907d4cacb14</td>\n",
       "      <td>yandex_direct</td>\n",
       "    </tr>\n",
       "    <tr>\n",
       "      <th>freq</th>\n",
       "      <td>1</td>\n",
       "      <td>4817</td>\n",
       "    </tr>\n",
       "  </tbody>\n",
       "</table>\n",
       "</div>"
      ],
      "text/plain": [
       "                                     user_id         source\n",
       "count                                  13576          13576\n",
       "unique                                 13576              4\n",
       "top     e8a8e26a-6ef0-4173-ae08-d907d4cacb14  yandex_direct\n",
       "freq                                       1           4817"
      ]
     },
     "execution_count": 11,
     "metadata": {},
     "output_type": "execute_result"
    }
   ],
   "source": [
    "user_source.describe()"
   ]
  },
  {
   "cell_type": "markdown",
   "metadata": {},
   "source": [
    "## 2. Подготовим данные"
   ]
  },
  {
   "cell_type": "markdown",
   "metadata": {},
   "source": [
    "Проверим пропуски:"
   ]
  },
  {
   "cell_type": "code",
   "execution_count": 12,
   "metadata": {},
   "outputs": [
    {
     "data": {
      "text/plain": [
       "source    0\n",
       "day       0\n",
       "cost      0\n",
       "dtype: int64"
      ]
     },
     "execution_count": 12,
     "metadata": {},
     "output_type": "execute_result"
    }
   ],
   "source": [
    "ad_costs.isna().sum()"
   ]
  },
  {
   "cell_type": "code",
   "execution_count": 13,
   "metadata": {},
   "outputs": [
    {
     "data": {
      "text/plain": [
       "event_datetime         0\n",
       "event                  0\n",
       "building_type       7683\n",
       "user_id                0\n",
       "project_type      133774\n",
       "dtype: int64"
      ]
     },
     "execution_count": 13,
     "metadata": {},
     "output_type": "execute_result"
    }
   ],
   "source": [
    "game_actions.isna().sum()"
   ]
  },
  {
   "cell_type": "code",
   "execution_count": 14,
   "metadata": {},
   "outputs": [
    {
     "data": {
      "text/plain": [
       "user_id    0\n",
       "source     0\n",
       "dtype: int64"
      ]
     },
     "execution_count": 14,
     "metadata": {},
     "output_type": "execute_result"
    }
   ],
   "source": [
    "user_source.isna().sum()"
   ]
  },
  {
   "cell_type": "markdown",
   "metadata": {},
   "source": [
    "Проверим, если ли в таблице 'building' без 'building_type':"
   ]
  },
  {
   "cell_type": "code",
   "execution_count": 15,
   "metadata": {},
   "outputs": [
    {
     "data": {
      "text/plain": [
       "0"
      ]
     },
     "execution_count": 15,
     "metadata": {},
     "output_type": "execute_result"
    }
   ],
   "source": [
    "game_actions[game_actions['event'] == 'building']['building_type'].isna().sum()"
   ]
  },
  {
   "cell_type": "markdown",
   "metadata": {},
   "source": [
    "Проверим, если ли в таблице 'project' со значением  'building_type':"
   ]
  },
  {
   "cell_type": "code",
   "execution_count": 16,
   "metadata": {},
   "outputs": [
    {
     "data": {
      "text/plain": [
       "event_datetime    1866\n",
       "event             1866\n",
       "building_type        0\n",
       "user_id           1866\n",
       "project_type      1866\n",
       "dtype: int64"
      ]
     },
     "execution_count": 16,
     "metadata": {},
     "output_type": "execute_result"
    }
   ],
   "source": [
    "game_actions[game_actions['event'] == 'project'].count()"
   ]
  },
  {
   "cell_type": "markdown",
   "metadata": {},
   "source": [
    "Проверим, если ли в таблице 'project' без 'project_type':"
   ]
  },
  {
   "cell_type": "code",
   "execution_count": 17,
   "metadata": {},
   "outputs": [
    {
     "data": {
      "text/plain": [
       "0"
      ]
     },
     "execution_count": 17,
     "metadata": {},
     "output_type": "execute_result"
    }
   ],
   "source": [
    "game_actions[game_actions['event'] == 'project']['project_type'].isna().sum()"
   ]
  },
  {
   "cell_type": "markdown",
   "metadata": {},
   "source": [
    "Проверим, если ли в таблице 'building' со значением 'project_type':"
   ]
  },
  {
   "cell_type": "code",
   "execution_count": 18,
   "metadata": {},
   "outputs": [
    {
     "data": {
      "text/plain": [
       "event_datetime    127957\n",
       "event             127957\n",
       "building_type     127957\n",
       "user_id           127957\n",
       "project_type           0\n",
       "dtype: int64"
      ]
     },
     "execution_count": 18,
     "metadata": {},
     "output_type": "execute_result"
    }
   ],
   "source": [
    "game_actions[game_actions['event'] == 'building'].count()"
   ]
  },
  {
   "cell_type": "markdown",
   "metadata": {},
   "source": [
    "В данных нет:\n",
    "- Зданий без типов зданий и проектов с типом здания\n",
    "- Проектов без типа проекта и зданий с типом проекта"
   ]
  },
  {
   "cell_type": "markdown",
   "metadata": {},
   "source": [
    "2. Исследуем данные на дубликаты"
   ]
  },
  {
   "cell_type": "code",
   "execution_count": 19,
   "metadata": {},
   "outputs": [
    {
     "data": {
      "text/plain": [
       "0"
      ]
     },
     "execution_count": 19,
     "metadata": {},
     "output_type": "execute_result"
    }
   ],
   "source": [
    "ad_costs.duplicated().sum()"
   ]
  },
  {
   "cell_type": "code",
   "execution_count": 20,
   "metadata": {},
   "outputs": [
    {
     "data": {
      "text/plain": [
       "1"
      ]
     },
     "execution_count": 20,
     "metadata": {},
     "output_type": "execute_result"
    }
   ],
   "source": [
    "game_actions.duplicated().sum()"
   ]
  },
  {
   "cell_type": "code",
   "execution_count": 21,
   "metadata": {},
   "outputs": [],
   "source": [
    "game_actions = game_actions.drop_duplicates().reset_index(drop=True) "
   ]
  },
  {
   "cell_type": "code",
   "execution_count": 22,
   "metadata": {},
   "outputs": [
    {
     "data": {
      "text/plain": [
       "0"
      ]
     },
     "execution_count": 22,
     "metadata": {},
     "output_type": "execute_result"
    }
   ],
   "source": [
    "user_source.duplicated().sum()"
   ]
  },
  {
   "cell_type": "markdown",
   "metadata": {},
   "source": [
    "Вывод: В таблице game_actions нашелся один дубликат, я его удалил"
   ]
  },
  {
   "cell_type": "markdown",
   "metadata": {},
   "source": [
    "3. Меняем тип данных, если требуется"
   ]
  },
  {
   "cell_type": "code",
   "execution_count": 23,
   "metadata": {},
   "outputs": [],
   "source": [
    "game_actions['event_datetime'] = pd.to_datetime(game_actions['event_datetime'])"
   ]
  },
  {
   "cell_type": "markdown",
   "metadata": {},
   "source": [
    "## 3. Изучим и проверим данные"
   ]
  },
  {
   "cell_type": "markdown",
   "metadata": {},
   "source": [
    "1. Сколько всего событий в логе?"
   ]
  },
  {
   "cell_type": "code",
   "execution_count": 24,
   "metadata": {},
   "outputs": [
    {
     "data": {
      "text/plain": [
       "135639"
      ]
     },
     "execution_count": 24,
     "metadata": {},
     "output_type": "execute_result"
    }
   ],
   "source": [
    "(game_actions['event'].count())"
   ]
  },
  {
   "cell_type": "markdown",
   "metadata": {},
   "source": [
    "\n",
    "2. Сколько всего пользователей в логе?"
   ]
  },
  {
   "cell_type": "code",
   "execution_count": 25,
   "metadata": {},
   "outputs": [
    {
     "data": {
      "text/plain": [
       "13576"
      ]
     },
     "execution_count": 25,
     "metadata": {},
     "output_type": "execute_result"
    }
   ],
   "source": [
    "(game_actions['user_id'].nunique())"
   ]
  },
  {
   "cell_type": "markdown",
   "metadata": {},
   "source": [
    "3. Сколько в среднем событий приходится на пользователя?"
   ]
  },
  {
   "cell_type": "markdown",
   "metadata": {},
   "source": [
    "Среднее:"
   ]
  },
  {
   "cell_type": "code",
   "execution_count": 26,
   "metadata": {},
   "outputs": [
    {
     "name": "stdout",
     "output_type": "stream",
     "text": [
      "9.991087212728344\n"
     ]
    }
   ],
   "source": [
    "print (game_actions['event'].count() / game_actions['user_id'].nunique())"
   ]
  },
  {
   "cell_type": "markdown",
   "metadata": {},
   "source": [
    "Медиана:"
   ]
  },
  {
   "cell_type": "code",
   "execution_count": 27,
   "metadata": {},
   "outputs": [
    {
     "data": {
      "text/plain": [
       "10.0"
      ]
     },
     "execution_count": 27,
     "metadata": {},
     "output_type": "execute_result"
    }
   ],
   "source": [
    "game_actions.groupby('user_id')['event'].count().median()"
   ]
  },
  {
   "cell_type": "markdown",
   "metadata": {},
   "source": [
    "Вывод: Среднее значение и медиана практически одинаковы"
   ]
  },
  {
   "cell_type": "markdown",
   "metadata": {},
   "source": [
    "Проверим выбросы"
   ]
  },
  {
   "cell_type": "code",
   "execution_count": 28,
   "metadata": {},
   "outputs": [
    {
     "data": {
      "image/png": "[encoded data removed]",
      "text/plain": [
       "<Figure size 432x288 with 1 Axes>"
      ]
     },
     "metadata": {
      "needs_background": "light"
     },
     "output_type": "display_data"
    }
   ],
   "source": [
    "users_actions = game_actions.pivot_table(index = 'user_id', values = 'event', aggfunc = 'count').boxplot()"
   ]
  },
  {
   "cell_type": "code",
   "execution_count": 29,
   "metadata": {},
   "outputs": [
    {
     "data": {
      "text/plain": [
       "array([ 2., 19.])"
      ]
     },
     "execution_count": 29,
     "metadata": {},
     "output_type": "execute_result"
    }
   ],
   "source": [
    "np.percentile(game_actions.pivot_table(index = 'user_id', values = 'event', aggfunc = 'count'), [1, 99])"
   ]
  },
  {
   "cell_type": "code",
   "execution_count": 30,
   "metadata": {},
   "outputs": [
    {
     "data": {
      "text/html": [
       "<div>\n",
       "<style scoped>\n",
       "    .dataframe tbody tr th:only-of-type {\n",
       "        vertical-align: middle;\n",
       "    }\n",
       "\n",
       "    .dataframe tbody tr th {\n",
       "        vertical-align: top;\n",
       "    }\n",
       "\n",
       "    .dataframe thead th {\n",
       "        text-align: right;\n",
       "    }\n",
       "</style>\n",
       "<table border=\"1\" class=\"dataframe\">\n",
       "  <thead>\n",
       "    <tr style=\"text-align: right;\">\n",
       "      <th></th>\n",
       "      <th>event</th>\n",
       "    </tr>\n",
       "    <tr>\n",
       "      <th>user_id</th>\n",
       "      <th></th>\n",
       "    </tr>\n",
       "  </thead>\n",
       "  <tbody>\n",
       "    <tr>\n",
       "      <th>d6aca06a-cd75-4cd8-b8cd-240a3c163884</th>\n",
       "      <td>22</td>\n",
       "    </tr>\n",
       "    <tr>\n",
       "      <th>ff841992-d93b-462e-bc6e-18c24a514f36</th>\n",
       "      <td>22</td>\n",
       "    </tr>\n",
       "    <tr>\n",
       "      <th>bf542075-e3a2-4e79-82d8-3838e86d2a25</th>\n",
       "      <td>22</td>\n",
       "    </tr>\n",
       "    <tr>\n",
       "      <th>45935e5d-8f50-4176-83d3-fd545bb2015f</th>\n",
       "      <td>21</td>\n",
       "    </tr>\n",
       "    <tr>\n",
       "      <th>94844e06-0352-4048-9e62-1db7718f804c</th>\n",
       "      <td>21</td>\n",
       "    </tr>\n",
       "    <tr>\n",
       "      <th>...</th>\n",
       "      <td>...</td>\n",
       "    </tr>\n",
       "    <tr>\n",
       "      <th>fcefbdaa-5f8b-49a6-91f3-8c09e0a94a5d</th>\n",
       "      <td>1</td>\n",
       "    </tr>\n",
       "    <tr>\n",
       "      <th>b9d266a0-7741-49ba-9125-134c5969f8d1</th>\n",
       "      <td>1</td>\n",
       "    </tr>\n",
       "    <tr>\n",
       "      <th>ded24248-15c7-4037-9092-f64fcaa651e7</th>\n",
       "      <td>1</td>\n",
       "    </tr>\n",
       "    <tr>\n",
       "      <th>b783fde3-5416-43fb-99b0-2c6e5f787d6f</th>\n",
       "      <td>1</td>\n",
       "    </tr>\n",
       "    <tr>\n",
       "      <th>70362b15-8a0b-4fb7-8a67-4454fd7098d7</th>\n",
       "      <td>1</td>\n",
       "    </tr>\n",
       "  </tbody>\n",
       "</table>\n",
       "<p>13576 rows × 1 columns</p>\n",
       "</div>"
      ],
      "text/plain": [
       "                                      event\n",
       "user_id                                    \n",
       "d6aca06a-cd75-4cd8-b8cd-240a3c163884     22\n",
       "ff841992-d93b-462e-bc6e-18c24a514f36     22\n",
       "bf542075-e3a2-4e79-82d8-3838e86d2a25     22\n",
       "45935e5d-8f50-4176-83d3-fd545bb2015f     21\n",
       "94844e06-0352-4048-9e62-1db7718f804c     21\n",
       "...                                     ...\n",
       "fcefbdaa-5f8b-49a6-91f3-8c09e0a94a5d      1\n",
       "b9d266a0-7741-49ba-9125-134c5969f8d1      1\n",
       "ded24248-15c7-4037-9092-f64fcaa651e7      1\n",
       "b783fde3-5416-43fb-99b0-2c6e5f787d6f      1\n",
       "70362b15-8a0b-4fb7-8a67-4454fd7098d7      1\n",
       "\n",
       "[13576 rows x 1 columns]"
      ]
     },
     "execution_count": 30,
     "metadata": {},
     "output_type": "execute_result"
    }
   ],
   "source": [
    "game_actions.pivot_table(index = 'user_id', values = 'event', aggfunc = 'count').sort_values(by ='event', ascending=False)"
   ]
  },
  {
   "cell_type": "markdown",
   "metadata": {},
   "source": [
    "Вывод: Число событий для пользователя от 1 до 22"
   ]
  },
  {
   "cell_type": "markdown",
   "metadata": {},
   "source": [
    "4. Данными за какой период вы располагаете? Найдите максимальную и минимальную дату "
   ]
  },
  {
   "cell_type": "code",
   "execution_count": 31,
   "metadata": {},
   "outputs": [
    {
     "data": {
      "text/plain": [
       "Timestamp('2020-05-04 00:00:01')"
      ]
     },
     "execution_count": 31,
     "metadata": {},
     "output_type": "execute_result"
    }
   ],
   "source": [
    "game_actions['event_datetime'].min()"
   ]
  },
  {
   "cell_type": "code",
   "execution_count": 32,
   "metadata": {},
   "outputs": [
    {
     "data": {
      "text/plain": [
       "Timestamp('2020-06-05 12:32:49')"
      ]
     },
     "execution_count": 32,
     "metadata": {},
     "output_type": "execute_result"
    }
   ],
   "source": [
    "game_actions['event_datetime'].max()"
   ]
  },
  {
   "cell_type": "markdown",
   "metadata": {},
   "source": [
    "## 4. Исследовательский анализ данных\n"
   ]
  },
  {
   "cell_type": "markdown",
   "metadata": {},
   "source": [
    "### 1. Посмотрим количество событий по датам. Каков процент прохождения уровня? Посчитаем, сколько пользователей совершали каждое из этих событий. Отсортируем события по числу пользователей. Посчитаем долю пользователей, которые хоть раз совершали событие."
   ]
  },
  {
   "cell_type": "code",
   "execution_count": 33,
   "metadata": {},
   "outputs": [
    {
     "data": {
      "image/png": "[encoded data removed]",
      "text/plain": [
       "<Figure size 1080x360 with 1 Axes>"
      ]
     },
     "metadata": {
      "needs_background": "light"
     },
     "output_type": "display_data"
    }
   ],
   "source": [
    "game_actions['event_datetime'].hist(bins = 100, figsize=(15, 5)) \n",
    "plt.xlabel('Дата')\n",
    "plt.ylabel('Кол-во событий')\n",
    "plt.title('Количество событий на дату');"
   ]
  },
  {
   "cell_type": "markdown",
   "metadata": {},
   "source": [
    "Вывод: Располагаем периодом с 2020-05-04 00:00:01 по 2020-06-05 12:32:49. Заметен рост и падение количества событий. Сделаем срез данных для более детального рассмотрения"
   ]
  },
  {
   "cell_type": "code",
   "execution_count": 34,
   "metadata": {},
   "outputs": [
    {
     "data": {
      "image/png": "[encoded data removed]",
      "text/plain": [
       "<Figure size 720x504 with 1 Axes>"
      ]
     },
     "metadata": {
      "needs_background": "light"
     },
     "output_type": "display_data"
    }
   ],
   "source": [
    "game_actions['event_datetime'].hist(bins = 100, figsize=(10, 7)) \n",
    "plt.xlim(pd.to_datetime('2020-05-10'), pd.to_datetime('2020-05-12'))\n",
    "plt.xlabel('Дата')\n",
    "plt.ylabel('Кол-во событий')\n",
    "plt.title('Количество событий на дату');"
   ]
  },
  {
   "cell_type": "markdown",
   "metadata": {},
   "source": [
    "11 мая видно заметное падение количества событий"
   ]
  },
  {
   "cell_type": "markdown",
   "metadata": {},
   "source": [
    "Проверим, сколько пользователей совершали определенное событие:"
   ]
  },
  {
   "cell_type": "code",
   "execution_count": 35,
   "metadata": {},
   "outputs": [
    {
     "data": {
      "text/html": [
       "<div>\n",
       "<style scoped>\n",
       "    .dataframe tbody tr th:only-of-type {\n",
       "        vertical-align: middle;\n",
       "    }\n",
       "\n",
       "    .dataframe tbody tr th {\n",
       "        vertical-align: top;\n",
       "    }\n",
       "\n",
       "    .dataframe thead th {\n",
       "        text-align: right;\n",
       "    }\n",
       "</style>\n",
       "<table border=\"1\" class=\"dataframe\">\n",
       "  <thead>\n",
       "    <tr style=\"text-align: right;\">\n",
       "      <th></th>\n",
       "      <th>event</th>\n",
       "      <th>n_events</th>\n",
       "      <th>users</th>\n",
       "      <th>users_part_event</th>\n",
       "    </tr>\n",
       "  </thead>\n",
       "  <tbody>\n",
       "    <tr>\n",
       "      <th>0</th>\n",
       "      <td>building</td>\n",
       "      <td>127956</td>\n",
       "      <td>13576</td>\n",
       "      <td>100.0</td>\n",
       "    </tr>\n",
       "    <tr>\n",
       "      <th>1</th>\n",
       "      <td>finished_stage_1</td>\n",
       "      <td>5817</td>\n",
       "      <td>5817</td>\n",
       "      <td>42.8</td>\n",
       "    </tr>\n",
       "    <tr>\n",
       "      <th>2</th>\n",
       "      <td>project</td>\n",
       "      <td>1866</td>\n",
       "      <td>1866</td>\n",
       "      <td>13.7</td>\n",
       "    </tr>\n",
       "  </tbody>\n",
       "</table>\n",
       "</div>"
      ],
      "text/plain": [
       "              event  n_events  users  users_part_event\n",
       "0          building    127956  13576             100.0\n",
       "1  finished_stage_1      5817   5817              42.8\n",
       "2           project      1866   1866              13.7"
      ]
     },
     "execution_count": 35,
     "metadata": {},
     "output_type": "execute_result"
    }
   ],
   "source": [
    "new_users = game_actions['user_id'].nunique()\n",
    "events_users = game_actions.groupby('event').agg({'event':'count', 'user_id':'nunique'}).sort_values(by='user_id', ascending=False)\n",
    "events_users.columns = ['n_events', 'users']\n",
    "events_users = events_users.reset_index()\n",
    "events_users['users_part_event'] = (events_users['users'] / new_users * 100).round(1) # доля хотя бы раз совершивших событие\n",
    "events_users"
   ]
  },
  {
   "cell_type": "markdown",
   "metadata": {},
   "source": [
    "Всего пользователей 13576, из них 5817 закончили первый уровень, а 1866 завершили проект"
   ]
  },
  {
   "cell_type": "markdown",
   "metadata": {},
   "source": [
    "### 2. Проанализируем каналы привлечения пользователей, затраты на привлечение пользователей."
   ]
  },
  {
   "cell_type": "markdown",
   "metadata": {},
   "source": [
    "Проанализируем распределение стоимости рекламы по времени:"
   ]
  },
  {
   "cell_type": "code",
   "execution_count": 37,
   "metadata": {
    "scrolled": false
   },
   "outputs": [
    {
     "data": {
      "image/png": "[encoded data removed]",
      "text/plain": [
       "<Figure size 864x720 with 1 Axes>"
      ]
     },
     "metadata": {
      "needs_background": "light"
     },
     "output_type": "display_data"
    }
   ],
   "source": [
    "filtered_costs = ad_costs.pivot_table(\n",
    "        index='day', columns='source', values='cost', aggfunc='sum'\n",
    "    )\n",
    "filtered_costs.plot(                                             \n",
    "           figsize=(12, 10),\n",
    "           grid=True,)\n",
    "\n",
    "plt.title('График затрат на привлечение пользователей')\n",
    "plt.xlabel('Дата')\n",
    "plt.ylabel('Стоимость')\n",
    "plt.show()"
   ]
  },
  {
   "cell_type": "code",
   "execution_count": 38,
   "metadata": {},
   "outputs": [
    {
     "name": "stdout",
     "output_type": "stream",
     "text": [
      "           day                   source        cost\n",
      "0   2020-05-03             facebook_ads  935.882786\n",
      "1   2020-05-03    instagram_new_adverts  943.204717\n",
      "2   2020-05-03            yandex_direct  969.139394\n",
      "3   2020-05-03  youtube_channel_reklama  454.224943\n",
      "4   2020-05-04             facebook_ads  548.354480\n",
      "5   2020-05-04    instagram_new_adverts  502.925451\n",
      "6   2020-05-04            yandex_direct  554.651494\n",
      "7   2020-05-04  youtube_channel_reklama  259.073224\n",
      "8   2020-05-05             facebook_ads  260.185754\n",
      "9   2020-05-05    instagram_new_adverts  313.970984\n",
      "10  2020-05-05            yandex_direct  308.232990\n",
      "11  2020-05-05  youtube_channel_reklama  147.041741\n",
      "12  2020-05-06             facebook_ads  177.982200\n",
      "13  2020-05-06    instagram_new_adverts  173.071145\n",
      "14  2020-05-06            yandex_direct  180.917099\n",
      "15  2020-05-06  youtube_channel_reklama   88.506074\n",
      "16  2020-05-07             facebook_ads  111.766796\n",
      "17  2020-05-07    instagram_new_adverts  109.915254\n",
      "18  2020-05-07            yandex_direct  114.429338\n",
      "19  2020-05-07  youtube_channel_reklama   55.740645\n",
      "20  2020-05-08             facebook_ads   68.009276\n",
      "21  2020-05-08    instagram_new_adverts   71.578739\n",
      "22  2020-05-08            yandex_direct   62.961630\n",
      "23  2020-05-08  youtube_channel_reklama   40.217907\n",
      "24  2020-05-09             facebook_ads   38.723350\n",
      "25  2020-05-09    instagram_new_adverts   46.775400\n",
      "26  2020-05-09            yandex_direct   42.779505\n",
      "27  2020-05-09  youtube_channel_reklama   23.314669\n"
     ]
    }
   ],
   "source": [
    "mon = ad_costs.groupby(['day', 'source'], \\\n",
    "                      as_index = False)[['cost']].sum()\n",
    "print(mon)\n"
   ]
  },
  {
   "cell_type": "code",
   "execution_count": 39,
   "metadata": {},
   "outputs": [
    {
     "data": {
      "image/png": "[encoded data removed]",
      "text/plain": [
       "<Figure size 1080x720 with 1 Axes>"
      ]
     },
     "metadata": {
      "needs_background": "light"
     },
     "output_type": "display_data"
    }
   ],
   "source": [
    "plt.figure(figsize=(15, 10))\n",
    "ax = sns.barplot(x='day', y='cost', data=ad_costs, hue='source')\n",
    "plt.title('График затрат на привлечение пользователей по дням')\n",
    "plt.xlabel('Дата')\n",
    "plt.ylabel('Расходы')\n",
    "plt.grid()\n",
    "plt.xticks(rotation=45)\n",
    "plt.show()"
   ]
  },
  {
   "cell_type": "markdown",
   "metadata": {},
   "source": [
    "Чем дальше по времени, тем ниже затраты на рекламу для всех каналов"
   ]
  },
  {
   "cell_type": "markdown",
   "metadata": {},
   "source": [
    "Затраты по каналам:"
   ]
  },
  {
   "cell_type": "code",
   "execution_count": 40,
   "metadata": {
    "scrolled": true
   },
   "outputs": [
    {
     "data": {
      "text/html": [
       "<div>\n",
       "<style scoped>\n",
       "    .dataframe tbody tr th:only-of-type {\n",
       "        vertical-align: middle;\n",
       "    }\n",
       "\n",
       "    .dataframe tbody tr th {\n",
       "        vertical-align: top;\n",
       "    }\n",
       "\n",
       "    .dataframe thead th {\n",
       "        text-align: right;\n",
       "    }\n",
       "</style>\n",
       "<table border=\"1\" class=\"dataframe\">\n",
       "  <thead>\n",
       "    <tr style=\"text-align: right;\">\n",
       "      <th></th>\n",
       "      <th>source</th>\n",
       "      <th>cost</th>\n",
       "    </tr>\n",
       "  </thead>\n",
       "  <tbody>\n",
       "    <tr>\n",
       "      <th>0</th>\n",
       "      <td>yandex_direct</td>\n",
       "      <td>2233.111449</td>\n",
       "    </tr>\n",
       "    <tr>\n",
       "      <th>1</th>\n",
       "      <td>instagram_new_adverts</td>\n",
       "      <td>2161.441691</td>\n",
       "    </tr>\n",
       "    <tr>\n",
       "      <th>2</th>\n",
       "      <td>facebook_ads</td>\n",
       "      <td>2140.904643</td>\n",
       "    </tr>\n",
       "    <tr>\n",
       "      <th>3</th>\n",
       "      <td>youtube_channel_reklama</td>\n",
       "      <td>1068.119204</td>\n",
       "    </tr>\n",
       "  </tbody>\n",
       "</table>\n",
       "</div>"
      ],
      "text/plain": [
       "                    source         cost\n",
       "0            yandex_direct  2233.111449\n",
       "1    instagram_new_adverts  2161.441691\n",
       "2             facebook_ads  2140.904643\n",
       "3  youtube_channel_reklama  1068.119204"
      ]
     },
     "execution_count": 40,
     "metadata": {},
     "output_type": "execute_result"
    }
   ],
   "source": [
    "source_cost = ad_costs.groupby('source')['cost'].sum().sort_values(ascending=False).reset_index()\n",
    "source_cost"
   ]
  },
  {
   "cell_type": "markdown",
   "metadata": {},
   "source": [
    "Обьединим 2 таблицы по User_id:"
   ]
  },
  {
   "cell_type": "code",
   "execution_count": 41,
   "metadata": {},
   "outputs": [],
   "source": [
    "\n",
    "players = game_actions.merge(user_source, left_on='user_id', right_on='user_id')\n",
    "players['event_datetime'] = pd.to_datetime(players['event_datetime'])"
   ]
  },
  {
   "cell_type": "markdown",
   "metadata": {},
   "source": [
    "Привлеченные пользователи в зависимости от канала:"
   ]
  },
  {
   "cell_type": "code",
   "execution_count": 42,
   "metadata": {},
   "outputs": [
    {
     "data": {
      "text/html": [
       "<div>\n",
       "<style scoped>\n",
       "    .dataframe tbody tr th:only-of-type {\n",
       "        vertical-align: middle;\n",
       "    }\n",
       "\n",
       "    .dataframe tbody tr th {\n",
       "        vertical-align: top;\n",
       "    }\n",
       "\n",
       "    .dataframe thead th {\n",
       "        text-align: right;\n",
       "    }\n",
       "</style>\n",
       "<table border=\"1\" class=\"dataframe\">\n",
       "  <thead>\n",
       "    <tr style=\"text-align: right;\">\n",
       "      <th></th>\n",
       "      <th>event_datetime</th>\n",
       "      <th>event</th>\n",
       "      <th>building_type</th>\n",
       "      <th>user_id</th>\n",
       "      <th>project_type</th>\n",
       "      <th>source</th>\n",
       "    </tr>\n",
       "  </thead>\n",
       "  <tbody>\n",
       "    <tr>\n",
       "      <th>0</th>\n",
       "      <td>2020-05-04 00:00:01</td>\n",
       "      <td>building</td>\n",
       "      <td>assembly_shop</td>\n",
       "      <td>55e92310-cb8e-4754-b622-597e124b03de</td>\n",
       "      <td>NaN</td>\n",
       "      <td>youtube_channel_reklama</td>\n",
       "    </tr>\n",
       "    <tr>\n",
       "      <th>1</th>\n",
       "      <td>2020-05-05 05:20:15</td>\n",
       "      <td>building</td>\n",
       "      <td>assembly_shop</td>\n",
       "      <td>55e92310-cb8e-4754-b622-597e124b03de</td>\n",
       "      <td>NaN</td>\n",
       "      <td>youtube_channel_reklama</td>\n",
       "    </tr>\n",
       "    <tr>\n",
       "      <th>2</th>\n",
       "      <td>2020-05-05 19:24:02</td>\n",
       "      <td>building</td>\n",
       "      <td>assembly_shop</td>\n",
       "      <td>55e92310-cb8e-4754-b622-597e124b03de</td>\n",
       "      <td>NaN</td>\n",
       "      <td>youtube_channel_reklama</td>\n",
       "    </tr>\n",
       "    <tr>\n",
       "      <th>3</th>\n",
       "      <td>2020-05-05 20:59:19</td>\n",
       "      <td>building</td>\n",
       "      <td>assembly_shop</td>\n",
       "      <td>55e92310-cb8e-4754-b622-597e124b03de</td>\n",
       "      <td>NaN</td>\n",
       "      <td>youtube_channel_reklama</td>\n",
       "    </tr>\n",
       "    <tr>\n",
       "      <th>4</th>\n",
       "      <td>2020-05-06 00:52:56</td>\n",
       "      <td>building</td>\n",
       "      <td>assembly_shop</td>\n",
       "      <td>55e92310-cb8e-4754-b622-597e124b03de</td>\n",
       "      <td>NaN</td>\n",
       "      <td>youtube_channel_reklama</td>\n",
       "    </tr>\n",
       "    <tr>\n",
       "      <th>...</th>\n",
       "      <td>...</td>\n",
       "      <td>...</td>\n",
       "      <td>...</td>\n",
       "      <td>...</td>\n",
       "      <td>...</td>\n",
       "      <td>...</td>\n",
       "    </tr>\n",
       "    <tr>\n",
       "      <th>135634</th>\n",
       "      <td>2020-05-13 23:56:39</td>\n",
       "      <td>building</td>\n",
       "      <td>spaceport</td>\n",
       "      <td>cafd1b8b-507b-49ae-abf0-89fe863a8b03</td>\n",
       "      <td>NaN</td>\n",
       "      <td>facebook_ads</td>\n",
       "    </tr>\n",
       "    <tr>\n",
       "      <th>135635</th>\n",
       "      <td>2020-05-18 00:23:28</td>\n",
       "      <td>building</td>\n",
       "      <td>spaceport</td>\n",
       "      <td>cafd1b8b-507b-49ae-abf0-89fe863a8b03</td>\n",
       "      <td>NaN</td>\n",
       "      <td>facebook_ads</td>\n",
       "    </tr>\n",
       "    <tr>\n",
       "      <th>135636</th>\n",
       "      <td>2020-05-10 23:59:52</td>\n",
       "      <td>building</td>\n",
       "      <td>assembly_shop</td>\n",
       "      <td>bdc53e19-462a-4dc3-8b55-b4a34278af6a</td>\n",
       "      <td>NaN</td>\n",
       "      <td>youtube_channel_reklama</td>\n",
       "    </tr>\n",
       "    <tr>\n",
       "      <th>135637</th>\n",
       "      <td>2020-05-13 08:11:19</td>\n",
       "      <td>building</td>\n",
       "      <td>spaceport</td>\n",
       "      <td>bdc53e19-462a-4dc3-8b55-b4a34278af6a</td>\n",
       "      <td>NaN</td>\n",
       "      <td>youtube_channel_reklama</td>\n",
       "    </tr>\n",
       "    <tr>\n",
       "      <th>135638</th>\n",
       "      <td>2020-05-18 11:11:11</td>\n",
       "      <td>building</td>\n",
       "      <td>spaceport</td>\n",
       "      <td>bdc53e19-462a-4dc3-8b55-b4a34278af6a</td>\n",
       "      <td>NaN</td>\n",
       "      <td>youtube_channel_reklama</td>\n",
       "    </tr>\n",
       "  </tbody>\n",
       "</table>\n",
       "<p>135639 rows × 6 columns</p>\n",
       "</div>"
      ],
      "text/plain": [
       "            event_datetime     event  building_type  \\\n",
       "0      2020-05-04 00:00:01  building  assembly_shop   \n",
       "1      2020-05-05 05:20:15  building  assembly_shop   \n",
       "2      2020-05-05 19:24:02  building  assembly_shop   \n",
       "3      2020-05-05 20:59:19  building  assembly_shop   \n",
       "4      2020-05-06 00:52:56  building  assembly_shop   \n",
       "...                    ...       ...            ...   \n",
       "135634 2020-05-13 23:56:39  building      spaceport   \n",
       "135635 2020-05-18 00:23:28  building      spaceport   \n",
       "135636 2020-05-10 23:59:52  building  assembly_shop   \n",
       "135637 2020-05-13 08:11:19  building      spaceport   \n",
       "135638 2020-05-18 11:11:11  building      spaceport   \n",
       "\n",
       "                                     user_id project_type  \\\n",
       "0       55e92310-cb8e-4754-b622-597e124b03de          NaN   \n",
       "1       55e92310-cb8e-4754-b622-597e124b03de          NaN   \n",
       "2       55e92310-cb8e-4754-b622-597e124b03de          NaN   \n",
       "3       55e92310-cb8e-4754-b622-597e124b03de          NaN   \n",
       "4       55e92310-cb8e-4754-b622-597e124b03de          NaN   \n",
       "...                                      ...          ...   \n",
       "135634  cafd1b8b-507b-49ae-abf0-89fe863a8b03          NaN   \n",
       "135635  cafd1b8b-507b-49ae-abf0-89fe863a8b03          NaN   \n",
       "135636  bdc53e19-462a-4dc3-8b55-b4a34278af6a          NaN   \n",
       "135637  bdc53e19-462a-4dc3-8b55-b4a34278af6a          NaN   \n",
       "135638  bdc53e19-462a-4dc3-8b55-b4a34278af6a          NaN   \n",
       "\n",
       "                         source  \n",
       "0       youtube_channel_reklama  \n",
       "1       youtube_channel_reklama  \n",
       "2       youtube_channel_reklama  \n",
       "3       youtube_channel_reklama  \n",
       "4       youtube_channel_reklama  \n",
       "...                         ...  \n",
       "135634             facebook_ads  \n",
       "135635             facebook_ads  \n",
       "135636  youtube_channel_reklama  \n",
       "135637  youtube_channel_reklama  \n",
       "135638  youtube_channel_reklama  \n",
       "\n",
       "[135639 rows x 6 columns]"
      ]
     },
     "execution_count": 42,
     "metadata": {},
     "output_type": "execute_result"
    }
   ],
   "source": [
    "source_users = players.groupby('source')['user_id'].nunique().sort_values(ascending=False).reset_index()\n",
    "players"
   ]
  },
  {
   "cell_type": "code",
   "execution_count": 43,
   "metadata": {},
   "outputs": [
    {
     "data": {
      "text/html": [
       "<div>\n",
       "<style scoped>\n",
       "    .dataframe tbody tr th:only-of-type {\n",
       "        vertical-align: middle;\n",
       "    }\n",
       "\n",
       "    .dataframe tbody tr th {\n",
       "        vertical-align: top;\n",
       "    }\n",
       "\n",
       "    .dataframe thead th {\n",
       "        text-align: right;\n",
       "    }\n",
       "</style>\n",
       "<table border=\"1\" class=\"dataframe\">\n",
       "  <thead>\n",
       "    <tr style=\"text-align: right;\">\n",
       "      <th></th>\n",
       "      <th>source</th>\n",
       "      <th>user_id</th>\n",
       "    </tr>\n",
       "  </thead>\n",
       "  <tbody>\n",
       "    <tr>\n",
       "      <th>0</th>\n",
       "      <td>yandex_direct</td>\n",
       "      <td>4817</td>\n",
       "    </tr>\n",
       "    <tr>\n",
       "      <th>1</th>\n",
       "      <td>instagram_new_adverts</td>\n",
       "      <td>3347</td>\n",
       "    </tr>\n",
       "    <tr>\n",
       "      <th>2</th>\n",
       "      <td>facebook_ads</td>\n",
       "      <td>2726</td>\n",
       "    </tr>\n",
       "    <tr>\n",
       "      <th>3</th>\n",
       "      <td>youtube_channel_reklama</td>\n",
       "      <td>2686</td>\n",
       "    </tr>\n",
       "  </tbody>\n",
       "</table>\n",
       "</div>"
      ],
      "text/plain": [
       "                    source  user_id\n",
       "0            yandex_direct     4817\n",
       "1    instagram_new_adverts     3347\n",
       "2             facebook_ads     2726\n",
       "3  youtube_channel_reklama     2686"
      ]
     },
     "execution_count": 43,
     "metadata": {},
     "output_type": "execute_result"
    }
   ],
   "source": [
    "source_users"
   ]
  },
  {
   "cell_type": "markdown",
   "metadata": {},
   "source": [
    "Средняя стоимость привлечения одного пользователя:"
   ]
  },
  {
   "cell_type": "code",
   "execution_count": 44,
   "metadata": {
    "scrolled": true
   },
   "outputs": [
    {
     "data": {
      "text/html": [
       "<div>\n",
       "<style scoped>\n",
       "    .dataframe tbody tr th:only-of-type {\n",
       "        vertical-align: middle;\n",
       "    }\n",
       "\n",
       "    .dataframe tbody tr th {\n",
       "        vertical-align: top;\n",
       "    }\n",
       "\n",
       "    .dataframe thead th {\n",
       "        text-align: right;\n",
       "    }\n",
       "</style>\n",
       "<table border=\"1\" class=\"dataframe\">\n",
       "  <thead>\n",
       "    <tr style=\"text-align: right;\">\n",
       "      <th></th>\n",
       "      <th>source</th>\n",
       "      <th>user_id</th>\n",
       "      <th>cost_per_user</th>\n",
       "    </tr>\n",
       "  </thead>\n",
       "  <tbody>\n",
       "    <tr>\n",
       "      <th>0</th>\n",
       "      <td>yandex_direct</td>\n",
       "      <td>4817</td>\n",
       "      <td>0.463590</td>\n",
       "    </tr>\n",
       "    <tr>\n",
       "      <th>1</th>\n",
       "      <td>instagram_new_adverts</td>\n",
       "      <td>3347</td>\n",
       "      <td>0.645785</td>\n",
       "    </tr>\n",
       "    <tr>\n",
       "      <th>2</th>\n",
       "      <td>facebook_ads</td>\n",
       "      <td>2726</td>\n",
       "      <td>0.785365</td>\n",
       "    </tr>\n",
       "    <tr>\n",
       "      <th>3</th>\n",
       "      <td>youtube_channel_reklama</td>\n",
       "      <td>2686</td>\n",
       "      <td>0.397662</td>\n",
       "    </tr>\n",
       "  </tbody>\n",
       "</table>\n",
       "</div>"
      ],
      "text/plain": [
       "                    source  user_id  cost_per_user\n",
       "0            yandex_direct     4817       0.463590\n",
       "1    instagram_new_adverts     3347       0.645785\n",
       "2             facebook_ads     2726       0.785365\n",
       "3  youtube_channel_reklama     2686       0.397662"
      ]
     },
     "execution_count": 44,
     "metadata": {},
     "output_type": "execute_result"
    }
   ],
   "source": [
    "source_users['cost_per_user'] = source_cost['cost'] / source_users['user_id']\n",
    "source_users"
   ]
  },
  {
   "cell_type": "code",
   "execution_count": 45,
   "metadata": {},
   "outputs": [
    {
     "data": {
      "text/plain": [
       "user_id          3394.0000\n",
       "cost_per_user       0.5731\n",
       "dtype: float64"
      ]
     },
     "execution_count": 45,
     "metadata": {},
     "output_type": "execute_result"
    }
   ],
   "source": [
    "source_users.mean()"
   ]
  },
  {
   "cell_type": "code",
   "execution_count": 46,
   "metadata": {
    "scrolled": true
   },
   "outputs": [
    {
     "data": {
      "image/png": "[encoded data removed]",
      "text/plain": [
       "<Figure size 720x360 with 1 Axes>"
      ]
     },
     "metadata": {
      "needs_background": "light"
     },
     "output_type": "display_data"
    }
   ],
   "source": [
    "plt.figure(figsize=(10, 5))\n",
    "sns.barplot(x='cost_per_user', y='source', data=source_users)\n",
    "plt.title('График затрат на рекламу')\n",
    "plt.xlabel('Сумма привлечения 1 пользователя')\n",
    "plt.ylabel('Тип рекламного канала')\n",
    "plt.grid()\n",
    "plt.xticks(rotation=45)\n",
    "plt.show()"
   ]
  },
  {
   "cell_type": "markdown",
   "metadata": {},
   "source": [
    "Посмотрим сколько пользователей пришли из различных источников:"
   ]
  },
  {
   "cell_type": "code",
   "execution_count": 47,
   "metadata": {},
   "outputs": [
    {
     "name": "stdout",
     "output_type": "stream",
     "text": [
      "                    source  user_id\n",
      "2            yandex_direct     4817\n",
      "1    instagram_new_adverts     3347\n",
      "0             facebook_ads     2726\n",
      "3  youtube_channel_reklama     2686\n"
     ]
    }
   ],
   "source": [
    "pls = players.groupby(['source'], \\\n",
    "                      as_index = False)[['user_id']].nunique().sort_values(by='user_id', ascending=False)\n",
    "print(pls)"
   ]
  },
  {
   "cell_type": "code",
   "execution_count": 48,
   "metadata": {},
   "outputs": [
    {
     "data": {
      "image/png": "[encoded data removed]",
      "text/plain": [
       "<Figure size 1080x720 with 1 Axes>"
      ]
     },
     "metadata": {
      "needs_background": "light"
     },
     "output_type": "display_data"
    }
   ],
   "source": [
    "plt.figure(figsize=(15, 10))\n",
    "ax = sns.barplot(x='user_id', y='source', data=pls)\n",
    "plt.title('График количества привлеченых пользователей в зависимости от источника')\n",
    "plt.xlabel('Количество пользователей')\n",
    "plt.ylabel('Канал привлечения')\n",
    "plt.grid()\n",
    "plt.xticks(rotation=45)\n",
    "plt.show()"
   ]
  },
  {
   "cell_type": "markdown",
   "metadata": {},
   "source": [
    "С каждого пользователя мы получили 0.07 за каждый просмотр(событие)"
   ]
  },
  {
   "cell_type": "code",
   "execution_count": 49,
   "metadata": {},
   "outputs": [
    {
     "name": "stdout",
     "output_type": "stream",
     "text": [
      "\n",
      "Всего у нас 127956 событий постройки зданий\n"
     ]
    }
   ],
   "source": [
    "print ()\n",
    "\n",
    "print ('Всего у нас', game_actions['building_type'].count(), 'событий постройки зданий')"
   ]
  },
  {
   "cell_type": "code",
   "execution_count": 50,
   "metadata": {},
   "outputs": [
    {
     "name": "stdout",
     "output_type": "stream",
     "text": [
      "Заработано на пользователях: 8956.92\n"
     ]
    }
   ],
   "source": [
    "total_z = (game_actions['building_type'].count()) * 0.07\n",
    "print ('Заработано на пользователях:', total_z)"
   ]
  },
  {
   "cell_type": "code",
   "execution_count": 51,
   "metadata": {},
   "outputs": [
    {
     "name": "stdout",
     "output_type": "stream",
     "text": [
      "Потрачено на привлечение: 7603.576986788023\n"
     ]
    }
   ],
   "source": [
    "total_t = ad_costs['cost'].sum()\n",
    "print ('Потрачено на привлечение:', total_t)"
   ]
  },
  {
   "cell_type": "code",
   "execution_count": 52,
   "metadata": {},
   "outputs": [
    {
     "name": "stdout",
     "output_type": "stream",
     "text": [
      "Итоговый доход: 1353.3430132119774\n"
     ]
    }
   ],
   "source": [
    "total = total_z - total_t\n",
    "print ('Итоговый доход:', total)"
   ]
  },
  {
   "cell_type": "markdown",
   "metadata": {},
   "source": [
    "В целом рекламная компания вышла в плюс - заработано 1353 условных единиц.(Все это без учета стоимости разработки и поддержки самого приложения) \n",
    "Затраты на привлечение одного пользователя (в порядке возрастания):\n",
    "1) Youtube\n",
    "2) Yandex\n",
    "3) Instagram\n",
    "4) Facebook"
   ]
  },
  {
   "cell_type": "markdown",
   "metadata": {},
   "source": [
    "Найдем минимальную и максимальную дату событий, и срок активности для пользователей:"
   ]
  },
  {
   "cell_type": "code",
   "execution_count": 53,
   "metadata": {},
   "outputs": [
    {
     "data": {
      "text/html": [
       "<div>\n",
       "<style scoped>\n",
       "    .dataframe tbody tr th:only-of-type {\n",
       "        vertical-align: middle;\n",
       "    }\n",
       "\n",
       "    .dataframe tbody tr th {\n",
       "        vertical-align: top;\n",
       "    }\n",
       "\n",
       "    .dataframe thead th {\n",
       "        text-align: right;\n",
       "    }\n",
       "</style>\n",
       "<table border=\"1\" class=\"dataframe\">\n",
       "  <thead>\n",
       "    <tr style=\"text-align: right;\">\n",
       "      <th></th>\n",
       "      <th>event_datetime</th>\n",
       "      <th>event</th>\n",
       "      <th>building_type</th>\n",
       "      <th>user_id</th>\n",
       "      <th>project_type</th>\n",
       "      <th>source</th>\n",
       "      <th>date_min</th>\n",
       "      <th>date_max</th>\n",
       "      <th>game_time</th>\n",
       "      <th>game_days</th>\n",
       "    </tr>\n",
       "  </thead>\n",
       "  <tbody>\n",
       "    <tr>\n",
       "      <th>0</th>\n",
       "      <td>2020-05-04 00:00:01</td>\n",
       "      <td>building</td>\n",
       "      <td>assembly_shop</td>\n",
       "      <td>55e92310-cb8e-4754-b622-597e124b03de</td>\n",
       "      <td>NaN</td>\n",
       "      <td>youtube_channel_reklama</td>\n",
       "      <td>2020-05-04 00:00:01</td>\n",
       "      <td>2020-05-10 20:27:01</td>\n",
       "      <td>6 days 20:27:00</td>\n",
       "      <td>6</td>\n",
       "    </tr>\n",
       "    <tr>\n",
       "      <th>1</th>\n",
       "      <td>2020-05-05 05:20:15</td>\n",
       "      <td>building</td>\n",
       "      <td>assembly_shop</td>\n",
       "      <td>55e92310-cb8e-4754-b622-597e124b03de</td>\n",
       "      <td>NaN</td>\n",
       "      <td>youtube_channel_reklama</td>\n",
       "      <td>2020-05-04 00:00:01</td>\n",
       "      <td>2020-05-10 20:27:01</td>\n",
       "      <td>6 days 20:27:00</td>\n",
       "      <td>6</td>\n",
       "    </tr>\n",
       "    <tr>\n",
       "      <th>2</th>\n",
       "      <td>2020-05-05 19:24:02</td>\n",
       "      <td>building</td>\n",
       "      <td>assembly_shop</td>\n",
       "      <td>55e92310-cb8e-4754-b622-597e124b03de</td>\n",
       "      <td>NaN</td>\n",
       "      <td>youtube_channel_reklama</td>\n",
       "      <td>2020-05-04 00:00:01</td>\n",
       "      <td>2020-05-10 20:27:01</td>\n",
       "      <td>6 days 20:27:00</td>\n",
       "      <td>6</td>\n",
       "    </tr>\n",
       "    <tr>\n",
       "      <th>3</th>\n",
       "      <td>2020-05-05 20:59:19</td>\n",
       "      <td>building</td>\n",
       "      <td>assembly_shop</td>\n",
       "      <td>55e92310-cb8e-4754-b622-597e124b03de</td>\n",
       "      <td>NaN</td>\n",
       "      <td>youtube_channel_reklama</td>\n",
       "      <td>2020-05-04 00:00:01</td>\n",
       "      <td>2020-05-10 20:27:01</td>\n",
       "      <td>6 days 20:27:00</td>\n",
       "      <td>6</td>\n",
       "    </tr>\n",
       "    <tr>\n",
       "      <th>4</th>\n",
       "      <td>2020-05-06 00:52:56</td>\n",
       "      <td>building</td>\n",
       "      <td>assembly_shop</td>\n",
       "      <td>55e92310-cb8e-4754-b622-597e124b03de</td>\n",
       "      <td>NaN</td>\n",
       "      <td>youtube_channel_reklama</td>\n",
       "      <td>2020-05-04 00:00:01</td>\n",
       "      <td>2020-05-10 20:27:01</td>\n",
       "      <td>6 days 20:27:00</td>\n",
       "      <td>6</td>\n",
       "    </tr>\n",
       "  </tbody>\n",
       "</table>\n",
       "</div>"
      ],
      "text/plain": [
       "       event_datetime     event  building_type  \\\n",
       "0 2020-05-04 00:00:01  building  assembly_shop   \n",
       "1 2020-05-05 05:20:15  building  assembly_shop   \n",
       "2 2020-05-05 19:24:02  building  assembly_shop   \n",
       "3 2020-05-05 20:59:19  building  assembly_shop   \n",
       "4 2020-05-06 00:52:56  building  assembly_shop   \n",
       "\n",
       "                                user_id project_type                   source  \\\n",
       "0  55e92310-cb8e-4754-b622-597e124b03de          NaN  youtube_channel_reklama   \n",
       "1  55e92310-cb8e-4754-b622-597e124b03de          NaN  youtube_channel_reklama   \n",
       "2  55e92310-cb8e-4754-b622-597e124b03de          NaN  youtube_channel_reklama   \n",
       "3  55e92310-cb8e-4754-b622-597e124b03de          NaN  youtube_channel_reklama   \n",
       "4  55e92310-cb8e-4754-b622-597e124b03de          NaN  youtube_channel_reklama   \n",
       "\n",
       "             date_min            date_max       game_time  game_days  \n",
       "0 2020-05-04 00:00:01 2020-05-10 20:27:01 6 days 20:27:00          6  \n",
       "1 2020-05-04 00:00:01 2020-05-10 20:27:01 6 days 20:27:00          6  \n",
       "2 2020-05-04 00:00:01 2020-05-10 20:27:01 6 days 20:27:00          6  \n",
       "3 2020-05-04 00:00:01 2020-05-10 20:27:01 6 days 20:27:00          6  \n",
       "4 2020-05-04 00:00:01 2020-05-10 20:27:01 6 days 20:27:00          6  "
      ]
     },
     "execution_count": 53,
     "metadata": {},
     "output_type": "execute_result"
    }
   ],
   "source": [
    "df_grouped = players.groupby(['user_id']).agg(\n",
    "    date_min=('event_datetime', 'min'),\n",
    "    date_max=('event_datetime', 'max'))\\\n",
    "    .reset_index()\n",
    "df_grouped['game_time']=(df_grouped['date_max']-df_grouped['date_min'])\n",
    "players = pd.merge(players, df_grouped)\n",
    "players['game_days'] = players['game_time'].dt.days\n",
    "players.head()"
   ]
  },
  {
   "cell_type": "markdown",
   "metadata": {},
   "source": [
    "Разделим датасет на 3 части - \n",
    "- игроки, прошедшие уровень победой над противником \n",
    "- игроки, прошедшие уровень созданием проекта\n",
    "- игроки, которые не прошли уровень"
   ]
  },
  {
   "cell_type": "code",
   "execution_count": 54,
   "metadata": {},
   "outputs": [],
   "source": [
    "#фильтруем игроков прошедших уровень победой над противником\n",
    "players_finish = players[players['user_id'].isin(players[players['event']== 'finished_stage_1']['user_id'])]\n",
    "players_finish = players_finish[~players_finish['user_id'].isin(players_finish[players_finish['event']== 'project']['user_id'])]"
   ]
  },
  {
   "cell_type": "code",
   "execution_count": 55,
   "metadata": {},
   "outputs": [],
   "source": [
    "#фильтруем играков прошедших уровень созданием проекта\n",
    "players_project = players[players['user_id'].isin(players[players['event']== 'project']['user_id'])]"
   ]
  },
  {
   "cell_type": "code",
   "execution_count": 56,
   "metadata": {},
   "outputs": [],
   "source": [
    "#фильтруем игроков не прошедших уровень\n",
    "players_not_finish = players[~players['user_id'].isin(players[players['event']== 'finished_stage_1']['user_id'])]\n"
   ]
  },
  {
   "cell_type": "code",
   "execution_count": 57,
   "metadata": {},
   "outputs": [
    {
     "data": {
      "text/plain": [
       "3951"
      ]
     },
     "execution_count": 57,
     "metadata": {},
     "output_type": "execute_result"
    }
   ],
   "source": [
    "players_finish['user_id'].nunique()"
   ]
  },
  {
   "cell_type": "code",
   "execution_count": 58,
   "metadata": {},
   "outputs": [
    {
     "data": {
      "text/plain": [
       "1866"
      ]
     },
     "execution_count": 58,
     "metadata": {},
     "output_type": "execute_result"
    }
   ],
   "source": [
    "players_project['user_id'].nunique()"
   ]
  },
  {
   "cell_type": "code",
   "execution_count": 59,
   "metadata": {},
   "outputs": [
    {
     "data": {
      "text/plain": [
       "7759"
      ]
     },
     "execution_count": 59,
     "metadata": {},
     "output_type": "execute_result"
    }
   ],
   "source": [
    "players_not_finish['user_id'].nunique()"
   ]
  },
  {
   "cell_type": "markdown",
   "metadata": {},
   "source": [
    "### 3. Проанализируем активность пользователей и постройки в игре."
   ]
  },
  {
   "cell_type": "code",
   "execution_count": 60,
   "metadata": {},
   "outputs": [
    {
     "name": "stdout",
     "output_type": "stream",
     "text": [
      "     building_type  user_id\n",
      "0    assembly_shop    13576\n",
      "2        spaceport    13231\n",
      "1  research_center     7671\n"
     ]
    }
   ],
   "source": [
    "plb = players.groupby(['building_type'], \\\n",
    "                      as_index = False)[['user_id']].nunique().sort_values(by='user_id', ascending=False)\n",
    "print(plb)"
   ]
  },
  {
   "cell_type": "code",
   "execution_count": 61,
   "metadata": {},
   "outputs": [
    {
     "data": {
      "image/png": "[encoded data removed]",
      "text/plain": [
       "<Figure size 720x360 with 1 Axes>"
      ]
     },
     "metadata": {
      "needs_background": "light"
     },
     "output_type": "display_data"
    }
   ],
   "source": [
    "plt.figure(figsize=(10, 5))\n",
    "sns.barplot(x='user_id', y='building_type', data=plb)\n",
    "plt.title('График количества пользователей строящих здания')\n",
    "plt.xlabel('Количество уникальных пользователей')\n",
    "plt.ylabel('Тип постройки')\n",
    "plt.grid()\n",
    "plt.xticks(rotation=45)\n",
    "plt.show()"
   ]
  },
  {
   "cell_type": "markdown",
   "metadata": {},
   "source": [
    "Сборочный цех строили больше всего(все пользователи), немного отстает космопорт. Исследовательский центр строили меньшее количество раз"
   ]
  },
  {
   "cell_type": "markdown",
   "metadata": {},
   "source": [
    "Построим график количества событий по дням:"
   ]
  },
  {
   "cell_type": "code",
   "execution_count": 62,
   "metadata": {},
   "outputs": [],
   "source": [
    "players['event_day'] = players['event_datetime'].dt.date"
   ]
  },
  {
   "cell_type": "code",
   "execution_count": 63,
   "metadata": {},
   "outputs": [],
   "source": [
    "pls = players.groupby(['event_day', 'event'], \\\n",
    "                      as_index = False)[['user_id']].nunique()"
   ]
  },
  {
   "cell_type": "code",
   "execution_count": 64,
   "metadata": {},
   "outputs": [
    {
     "data": {
      "image/png": "[encoded data removed]",
      "text/plain": [
       "<Figure size 720x2160 with 1 Axes>"
      ]
     },
     "metadata": {
      "needs_background": "light"
     },
     "output_type": "display_data"
    }
   ],
   "source": [
    "plt.figure(figsize=(10, 30))\n",
    "sns.barplot(x='user_id', y='event_day', data=pls, hue='event')\n",
    "plt.title('График количества событий')\n",
    "plt.xlabel('Количество событий')\n",
    "plt.ylabel('Дата')\n",
    "plt.grid()\n",
    "plt.xticks(rotation=45)\n",
    "plt.show()"
   ]
  },
  {
   "cell_type": "markdown",
   "metadata": {},
   "source": [
    "### 4. Проверка гепотез"
   ]
  },
  {
   "cell_type": "markdown",
   "metadata": {},
   "source": [
    "#### 4.1 Проверим гипотезу различия времени прохождения уровня между пользователями, которые заканчивают уровень через реализацию проекта, и пользователями, которые заканчивают уровень победой над другим игроком."
   ]
  },
  {
   "cell_type": "markdown",
   "metadata": {},
   "source": [
    "Построим графики для двух групп:"
   ]
  },
  {
   "cell_type": "code",
   "execution_count": 65,
   "metadata": {},
   "outputs": [],
   "source": [
    "p_f = players_finish.groupby(['game_days'], \\\n",
    "                      as_index = False)[['user_id']].nunique()\n",
    "\n",
    "\n",
    "p_p = players_project.groupby(['game_days'], \\\n",
    "                      as_index = False)[['user_id']].nunique()\n"
   ]
  },
  {
   "cell_type": "code",
   "execution_count": 66,
   "metadata": {},
   "outputs": [
    {
     "data": {
      "image/png": "[encoded data removed]",
      "text/plain": [
       "<Figure size 720x360 with 1 Axes>"
      ]
     },
     "metadata": {
      "needs_background": "light"
     },
     "output_type": "display_data"
    }
   ],
   "source": [
    "plt.figure(figsize=(10, 5))\n",
    "sns.barplot(x='game_days', y='user_id', data=p_f)\n",
    "plt.title('График количества дней проведенных в игре (победа над врагом)')\n",
    "plt.xlabel('Количество дней')\n",
    "plt.ylabel('Количество пользователей')\n",
    "plt.grid()\n",
    "plt.xticks(rotation=45)\n",
    "plt.show()"
   ]
  },
  {
   "cell_type": "code",
   "execution_count": 67,
   "metadata": {},
   "outputs": [
    {
     "data": {
      "image/png": "[encoded data removed]",
      "text/plain": [
       "<Figure size 720x360 with 1 Axes>"
      ]
     },
     "metadata": {
      "needs_background": "light"
     },
     "output_type": "display_data"
    }
   ],
   "source": [
    "plt.figure(figsize=(10, 5))\n",
    "sns.barplot(x='game_days', y='user_id', data=p_p)\n",
    "plt.title('График количества дней проведенных в игре (победа проектом)')\n",
    "plt.xlabel('Количество дней')\n",
    "plt.ylabel('Количество пользователей')\n",
    "plt.grid()\n",
    "plt.xticks(rotation=45)\n",
    "plt.show()"
   ]
  },
  {
   "cell_type": "markdown",
   "metadata": {},
   "source": [
    "- За нулевую гипотезу возьмём что: \"статистической значимости различий в среднем времени прохождения между 2 группами нет\"; \n",
    "\n",
    "- Альтернативная гипотеза будет гласить - статистически значимые различия есть.\n"
   ]
  },
  {
   "cell_type": "code",
   "execution_count": 68,
   "metadata": {},
   "outputs": [
    {
     "name": "stderr",
     "output_type": "stream",
     "text": [
      "/tmp/ipykernel_48/3692077610.py:2: SettingWithCopyWarning:\n",
      "\n",
      "\n",
      "A value is trying to be set on a copy of a slice from a DataFrame.\n",
      "Try using .loc[row_indexer,col_indexer] = value instead\n",
      "\n",
      "See the caveats in the documentation: https://pandas.pydata.org/pandas-docs/stable/user_guide/indexing.html#returning-a-view-versus-a-copy\n",
      "\n"
     ]
    }
   ],
   "source": [
    "players_finish['game_time'] = players_finish['game_time'].astype('timedelta64[s]')\n",
    "players_project['game_time'] = players_project['game_time'].astype('timedelta64[s]')\n",
    "\n"
   ]
  },
  {
   "cell_type": "code",
   "execution_count": 69,
   "metadata": {},
   "outputs": [],
   "source": [
    "finish_win1 = players_finish.groupby('user_id')['game_time'].unique().reset_index()\n",
    "project_win1 = players_project.groupby('user_id')['game_time'].unique().reset_index()                           \n",
    "\n",
    "\n",
    "\n",
    "finish_win1 = list(finish_win1['game_time'])\n",
    "project_win1 = list(project_win1['game_time']) \n"
   ]
  },
  {
   "cell_type": "code",
   "execution_count": 70,
   "metadata": {},
   "outputs": [
    {
     "name": "stdout",
     "output_type": "stream",
     "text": [
      "p-value: [5.70805824e-107]\n",
      "Отвергаем нулевую гипотезу\n"
     ]
    }
   ],
   "source": [
    "alpha = .05\n",
    "\n",
    "results = st.ttest_ind(finish_win1, project_win1, equal_var = False)\n",
    "\n",
    "print('p-value: {}'.format(results.pvalue))\n",
    "if results.pvalue < alpha:\n",
    "    print(\"Отвергаем нулевую гипотезу\")\n",
    "else:\n",
    "    print(\"Не получилось отвергнуть нулевую гипотезу\") "
   ]
  },
  {
   "cell_type": "markdown",
   "metadata": {},
   "source": [
    "Статистически значимые различия во времени прохождения между 2 группами присутствуют"
   ]
  },
  {
   "cell_type": "markdown",
   "metadata": {},
   "source": [
    "#### 4.2 Проверим гипотезу различия среднего количества построек между пользователями, которые заканчивают уровень через реализацию проекта, и пользователями, которые заканчивают уровень победой над другим игроком."
   ]
  },
  {
   "cell_type": "markdown",
   "metadata": {},
   "source": [
    "- За нулевую гипотезу возьмём что: \"статистической значимости среднего количества построек между 2 группами нет\"; \n",
    "\n",
    "- Альтернативная гипотеза будет гласить - статистически значимые различия есть.\n"
   ]
  },
  {
   "cell_type": "code",
   "execution_count": 71,
   "metadata": {},
   "outputs": [],
   "source": [
    "finish_win2 = players_finish.groupby('user_id')['building_type'].count().reset_index()\n",
    "project_win2 = players_project.groupby('user_id')['building_type'].count().reset_index()                           \n",
    "\n",
    "\n",
    "\n",
    "finish_win2 = list(finish_win2['building_type'])\n",
    "project_win2 = list(project_win2['building_type']) \n"
   ]
  },
  {
   "cell_type": "code",
   "execution_count": 72,
   "metadata": {},
   "outputs": [
    {
     "name": "stdout",
     "output_type": "stream",
     "text": [
      "p-value: 0.0\n",
      "Отвергаем нулевую гипотезу\n"
     ]
    }
   ],
   "source": [
    "alpha = .05\n",
    "\n",
    "results = st.ttest_ind(finish_win2, project_win2, equal_var = False)\n",
    "\n",
    "print('p-value: {}'.format(results.pvalue))\n",
    "if results.pvalue < alpha:\n",
    "    print(\"Отвергаем нулевую гипотезу\")\n",
    "else:\n",
    "    print(\"Не получилось отвергнуть нулевую гипотезу\") "
   ]
  },
  {
   "cell_type": "markdown",
   "metadata": {},
   "source": [
    "Статистически значимые различия по количеству посторек между 2 группами присутствуют"
   ]
  },
  {
   "cell_type": "markdown",
   "metadata": {},
   "source": [
    "### 5. Сформируем модель монетизации игрового приложения. Оценим как она удовлетворяет требованиям заказчика, то есть окупает расходы на маркетинг."
   ]
  },
  {
   "cell_type": "markdown",
   "metadata": {},
   "source": [
    "#### Модель №1. Текущая модель:"
   ]
  },
  {
   "cell_type": "code",
   "execution_count": 183,
   "metadata": {},
   "outputs": [],
   "source": [
    "#Количество построек на пользователя:\n",
    "buldings_per_user = players.groupby(['user_id']).agg({'building_type': 'count'}).values\n"
   ]
  },
  {
   "cell_type": "code",
   "execution_count": 184,
   "metadata": {},
   "outputs": [
    {
     "name": "stdout",
     "output_type": "stream",
     "text": [
      "Прибыль от рекламы в текущей модели: 1353.0\n"
     ]
    }
   ],
   "source": [
    "print('Прибыль от рекламы в текущей модели: {0}'.format(round(0.07 * \n",
    "                                                                       buldings_per_user.sum() -\n",
    "                                                                       ad_costs['cost'].sum(), 0))\n",
    "     )"
   ]
  },
  {
   "cell_type": "markdown",
   "metadata": {},
   "source": [
    "#### Модель №2. Альтернативная модель:"
   ]
  },
  {
   "cell_type": "markdown",
   "metadata": {},
   "source": [
    "За альтернативную модель я взял отказ от демонстрации рекламы всем пользователям при выборе первой постройки:"
   ]
  },
  {
   "cell_type": "code",
   "execution_count": 185,
   "metadata": {},
   "outputs": [
    {
     "name": "stdout",
     "output_type": "stream",
     "text": [
      "Прибыль от рекламы в альтернативной модели: 403.0\n"
     ]
    }
   ],
   "source": [
    "print('Прибыль от рекламы в альтернативной модели: {0}'.format(round(0.07 *\n",
    "                                                                                (buldings_per_user.sum() -\n",
    "                                                                                 players['user_id'].nunique()) -\n",
    "                                                                                ad_costs['cost'].sum(), 0))\n",
    "     )"
   ]
  },
  {
   "cell_type": "markdown",
   "metadata": {},
   "source": [
    "Потенциальная прибыль уменьшилась примерно на 70%, но все еще остается в плюсе. Приложение будет приносить доход, но количество показов рекламы сократится"
   ]
  },
  {
   "cell_type": "markdown",
   "metadata": {},
   "source": [
    "#### Модель №3. Убыточная модель:"
   ]
  },
  {
   "cell_type": "markdown",
   "metadata": {},
   "source": [
    "За альтернативную модель №2 взял отказ от демонстрации рекламы всем пользователям при выборе двух первых построек:"
   ]
  },
  {
   "cell_type": "code",
   "execution_count": 219,
   "metadata": {},
   "outputs": [],
   "source": [
    "#Оставим пользователей с 2 и более постройками:\n",
    "buldings_per_user2 = players.groupby(['user_id']).agg({'building_type': 'count'}).query('building_type >= 2')\n",
    "buldings_per_user2 = buldings_per_user2.count().values\n"
   ]
  },
  {
   "cell_type": "code",
   "execution_count": 220,
   "metadata": {},
   "outputs": [
    {
     "name": "stdout",
     "output_type": "stream",
     "text": [
      "Прибыль от рекламы в модели с убытками: [-543.30698679]\n"
     ]
    }
   ],
   "source": [
    "print('Прибыль от рекламы в модели с убытками: {0}'.format(0.07 *\n",
    "                                                                                (buldings_per_user.sum() -\n",
    "                                                                                 (buldings_per_user2 + players['user_id'].nunique())) -\n",
    "                                                                                ad_costs['cost'].sum(),)\n",
    "     )"
   ]
  },
  {
   "cell_type": "markdown",
   "metadata": {},
   "source": [
    "При отсутствии рекламы на 2 экранах постройки мы уходим в минус"
   ]
  },
  {
   "cell_type": "markdown",
   "metadata": {},
   "source": [
    "# Выводы:"
   ]
  },
  {
   "cell_type": "markdown",
   "metadata": {},
   "source": [
    "Проведен анализ данных в игре «Космические братья»\n",
    "\n",
    "Выявлены следующие числовые показатели:\n",
    "\n",
    "- Количество событий: 135640\n",
    "\n",
    "\n",
    "- Количество пользователей: 13576. Из них прошли первый уровень 5817:  1866 закончили проект, 3951 завершили победой над противником\n",
    "\n",
    "\n",
    "- Среднее и медианное количество событий на пользователя примерно равно 10\n",
    "\n",
    "\n",
    "- Временной интервал для анализа: c 2020-05-04 по 2020-06-05\n",
    "\n",
    "\n",
    "- Всего 4 источника трафика - Я.Директ, Instagram, Facebook, Youtube. Большая часть пришла из Yandex Direct, меньшая - из Youtube. Затраты на привлечение одного пользователя (в порядке возрастания):\n",
    "\n",
    "1) Youtube\n",
    "\n",
    "2) Yandex\n",
    "\n",
    "3) Instagram\n",
    "\n",
    "4) Facebook\n",
    "\n",
    "\n",
    "\n",
    "\n",
    "\n",
    "\n",
    "\n"
   ]
  },
  {
   "cell_type": "markdown",
   "metadata": {},
   "source": [
    "Далее я проверил гипотезу различия времени прохождения уровня между пользователями, которые заканчивают уровень через реализацию проекта, и пользователями, которые заканчивают уровень победой над другим игроком. Было выяснено, что статистически значимые различия во времени прохождения между 2 группами все же присутствуют. \n",
    "\n",
    "Аналогичный анализ провел между 2 группами по среднему количеству построек.\n",
    "Также присутствуют различия по количеству посторек между 2 группами."
   ]
  },
  {
   "cell_type": "markdown",
   "metadata": {},
   "source": [
    "# Модель монетизации:"
   ]
  },
  {
   "cell_type": "markdown",
   "metadata": {},
   "source": [
    "Текущая модель монетизации в целом окупает себя, но там двольно много рекламы, что может отпугнуть игроков. За альтернативную модель монетизации я взял отказ от демонстрации рекламы всем пользователям при выборе первой постройки. Потенциальная прибыль хоть и уменьшилась на 70%, но все еще остается в плюсе, а количество рекламы сократилось. \n",
    "\n",
    "В целом рекомендую использовать Модель №2\n",
    "\n",
    "\n"
   ]
  },
  {
   "cell_type": "markdown",
   "metadata": {},
   "source": [
    "Презентация - https://cloud.mail.ru/public/CEp1/n1t8d8pyr"
   ]
  },
  {
   "cell_type": "markdown",
   "metadata": {},
   "source": [
    "Дашборд - https://public.tableau.com/app/profile/slav1182/viz/Vipusk/Dashboard1?publish=yes"
   ]
  },
  {
   "cell_type": "code",
   "execution_count": null,
   "metadata": {},
   "outputs": [],
   "source": []
  }
 ],
 "metadata": {
  "ExecuteTimeLog": [
   {
    "duration": 4,
    "start_time": "2023-03-21T18:46:47.716Z"
   },
   {
    "duration": 4,
    "start_time": "2023-03-22T16:19:20.157Z"
   },
   {
    "duration": 97,
    "start_time": "2023-03-22T16:22:13.277Z"
   },
   {
    "duration": 395,
    "start_time": "2023-03-22T16:22:26.970Z"
   },
   {
    "duration": 127,
    "start_time": "2023-03-22T16:22:41.858Z"
   },
   {
    "duration": 54,
    "start_time": "2023-03-22T16:23:28.387Z"
   },
   {
    "duration": 51,
    "start_time": "2023-03-22T16:24:01.291Z"
   },
   {
    "duration": 1071,
    "start_time": "2023-03-22T16:24:39.230Z"
   },
   {
    "duration": 14,
    "start_time": "2023-03-22T16:24:55.893Z"
   },
   {
    "duration": 11,
    "start_time": "2023-03-22T16:25:12.428Z"
   },
   {
    "duration": 49,
    "start_time": "2023-03-22T16:25:16.484Z"
   },
   {
    "duration": 14,
    "start_time": "2023-03-22T16:25:27.561Z"
   },
   {
    "duration": 12,
    "start_time": "2023-03-22T16:37:05.929Z"
   },
   {
    "duration": 30,
    "start_time": "2023-03-22T16:37:13.840Z"
   },
   {
    "duration": 6,
    "start_time": "2023-03-22T16:37:22.032Z"
   },
   {
    "duration": 97,
    "start_time": "2023-03-22T16:41:18.543Z"
   },
   {
    "duration": 86,
    "start_time": "2023-03-22T16:41:22.905Z"
   },
   {
    "duration": 9,
    "start_time": "2023-03-22T16:44:20.796Z"
   },
   {
    "duration": 8,
    "start_time": "2023-03-22T16:44:45.210Z"
   },
   {
    "duration": 8,
    "start_time": "2023-03-22T16:45:02.628Z"
   },
   {
    "duration": 86,
    "start_time": "2023-03-22T16:47:38.108Z"
   },
   {
    "duration": 28,
    "start_time": "2023-03-22T16:47:46.626Z"
   },
   {
    "duration": 11,
    "start_time": "2023-03-22T16:47:49.606Z"
   },
   {
    "duration": 10,
    "start_time": "2023-03-22T16:52:20.806Z"
   },
   {
    "duration": 92,
    "start_time": "2023-03-22T16:52:54.291Z"
   },
   {
    "duration": 131,
    "start_time": "2023-03-22T16:52:58.862Z"
   },
   {
    "duration": 28,
    "start_time": "2023-03-22T16:53:11.889Z"
   },
   {
    "duration": 152,
    "start_time": "2023-03-22T16:53:13.966Z"
   },
   {
    "duration": 17,
    "start_time": "2023-03-22T16:53:15.108Z"
   },
   {
    "duration": 113,
    "start_time": "2023-03-22T16:53:55.424Z"
   },
   {
    "duration": 16,
    "start_time": "2023-03-22T16:56:19.204Z"
   },
   {
    "duration": 1984,
    "start_time": "2023-03-22T16:56:32.149Z"
   },
   {
    "duration": 5,
    "start_time": "2023-03-22T16:56:40.528Z"
   },
   {
    "duration": 15,
    "start_time": "2023-03-22T16:57:02.326Z"
   },
   {
    "duration": 5,
    "start_time": "2023-03-22T16:57:13.543Z"
   },
   {
    "duration": 19,
    "start_time": "2023-03-22T16:57:14.274Z"
   },
   {
    "duration": 4,
    "start_time": "2023-03-22T16:57:19.550Z"
   },
   {
    "duration": 18,
    "start_time": "2023-03-22T16:57:23.497Z"
   },
   {
    "duration": 6,
    "start_time": "2023-03-22T16:57:58.110Z"
   },
   {
    "duration": 18,
    "start_time": "2023-03-22T16:57:58.899Z"
   },
   {
    "duration": 8,
    "start_time": "2023-03-22T16:58:15.254Z"
   },
   {
    "duration": 47,
    "start_time": "2023-03-22T16:59:41.207Z"
   },
   {
    "duration": 10,
    "start_time": "2023-03-22T16:59:43.490Z"
   },
   {
    "duration": 53,
    "start_time": "2023-03-22T16:59:43.951Z"
   },
   {
    "duration": 38,
    "start_time": "2023-03-22T16:59:57.705Z"
   },
   {
    "duration": 26,
    "start_time": "2023-03-22T17:00:56.899Z"
   },
   {
    "duration": 189,
    "start_time": "2023-03-22T17:02:11.596Z"
   },
   {
    "duration": 7,
    "start_time": "2023-03-22T17:05:34.655Z"
   },
   {
    "duration": 42,
    "start_time": "2023-03-22T17:06:49.773Z"
   },
   {
    "duration": 35,
    "start_time": "2023-03-22T18:19:41.748Z"
   },
   {
    "duration": 125,
    "start_time": "2023-03-22T18:20:30.386Z"
   },
   {
    "duration": 9,
    "start_time": "2023-03-22T18:21:54.407Z"
   },
   {
    "duration": 40,
    "start_time": "2023-03-22T18:22:39.237Z"
   },
   {
    "duration": 67,
    "start_time": "2023-03-22T18:23:39.243Z"
   },
   {
    "duration": 6,
    "start_time": "2023-03-22T18:25:03.115Z"
   },
   {
    "duration": 499,
    "start_time": "2023-03-22T18:25:14.347Z"
   },
   {
    "duration": 57,
    "start_time": "2023-03-22T18:26:20.558Z"
   },
   {
    "duration": 14,
    "start_time": "2023-03-22T18:26:30.260Z"
   },
   {
    "duration": 139,
    "start_time": "2023-03-22T18:33:07.180Z"
   },
   {
    "duration": 4,
    "start_time": "2023-03-22T18:36:30.942Z"
   },
   {
    "duration": 16,
    "start_time": "2023-03-22T18:36:34.248Z"
   },
   {
    "duration": 3,
    "start_time": "2023-03-22T18:37:18.199Z"
   },
   {
    "duration": 57,
    "start_time": "2023-03-22T18:37:30.934Z"
   },
   {
    "duration": 58,
    "start_time": "2023-03-22T18:37:55.182Z"
   },
   {
    "duration": 59,
    "start_time": "2023-03-22T18:38:02.770Z"
   },
   {
    "duration": 58,
    "start_time": "2023-03-22T18:38:11.440Z"
   },
   {
    "duration": 50,
    "start_time": "2023-03-22T18:38:54.189Z"
   },
   {
    "duration": 60,
    "start_time": "2023-03-22T18:38:59.981Z"
   },
   {
    "duration": 10,
    "start_time": "2023-03-22T18:39:50.168Z"
   },
   {
    "duration": 131,
    "start_time": "2023-03-22T18:39:59.537Z"
   },
   {
    "duration": 8,
    "start_time": "2023-03-22T18:40:20.562Z"
   },
   {
    "duration": 4,
    "start_time": "2023-03-22T18:40:46.425Z"
   },
   {
    "duration": 4,
    "start_time": "2023-03-22T18:40:48.836Z"
   },
   {
    "duration": 9,
    "start_time": "2023-03-22T18:40:52.091Z"
   },
   {
    "duration": 58,
    "start_time": "2023-03-22T18:41:06.147Z"
   },
   {
    "duration": 9,
    "start_time": "2023-03-22T18:44:17.423Z"
   },
   {
    "duration": 60,
    "start_time": "2023-03-22T18:45:54.971Z"
   },
   {
    "duration": 51,
    "start_time": "2023-03-22T18:48:13.569Z"
   },
   {
    "duration": 5,
    "start_time": "2023-03-22T18:59:24.166Z"
   },
   {
    "duration": 4,
    "start_time": "2023-03-22T18:59:54.360Z"
   },
   {
    "duration": 291,
    "start_time": "2023-03-22T19:01:35.965Z"
   },
   {
    "duration": 3,
    "start_time": "2023-03-22T19:02:17.094Z"
   },
   {
    "duration": 2,
    "start_time": "2023-03-22T19:02:20.039Z"
   },
   {
    "duration": 197,
    "start_time": "2023-03-22T19:02:24.435Z"
   },
   {
    "duration": 241,
    "start_time": "2023-03-22T19:02:35.280Z"
   },
   {
    "duration": 289,
    "start_time": "2023-03-22T19:02:45.670Z"
   },
   {
    "duration": 5,
    "start_time": "2023-03-22T19:10:14.028Z"
   },
   {
    "duration": 4,
    "start_time": "2023-03-22T19:12:46.925Z"
   },
   {
    "duration": 90,
    "start_time": "2023-03-22T19:16:33.926Z"
   },
   {
    "duration": 14,
    "start_time": "2023-03-22T19:24:29.750Z"
   },
   {
    "duration": 87,
    "start_time": "2023-03-22T19:28:22.056Z"
   },
   {
    "duration": 16,
    "start_time": "2023-03-22T19:34:50.841Z"
   },
   {
    "duration": 12,
    "start_time": "2023-03-22T19:35:05.228Z"
   },
   {
    "duration": 23,
    "start_time": "2023-03-22T19:35:09.864Z"
   },
   {
    "duration": 1407,
    "start_time": "2023-03-22T19:35:42.200Z"
   },
   {
    "duration": 19,
    "start_time": "2023-03-22T19:35:53.630Z"
   },
   {
    "duration": 6,
    "start_time": "2023-03-22T19:36:47.231Z"
   },
   {
    "duration": 6,
    "start_time": "2023-03-22T19:37:41.731Z"
   },
   {
    "duration": 19,
    "start_time": "2023-03-22T19:41:53.796Z"
   },
   {
    "duration": 16,
    "start_time": "2023-03-22T19:41:55.433Z"
   },
   {
    "duration": 13,
    "start_time": "2023-03-22T19:42:06.679Z"
   },
   {
    "duration": 11,
    "start_time": "2023-03-22T19:42:21.355Z"
   },
   {
    "duration": 19,
    "start_time": "2023-03-22T19:44:53.238Z"
   },
   {
    "duration": 14,
    "start_time": "2023-03-22T19:44:55.799Z"
   },
   {
    "duration": 12,
    "start_time": "2023-03-22T19:44:57.807Z"
   },
   {
    "duration": 9,
    "start_time": "2023-03-22T19:47:43.879Z"
   },
   {
    "duration": 6,
    "start_time": "2023-03-22T19:47:48.493Z"
   },
   {
    "duration": 4,
    "start_time": "2023-03-22T19:49:19.885Z"
   },
   {
    "duration": 4,
    "start_time": "2023-03-22T19:49:24.660Z"
   },
   {
    "duration": 12,
    "start_time": "2023-03-22T19:52:58.424Z"
   },
   {
    "duration": 14,
    "start_time": "2023-03-22T19:53:05.133Z"
   },
   {
    "duration": 28,
    "start_time": "2023-03-22T19:56:42.776Z"
   },
   {
    "duration": 190,
    "start_time": "2023-03-22T19:59:02.163Z"
   },
   {
    "duration": 7,
    "start_time": "2023-03-22T19:59:03.930Z"
   },
   {
    "duration": 12,
    "start_time": "2023-03-22T19:59:05.283Z"
   },
   {
    "duration": 19,
    "start_time": "2023-03-22T19:59:06.772Z"
   },
   {
    "duration": 9,
    "start_time": "2023-03-22T19:59:09.720Z"
   },
   {
    "duration": 19,
    "start_time": "2023-03-22T20:00:08.333Z"
   },
   {
    "duration": 25,
    "start_time": "2023-03-22T20:00:09.140Z"
   },
   {
    "duration": 82,
    "start_time": "2023-03-22T20:04:42.018Z"
   },
   {
    "duration": 9,
    "start_time": "2023-03-22T20:05:04.465Z"
   },
   {
    "duration": 8,
    "start_time": "2023-03-22T20:05:07.228Z"
   },
   {
    "duration": 10,
    "start_time": "2023-03-22T20:05:09.404Z"
   },
   {
    "duration": 14,
    "start_time": "2023-03-22T20:05:16.983Z"
   },
   {
    "duration": 11,
    "start_time": "2023-03-22T20:05:20.112Z"
   },
   {
    "duration": 21,
    "start_time": "2023-03-22T20:05:44.386Z"
   },
   {
    "duration": 12,
    "start_time": "2023-03-22T20:05:52.322Z"
   },
   {
    "duration": 17,
    "start_time": "2023-03-22T20:05:54.985Z"
   },
   {
    "duration": 23,
    "start_time": "2023-03-22T20:06:34.665Z"
   },
   {
    "duration": 15,
    "start_time": "2023-03-22T20:06:35.680Z"
   },
   {
    "duration": 13,
    "start_time": "2023-03-22T20:06:36.897Z"
   },
   {
    "duration": 16,
    "start_time": "2023-03-22T20:06:41.049Z"
   },
   {
    "duration": 12,
    "start_time": "2023-03-22T20:06:45.320Z"
   },
   {
    "duration": 13,
    "start_time": "2023-03-22T20:06:49.960Z"
   },
   {
    "duration": 9,
    "start_time": "2023-03-22T20:09:43.660Z"
   },
   {
    "duration": 6,
    "start_time": "2023-03-22T20:10:01.224Z"
   },
   {
    "duration": 17,
    "start_time": "2023-03-22T20:17:49.950Z"
   },
   {
    "duration": 11,
    "start_time": "2023-03-22T20:17:51.644Z"
   },
   {
    "duration": 11,
    "start_time": "2023-03-22T20:17:53.582Z"
   },
   {
    "duration": 12,
    "start_time": "2023-03-22T20:17:58.519Z"
   },
   {
    "duration": 5,
    "start_time": "2023-03-22T20:18:01.087Z"
   },
   {
    "duration": 22,
    "start_time": "2023-03-22T20:18:41.262Z"
   },
   {
    "duration": 12,
    "start_time": "2023-03-22T20:18:43.966Z"
   },
   {
    "duration": 6,
    "start_time": "2023-03-22T20:18:46.749Z"
   },
   {
    "duration": 5,
    "start_time": "2023-03-22T20:18:49.221Z"
   },
   {
    "duration": 17,
    "start_time": "2023-03-22T20:20:49.902Z"
   },
   {
    "duration": 12,
    "start_time": "2023-03-22T20:20:52.089Z"
   },
   {
    "duration": 14,
    "start_time": "2023-03-22T20:20:53.923Z"
   },
   {
    "duration": 8,
    "start_time": "2023-03-22T20:20:57.621Z"
   },
   {
    "duration": 17,
    "start_time": "2023-03-22T20:21:17.645Z"
   },
   {
    "duration": 15,
    "start_time": "2023-03-22T20:21:19.030Z"
   },
   {
    "duration": 15,
    "start_time": "2023-03-22T20:21:22.553Z"
   },
   {
    "duration": 8,
    "start_time": "2023-03-22T20:21:24.318Z"
   },
   {
    "duration": 83,
    "start_time": "2023-03-23T08:35:44.934Z"
   },
   {
    "duration": 46,
    "start_time": "2023-03-23T08:36:25.934Z"
   },
   {
    "duration": 7,
    "start_time": "2023-03-23T08:36:53.244Z"
   },
   {
    "duration": 843,
    "start_time": "2023-03-23T08:36:55.687Z"
   },
   {
    "duration": 977,
    "start_time": "2023-03-23T08:36:56.948Z"
   },
   {
    "duration": 28,
    "start_time": "2023-03-23T08:37:04.493Z"
   },
   {
    "duration": 17,
    "start_time": "2023-03-23T08:37:25.431Z"
   },
   {
    "duration": 38,
    "start_time": "2023-03-23T08:44:09.745Z"
   },
   {
    "duration": 8,
    "start_time": "2023-03-23T08:44:18.345Z"
   },
   {
    "duration": 57,
    "start_time": "2023-03-23T08:58:48.709Z"
   },
   {
    "duration": 86,
    "start_time": "2023-03-23T08:59:20.230Z"
   },
   {
    "duration": 54,
    "start_time": "2023-03-23T08:59:27.342Z"
   },
   {
    "duration": 46,
    "start_time": "2023-03-23T08:59:29.127Z"
   },
   {
    "duration": 45,
    "start_time": "2023-03-23T08:59:38.495Z"
   },
   {
    "duration": 45,
    "start_time": "2023-03-23T08:59:40.633Z"
   },
   {
    "duration": 14,
    "start_time": "2023-03-23T08:59:43.069Z"
   },
   {
    "duration": 44,
    "start_time": "2023-03-23T08:59:45.464Z"
   },
   {
    "duration": 9,
    "start_time": "2023-03-23T08:59:48.966Z"
   },
   {
    "duration": 45,
    "start_time": "2023-03-23T08:59:56.729Z"
   },
   {
    "duration": 45,
    "start_time": "2023-03-23T09:02:52.237Z"
   },
   {
    "duration": 44,
    "start_time": "2023-03-23T09:02:53.558Z"
   },
   {
    "duration": 49,
    "start_time": "2023-03-23T09:03:21.862Z"
   },
   {
    "duration": 72,
    "start_time": "2023-03-23T09:04:26.973Z"
   },
   {
    "duration": 24,
    "start_time": "2023-03-23T09:04:32.970Z"
   },
   {
    "duration": 31,
    "start_time": "2023-03-23T09:04:57.551Z"
   },
   {
    "duration": 24,
    "start_time": "2023-03-23T09:10:19.885Z"
   },
   {
    "duration": 14,
    "start_time": "2023-03-23T09:10:34.039Z"
   },
   {
    "duration": 240,
    "start_time": "2023-03-23T09:11:06.893Z"
   },
   {
    "duration": 11,
    "start_time": "2023-03-23T09:14:40.623Z"
   },
   {
    "duration": 215,
    "start_time": "2023-03-23T09:15:00.236Z"
   },
   {
    "duration": 51,
    "start_time": "2023-03-23T09:18:25.288Z"
   },
   {
    "duration": 191,
    "start_time": "2023-03-23T09:18:31.500Z"
   },
   {
    "duration": 13,
    "start_time": "2023-03-23T09:18:54.962Z"
   },
   {
    "duration": 20,
    "start_time": "2023-03-23T09:20:52.563Z"
   },
   {
    "duration": 125,
    "start_time": "2023-03-23T09:38:45.284Z"
   },
   {
    "duration": 315,
    "start_time": "2023-03-23T09:39:14.367Z"
   },
   {
    "duration": 5,
    "start_time": "2023-03-23T10:08:25.840Z"
   },
   {
    "duration": 5,
    "start_time": "2023-03-23T10:08:28.153Z"
   },
   {
    "duration": 4,
    "start_time": "2023-03-23T10:08:38.728Z"
   },
   {
    "duration": 5,
    "start_time": "2023-03-23T10:08:40.599Z"
   },
   {
    "duration": 4,
    "start_time": "2023-03-23T10:08:42.593Z"
   },
   {
    "duration": 4,
    "start_time": "2023-03-23T10:09:24.968Z"
   },
   {
    "duration": 4,
    "start_time": "2023-03-23T10:09:36.295Z"
   },
   {
    "duration": 74,
    "start_time": "2023-03-23T10:09:43.464Z"
   },
   {
    "duration": 81,
    "start_time": "2023-03-23T10:09:54.632Z"
   },
   {
    "duration": 33,
    "start_time": "2023-03-23T10:10:15.242Z"
   },
   {
    "duration": 75,
    "start_time": "2023-03-23T10:11:00.369Z"
   },
   {
    "duration": 62,
    "start_time": "2023-03-23T10:13:11.199Z"
   },
   {
    "duration": 75,
    "start_time": "2023-03-23T10:13:15.839Z"
   },
   {
    "duration": 24,
    "start_time": "2023-03-23T10:14:28.791Z"
   },
   {
    "duration": 26,
    "start_time": "2023-03-23T10:14:42.976Z"
   },
   {
    "duration": 74,
    "start_time": "2023-03-23T10:21:50.430Z"
   },
   {
    "duration": 62,
    "start_time": "2023-03-23T10:22:33.445Z"
   },
   {
    "duration": 39,
    "start_time": "2023-03-23T13:38:07.618Z"
   },
   {
    "duration": 679,
    "start_time": "2023-03-23T13:43:24.229Z"
   },
   {
    "duration": 344,
    "start_time": "2023-03-23T13:43:24.911Z"
   },
   {
    "duration": 16,
    "start_time": "2023-03-23T13:43:25.258Z"
   },
   {
    "duration": 15,
    "start_time": "2023-03-23T13:43:25.284Z"
   },
   {
    "duration": 16,
    "start_time": "2023-03-23T13:43:25.302Z"
   },
   {
    "duration": 37,
    "start_time": "2023-03-23T13:43:25.320Z"
   },
   {
    "duration": 264,
    "start_time": "2023-03-23T13:43:25.375Z"
   },
   {
    "duration": 9,
    "start_time": "2023-03-23T13:43:25.640Z"
   },
   {
    "duration": 37,
    "start_time": "2023-03-23T13:43:25.651Z"
   },
   {
    "duration": 15,
    "start_time": "2023-03-23T13:43:25.690Z"
   },
   {
    "duration": 25,
    "start_time": "2023-03-23T13:43:25.707Z"
   },
   {
    "duration": 7,
    "start_time": "2023-03-23T13:43:25.733Z"
   },
   {
    "duration": 74,
    "start_time": "2023-03-23T13:43:25.741Z"
   },
   {
    "duration": 10,
    "start_time": "2023-03-23T13:43:25.820Z"
   },
   {
    "duration": 6,
    "start_time": "2023-03-23T13:43:25.832Z"
   },
   {
    "duration": 108,
    "start_time": "2023-03-23T13:43:25.840Z"
   },
   {
    "duration": 10,
    "start_time": "2023-03-23T13:43:25.951Z"
   },
   {
    "duration": 10,
    "start_time": "2023-03-23T13:43:25.977Z"
   },
   {
    "duration": 41,
    "start_time": "2023-03-23T13:43:25.989Z"
   },
   {
    "duration": 8,
    "start_time": "2023-03-23T13:43:26.032Z"
   },
   {
    "duration": 50,
    "start_time": "2023-03-23T13:43:26.041Z"
   },
   {
    "duration": 44,
    "start_time": "2023-03-23T13:43:26.092Z"
   },
   {
    "duration": 72,
    "start_time": "2023-03-23T13:43:26.138Z"
   },
   {
    "duration": 101,
    "start_time": "2023-03-23T13:43:26.212Z"
   },
   {
    "duration": 0,
    "start_time": "2023-03-23T13:43:26.315Z"
   },
   {
    "duration": 0,
    "start_time": "2023-03-23T13:43:26.316Z"
   },
   {
    "duration": 0,
    "start_time": "2023-03-23T13:43:26.318Z"
   },
   {
    "duration": 0,
    "start_time": "2023-03-23T13:43:26.318Z"
   },
   {
    "duration": 0,
    "start_time": "2023-03-23T13:43:26.320Z"
   },
   {
    "duration": 0,
    "start_time": "2023-03-23T13:43:26.321Z"
   },
   {
    "duration": 0,
    "start_time": "2023-03-23T13:43:26.322Z"
   },
   {
    "duration": 0,
    "start_time": "2023-03-23T13:43:26.323Z"
   },
   {
    "duration": 0,
    "start_time": "2023-03-23T13:43:26.324Z"
   },
   {
    "duration": 0,
    "start_time": "2023-03-23T13:43:26.325Z"
   },
   {
    "duration": 0,
    "start_time": "2023-03-23T13:43:26.326Z"
   },
   {
    "duration": 0,
    "start_time": "2023-03-23T13:43:26.327Z"
   },
   {
    "duration": 0,
    "start_time": "2023-03-23T13:43:26.328Z"
   },
   {
    "duration": 0,
    "start_time": "2023-03-23T13:43:26.330Z"
   },
   {
    "duration": 0,
    "start_time": "2023-03-23T13:43:26.331Z"
   },
   {
    "duration": 0,
    "start_time": "2023-03-23T13:43:26.332Z"
   },
   {
    "duration": 0,
    "start_time": "2023-03-23T13:43:26.333Z"
   },
   {
    "duration": 0,
    "start_time": "2023-03-23T13:43:26.334Z"
   },
   {
    "duration": 0,
    "start_time": "2023-03-23T13:43:26.335Z"
   },
   {
    "duration": 0,
    "start_time": "2023-03-23T13:43:26.336Z"
   },
   {
    "duration": 0,
    "start_time": "2023-03-23T13:43:26.337Z"
   },
   {
    "duration": 0,
    "start_time": "2023-03-23T13:43:26.339Z"
   },
   {
    "duration": 0,
    "start_time": "2023-03-23T13:43:26.340Z"
   },
   {
    "duration": 181,
    "start_time": "2023-03-23T13:43:43.333Z"
   },
   {
    "duration": 72,
    "start_time": "2023-03-23T13:43:44.042Z"
   },
   {
    "duration": 61,
    "start_time": "2023-03-23T13:43:44.401Z"
   },
   {
    "duration": 65,
    "start_time": "2023-03-23T13:43:44.818Z"
   },
   {
    "duration": 6,
    "start_time": "2023-03-23T13:43:45.611Z"
   },
   {
    "duration": 6,
    "start_time": "2023-03-23T13:43:46.018Z"
   },
   {
    "duration": 460,
    "start_time": "2023-03-23T13:43:46.402Z"
   },
   {
    "duration": 35,
    "start_time": "2023-03-23T13:43:47.474Z"
   },
   {
    "duration": 98,
    "start_time": "2023-03-23T13:43:48.091Z"
   },
   {
    "duration": 73,
    "start_time": "2023-03-23T13:43:48.663Z"
   },
   {
    "duration": 105,
    "start_time": "2023-03-23T13:43:48.940Z"
   },
   {
    "duration": 18,
    "start_time": "2023-03-23T13:43:49.571Z"
   },
   {
    "duration": 21,
    "start_time": "2023-03-23T13:43:49.804Z"
   },
   {
    "duration": 11,
    "start_time": "2023-03-23T13:43:50.068Z"
   },
   {
    "duration": 34,
    "start_time": "2023-03-23T13:43:50.604Z"
   },
   {
    "duration": 16,
    "start_time": "2023-03-23T13:43:50.826Z"
   },
   {
    "duration": 130,
    "start_time": "2023-03-23T13:43:51.588Z"
   },
   {
    "duration": 92,
    "start_time": "2023-03-23T13:43:52.368Z"
   },
   {
    "duration": 0,
    "start_time": "2023-03-23T13:48:13.121Z"
   },
   {
    "duration": 50,
    "start_time": "2023-03-23T13:48:14.450Z"
   },
   {
    "duration": 0,
    "start_time": "2023-03-23T13:48:18.403Z"
   },
   {
    "duration": 2630,
    "start_time": "2023-03-23T13:48:28.609Z"
   },
   {
    "duration": 0,
    "start_time": "2023-03-23T13:48:31.242Z"
   },
   {
    "duration": 0,
    "start_time": "2023-03-23T13:48:31.243Z"
   },
   {
    "duration": 160,
    "start_time": "2023-03-23T13:48:54.738Z"
   },
   {
    "duration": 74,
    "start_time": "2023-03-23T13:48:56.970Z"
   },
   {
    "duration": 76,
    "start_time": "2023-03-23T13:48:57.577Z"
   },
   {
    "duration": 55,
    "start_time": "2023-03-23T13:48:58.465Z"
   },
   {
    "duration": 27,
    "start_time": "2023-03-23T13:58:33.568Z"
   },
   {
    "duration": 372,
    "start_time": "2023-03-23T14:26:55.986Z"
   },
   {
    "duration": 298,
    "start_time": "2023-03-23T14:27:12.833Z"
   },
   {
    "duration": 322,
    "start_time": "2023-03-23T14:28:02.625Z"
   },
   {
    "duration": 12,
    "start_time": "2023-03-23T14:28:28.234Z"
   },
   {
    "duration": 381,
    "start_time": "2023-03-23T14:28:35.089Z"
   },
   {
    "duration": 12,
    "start_time": "2023-03-23T14:35:29.712Z"
   },
   {
    "duration": 13,
    "start_time": "2023-03-23T14:36:22.647Z"
   },
   {
    "duration": 12,
    "start_time": "2023-03-23T14:37:03.888Z"
   },
   {
    "duration": 18,
    "start_time": "2023-03-23T14:37:36.364Z"
   },
   {
    "duration": 12,
    "start_time": "2023-03-23T14:37:42.390Z"
   },
   {
    "duration": 9,
    "start_time": "2023-03-23T14:38:23.561Z"
   },
   {
    "duration": 138,
    "start_time": "2023-03-23T14:38:27.103Z"
   },
   {
    "duration": 9,
    "start_time": "2023-03-23T14:38:35.895Z"
   },
   {
    "duration": 9,
    "start_time": "2023-03-23T14:38:37.962Z"
   },
   {
    "duration": 10,
    "start_time": "2023-03-23T14:45:06.182Z"
   },
   {
    "duration": 11,
    "start_time": "2023-03-23T14:45:11.233Z"
   },
   {
    "duration": 9,
    "start_time": "2023-03-23T14:45:23.493Z"
   },
   {
    "duration": 289,
    "start_time": "2023-03-23T14:45:29.404Z"
   },
   {
    "duration": 268,
    "start_time": "2023-03-23T14:59:16.098Z"
   },
   {
    "duration": 12,
    "start_time": "2023-03-23T15:00:16.273Z"
   },
   {
    "duration": 253,
    "start_time": "2023-03-23T15:00:35.755Z"
   },
   {
    "duration": 216,
    "start_time": "2023-03-23T15:01:21.802Z"
   },
   {
    "duration": 531,
    "start_time": "2023-03-23T15:02:22.833Z"
   },
   {
    "duration": 193,
    "start_time": "2023-03-23T15:03:20.049Z"
   },
   {
    "duration": 990,
    "start_time": "2023-03-23T15:03:48.337Z"
   },
   {
    "duration": 9,
    "start_time": "2023-03-23T15:04:16.456Z"
   },
   {
    "duration": 10,
    "start_time": "2023-03-23T15:04:18.697Z"
   },
   {
    "duration": 9,
    "start_time": "2023-03-23T15:04:34.529Z"
   },
   {
    "duration": 10,
    "start_time": "2023-03-23T15:04:35.937Z"
   },
   {
    "duration": 11,
    "start_time": "2023-03-23T15:04:47.264Z"
   },
   {
    "duration": 168,
    "start_time": "2023-03-23T15:05:13.104Z"
   },
   {
    "duration": 11,
    "start_time": "2023-03-23T15:14:19.397Z"
   },
   {
    "duration": 20,
    "start_time": "2023-03-23T15:14:49.805Z"
   },
   {
    "duration": 20,
    "start_time": "2023-03-23T15:14:51.575Z"
   },
   {
    "duration": 190,
    "start_time": "2023-03-23T15:15:05.287Z"
   },
   {
    "duration": 312,
    "start_time": "2023-03-23T15:15:20.934Z"
   },
   {
    "duration": 31,
    "start_time": "2023-03-23T15:15:39.958Z"
   },
   {
    "duration": 30,
    "start_time": "2023-03-23T15:15:53.126Z"
   },
   {
    "duration": 30,
    "start_time": "2023-03-23T15:16:05.974Z"
   },
   {
    "duration": 153,
    "start_time": "2023-03-23T15:16:15.438Z"
   },
   {
    "duration": 664,
    "start_time": "2023-03-23T15:19:09.581Z"
   },
   {
    "duration": 112,
    "start_time": "2023-03-23T15:19:28.430Z"
   },
   {
    "duration": 434,
    "start_time": "2023-03-23T15:19:33.493Z"
   },
   {
    "duration": 646,
    "start_time": "2023-03-23T15:19:49.325Z"
   },
   {
    "duration": 456,
    "start_time": "2023-03-23T15:20:54.422Z"
   },
   {
    "duration": 90,
    "start_time": "2023-03-23T15:21:14.030Z"
   },
   {
    "duration": 79,
    "start_time": "2023-03-23T15:22:17.130Z"
   },
   {
    "duration": 195,
    "start_time": "2023-03-23T15:22:23.437Z"
   },
   {
    "duration": 90,
    "start_time": "2023-03-23T15:29:51.659Z"
   },
   {
    "duration": 10,
    "start_time": "2023-03-23T15:31:08.490Z"
   },
   {
    "duration": 73,
    "start_time": "2023-03-23T15:32:27.083Z"
   },
   {
    "duration": 80,
    "start_time": "2023-03-23T15:32:43.610Z"
   },
   {
    "duration": 75,
    "start_time": "2023-03-23T15:34:54.585Z"
   },
   {
    "duration": 117,
    "start_time": "2023-03-23T15:34:59.409Z"
   },
   {
    "duration": 127,
    "start_time": "2023-03-23T15:35:55.586Z"
   },
   {
    "duration": 75,
    "start_time": "2023-03-23T15:37:42.425Z"
   },
   {
    "duration": 84,
    "start_time": "2023-03-23T15:38:35.678Z"
   },
   {
    "duration": 86,
    "start_time": "2023-03-23T15:38:42.185Z"
   },
   {
    "duration": 138,
    "start_time": "2023-03-23T15:39:10.939Z"
   },
   {
    "duration": 80,
    "start_time": "2023-03-23T15:39:19.848Z"
   },
   {
    "duration": 1173,
    "start_time": "2023-03-23T15:39:55.544Z"
   },
   {
    "duration": 10,
    "start_time": "2023-03-23T15:40:07.616Z"
   },
   {
    "duration": 373,
    "start_time": "2023-03-23T15:40:29.144Z"
   },
   {
    "duration": 285,
    "start_time": "2023-03-23T15:40:40.617Z"
   },
   {
    "duration": 9,
    "start_time": "2023-03-23T15:40:51.705Z"
   },
   {
    "duration": 91,
    "start_time": "2023-03-23T15:41:04.014Z"
   },
   {
    "duration": 182,
    "start_time": "2023-03-23T15:45:03.992Z"
   },
   {
    "duration": 4,
    "start_time": "2023-03-23T15:45:41.415Z"
   },
   {
    "duration": 14,
    "start_time": "2023-03-23T15:47:38.853Z"
   },
   {
    "duration": 10,
    "start_time": "2023-03-23T15:48:23.134Z"
   },
   {
    "duration": 11,
    "start_time": "2023-03-23T15:48:55.342Z"
   },
   {
    "duration": 134,
    "start_time": "2023-03-23T15:49:23.278Z"
   },
   {
    "duration": 80,
    "start_time": "2023-03-23T15:52:27.658Z"
   },
   {
    "duration": 9,
    "start_time": "2023-03-23T15:52:32.773Z"
   },
   {
    "duration": 9,
    "start_time": "2023-03-23T15:54:20.157Z"
   },
   {
    "duration": 9,
    "start_time": "2023-03-23T15:54:21.973Z"
   },
   {
    "duration": 9,
    "start_time": "2023-03-23T15:54:23.829Z"
   },
   {
    "duration": 88,
    "start_time": "2023-03-23T15:54:28.281Z"
   },
   {
    "duration": 9,
    "start_time": "2023-03-23T15:54:29.667Z"
   },
   {
    "duration": 13,
    "start_time": "2023-03-23T15:55:45.350Z"
   },
   {
    "duration": 85,
    "start_time": "2023-03-23T15:57:32.747Z"
   },
   {
    "duration": 85,
    "start_time": "2023-03-23T15:57:39.460Z"
   },
   {
    "duration": 95,
    "start_time": "2023-03-23T15:58:28.380Z"
   },
   {
    "duration": 64,
    "start_time": "2023-03-23T15:59:59.012Z"
   },
   {
    "duration": 15,
    "start_time": "2023-03-23T16:00:19.907Z"
   },
   {
    "duration": 61,
    "start_time": "2023-03-23T16:00:53.652Z"
   },
   {
    "duration": 360,
    "start_time": "2023-03-23T16:04:20.298Z"
   },
   {
    "duration": 62,
    "start_time": "2023-03-23T16:04:29.075Z"
   },
   {
    "duration": 64,
    "start_time": "2023-03-23T16:04:34.794Z"
   },
   {
    "duration": 60,
    "start_time": "2023-03-23T16:04:39.674Z"
   },
   {
    "duration": 31,
    "start_time": "2023-03-23T16:08:57.361Z"
   },
   {
    "duration": 330,
    "start_time": "2023-03-23T16:09:49.666Z"
   },
   {
    "duration": 53,
    "start_time": "2023-03-23T16:09:56.473Z"
   },
   {
    "duration": 53,
    "start_time": "2023-03-23T16:12:02.154Z"
   },
   {
    "duration": 53,
    "start_time": "2023-03-23T16:12:10.061Z"
   },
   {
    "duration": 28,
    "start_time": "2023-03-23T16:14:32.657Z"
   },
   {
    "duration": 27,
    "start_time": "2023-03-23T16:14:35.055Z"
   },
   {
    "duration": 8,
    "start_time": "2023-03-23T16:14:39.161Z"
   },
   {
    "duration": 6,
    "start_time": "2023-03-23T16:14:46.112Z"
   },
   {
    "duration": 12,
    "start_time": "2023-03-23T16:14:48.816Z"
   },
   {
    "duration": 26,
    "start_time": "2023-03-23T16:15:03.576Z"
   },
   {
    "duration": 274,
    "start_time": "2023-03-23T16:15:08.217Z"
   },
   {
    "duration": 83,
    "start_time": "2023-03-23T16:15:12.857Z"
   },
   {
    "duration": 95,
    "start_time": "2023-03-23T16:15:14.768Z"
   },
   {
    "duration": 84,
    "start_time": "2023-03-23T16:15:17.480Z"
   },
   {
    "duration": 54,
    "start_time": "2023-03-23T16:15:19.576Z"
   },
   {
    "duration": 15,
    "start_time": "2023-03-23T16:15:40.200Z"
   },
   {
    "duration": 7,
    "start_time": "2023-03-23T16:15:43.336Z"
   },
   {
    "duration": 13,
    "start_time": "2023-03-23T16:15:45.828Z"
   },
   {
    "duration": 29,
    "start_time": "2023-03-23T16:15:58.017Z"
   },
   {
    "duration": 7,
    "start_time": "2023-03-23T16:16:03.785Z"
   },
   {
    "duration": 17,
    "start_time": "2023-03-23T16:16:23.985Z"
   },
   {
    "duration": 17,
    "start_time": "2023-03-23T16:18:29.871Z"
   },
   {
    "duration": 19,
    "start_time": "2023-03-23T16:19:00.952Z"
   },
   {
    "duration": 31,
    "start_time": "2023-03-23T16:20:46.361Z"
   },
   {
    "duration": 8,
    "start_time": "2023-03-23T16:36:00.779Z"
   },
   {
    "duration": 157,
    "start_time": "2023-03-23T16:40:14.731Z"
   },
   {
    "duration": 76,
    "start_time": "2023-03-23T16:40:23.932Z"
   },
   {
    "duration": 8,
    "start_time": "2023-03-23T16:40:51.531Z"
   },
   {
    "duration": 4,
    "start_time": "2023-03-23T16:42:13.865Z"
   },
   {
    "duration": 46,
    "start_time": "2023-03-23T16:42:17.410Z"
   },
   {
    "duration": 62,
    "start_time": "2023-03-23T16:45:08.049Z"
   },
   {
    "duration": 56,
    "start_time": "2023-03-23T16:45:17.809Z"
   },
   {
    "duration": 97,
    "start_time": "2023-03-23T17:38:01.149Z"
   },
   {
    "duration": 120,
    "start_time": "2023-03-23T17:38:47.203Z"
   },
   {
    "duration": 71,
    "start_time": "2023-03-23T17:38:54.901Z"
   },
   {
    "duration": 120,
    "start_time": "2023-03-23T17:39:03.500Z"
   },
   {
    "duration": 40,
    "start_time": "2023-03-23T17:39:41.205Z"
   },
   {
    "duration": 8,
    "start_time": "2023-03-23T17:44:53.212Z"
   },
   {
    "duration": 45,
    "start_time": "2023-03-23T17:44:57.860Z"
   },
   {
    "duration": 39,
    "start_time": "2023-03-23T17:46:34.789Z"
   },
   {
    "duration": 41,
    "start_time": "2023-03-23T17:46:38.226Z"
   },
   {
    "duration": 55,
    "start_time": "2023-03-23T17:46:56.693Z"
   },
   {
    "duration": 40,
    "start_time": "2023-03-23T17:46:58.580Z"
   },
   {
    "duration": 46,
    "start_time": "2023-03-23T17:47:00.547Z"
   },
   {
    "duration": 48,
    "start_time": "2023-03-23T17:47:12.081Z"
   },
   {
    "duration": 11,
    "start_time": "2023-03-23T17:50:41.042Z"
   },
   {
    "duration": 9,
    "start_time": "2023-03-23T17:51:15.451Z"
   },
   {
    "duration": 9,
    "start_time": "2023-03-23T17:51:30.506Z"
   },
   {
    "duration": 66,
    "start_time": "2023-03-23T17:54:02.917Z"
   },
   {
    "duration": 88,
    "start_time": "2023-03-23T17:56:32.242Z"
   },
   {
    "duration": 12,
    "start_time": "2023-03-23T17:56:42.402Z"
   },
   {
    "duration": 22,
    "start_time": "2023-03-23T18:05:54.195Z"
   },
   {
    "duration": 4,
    "start_time": "2023-03-23T18:06:01.936Z"
   },
   {
    "duration": 588,
    "start_time": "2023-03-23T18:06:18.847Z"
   },
   {
    "duration": 1491,
    "start_time": "2023-03-23T18:06:27.744Z"
   },
   {
    "duration": 1437,
    "start_time": "2023-03-23T18:10:06.792Z"
   },
   {
    "duration": 228,
    "start_time": "2023-03-23T18:16:16.935Z"
   },
   {
    "duration": 212,
    "start_time": "2023-03-23T18:17:07.109Z"
   },
   {
    "duration": 233,
    "start_time": "2023-03-23T18:17:37.365Z"
   },
   {
    "duration": 211,
    "start_time": "2023-03-23T18:17:58.302Z"
   },
   {
    "duration": 25,
    "start_time": "2023-03-23T18:18:49.794Z"
   },
   {
    "duration": 43,
    "start_time": "2023-03-23T18:19:01.574Z"
   },
   {
    "duration": 23,
    "start_time": "2023-03-23T18:19:09.009Z"
   },
   {
    "duration": 23,
    "start_time": "2023-03-23T18:19:28.021Z"
   },
   {
    "duration": 27,
    "start_time": "2023-03-23T18:19:39.796Z"
   },
   {
    "duration": 89,
    "start_time": "2023-03-23T18:21:32.622Z"
   },
   {
    "duration": 96,
    "start_time": "2023-03-23T18:21:37.469Z"
   },
   {
    "duration": 34,
    "start_time": "2023-03-23T18:21:44.045Z"
   },
   {
    "duration": 22,
    "start_time": "2023-03-23T18:22:48.837Z"
   },
   {
    "duration": 21,
    "start_time": "2023-03-23T18:22:50.926Z"
   },
   {
    "duration": 27,
    "start_time": "2023-03-23T18:23:01.675Z"
   },
   {
    "duration": 31,
    "start_time": "2023-03-23T18:23:50.872Z"
   },
   {
    "duration": 401,
    "start_time": "2023-03-23T18:25:47.289Z"
   },
   {
    "duration": 24,
    "start_time": "2023-03-23T18:26:07.289Z"
   },
   {
    "duration": 293,
    "start_time": "2023-03-23T18:26:14.741Z"
   },
   {
    "duration": 260,
    "start_time": "2023-03-23T18:26:41.331Z"
   },
   {
    "duration": 50,
    "start_time": "2023-03-23T18:26:53.764Z"
   },
   {
    "duration": 332,
    "start_time": "2023-03-23T18:26:59.375Z"
   },
   {
    "duration": 136,
    "start_time": "2023-03-23T18:27:27.683Z"
   },
   {
    "duration": 16,
    "start_time": "2023-03-23T18:27:38.019Z"
   },
   {
    "duration": 18,
    "start_time": "2023-03-23T18:27:39.629Z"
   },
   {
    "duration": 147,
    "start_time": "2023-03-23T18:27:45.836Z"
   },
   {
    "duration": 42,
    "start_time": "2023-03-26T09:15:46.897Z"
   },
   {
    "duration": 5,
    "start_time": "2023-03-26T09:16:00.460Z"
   },
   {
    "duration": 7,
    "start_time": "2023-03-26T09:16:11.479Z"
   },
   {
    "duration": 1255,
    "start_time": "2023-03-26T09:22:03.674Z"
   },
   {
    "duration": 399,
    "start_time": "2023-03-26T09:22:04.930Z"
   },
   {
    "duration": 10,
    "start_time": "2023-03-26T09:22:05.331Z"
   },
   {
    "duration": 20,
    "start_time": "2023-03-26T09:22:05.342Z"
   },
   {
    "duration": 10,
    "start_time": "2023-03-26T09:22:05.363Z"
   },
   {
    "duration": 29,
    "start_time": "2023-03-26T09:22:05.374Z"
   },
   {
    "duration": 148,
    "start_time": "2023-03-26T09:22:05.404Z"
   },
   {
    "duration": 21,
    "start_time": "2023-03-26T09:22:05.553Z"
   },
   {
    "duration": 12,
    "start_time": "2023-03-26T09:22:05.575Z"
   },
   {
    "duration": 3,
    "start_time": "2023-03-26T09:22:09.940Z"
   },
   {
    "duration": 217,
    "start_time": "2023-03-26T09:22:10.420Z"
   },
   {
    "duration": 8,
    "start_time": "2023-03-26T09:22:10.965Z"
   },
   {
    "duration": 7,
    "start_time": "2023-03-26T09:22:10.997Z"
   },
   {
    "duration": 10,
    "start_time": "2023-03-26T09:22:11.030Z"
   },
   {
    "duration": 29,
    "start_time": "2023-03-26T09:22:11.060Z"
   },
   {
    "duration": 129,
    "start_time": "2023-03-26T09:22:11.094Z"
   },
   {
    "duration": 8,
    "start_time": "2023-03-26T09:22:11.524Z"
   },
   {
    "duration": 10,
    "start_time": "2023-03-26T09:22:11.788Z"
   },
   {
    "duration": 6,
    "start_time": "2023-03-26T09:22:12.051Z"
   },
   {
    "duration": 16,
    "start_time": "2023-03-26T09:22:12.308Z"
   },
   {
    "duration": 10,
    "start_time": "2023-03-26T09:22:13.032Z"
   },
   {
    "duration": 22,
    "start_time": "2023-03-26T09:22:13.261Z"
   },
   {
    "duration": 5,
    "start_time": "2023-03-26T09:22:13.485Z"
   },
   {
    "duration": 4,
    "start_time": "2023-03-26T09:22:14.140Z"
   },
   {
    "duration": 68,
    "start_time": "2023-03-26T09:22:14.348Z"
   },
   {
    "duration": 9,
    "start_time": "2023-03-26T09:22:14.579Z"
   },
   {
    "duration": 4,
    "start_time": "2023-03-26T09:22:15.253Z"
   },
   {
    "duration": 24,
    "start_time": "2023-03-26T09:22:15.476Z"
   },
   {
    "duration": 7,
    "start_time": "2023-03-26T09:22:16.228Z"
   },
   {
    "duration": 23,
    "start_time": "2023-03-26T09:22:16.716Z"
   },
   {
    "duration": 26,
    "start_time": "2023-03-26T09:22:17.451Z"
   },
   {
    "duration": 32,
    "start_time": "2023-03-26T09:22:17.964Z"
   },
   {
    "duration": 124,
    "start_time": "2023-03-26T09:22:18.620Z"
   },
   {
    "duration": 42,
    "start_time": "2023-03-26T09:22:18.860Z"
   },
   {
    "duration": 45,
    "start_time": "2023-03-26T09:22:19.100Z"
   },
   {
    "duration": 44,
    "start_time": "2023-03-26T09:22:19.604Z"
   },
   {
    "duration": 5,
    "start_time": "2023-03-26T09:22:20.653Z"
   },
   {
    "duration": 4,
    "start_time": "2023-03-26T09:22:20.844Z"
   },
   {
    "duration": 1101,
    "start_time": "2023-03-26T09:22:21.172Z"
   },
   {
    "duration": 14,
    "start_time": "2023-03-26T09:22:22.275Z"
   },
   {
    "duration": 91,
    "start_time": "2023-03-26T09:22:22.290Z"
   },
   {
    "duration": 13,
    "start_time": "2023-03-26T09:22:23.228Z"
   },
   {
    "duration": 20,
    "start_time": "2023-03-26T09:22:23.748Z"
   },
   {
    "duration": 10,
    "start_time": "2023-03-26T09:22:24.124Z"
   },
   {
    "duration": 6,
    "start_time": "2023-03-26T09:22:24.404Z"
   },
   {
    "duration": 12,
    "start_time": "2023-03-26T09:23:00.069Z"
   },
   {
    "duration": 68,
    "start_time": "2023-03-26T09:23:03.805Z"
   },
   {
    "duration": 65,
    "start_time": "2023-03-26T09:23:55.989Z"
   },
   {
    "duration": 174,
    "start_time": "2023-03-26T09:24:20.812Z"
   },
   {
    "duration": 170,
    "start_time": "2023-03-26T09:25:22.076Z"
   },
   {
    "duration": 220,
    "start_time": "2023-03-26T09:25:59.455Z"
   },
   {
    "duration": 174,
    "start_time": "2023-03-26T09:26:22.684Z"
   },
   {
    "duration": 9,
    "start_time": "2023-03-26T09:28:37.451Z"
   },
   {
    "duration": 9,
    "start_time": "2023-03-26T09:29:04.763Z"
   },
   {
    "duration": 174,
    "start_time": "2023-03-26T09:29:26.147Z"
   },
   {
    "duration": 175,
    "start_time": "2023-03-26T09:29:46.554Z"
   },
   {
    "duration": 9,
    "start_time": "2023-03-26T09:30:21.644Z"
   },
   {
    "duration": 174,
    "start_time": "2023-03-26T09:30:23.371Z"
   },
   {
    "duration": 175,
    "start_time": "2023-03-26T09:30:27.222Z"
   },
   {
    "duration": 8,
    "start_time": "2023-03-26T09:30:29.387Z"
   },
   {
    "duration": 4,
    "start_time": "2023-03-26T09:30:32.395Z"
   },
   {
    "duration": 190,
    "start_time": "2023-03-26T09:30:33.738Z"
   },
   {
    "duration": 8,
    "start_time": "2023-03-26T09:32:54.531Z"
   },
   {
    "duration": 15,
    "start_time": "2023-03-26T09:35:43.397Z"
   },
   {
    "duration": 8,
    "start_time": "2023-03-26T09:46:59.776Z"
   },
   {
    "duration": 37,
    "start_time": "2023-03-26T09:47:11.926Z"
   },
   {
    "duration": 57,
    "start_time": "2023-03-26T09:47:34.894Z"
   },
   {
    "duration": 12,
    "start_time": "2023-03-26T09:47:45.143Z"
   },
   {
    "duration": 69,
    "start_time": "2023-03-26T09:59:34.452Z"
   },
   {
    "duration": 4,
    "start_time": "2023-03-26T10:00:58.444Z"
   },
   {
    "duration": 4,
    "start_time": "2023-03-26T10:00:59.700Z"
   },
   {
    "duration": 8,
    "start_time": "2023-03-26T10:01:14.844Z"
   },
   {
    "duration": 1097,
    "start_time": "2023-03-26T10:02:49.611Z"
   },
   {
    "duration": 836,
    "start_time": "2023-03-26T10:03:33.262Z"
   },
   {
    "duration": 236,
    "start_time": "2023-03-26T10:05:07.666Z"
   },
   {
    "duration": 1016,
    "start_time": "2023-03-26T10:05:10.907Z"
   },
   {
    "duration": 1618,
    "start_time": "2023-03-26T10:05:13.755Z"
   },
   {
    "duration": 1283,
    "start_time": "2023-03-26T10:16:53.208Z"
   },
   {
    "duration": 484,
    "start_time": "2023-03-26T10:18:03.064Z"
   },
   {
    "duration": 1815,
    "start_time": "2023-03-26T10:18:44.704Z"
   },
   {
    "duration": 0,
    "start_time": "2023-03-26T10:18:48.438Z"
   },
   {
    "duration": 1630,
    "start_time": "2023-03-26T10:18:52.111Z"
   },
   {
    "duration": 3,
    "start_time": "2023-03-26T10:19:46.222Z"
   },
   {
    "duration": 670,
    "start_time": "2023-03-26T10:19:57.856Z"
   },
   {
    "duration": 4208,
    "start_time": "2023-03-26T10:20:02.254Z"
   },
   {
    "duration": 55,
    "start_time": "2023-03-26T10:20:32.639Z"
   },
   {
    "duration": 220,
    "start_time": "2023-03-26T10:20:35.408Z"
   },
   {
    "duration": 14,
    "start_time": "2023-03-26T10:20:55.117Z"
   },
   {
    "duration": 203,
    "start_time": "2023-03-26T10:26:21.663Z"
   },
   {
    "duration": 14,
    "start_time": "2023-03-26T10:26:30.421Z"
   },
   {
    "duration": 200,
    "start_time": "2023-03-26T10:31:22.521Z"
   },
   {
    "duration": 203,
    "start_time": "2023-03-26T10:31:27.300Z"
   },
   {
    "duration": 214,
    "start_time": "2023-03-26T10:31:29.813Z"
   },
   {
    "duration": 15,
    "start_time": "2023-03-26T10:31:31.427Z"
   },
   {
    "duration": 205,
    "start_time": "2023-03-26T10:31:43.988Z"
   },
   {
    "duration": 235,
    "start_time": "2023-03-26T10:31:45.980Z"
   },
   {
    "duration": 16,
    "start_time": "2023-03-26T10:31:47.172Z"
   },
   {
    "duration": 234,
    "start_time": "2023-03-26T10:32:02.150Z"
   },
   {
    "duration": 206,
    "start_time": "2023-03-26T10:32:04.204Z"
   },
   {
    "duration": 14,
    "start_time": "2023-03-26T10:32:06.853Z"
   },
   {
    "duration": 199,
    "start_time": "2023-03-26T10:32:24.156Z"
   },
   {
    "duration": 217,
    "start_time": "2023-03-26T10:32:26.148Z"
   },
   {
    "duration": 14,
    "start_time": "2023-03-26T10:32:27.637Z"
   },
   {
    "duration": 8,
    "start_time": "2023-03-26T10:40:37.059Z"
   },
   {
    "duration": 8,
    "start_time": "2023-03-26T10:40:42.754Z"
   },
   {
    "duration": 64,
    "start_time": "2023-03-26T10:40:47.058Z"
   },
   {
    "duration": 9,
    "start_time": "2023-03-26T10:40:48.986Z"
   },
   {
    "duration": 11,
    "start_time": "2023-03-26T10:44:27.984Z"
   },
   {
    "duration": 77,
    "start_time": "2023-03-26T10:54:40.655Z"
   },
   {
    "duration": 169,
    "start_time": "2023-03-26T10:54:42.215Z"
   },
   {
    "duration": 18,
    "start_time": "2023-03-26T10:54:46.255Z"
   },
   {
    "duration": 11,
    "start_time": "2023-03-26T10:54:48.524Z"
   },
   {
    "duration": 49,
    "start_time": "2023-03-26T10:54:50.543Z"
   },
   {
    "duration": 8,
    "start_time": "2023-03-26T10:54:52.271Z"
   },
   {
    "duration": 125,
    "start_time": "2023-03-26T10:55:12.560Z"
   },
   {
    "duration": 115,
    "start_time": "2023-03-26T10:56:04.294Z"
   },
   {
    "duration": 8,
    "start_time": "2023-03-26T10:57:15.856Z"
   },
   {
    "duration": 8,
    "start_time": "2023-03-26T10:58:38.454Z"
   },
   {
    "duration": 67,
    "start_time": "2023-03-26T10:59:27.278Z"
   },
   {
    "duration": 7,
    "start_time": "2023-03-26T10:59:29.926Z"
   },
   {
    "duration": 11,
    "start_time": "2023-03-26T10:59:38.783Z"
   },
   {
    "duration": 9,
    "start_time": "2023-03-26T11:01:38.805Z"
   },
   {
    "duration": 8,
    "start_time": "2023-03-26T11:09:03.900Z"
   },
   {
    "duration": 67,
    "start_time": "2023-03-26T11:09:05.860Z"
   },
   {
    "duration": 49,
    "start_time": "2023-03-26T11:09:09.388Z"
   },
   {
    "duration": 8,
    "start_time": "2023-03-26T11:09:11.164Z"
   },
   {
    "duration": 7,
    "start_time": "2023-03-26T11:09:21.644Z"
   },
   {
    "duration": 48,
    "start_time": "2023-03-26T11:19:54.449Z"
   },
   {
    "duration": 65,
    "start_time": "2023-03-26T11:22:05.544Z"
   },
   {
    "duration": 272,
    "start_time": "2023-03-26T11:22:22.697Z"
   },
   {
    "duration": 55,
    "start_time": "2023-03-26T11:23:18.072Z"
   },
   {
    "duration": 53,
    "start_time": "2023-03-26T11:23:21.065Z"
   },
   {
    "duration": 12,
    "start_time": "2023-03-26T11:23:30.034Z"
   },
   {
    "duration": 12,
    "start_time": "2023-03-26T11:23:51.088Z"
   },
   {
    "duration": 67,
    "start_time": "2023-03-26T14:05:24.060Z"
   },
   {
    "duration": 7,
    "start_time": "2023-03-26T14:05:25.922Z"
   },
   {
    "duration": 3,
    "start_time": "2023-03-26T14:05:39.961Z"
   },
   {
    "duration": 207,
    "start_time": "2023-03-26T14:05:40.377Z"
   },
   {
    "duration": 10,
    "start_time": "2023-03-26T14:05:40.809Z"
   },
   {
    "duration": 7,
    "start_time": "2023-03-26T14:05:41.017Z"
   },
   {
    "duration": 10,
    "start_time": "2023-03-26T14:05:41.241Z"
   },
   {
    "duration": 25,
    "start_time": "2023-03-26T14:05:41.481Z"
   },
   {
    "duration": 131,
    "start_time": "2023-03-26T14:05:41.689Z"
   },
   {
    "duration": 7,
    "start_time": "2023-03-26T14:05:41.889Z"
   },
   {
    "duration": 9,
    "start_time": "2023-03-26T14:05:42.105Z"
   },
   {
    "duration": 6,
    "start_time": "2023-03-26T14:05:42.362Z"
   },
   {
    "duration": 16,
    "start_time": "2023-03-26T14:05:42.603Z"
   },
   {
    "duration": 5,
    "start_time": "2023-03-26T14:05:43.274Z"
   },
   {
    "duration": 22,
    "start_time": "2023-03-26T14:05:43.513Z"
   },
   {
    "duration": 6,
    "start_time": "2023-03-26T14:05:43.760Z"
   },
   {
    "duration": 5,
    "start_time": "2023-03-26T14:05:44.441Z"
   },
   {
    "duration": 81,
    "start_time": "2023-03-26T14:05:44.656Z"
   },
   {
    "duration": 8,
    "start_time": "2023-03-26T14:05:44.866Z"
   },
   {
    "duration": 3,
    "start_time": "2023-03-26T14:05:45.521Z"
   },
   {
    "duration": 23,
    "start_time": "2023-03-26T14:05:45.754Z"
   },
   {
    "duration": 12,
    "start_time": "2023-03-26T14:05:46.461Z"
   },
   {
    "duration": 21,
    "start_time": "2023-03-26T14:05:46.913Z"
   },
   {
    "duration": 24,
    "start_time": "2023-03-26T14:05:47.601Z"
   },
   {
    "duration": 35,
    "start_time": "2023-03-26T14:05:48.095Z"
   },
   {
    "duration": 109,
    "start_time": "2023-03-26T14:05:48.793Z"
   },
   {
    "duration": 43,
    "start_time": "2023-03-26T14:05:49.049Z"
   },
   {
    "duration": 47,
    "start_time": "2023-03-26T14:05:49.369Z"
   },
   {
    "duration": 55,
    "start_time": "2023-03-26T14:05:50.050Z"
   },
   {
    "duration": 4,
    "start_time": "2023-03-26T14:05:50.657Z"
   },
   {
    "duration": 4,
    "start_time": "2023-03-26T14:05:50.945Z"
   },
   {
    "duration": 66,
    "start_time": "2023-03-26T14:05:52.592Z"
   },
   {
    "duration": 86,
    "start_time": "2023-03-26T14:06:04.065Z"
   },
   {
    "duration": 8,
    "start_time": "2023-03-26T14:06:05.745Z"
   },
   {
    "duration": 7,
    "start_time": "2023-03-26T14:06:09.537Z"
   },
   {
    "duration": 42,
    "start_time": "2023-03-26T14:06:12.026Z"
   },
   {
    "duration": 9,
    "start_time": "2023-03-26T14:06:12.665Z"
   },
   {
    "duration": 7,
    "start_time": "2023-03-26T14:06:18.873Z"
   },
   {
    "duration": 8,
    "start_time": "2023-03-26T14:06:23.225Z"
   },
   {
    "duration": 8,
    "start_time": "2023-03-26T14:06:32.674Z"
   },
   {
    "duration": 7,
    "start_time": "2023-03-26T14:06:35.602Z"
   },
   {
    "duration": 8,
    "start_time": "2023-03-26T14:06:52.026Z"
   },
   {
    "duration": 7,
    "start_time": "2023-03-26T14:08:31.864Z"
   },
   {
    "duration": 1167,
    "start_time": "2023-03-26T14:08:42.662Z"
   },
   {
    "duration": 262,
    "start_time": "2023-03-26T14:08:43.830Z"
   },
   {
    "duration": 12,
    "start_time": "2023-03-26T14:08:44.094Z"
   },
   {
    "duration": 20,
    "start_time": "2023-03-26T14:08:44.107Z"
   },
   {
    "duration": 24,
    "start_time": "2023-03-26T14:08:44.130Z"
   },
   {
    "duration": 43,
    "start_time": "2023-03-26T14:08:44.156Z"
   },
   {
    "duration": 160,
    "start_time": "2023-03-26T14:08:44.201Z"
   },
   {
    "duration": 8,
    "start_time": "2023-03-26T14:08:44.363Z"
   },
   {
    "duration": 26,
    "start_time": "2023-03-26T14:08:44.373Z"
   },
   {
    "duration": 11,
    "start_time": "2023-03-26T14:08:44.402Z"
   },
   {
    "duration": 37,
    "start_time": "2023-03-26T14:08:44.415Z"
   },
   {
    "duration": 7,
    "start_time": "2023-03-26T14:08:44.454Z"
   },
   {
    "duration": 43,
    "start_time": "2023-03-26T14:08:44.463Z"
   },
   {
    "duration": 13,
    "start_time": "2023-03-26T14:08:44.510Z"
   },
   {
    "duration": 18,
    "start_time": "2023-03-26T14:08:44.525Z"
   },
   {
    "duration": 87,
    "start_time": "2023-03-26T14:08:44.549Z"
   },
   {
    "duration": 14,
    "start_time": "2023-03-26T14:08:44.638Z"
   },
   {
    "duration": 4,
    "start_time": "2023-03-26T14:08:44.654Z"
   },
   {
    "duration": 30,
    "start_time": "2023-03-26T14:08:44.660Z"
   },
   {
    "duration": 8,
    "start_time": "2023-03-26T14:08:44.692Z"
   },
   {
    "duration": 50,
    "start_time": "2023-03-26T14:08:44.701Z"
   },
   {
    "duration": 29,
    "start_time": "2023-03-26T14:08:44.752Z"
   },
   {
    "duration": 35,
    "start_time": "2023-03-26T14:08:44.783Z"
   },
   {
    "duration": 165,
    "start_time": "2023-03-26T14:08:44.819Z"
   },
   {
    "duration": 51,
    "start_time": "2023-03-26T14:08:44.985Z"
   },
   {
    "duration": 70,
    "start_time": "2023-03-26T14:08:45.039Z"
   },
   {
    "duration": 63,
    "start_time": "2023-03-26T14:08:45.111Z"
   },
   {
    "duration": 4,
    "start_time": "2023-03-26T14:08:45.176Z"
   },
   {
    "duration": 6,
    "start_time": "2023-03-26T14:08:45.181Z"
   },
   {
    "duration": 95,
    "start_time": "2023-03-26T14:08:45.188Z"
   },
   {
    "duration": 117,
    "start_time": "2023-03-26T14:08:45.284Z"
   },
   {
    "duration": 0,
    "start_time": "2023-03-26T14:08:45.402Z"
   },
   {
    "duration": 0,
    "start_time": "2023-03-26T14:08:45.403Z"
   },
   {
    "duration": 74,
    "start_time": "2023-03-26T14:09:09.391Z"
   },
   {
    "duration": 9,
    "start_time": "2023-03-26T14:09:09.887Z"
   },
   {
    "duration": 132,
    "start_time": "2023-03-26T14:09:11.551Z"
   },
   {
    "duration": 205,
    "start_time": "2023-03-26T14:09:11.966Z"
   },
   {
    "duration": 225,
    "start_time": "2023-03-26T14:09:14.919Z"
   },
   {
    "duration": 394,
    "start_time": "2023-03-26T14:11:55.526Z"
   },
   {
    "duration": 702,
    "start_time": "2023-03-26T14:12:24.023Z"
   },
   {
    "duration": 804,
    "start_time": "2023-03-26T14:12:54.302Z"
   },
   {
    "duration": 775,
    "start_time": "2023-03-26T14:13:00.478Z"
   },
   {
    "duration": 747,
    "start_time": "2023-03-26T14:13:13.582Z"
   },
   {
    "duration": 911,
    "start_time": "2023-03-26T14:13:46.574Z"
   },
   {
    "duration": 8,
    "start_time": "2023-03-26T14:14:37.126Z"
   },
   {
    "duration": 6,
    "start_time": "2023-03-26T14:23:27.711Z"
   },
   {
    "duration": 8,
    "start_time": "2023-03-26T14:23:29.723Z"
   },
   {
    "duration": 7,
    "start_time": "2023-03-26T14:23:34.343Z"
   },
   {
    "duration": 1168,
    "start_time": "2023-03-26T14:23:44.617Z"
   },
   {
    "duration": 227,
    "start_time": "2023-03-26T14:23:45.786Z"
   },
   {
    "duration": 10,
    "start_time": "2023-03-26T14:23:46.015Z"
   },
   {
    "duration": 26,
    "start_time": "2023-03-26T14:23:46.027Z"
   },
   {
    "duration": 19,
    "start_time": "2023-03-26T14:23:46.055Z"
   },
   {
    "duration": 33,
    "start_time": "2023-03-26T14:23:46.075Z"
   },
   {
    "duration": 131,
    "start_time": "2023-03-26T14:23:46.109Z"
   },
   {
    "duration": 11,
    "start_time": "2023-03-26T14:23:46.242Z"
   },
   {
    "duration": 9,
    "start_time": "2023-03-26T14:23:46.254Z"
   },
   {
    "duration": 6,
    "start_time": "2023-03-26T14:23:46.266Z"
   },
   {
    "duration": 18,
    "start_time": "2023-03-26T14:23:46.273Z"
   },
   {
    "duration": 5,
    "start_time": "2023-03-26T14:23:46.292Z"
   },
   {
    "duration": 32,
    "start_time": "2023-03-26T14:23:46.298Z"
   },
   {
    "duration": 6,
    "start_time": "2023-03-26T14:23:46.349Z"
   },
   {
    "duration": 9,
    "start_time": "2023-03-26T14:23:46.357Z"
   },
   {
    "duration": 62,
    "start_time": "2023-03-26T14:23:46.367Z"
   },
   {
    "duration": 25,
    "start_time": "2023-03-26T14:23:46.430Z"
   },
   {
    "duration": 7,
    "start_time": "2023-03-26T14:23:46.456Z"
   },
   {
    "duration": 31,
    "start_time": "2023-03-26T14:23:46.464Z"
   },
   {
    "duration": 7,
    "start_time": "2023-03-26T14:23:46.496Z"
   },
   {
    "duration": 25,
    "start_time": "2023-03-26T14:23:46.504Z"
   },
   {
    "duration": 46,
    "start_time": "2023-03-26T14:23:46.530Z"
   },
   {
    "duration": 32,
    "start_time": "2023-03-26T14:23:46.578Z"
   },
   {
    "duration": 142,
    "start_time": "2023-03-26T14:23:46.612Z"
   },
   {
    "duration": 41,
    "start_time": "2023-03-26T14:23:46.755Z"
   },
   {
    "duration": 62,
    "start_time": "2023-03-26T14:23:46.798Z"
   },
   {
    "duration": 48,
    "start_time": "2023-03-26T14:23:46.862Z"
   },
   {
    "duration": 4,
    "start_time": "2023-03-26T14:23:46.912Z"
   },
   {
    "duration": 8,
    "start_time": "2023-03-26T14:23:46.917Z"
   },
   {
    "duration": 95,
    "start_time": "2023-03-26T14:23:46.926Z"
   },
   {
    "duration": 149,
    "start_time": "2023-03-26T14:23:47.022Z"
   },
   {
    "duration": 306,
    "start_time": "2023-03-26T14:23:47.173Z"
   },
   {
    "duration": 206,
    "start_time": "2023-03-26T14:27:20.731Z"
   },
   {
    "duration": 106,
    "start_time": "2023-03-26T14:30:07.906Z"
   },
   {
    "duration": 37,
    "start_time": "2023-03-26T14:30:54.266Z"
   },
   {
    "duration": 1192,
    "start_time": "2023-03-26T14:32:16.335Z"
   },
   {
    "duration": 215,
    "start_time": "2023-03-26T14:32:17.530Z"
   },
   {
    "duration": 9,
    "start_time": "2023-03-26T14:32:17.746Z"
   },
   {
    "duration": 15,
    "start_time": "2023-03-26T14:32:17.756Z"
   },
   {
    "duration": 9,
    "start_time": "2023-03-26T14:32:17.772Z"
   },
   {
    "duration": 32,
    "start_time": "2023-03-26T14:32:17.783Z"
   },
   {
    "duration": 132,
    "start_time": "2023-03-26T14:32:17.817Z"
   },
   {
    "duration": 7,
    "start_time": "2023-03-26T14:32:17.951Z"
   },
   {
    "duration": 11,
    "start_time": "2023-03-26T14:32:17.959Z"
   },
   {
    "duration": 7,
    "start_time": "2023-03-26T14:32:17.971Z"
   },
   {
    "duration": 16,
    "start_time": "2023-03-26T14:32:17.979Z"
   },
   {
    "duration": 4,
    "start_time": "2023-03-26T14:32:17.997Z"
   },
   {
    "duration": 50,
    "start_time": "2023-03-26T14:32:18.002Z"
   },
   {
    "duration": 5,
    "start_time": "2023-03-26T14:32:18.054Z"
   },
   {
    "duration": 10,
    "start_time": "2023-03-26T14:32:18.060Z"
   },
   {
    "duration": 64,
    "start_time": "2023-03-26T14:32:18.071Z"
   },
   {
    "duration": 18,
    "start_time": "2023-03-26T14:32:18.136Z"
   },
   {
    "duration": 3,
    "start_time": "2023-03-26T14:32:18.156Z"
   },
   {
    "duration": 33,
    "start_time": "2023-03-26T14:32:18.160Z"
   },
   {
    "duration": 6,
    "start_time": "2023-03-26T14:32:18.195Z"
   },
   {
    "duration": 25,
    "start_time": "2023-03-26T14:32:18.203Z"
   },
   {
    "duration": 40,
    "start_time": "2023-03-26T14:32:18.229Z"
   },
   {
    "duration": 35,
    "start_time": "2023-03-26T14:32:18.271Z"
   },
   {
    "duration": 137,
    "start_time": "2023-03-26T14:32:18.307Z"
   },
   {
    "duration": 41,
    "start_time": "2023-03-26T14:32:18.448Z"
   },
   {
    "duration": 43,
    "start_time": "2023-03-26T14:32:18.491Z"
   },
   {
    "duration": 45,
    "start_time": "2023-03-26T14:32:18.548Z"
   },
   {
    "duration": 4,
    "start_time": "2023-03-26T14:32:18.594Z"
   },
   {
    "duration": 5,
    "start_time": "2023-03-26T14:32:18.599Z"
   },
   {
    "duration": 89,
    "start_time": "2023-03-26T14:32:18.605Z"
   },
   {
    "duration": 136,
    "start_time": "2023-03-26T14:32:18.695Z"
   },
   {
    "duration": 269,
    "start_time": "2023-03-26T14:32:18.832Z"
   },
   {
    "duration": 1024,
    "start_time": "2023-03-26T14:34:31.093Z"
   },
   {
    "duration": 219,
    "start_time": "2023-03-26T14:34:32.118Z"
   },
   {
    "duration": 10,
    "start_time": "2023-03-26T14:34:32.338Z"
   },
   {
    "duration": 26,
    "start_time": "2023-03-26T14:34:32.349Z"
   },
   {
    "duration": 24,
    "start_time": "2023-03-26T14:34:32.377Z"
   },
   {
    "duration": 26,
    "start_time": "2023-03-26T14:34:32.402Z"
   },
   {
    "duration": 143,
    "start_time": "2023-03-26T14:34:32.430Z"
   },
   {
    "duration": 7,
    "start_time": "2023-03-26T14:34:32.575Z"
   },
   {
    "duration": 14,
    "start_time": "2023-03-26T14:34:32.583Z"
   },
   {
    "duration": 12,
    "start_time": "2023-03-26T14:34:32.599Z"
   },
   {
    "duration": 27,
    "start_time": "2023-03-26T14:34:32.613Z"
   },
   {
    "duration": 5,
    "start_time": "2023-03-26T14:34:32.641Z"
   },
   {
    "duration": 30,
    "start_time": "2023-03-26T14:34:32.647Z"
   },
   {
    "duration": 18,
    "start_time": "2023-03-26T14:34:32.680Z"
   },
   {
    "duration": 7,
    "start_time": "2023-03-26T14:34:32.699Z"
   },
   {
    "duration": 69,
    "start_time": "2023-03-26T14:34:32.707Z"
   },
   {
    "duration": 9,
    "start_time": "2023-03-26T14:34:32.778Z"
   },
   {
    "duration": 4,
    "start_time": "2023-03-26T14:34:32.788Z"
   },
   {
    "duration": 28,
    "start_time": "2023-03-26T14:34:32.793Z"
   },
   {
    "duration": 7,
    "start_time": "2023-03-26T14:34:32.822Z"
   },
   {
    "duration": 43,
    "start_time": "2023-03-26T14:34:32.830Z"
   },
   {
    "duration": 27,
    "start_time": "2023-03-26T14:34:32.874Z"
   },
   {
    "duration": 48,
    "start_time": "2023-03-26T14:34:32.902Z"
   },
   {
    "duration": 130,
    "start_time": "2023-03-26T14:34:32.952Z"
   },
   {
    "duration": 42,
    "start_time": "2023-03-26T14:34:33.084Z"
   },
   {
    "duration": 58,
    "start_time": "2023-03-26T14:34:33.128Z"
   },
   {
    "duration": 44,
    "start_time": "2023-03-26T14:34:33.187Z"
   },
   {
    "duration": 18,
    "start_time": "2023-03-26T14:34:33.232Z"
   },
   {
    "duration": 4,
    "start_time": "2023-03-26T14:34:33.251Z"
   },
   {
    "duration": 72,
    "start_time": "2023-03-26T14:34:33.256Z"
   },
   {
    "duration": 157,
    "start_time": "2023-03-26T14:34:33.330Z"
   },
   {
    "duration": 274,
    "start_time": "2023-03-26T14:34:33.488Z"
   },
   {
    "duration": 1125,
    "start_time": "2023-03-26T14:36:57.172Z"
   },
   {
    "duration": 219,
    "start_time": "2023-03-26T14:36:58.299Z"
   },
   {
    "duration": 10,
    "start_time": "2023-03-26T14:36:58.520Z"
   },
   {
    "duration": 19,
    "start_time": "2023-03-26T14:36:58.531Z"
   },
   {
    "duration": 10,
    "start_time": "2023-03-26T14:36:58.552Z"
   },
   {
    "duration": 29,
    "start_time": "2023-03-26T14:36:58.563Z"
   },
   {
    "duration": 140,
    "start_time": "2023-03-26T14:36:58.593Z"
   },
   {
    "duration": 7,
    "start_time": "2023-03-26T14:36:58.734Z"
   },
   {
    "duration": 9,
    "start_time": "2023-03-26T14:36:58.748Z"
   },
   {
    "duration": 17,
    "start_time": "2023-03-26T14:36:58.758Z"
   },
   {
    "duration": 31,
    "start_time": "2023-03-26T14:36:58.776Z"
   },
   {
    "duration": 16,
    "start_time": "2023-03-26T14:36:58.808Z"
   },
   {
    "duration": 25,
    "start_time": "2023-03-26T14:36:58.825Z"
   },
   {
    "duration": 19,
    "start_time": "2023-03-26T14:36:58.854Z"
   },
   {
    "duration": 7,
    "start_time": "2023-03-26T14:36:58.874Z"
   },
   {
    "duration": 67,
    "start_time": "2023-03-26T14:36:58.882Z"
   },
   {
    "duration": 12,
    "start_time": "2023-03-26T14:36:58.950Z"
   },
   {
    "duration": 4,
    "start_time": "2023-03-26T14:36:58.964Z"
   },
   {
    "duration": 33,
    "start_time": "2023-03-26T14:36:58.970Z"
   },
   {
    "duration": 7,
    "start_time": "2023-03-26T14:36:59.005Z"
   },
   {
    "duration": 57,
    "start_time": "2023-03-26T14:36:59.014Z"
   },
   {
    "duration": 31,
    "start_time": "2023-03-26T14:36:59.072Z"
   },
   {
    "duration": 50,
    "start_time": "2023-03-26T14:36:59.104Z"
   },
   {
    "duration": 145,
    "start_time": "2023-03-26T14:36:59.156Z"
   },
   {
    "duration": 48,
    "start_time": "2023-03-26T14:36:59.303Z"
   },
   {
    "duration": 46,
    "start_time": "2023-03-26T14:36:59.353Z"
   },
   {
    "duration": 63,
    "start_time": "2023-03-26T14:36:59.401Z"
   },
   {
    "duration": 4,
    "start_time": "2023-03-26T14:36:59.466Z"
   },
   {
    "duration": 6,
    "start_time": "2023-03-26T14:36:59.471Z"
   },
   {
    "duration": 94,
    "start_time": "2023-03-26T14:36:59.478Z"
   },
   {
    "duration": 158,
    "start_time": "2023-03-26T14:36:59.574Z"
   },
   {
    "duration": 318,
    "start_time": "2023-03-26T14:36:59.733Z"
   },
   {
    "duration": 122,
    "start_time": "2023-03-26T14:37:00.052Z"
   },
   {
    "duration": 1116,
    "start_time": "2023-03-26T14:41:45.499Z"
   },
   {
    "duration": 216,
    "start_time": "2023-03-26T14:41:46.617Z"
   },
   {
    "duration": 9,
    "start_time": "2023-03-26T14:41:46.835Z"
   },
   {
    "duration": 10,
    "start_time": "2023-03-26T14:41:46.846Z"
   },
   {
    "duration": 12,
    "start_time": "2023-03-26T14:41:46.858Z"
   },
   {
    "duration": 27,
    "start_time": "2023-03-26T14:41:46.872Z"
   },
   {
    "duration": 148,
    "start_time": "2023-03-26T14:41:46.901Z"
   },
   {
    "duration": 8,
    "start_time": "2023-03-26T14:41:47.051Z"
   },
   {
    "duration": 10,
    "start_time": "2023-03-26T14:41:47.060Z"
   },
   {
    "duration": 11,
    "start_time": "2023-03-26T14:41:47.071Z"
   },
   {
    "duration": 19,
    "start_time": "2023-03-26T14:41:47.083Z"
   },
   {
    "duration": 5,
    "start_time": "2023-03-26T14:41:47.103Z"
   },
   {
    "duration": 40,
    "start_time": "2023-03-26T14:41:47.109Z"
   },
   {
    "duration": 5,
    "start_time": "2023-03-26T14:41:47.152Z"
   },
   {
    "duration": 5,
    "start_time": "2023-03-26T14:41:47.158Z"
   },
   {
    "duration": 65,
    "start_time": "2023-03-26T14:41:47.164Z"
   },
   {
    "duration": 21,
    "start_time": "2023-03-26T14:41:47.231Z"
   },
   {
    "duration": 3,
    "start_time": "2023-03-26T14:41:47.254Z"
   },
   {
    "duration": 29,
    "start_time": "2023-03-26T14:41:47.258Z"
   },
   {
    "duration": 7,
    "start_time": "2023-03-26T14:41:47.288Z"
   },
   {
    "duration": 25,
    "start_time": "2023-03-26T14:41:47.296Z"
   },
   {
    "duration": 43,
    "start_time": "2023-03-26T14:41:47.322Z"
   },
   {
    "duration": 34,
    "start_time": "2023-03-26T14:41:47.366Z"
   },
   {
    "duration": 137,
    "start_time": "2023-03-26T14:41:47.401Z"
   },
   {
    "duration": 47,
    "start_time": "2023-03-26T14:41:47.539Z"
   },
   {
    "duration": 45,
    "start_time": "2023-03-26T14:41:47.587Z"
   },
   {
    "duration": 55,
    "start_time": "2023-03-26T14:41:47.634Z"
   },
   {
    "duration": 3,
    "start_time": "2023-03-26T14:41:47.691Z"
   },
   {
    "duration": 4,
    "start_time": "2023-03-26T14:41:47.696Z"
   },
   {
    "duration": 87,
    "start_time": "2023-03-26T14:41:47.702Z"
   },
   {
    "duration": 131,
    "start_time": "2023-03-26T14:41:47.790Z"
   },
   {
    "duration": 262,
    "start_time": "2023-03-26T14:41:47.922Z"
   },
   {
    "duration": 102,
    "start_time": "2023-03-26T14:41:48.186Z"
   },
   {
    "duration": 3630,
    "start_time": "2023-03-26T14:45:34.378Z"
   },
   {
    "duration": 48,
    "start_time": "2023-03-26T14:48:11.290Z"
   },
   {
    "duration": 547,
    "start_time": "2023-03-26T14:48:22.510Z"
   },
   {
    "duration": 429,
    "start_time": "2023-03-26T14:55:07.588Z"
   },
   {
    "duration": 228,
    "start_time": "2023-03-26T16:38:36.168Z"
   },
   {
    "duration": 339,
    "start_time": "2023-03-26T16:40:05.566Z"
   },
   {
    "duration": 316,
    "start_time": "2023-03-26T16:40:12.548Z"
   },
   {
    "duration": 4,
    "start_time": "2023-03-26T16:43:05.896Z"
   },
   {
    "duration": 13,
    "start_time": "2023-03-26T16:44:15.397Z"
   },
   {
    "duration": 7,
    "start_time": "2023-03-26T16:44:27.915Z"
   },
   {
    "duration": 256,
    "start_time": "2023-03-26T16:44:59.378Z"
   },
   {
    "duration": 11,
    "start_time": "2023-03-26T16:45:43.259Z"
   },
   {
    "duration": 6,
    "start_time": "2023-03-26T16:47:10.715Z"
   },
   {
    "duration": 321,
    "start_time": "2023-03-26T16:47:14.579Z"
   },
   {
    "duration": 8,
    "start_time": "2023-03-26T16:47:17.539Z"
   },
   {
    "duration": 25,
    "start_time": "2023-03-26T16:52:11.173Z"
   },
   {
    "duration": 15,
    "start_time": "2023-03-26T16:52:34.666Z"
   },
   {
    "duration": 4,
    "start_time": "2023-03-26T16:54:55.384Z"
   },
   {
    "duration": 6,
    "start_time": "2023-03-26T16:55:50.513Z"
   },
   {
    "duration": 11,
    "start_time": "2023-03-26T16:55:56.136Z"
   },
   {
    "duration": 306,
    "start_time": "2023-03-26T16:56:07.873Z"
   },
   {
    "duration": 6,
    "start_time": "2023-03-26T16:56:38.816Z"
   },
   {
    "duration": 6,
    "start_time": "2023-03-26T16:57:23.802Z"
   },
   {
    "duration": 358,
    "start_time": "2023-03-26T16:57:24.969Z"
   },
   {
    "duration": 602,
    "start_time": "2023-03-26T16:57:32.194Z"
   },
   {
    "duration": 231,
    "start_time": "2023-03-26T16:57:44.423Z"
   },
   {
    "duration": 209,
    "start_time": "2023-03-26T16:57:51.808Z"
   },
   {
    "duration": 262,
    "start_time": "2023-03-26T16:57:56.824Z"
   },
   {
    "duration": 12,
    "start_time": "2023-03-26T16:58:44.895Z"
   },
   {
    "duration": 325,
    "start_time": "2023-03-26T16:58:57.456Z"
   },
   {
    "duration": 11,
    "start_time": "2023-03-26T16:59:05.191Z"
   },
   {
    "duration": 356,
    "start_time": "2023-03-26T17:02:12.711Z"
   },
   {
    "duration": 7,
    "start_time": "2023-03-26T17:03:07.278Z"
   },
   {
    "duration": 208,
    "start_time": "2023-03-26T17:03:22.095Z"
   },
   {
    "duration": 12,
    "start_time": "2023-03-26T17:04:46.983Z"
   },
   {
    "duration": 281,
    "start_time": "2023-03-26T17:05:01.422Z"
   },
   {
    "duration": 302,
    "start_time": "2023-03-26T17:07:16.732Z"
   },
   {
    "duration": 9,
    "start_time": "2023-03-26T17:07:38.188Z"
   },
   {
    "duration": 51,
    "start_time": "2023-03-26T17:51:30.588Z"
   },
   {
    "duration": 11,
    "start_time": "2023-03-26T17:52:38.527Z"
   },
   {
    "duration": 10,
    "start_time": "2023-03-26T17:53:23.537Z"
   },
   {
    "duration": 16,
    "start_time": "2023-03-26T17:53:28.990Z"
   },
   {
    "duration": 37,
    "start_time": "2023-03-26T17:56:04.946Z"
   },
   {
    "duration": 13,
    "start_time": "2023-03-26T17:56:07.033Z"
   },
   {
    "duration": 29,
    "start_time": "2023-03-26T17:57:30.767Z"
   },
   {
    "duration": 18,
    "start_time": "2023-03-26T17:57:32.077Z"
   },
   {
    "duration": 272,
    "start_time": "2023-03-26T17:57:36.573Z"
   },
   {
    "duration": 20,
    "start_time": "2023-03-26T17:57:38.694Z"
   },
   {
    "duration": 2,
    "start_time": "2023-03-26T17:57:49.128Z"
   },
   {
    "duration": 11,
    "start_time": "2023-03-26T17:57:50.907Z"
   },
   {
    "duration": 8,
    "start_time": "2023-03-26T17:57:52.440Z"
   },
   {
    "duration": 10,
    "start_time": "2023-03-26T17:57:53.508Z"
   },
   {
    "duration": 41,
    "start_time": "2023-03-26T17:57:54.964Z"
   },
   {
    "duration": 124,
    "start_time": "2023-03-26T17:57:56.905Z"
   },
   {
    "duration": 102,
    "start_time": "2023-03-26T17:57:58.898Z"
   },
   {
    "duration": 317,
    "start_time": "2023-03-26T17:58:03.612Z"
   },
   {
    "duration": 9,
    "start_time": "2023-03-26T17:58:04.120Z"
   },
   {
    "duration": 7,
    "start_time": "2023-03-26T17:58:04.310Z"
   },
   {
    "duration": 11,
    "start_time": "2023-03-26T17:58:04.511Z"
   },
   {
    "duration": 42,
    "start_time": "2023-03-26T17:58:04.698Z"
   },
   {
    "duration": 244,
    "start_time": "2023-03-26T17:58:04.898Z"
   },
   {
    "duration": 37,
    "start_time": "2023-03-26T17:58:05.144Z"
   },
   {
    "duration": 10,
    "start_time": "2023-03-26T17:58:05.431Z"
   },
   {
    "duration": 26,
    "start_time": "2023-03-26T17:58:05.676Z"
   },
   {
    "duration": 25,
    "start_time": "2023-03-26T17:58:05.913Z"
   },
   {
    "duration": 6,
    "start_time": "2023-03-26T17:58:06.504Z"
   },
   {
    "duration": 23,
    "start_time": "2023-03-26T17:58:06.523Z"
   },
   {
    "duration": 8,
    "start_time": "2023-03-26T17:58:06.578Z"
   },
   {
    "duration": 22,
    "start_time": "2023-03-26T17:58:06.649Z"
   },
   {
    "duration": 125,
    "start_time": "2023-03-26T17:58:06.687Z"
   },
   {
    "duration": 10,
    "start_time": "2023-03-26T17:58:06.814Z"
   },
   {
    "duration": 3,
    "start_time": "2023-03-26T17:58:06.826Z"
   },
   {
    "duration": 37,
    "start_time": "2023-03-26T17:58:06.873Z"
   },
   {
    "duration": 34,
    "start_time": "2023-03-26T17:58:06.957Z"
   },
   {
    "duration": 23,
    "start_time": "2023-03-26T17:58:07.012Z"
   },
   {
    "duration": 25,
    "start_time": "2023-03-26T17:58:07.111Z"
   },
   {
    "duration": 48,
    "start_time": "2023-03-26T17:58:07.173Z"
   },
   {
    "duration": 135,
    "start_time": "2023-03-26T17:58:07.293Z"
   },
   {
    "duration": 67,
    "start_time": "2023-03-26T17:58:07.429Z"
   },
   {
    "duration": 61,
    "start_time": "2023-03-26T17:58:07.503Z"
   },
   {
    "duration": 59,
    "start_time": "2023-03-26T17:58:07.570Z"
   },
   {
    "duration": 4,
    "start_time": "2023-03-26T17:58:07.630Z"
   },
   {
    "duration": 5,
    "start_time": "2023-03-26T17:58:07.635Z"
   },
   {
    "duration": 352,
    "start_time": "2023-03-26T17:58:07.641Z"
   },
   {
    "duration": 7,
    "start_time": "2023-03-26T17:58:08.000Z"
   },
   {
    "duration": 227,
    "start_time": "2023-03-26T17:58:08.009Z"
   },
   {
    "duration": 104,
    "start_time": "2023-03-26T17:58:08.238Z"
   },
   {
    "duration": 123,
    "start_time": "2023-03-26T17:58:08.343Z"
   },
   {
    "duration": 323,
    "start_time": "2023-03-26T17:58:08.476Z"
   },
   {
    "duration": 23,
    "start_time": "2023-03-26T17:58:08.800Z"
   },
   {
    "duration": 41,
    "start_time": "2023-03-26T18:00:06.239Z"
   },
   {
    "duration": 43,
    "start_time": "2023-03-26T18:09:09.872Z"
   },
   {
    "duration": 9,
    "start_time": "2023-03-26T18:12:46.973Z"
   },
   {
    "duration": 8,
    "start_time": "2023-03-26T18:12:58.500Z"
   },
   {
    "duration": 79,
    "start_time": "2023-03-26T18:13:13.290Z"
   },
   {
    "duration": 106,
    "start_time": "2023-03-26T18:13:15.520Z"
   },
   {
    "duration": 14,
    "start_time": "2023-03-26T18:13:30.117Z"
   },
   {
    "duration": 21,
    "start_time": "2023-03-26T18:13:59.478Z"
   },
   {
    "duration": 60,
    "start_time": "2023-03-26T18:17:13.684Z"
   },
   {
    "duration": 25,
    "start_time": "2023-03-26T18:17:20.603Z"
   },
   {
    "duration": 25,
    "start_time": "2023-03-26T18:18:11.077Z"
   },
   {
    "duration": 34,
    "start_time": "2023-03-26T18:18:12.548Z"
   },
   {
    "duration": 24,
    "start_time": "2023-03-26T18:19:44.012Z"
   },
   {
    "duration": 36,
    "start_time": "2023-03-26T18:19:56.540Z"
   },
   {
    "duration": 14,
    "start_time": "2023-03-26T18:20:08.757Z"
   },
   {
    "duration": 7,
    "start_time": "2023-03-26T18:20:47.020Z"
   },
   {
    "duration": 30,
    "start_time": "2023-03-26T18:20:50.715Z"
   },
   {
    "duration": 11,
    "start_time": "2023-03-26T18:20:58.274Z"
   },
   {
    "duration": 30,
    "start_time": "2023-03-26T18:21:34.877Z"
   },
   {
    "duration": 11,
    "start_time": "2023-03-26T18:21:46.322Z"
   },
   {
    "duration": 11,
    "start_time": "2023-03-26T18:22:53.234Z"
   },
   {
    "duration": 21,
    "start_time": "2023-03-26T18:23:39.146Z"
   },
   {
    "duration": 11,
    "start_time": "2023-03-26T18:23:46.787Z"
   },
   {
    "duration": 10,
    "start_time": "2023-03-26T18:31:17.824Z"
   },
   {
    "duration": 27,
    "start_time": "2023-03-26T18:31:24.688Z"
   },
   {
    "duration": 27,
    "start_time": "2023-03-26T18:31:36.082Z"
   },
   {
    "duration": 20,
    "start_time": "2023-03-26T18:31:40.977Z"
   },
   {
    "duration": 50,
    "start_time": "2023-03-26T18:36:16.176Z"
   },
   {
    "duration": 12,
    "start_time": "2023-03-26T18:36:22.770Z"
   },
   {
    "duration": 10,
    "start_time": "2023-03-26T18:37:26.573Z"
   },
   {
    "duration": 7,
    "start_time": "2023-03-26T18:37:34.214Z"
   },
   {
    "duration": 10,
    "start_time": "2023-03-26T18:37:34.790Z"
   },
   {
    "duration": 5,
    "start_time": "2023-03-26T18:37:41.777Z"
   },
   {
    "duration": 5,
    "start_time": "2023-03-26T18:37:50.080Z"
   },
   {
    "duration": 34,
    "start_time": "2023-03-26T18:38:32.170Z"
   },
   {
    "duration": 15,
    "start_time": "2023-03-26T18:38:50.673Z"
   },
   {
    "duration": 32,
    "start_time": "2023-03-26T18:38:53.538Z"
   },
   {
    "duration": 23,
    "start_time": "2023-03-26T18:38:56.702Z"
   },
   {
    "duration": 44,
    "start_time": "2023-03-26T18:39:13.926Z"
   },
   {
    "duration": 21,
    "start_time": "2023-03-26T18:39:45.886Z"
   },
   {
    "duration": 46,
    "start_time": "2023-03-26T18:43:13.637Z"
   },
   {
    "duration": 20,
    "start_time": "2023-03-26T18:43:19.084Z"
   },
   {
    "duration": 20,
    "start_time": "2023-03-26T18:43:56.175Z"
   },
   {
    "duration": 8,
    "start_time": "2023-03-26T18:44:32.421Z"
   },
   {
    "duration": 14,
    "start_time": "2023-03-26T18:44:52.501Z"
   },
   {
    "duration": 6,
    "start_time": "2023-03-26T19:04:52.921Z"
   },
   {
    "duration": 13,
    "start_time": "2023-03-26T19:04:54.673Z"
   },
   {
    "duration": 5,
    "start_time": "2023-03-26T19:05:15.501Z"
   },
   {
    "duration": 5,
    "start_time": "2023-03-26T19:05:37.343Z"
   },
   {
    "duration": 4,
    "start_time": "2023-03-26T19:05:43.033Z"
   },
   {
    "duration": 1302,
    "start_time": "2023-03-26T19:06:01.920Z"
   },
   {
    "duration": 34,
    "start_time": "2023-03-26T19:10:39.046Z"
   },
   {
    "duration": 29,
    "start_time": "2023-03-26T19:23:39.888Z"
   },
   {
    "duration": 19,
    "start_time": "2023-03-26T19:23:50.977Z"
   },
   {
    "duration": 29,
    "start_time": "2023-03-26T19:24:29.680Z"
   },
   {
    "duration": 12,
    "start_time": "2023-03-26T19:24:35.893Z"
   },
   {
    "duration": 16,
    "start_time": "2023-03-26T19:24:45.330Z"
   },
   {
    "duration": 22,
    "start_time": "2023-03-26T19:27:32.401Z"
   },
   {
    "duration": 38,
    "start_time": "2023-03-26T19:27:44.471Z"
   },
   {
    "duration": 1314,
    "start_time": "2023-03-26T19:28:07.906Z"
   },
   {
    "duration": 9,
    "start_time": "2023-03-26T19:28:10.730Z"
   },
   {
    "duration": 30,
    "start_time": "2023-03-26T19:28:25.443Z"
   },
   {
    "duration": 28,
    "start_time": "2023-03-26T19:29:04.996Z"
   },
   {
    "duration": 14,
    "start_time": "2023-03-26T19:29:10.529Z"
   },
   {
    "duration": 16,
    "start_time": "2023-03-26T19:29:25.705Z"
   },
   {
    "duration": 294,
    "start_time": "2023-03-26T19:40:20.289Z"
   },
   {
    "duration": 285,
    "start_time": "2023-03-26T19:42:17.578Z"
   },
   {
    "duration": 53,
    "start_time": "2023-03-26T19:42:21.614Z"
   },
   {
    "duration": 39,
    "start_time": "2023-03-26T19:42:24.728Z"
   },
   {
    "duration": 49,
    "start_time": "2023-03-26T19:42:30.780Z"
   },
   {
    "duration": 63,
    "start_time": "2023-03-26T19:44:07.274Z"
   },
   {
    "duration": 345,
    "start_time": "2023-03-26T19:44:10.569Z"
   },
   {
    "duration": 97,
    "start_time": "2023-03-26T19:47:39.913Z"
   },
   {
    "duration": 38,
    "start_time": "2023-03-26T19:51:02.486Z"
   },
   {
    "duration": 34,
    "start_time": "2023-03-26T19:51:21.803Z"
   },
   {
    "duration": 66,
    "start_time": "2023-03-26T19:52:12.539Z"
   },
   {
    "duration": 25,
    "start_time": "2023-03-26T19:52:13.998Z"
   },
   {
    "duration": 56,
    "start_time": "2023-03-26T19:52:25.274Z"
   },
   {
    "duration": 251,
    "start_time": "2023-03-26T19:52:39.436Z"
   },
   {
    "duration": 268,
    "start_time": "2023-03-26T19:53:54.019Z"
   },
   {
    "duration": 60,
    "start_time": "2023-03-26T19:55:15.826Z"
   },
   {
    "duration": 46,
    "start_time": "2023-03-26T19:55:22.618Z"
   },
   {
    "duration": 21,
    "start_time": "2023-03-26T19:55:39.576Z"
   },
   {
    "duration": 31,
    "start_time": "2023-03-26T19:55:53.487Z"
   },
   {
    "duration": 90,
    "start_time": "2023-03-26T19:56:09.722Z"
   },
   {
    "duration": 12,
    "start_time": "2023-03-26T19:56:12.596Z"
   },
   {
    "duration": 12,
    "start_time": "2023-03-26T19:56:14.605Z"
   },
   {
    "duration": 13,
    "start_time": "2023-03-26T19:56:16.602Z"
   },
   {
    "duration": 224,
    "start_time": "2023-03-26T19:56:18.498Z"
   },
   {
    "duration": 10,
    "start_time": "2023-03-26T19:56:22.913Z"
   },
   {
    "duration": 54,
    "start_time": "2023-03-26T19:56:26.344Z"
   },
   {
    "duration": 51,
    "start_time": "2023-03-26T19:56:27.196Z"
   },
   {
    "duration": 30,
    "start_time": "2023-03-26T19:56:32.576Z"
   },
   {
    "duration": 26,
    "start_time": "2023-03-26T19:56:33.080Z"
   },
   {
    "duration": 46,
    "start_time": "2023-03-26T19:56:35.330Z"
   },
   {
    "duration": 222,
    "start_time": "2023-03-26T19:56:45.098Z"
   },
   {
    "duration": 42,
    "start_time": "2023-03-26T19:56:59.225Z"
   },
   {
    "duration": 18,
    "start_time": "2023-03-26T19:57:28.672Z"
   },
   {
    "duration": 213,
    "start_time": "2023-03-26T19:57:38.386Z"
   },
   {
    "duration": 232,
    "start_time": "2023-03-26T19:58:28.202Z"
   },
   {
    "duration": 184,
    "start_time": "2023-03-26T19:58:40.130Z"
   },
   {
    "duration": 214,
    "start_time": "2023-03-26T19:58:49.256Z"
   },
   {
    "duration": 163,
    "start_time": "2023-03-26T19:59:00.610Z"
   },
   {
    "duration": 162,
    "start_time": "2023-03-26T19:59:06.721Z"
   },
   {
    "duration": 56,
    "start_time": "2023-03-26T20:00:44.105Z"
   },
   {
    "duration": 262,
    "start_time": "2023-03-26T20:01:16.705Z"
   },
   {
    "duration": 227,
    "start_time": "2023-03-26T20:02:15.066Z"
   },
   {
    "duration": 189,
    "start_time": "2023-03-26T20:02:35.499Z"
   },
   {
    "duration": 966,
    "start_time": "2023-03-26T20:13:35.157Z"
   },
   {
    "duration": 6,
    "start_time": "2023-03-26T20:14:01.414Z"
   },
   {
    "duration": 18,
    "start_time": "2023-03-26T20:14:31.510Z"
   },
   {
    "duration": 10,
    "start_time": "2023-03-26T20:14:33.118Z"
   },
   {
    "duration": 1985,
    "start_time": "2023-03-26T20:14:35.190Z"
   },
   {
    "duration": 0,
    "start_time": "2023-03-26T20:14:37.177Z"
   },
   {
    "duration": 1457,
    "start_time": "2023-03-26T20:14:39.646Z"
   },
   {
    "duration": 902,
    "start_time": "2023-03-26T20:14:57.064Z"
   },
   {
    "duration": 30,
    "start_time": "2023-03-26T20:15:12.485Z"
   },
   {
    "duration": 44,
    "start_time": "2023-03-26T20:15:26.677Z"
   },
   {
    "duration": 19,
    "start_time": "2023-03-26T20:15:30.693Z"
   },
   {
    "duration": 21,
    "start_time": "2023-03-26T20:21:54.500Z"
   },
   {
    "duration": 26,
    "start_time": "2023-03-26T20:23:06.116Z"
   },
   {
    "duration": 15,
    "start_time": "2023-03-26T20:23:07.996Z"
   },
   {
    "duration": 16,
    "start_time": "2023-03-26T20:23:22.069Z"
   },
   {
    "duration": 18,
    "start_time": "2023-03-26T20:23:27.996Z"
   },
   {
    "duration": 14,
    "start_time": "2023-03-26T20:23:28.531Z"
   },
   {
    "duration": 33,
    "start_time": "2023-03-26T20:23:29.084Z"
   },
   {
    "duration": 11,
    "start_time": "2023-03-26T20:23:43.099Z"
   },
   {
    "duration": 11,
    "start_time": "2023-03-26T20:23:58.612Z"
   },
   {
    "duration": 12,
    "start_time": "2023-03-26T20:24:17.276Z"
   },
   {
    "duration": 15,
    "start_time": "2023-03-26T20:25:42.679Z"
   },
   {
    "duration": 8,
    "start_time": "2023-03-26T20:25:47.506Z"
   },
   {
    "duration": 14,
    "start_time": "2023-03-26T20:25:51.588Z"
   },
   {
    "duration": 11,
    "start_time": "2023-03-26T20:28:24.001Z"
   },
   {
    "duration": 32,
    "start_time": "2023-03-26T20:28:25.530Z"
   },
   {
    "duration": 20,
    "start_time": "2023-03-26T20:28:26.374Z"
   },
   {
    "duration": 8,
    "start_time": "2023-03-26T20:28:27.018Z"
   },
   {
    "duration": 19,
    "start_time": "2023-03-26T20:28:27.602Z"
   },
   {
    "duration": 40,
    "start_time": "2023-03-26T20:29:58.722Z"
   },
   {
    "duration": 13,
    "start_time": "2023-03-26T20:30:00.793Z"
   },
   {
    "duration": 27,
    "start_time": "2023-03-26T20:30:01.394Z"
   },
   {
    "duration": 13,
    "start_time": "2023-03-26T20:30:02.130Z"
   },
   {
    "duration": 4,
    "start_time": "2023-03-26T20:30:02.994Z"
   },
   {
    "duration": 12,
    "start_time": "2023-03-26T20:30:03.714Z"
   },
   {
    "duration": 21,
    "start_time": "2023-03-26T20:30:32.269Z"
   },
   {
    "duration": 12,
    "start_time": "2023-03-26T20:30:33.575Z"
   },
   {
    "duration": 15,
    "start_time": "2023-03-26T20:30:33.999Z"
   },
   {
    "duration": 18,
    "start_time": "2023-03-26T20:30:34.501Z"
   },
   {
    "duration": 35,
    "start_time": "2023-03-26T20:31:38.175Z"
   },
   {
    "duration": 13,
    "start_time": "2023-03-26T20:31:38.817Z"
   },
   {
    "duration": 10,
    "start_time": "2023-03-26T20:31:39.306Z"
   },
   {
    "duration": 12,
    "start_time": "2023-03-26T20:31:39.697Z"
   },
   {
    "duration": 74,
    "start_time": "2023-03-26T20:32:29.337Z"
   },
   {
    "duration": 1292,
    "start_time": "2023-03-26T20:33:44.819Z"
   },
   {
    "duration": 363,
    "start_time": "2023-03-26T20:33:46.112Z"
   },
   {
    "duration": 15,
    "start_time": "2023-03-26T20:33:46.476Z"
   },
   {
    "duration": 24,
    "start_time": "2023-03-26T20:33:46.492Z"
   },
   {
    "duration": 13,
    "start_time": "2023-03-26T20:33:46.518Z"
   },
   {
    "duration": 62,
    "start_time": "2023-03-26T20:33:46.533Z"
   },
   {
    "duration": 204,
    "start_time": "2023-03-26T20:33:46.597Z"
   },
   {
    "duration": 7,
    "start_time": "2023-03-26T20:33:46.805Z"
   },
   {
    "duration": 14,
    "start_time": "2023-03-26T20:33:46.813Z"
   },
   {
    "duration": 11,
    "start_time": "2023-03-26T20:33:46.829Z"
   },
   {
    "duration": 60,
    "start_time": "2023-03-26T20:33:46.842Z"
   },
   {
    "duration": 5,
    "start_time": "2023-03-26T20:33:46.903Z"
   },
   {
    "duration": 25,
    "start_time": "2023-03-26T20:33:46.910Z"
   },
   {
    "duration": 6,
    "start_time": "2023-03-26T20:33:46.940Z"
   },
   {
    "duration": 49,
    "start_time": "2023-03-26T20:33:46.948Z"
   },
   {
    "duration": 103,
    "start_time": "2023-03-26T20:33:46.999Z"
   },
   {
    "duration": 11,
    "start_time": "2023-03-26T20:33:47.108Z"
   },
   {
    "duration": 4,
    "start_time": "2023-03-26T20:33:47.120Z"
   },
   {
    "duration": 53,
    "start_time": "2023-03-26T20:33:47.126Z"
   },
   {
    "duration": 28,
    "start_time": "2023-03-26T20:33:47.180Z"
   },
   {
    "duration": 26,
    "start_time": "2023-03-26T20:33:47.210Z"
   },
   {
    "duration": 41,
    "start_time": "2023-03-26T20:33:47.238Z"
   },
   {
    "duration": 47,
    "start_time": "2023-03-26T20:33:47.280Z"
   },
   {
    "duration": 148,
    "start_time": "2023-03-26T20:33:47.328Z"
   },
   {
    "duration": 50,
    "start_time": "2023-03-26T20:33:47.478Z"
   },
   {
    "duration": 65,
    "start_time": "2023-03-26T20:33:47.530Z"
   },
   {
    "duration": 70,
    "start_time": "2023-03-26T20:33:47.596Z"
   },
   {
    "duration": 8,
    "start_time": "2023-03-26T20:33:47.667Z"
   },
   {
    "duration": 21,
    "start_time": "2023-03-26T20:33:47.676Z"
   },
   {
    "duration": 435,
    "start_time": "2023-03-26T20:33:47.699Z"
   },
   {
    "duration": 8,
    "start_time": "2023-03-26T20:33:48.135Z"
   },
   {
    "duration": 268,
    "start_time": "2023-03-26T20:33:48.156Z"
   },
   {
    "duration": 154,
    "start_time": "2023-03-26T20:33:48.426Z"
   },
   {
    "duration": 191,
    "start_time": "2023-03-26T20:33:48.584Z"
   },
   {
    "duration": 399,
    "start_time": "2023-03-26T20:33:48.776Z"
   },
   {
    "duration": 65,
    "start_time": "2023-03-26T20:33:49.176Z"
   },
   {
    "duration": 0,
    "start_time": "2023-03-26T20:33:49.243Z"
   },
   {
    "duration": 0,
    "start_time": "2023-03-26T20:33:49.244Z"
   },
   {
    "duration": 0,
    "start_time": "2023-03-26T20:33:49.245Z"
   },
   {
    "duration": 0,
    "start_time": "2023-03-26T20:33:49.246Z"
   },
   {
    "duration": 0,
    "start_time": "2023-03-26T20:33:49.247Z"
   },
   {
    "duration": 0,
    "start_time": "2023-03-26T20:33:49.248Z"
   },
   {
    "duration": 0,
    "start_time": "2023-03-26T20:33:49.248Z"
   },
   {
    "duration": 0,
    "start_time": "2023-03-26T20:33:49.249Z"
   },
   {
    "duration": 0,
    "start_time": "2023-03-26T20:33:49.249Z"
   },
   {
    "duration": 0,
    "start_time": "2023-03-26T20:33:49.250Z"
   },
   {
    "duration": 0,
    "start_time": "2023-03-26T20:33:49.250Z"
   },
   {
    "duration": 0,
    "start_time": "2023-03-26T20:33:49.251Z"
   },
   {
    "duration": 0,
    "start_time": "2023-03-26T20:33:49.251Z"
   },
   {
    "duration": 0,
    "start_time": "2023-03-26T20:33:49.251Z"
   },
   {
    "duration": 0,
    "start_time": "2023-03-26T20:33:49.252Z"
   },
   {
    "duration": 33,
    "start_time": "2023-03-26T20:34:06.912Z"
   },
   {
    "duration": 91,
    "start_time": "2023-03-26T20:34:08.396Z"
   },
   {
    "duration": 24,
    "start_time": "2023-03-26T20:34:08.786Z"
   },
   {
    "duration": 37,
    "start_time": "2023-03-26T20:34:09.128Z"
   },
   {
    "duration": 10,
    "start_time": "2023-03-26T20:34:09.516Z"
   },
   {
    "duration": 12,
    "start_time": "2023-03-26T20:34:09.996Z"
   },
   {
    "duration": 16,
    "start_time": "2023-03-26T20:34:10.397Z"
   },
   {
    "duration": 66,
    "start_time": "2023-03-26T20:34:11.568Z"
   },
   {
    "duration": 1748,
    "start_time": "2023-03-26T20:34:45.746Z"
   },
   {
    "duration": 316,
    "start_time": "2023-03-26T20:34:47.496Z"
   },
   {
    "duration": 14,
    "start_time": "2023-03-26T20:34:47.819Z"
   },
   {
    "duration": 12,
    "start_time": "2023-03-26T20:34:47.835Z"
   },
   {
    "duration": 36,
    "start_time": "2023-03-26T20:34:47.876Z"
   },
   {
    "duration": 66,
    "start_time": "2023-03-26T20:34:47.913Z"
   },
   {
    "duration": 305,
    "start_time": "2023-03-26T20:34:47.981Z"
   },
   {
    "duration": 18,
    "start_time": "2023-03-26T20:34:48.288Z"
   },
   {
    "duration": 22,
    "start_time": "2023-03-26T20:34:48.310Z"
   },
   {
    "duration": 9,
    "start_time": "2023-03-26T20:34:48.335Z"
   },
   {
    "duration": 64,
    "start_time": "2023-03-26T20:34:48.346Z"
   },
   {
    "duration": 8,
    "start_time": "2023-03-26T20:34:48.412Z"
   },
   {
    "duration": 26,
    "start_time": "2023-03-26T20:34:48.421Z"
   },
   {
    "duration": 68,
    "start_time": "2023-03-26T20:34:48.458Z"
   },
   {
    "duration": 10,
    "start_time": "2023-03-26T20:34:48.528Z"
   },
   {
    "duration": 98,
    "start_time": "2023-03-26T20:34:48.540Z"
   },
   {
    "duration": 21,
    "start_time": "2023-03-26T20:34:48.639Z"
   },
   {
    "duration": 4,
    "start_time": "2023-03-26T20:34:48.662Z"
   },
   {
    "duration": 108,
    "start_time": "2023-03-26T20:34:48.667Z"
   },
   {
    "duration": 53,
    "start_time": "2023-03-26T20:34:48.776Z"
   },
   {
    "duration": 53,
    "start_time": "2023-03-26T20:34:48.830Z"
   },
   {
    "duration": 64,
    "start_time": "2023-03-26T20:34:48.884Z"
   },
   {
    "duration": 72,
    "start_time": "2023-03-26T20:34:48.951Z"
   },
   {
    "duration": 204,
    "start_time": "2023-03-26T20:34:49.032Z"
   },
   {
    "duration": 63,
    "start_time": "2023-03-26T20:34:49.237Z"
   },
   {
    "duration": 84,
    "start_time": "2023-03-26T20:34:49.302Z"
   },
   {
    "duration": 67,
    "start_time": "2023-03-26T20:34:49.388Z"
   },
   {
    "duration": 24,
    "start_time": "2023-03-26T20:34:49.463Z"
   },
   {
    "duration": 21,
    "start_time": "2023-03-26T20:34:49.503Z"
   },
   {
    "duration": 416,
    "start_time": "2023-03-26T20:34:49.525Z"
   },
   {
    "duration": 20,
    "start_time": "2023-03-26T20:34:49.943Z"
   },
   {
    "duration": 359,
    "start_time": "2023-03-26T20:34:49.968Z"
   },
   {
    "duration": 153,
    "start_time": "2023-03-26T20:34:50.329Z"
   },
   {
    "duration": 198,
    "start_time": "2023-03-26T20:34:50.485Z"
   },
   {
    "duration": 411,
    "start_time": "2023-03-26T20:34:50.684Z"
   },
   {
    "duration": 37,
    "start_time": "2023-03-26T20:34:51.100Z"
   },
   {
    "duration": 71,
    "start_time": "2023-03-26T20:34:51.139Z"
   },
   {
    "duration": 22,
    "start_time": "2023-03-26T20:34:51.212Z"
   },
   {
    "duration": 41,
    "start_time": "2023-03-26T20:34:51.236Z"
   },
   {
    "duration": 29,
    "start_time": "2023-03-26T20:34:51.284Z"
   },
   {
    "duration": 12,
    "start_time": "2023-03-26T20:34:51.318Z"
   },
   {
    "duration": 39,
    "start_time": "2023-03-26T20:34:51.332Z"
   },
   {
    "duration": 70,
    "start_time": "2023-03-26T20:34:51.376Z"
   },
   {
    "duration": 1202,
    "start_time": "2023-03-26T20:38:09.101Z"
   },
   {
    "duration": 291,
    "start_time": "2023-03-26T20:38:10.305Z"
   },
   {
    "duration": 10,
    "start_time": "2023-03-26T20:38:10.598Z"
   },
   {
    "duration": 11,
    "start_time": "2023-03-26T20:38:10.609Z"
   },
   {
    "duration": 10,
    "start_time": "2023-03-26T20:38:10.622Z"
   },
   {
    "duration": 50,
    "start_time": "2023-03-26T20:38:10.634Z"
   },
   {
    "duration": 181,
    "start_time": "2023-03-26T20:38:10.689Z"
   },
   {
    "duration": 11,
    "start_time": "2023-03-26T20:38:10.871Z"
   },
   {
    "duration": 18,
    "start_time": "2023-03-26T20:38:10.884Z"
   },
   {
    "duration": 11,
    "start_time": "2023-03-26T20:38:10.904Z"
   },
   {
    "duration": 26,
    "start_time": "2023-03-26T20:38:10.917Z"
   },
   {
    "duration": 18,
    "start_time": "2023-03-26T20:38:10.945Z"
   },
   {
    "duration": 55,
    "start_time": "2023-03-26T20:38:10.972Z"
   },
   {
    "duration": 7,
    "start_time": "2023-03-26T20:38:11.030Z"
   },
   {
    "duration": 28,
    "start_time": "2023-03-26T20:38:11.039Z"
   },
   {
    "duration": 106,
    "start_time": "2023-03-26T20:38:11.069Z"
   },
   {
    "duration": 10,
    "start_time": "2023-03-26T20:38:11.177Z"
   },
   {
    "duration": 6,
    "start_time": "2023-03-26T20:38:11.188Z"
   },
   {
    "duration": 30,
    "start_time": "2023-03-26T20:38:11.196Z"
   },
   {
    "duration": 39,
    "start_time": "2023-03-26T20:38:11.228Z"
   },
   {
    "duration": 42,
    "start_time": "2023-03-26T20:38:11.279Z"
   },
   {
    "duration": 29,
    "start_time": "2023-03-26T20:38:11.322Z"
   },
   {
    "duration": 45,
    "start_time": "2023-03-26T20:38:11.352Z"
   },
   {
    "duration": 165,
    "start_time": "2023-03-26T20:38:11.398Z"
   },
   {
    "duration": 52,
    "start_time": "2023-03-26T20:38:11.564Z"
   },
   {
    "duration": 65,
    "start_time": "2023-03-26T20:38:11.617Z"
   },
   {
    "duration": 56,
    "start_time": "2023-03-26T20:38:11.686Z"
   },
   {
    "duration": 12,
    "start_time": "2023-03-26T20:38:11.755Z"
   },
   {
    "duration": 24,
    "start_time": "2023-03-26T20:38:11.768Z"
   },
   {
    "duration": 421,
    "start_time": "2023-03-26T20:38:11.794Z"
   },
   {
    "duration": 9,
    "start_time": "2023-03-26T20:38:12.217Z"
   },
   {
    "duration": 300,
    "start_time": "2023-03-26T20:38:12.228Z"
   },
   {
    "duration": 141,
    "start_time": "2023-03-26T20:38:12.530Z"
   },
   {
    "duration": 216,
    "start_time": "2023-03-26T20:38:12.672Z"
   },
   {
    "duration": 444,
    "start_time": "2023-03-26T20:38:12.889Z"
   },
   {
    "duration": 63,
    "start_time": "2023-03-26T20:38:13.335Z"
   },
   {
    "duration": 58,
    "start_time": "2023-03-26T20:38:13.401Z"
   },
   {
    "duration": 30,
    "start_time": "2023-03-26T20:38:13.476Z"
   },
   {
    "duration": 22,
    "start_time": "2023-03-26T20:38:13.508Z"
   },
   {
    "duration": 11,
    "start_time": "2023-03-26T20:38:13.532Z"
   },
   {
    "duration": 25,
    "start_time": "2023-03-26T20:38:13.546Z"
   },
   {
    "duration": 40,
    "start_time": "2023-03-26T20:38:13.572Z"
   },
   {
    "duration": 75,
    "start_time": "2023-03-26T20:38:13.614Z"
   },
   {
    "duration": 1157,
    "start_time": "2023-03-26T20:38:56.906Z"
   },
   {
    "duration": 261,
    "start_time": "2023-03-26T20:38:58.064Z"
   },
   {
    "duration": 10,
    "start_time": "2023-03-26T20:38:58.327Z"
   },
   {
    "duration": 38,
    "start_time": "2023-03-26T20:38:58.339Z"
   },
   {
    "duration": 15,
    "start_time": "2023-03-26T20:38:58.388Z"
   },
   {
    "duration": 32,
    "start_time": "2023-03-26T20:38:58.404Z"
   },
   {
    "duration": 189,
    "start_time": "2023-03-26T20:38:58.437Z"
   },
   {
    "duration": 8,
    "start_time": "2023-03-26T20:38:58.628Z"
   },
   {
    "duration": 38,
    "start_time": "2023-03-26T20:38:58.637Z"
   },
   {
    "duration": 18,
    "start_time": "2023-03-26T20:38:58.676Z"
   },
   {
    "duration": 21,
    "start_time": "2023-03-26T20:38:58.696Z"
   },
   {
    "duration": 6,
    "start_time": "2023-03-26T20:38:58.718Z"
   },
   {
    "duration": 45,
    "start_time": "2023-03-26T20:38:58.726Z"
   },
   {
    "duration": 29,
    "start_time": "2023-03-26T20:38:58.776Z"
   },
   {
    "duration": 5,
    "start_time": "2023-03-26T20:38:58.807Z"
   },
   {
    "duration": 90,
    "start_time": "2023-03-26T20:38:58.814Z"
   },
   {
    "duration": 12,
    "start_time": "2023-03-26T20:38:58.906Z"
   },
   {
    "duration": 7,
    "start_time": "2023-03-26T20:38:58.920Z"
   },
   {
    "duration": 52,
    "start_time": "2023-03-26T20:38:58.928Z"
   },
   {
    "duration": 27,
    "start_time": "2023-03-26T20:38:58.988Z"
   },
   {
    "duration": 68,
    "start_time": "2023-03-26T20:38:59.017Z"
   },
   {
    "duration": 45,
    "start_time": "2023-03-26T20:38:59.093Z"
   },
   {
    "duration": 50,
    "start_time": "2023-03-26T20:38:59.140Z"
   },
   {
    "duration": 195,
    "start_time": "2023-03-26T20:38:59.192Z"
   },
   {
    "duration": 43,
    "start_time": "2023-03-26T20:38:59.391Z"
   },
   {
    "duration": 65,
    "start_time": "2023-03-26T20:38:59.435Z"
   },
   {
    "duration": 44,
    "start_time": "2023-03-26T20:38:59.502Z"
   },
   {
    "duration": 22,
    "start_time": "2023-03-26T20:38:59.557Z"
   },
   {
    "duration": 17,
    "start_time": "2023-03-26T20:38:59.582Z"
   },
   {
    "duration": 398,
    "start_time": "2023-03-26T20:38:59.601Z"
   },
   {
    "duration": 6,
    "start_time": "2023-03-26T20:39:00.000Z"
   },
   {
    "duration": 278,
    "start_time": "2023-03-26T20:39:00.008Z"
   },
   {
    "duration": 100,
    "start_time": "2023-03-26T20:39:00.287Z"
   },
   {
    "duration": 198,
    "start_time": "2023-03-26T20:39:00.388Z"
   },
   {
    "duration": 397,
    "start_time": "2023-03-26T20:39:00.588Z"
   },
   {
    "duration": 31,
    "start_time": "2023-03-26T20:39:00.987Z"
   },
   {
    "duration": 111,
    "start_time": "2023-03-26T20:39:01.020Z"
   },
   {
    "duration": 16,
    "start_time": "2023-03-26T20:39:01.132Z"
   },
   {
    "duration": 58,
    "start_time": "2023-03-26T20:39:01.163Z"
   },
   {
    "duration": 13,
    "start_time": "2023-03-26T20:39:01.223Z"
   },
   {
    "duration": 70,
    "start_time": "2023-03-26T20:39:01.241Z"
   },
   {
    "duration": 79,
    "start_time": "2023-03-26T20:39:01.313Z"
   },
   {
    "duration": 69,
    "start_time": "2023-03-26T20:39:01.394Z"
   },
   {
    "duration": 187,
    "start_time": "2023-03-26T20:39:01.472Z"
   },
   {
    "duration": 125,
    "start_time": "2023-03-26T20:39:01.668Z"
   },
   {
    "duration": 0,
    "start_time": "2023-03-26T20:39:01.795Z"
   },
   {
    "duration": 0,
    "start_time": "2023-03-26T20:39:01.797Z"
   },
   {
    "duration": 0,
    "start_time": "2023-03-26T20:39:01.798Z"
   },
   {
    "duration": 0,
    "start_time": "2023-03-26T20:39:01.800Z"
   },
   {
    "duration": 0,
    "start_time": "2023-03-26T20:39:01.801Z"
   },
   {
    "duration": 39,
    "start_time": "2023-03-26T20:39:54.334Z"
   },
   {
    "duration": 185,
    "start_time": "2023-03-26T20:40:04.727Z"
   },
   {
    "duration": 28,
    "start_time": "2023-03-26T20:40:35.087Z"
   },
   {
    "duration": 169,
    "start_time": "2023-03-26T20:40:37.143Z"
   },
   {
    "duration": 18,
    "start_time": "2023-03-26T20:41:53.093Z"
   },
   {
    "duration": 24,
    "start_time": "2023-03-26T20:42:18.031Z"
   },
   {
    "duration": 142,
    "start_time": "2023-03-26T20:42:58.705Z"
   },
   {
    "duration": 1392,
    "start_time": "2023-03-27T17:20:54.299Z"
   },
   {
    "duration": 964,
    "start_time": "2023-03-27T17:20:55.695Z"
   },
   {
    "duration": 22,
    "start_time": "2023-03-27T17:20:56.661Z"
   },
   {
    "duration": 27,
    "start_time": "2023-03-27T17:20:56.685Z"
   },
   {
    "duration": 17,
    "start_time": "2023-03-27T17:20:56.715Z"
   },
   {
    "duration": 40,
    "start_time": "2023-03-27T17:20:56.734Z"
   },
   {
    "duration": 229,
    "start_time": "2023-03-27T17:20:56.776Z"
   },
   {
    "duration": 10,
    "start_time": "2023-03-27T17:20:57.007Z"
   },
   {
    "duration": 25,
    "start_time": "2023-03-27T17:20:57.019Z"
   },
   {
    "duration": 22,
    "start_time": "2023-03-27T17:20:57.046Z"
   },
   {
    "duration": 36,
    "start_time": "2023-03-27T17:20:57.070Z"
   },
   {
    "duration": 5,
    "start_time": "2023-03-27T17:20:57.108Z"
   },
   {
    "duration": 43,
    "start_time": "2023-03-27T17:20:57.115Z"
   },
   {
    "duration": 8,
    "start_time": "2023-03-27T17:20:57.161Z"
   },
   {
    "duration": 9,
    "start_time": "2023-03-27T17:20:57.172Z"
   },
   {
    "duration": 109,
    "start_time": "2023-03-27T17:20:57.182Z"
   },
   {
    "duration": 10,
    "start_time": "2023-03-27T17:20:57.293Z"
   },
   {
    "duration": 7,
    "start_time": "2023-03-27T17:20:57.304Z"
   },
   {
    "duration": 42,
    "start_time": "2023-03-27T17:20:57.312Z"
   },
   {
    "duration": 9,
    "start_time": "2023-03-27T17:20:57.357Z"
   },
   {
    "duration": 32,
    "start_time": "2023-03-27T17:20:57.367Z"
   },
   {
    "duration": 66,
    "start_time": "2023-03-27T17:20:57.401Z"
   },
   {
    "duration": 76,
    "start_time": "2023-03-27T17:20:57.469Z"
   },
   {
    "duration": 169,
    "start_time": "2023-03-27T17:20:57.547Z"
   },
   {
    "duration": 58,
    "start_time": "2023-03-27T17:20:57.717Z"
   },
   {
    "duration": 69,
    "start_time": "2023-03-27T17:20:57.776Z"
   },
   {
    "duration": 57,
    "start_time": "2023-03-27T17:20:57.847Z"
   },
   {
    "duration": 6,
    "start_time": "2023-03-27T17:20:57.906Z"
   },
   {
    "duration": 29,
    "start_time": "2023-03-27T17:20:57.914Z"
   },
   {
    "duration": 415,
    "start_time": "2023-03-27T17:20:57.945Z"
   },
   {
    "duration": 8,
    "start_time": "2023-03-27T17:20:58.363Z"
   },
   {
    "duration": 270,
    "start_time": "2023-03-27T17:20:58.373Z"
   },
   {
    "duration": 107,
    "start_time": "2023-03-27T17:20:58.645Z"
   },
   {
    "duration": 155,
    "start_time": "2023-03-27T17:20:58.754Z"
   },
   {
    "duration": 439,
    "start_time": "2023-03-27T17:20:58.911Z"
   },
   {
    "duration": 39,
    "start_time": "2023-03-27T17:20:59.353Z"
   },
   {
    "duration": 69,
    "start_time": "2023-03-27T17:20:59.395Z"
   },
   {
    "duration": 18,
    "start_time": "2023-03-27T17:20:59.466Z"
   },
   {
    "duration": 28,
    "start_time": "2023-03-27T17:20:59.486Z"
   },
   {
    "duration": 26,
    "start_time": "2023-03-27T17:20:59.516Z"
   },
   {
    "duration": 9,
    "start_time": "2023-03-27T17:20:59.545Z"
   },
   {
    "duration": 22,
    "start_time": "2023-03-27T17:20:59.556Z"
   },
   {
    "duration": 62,
    "start_time": "2023-03-27T17:20:59.579Z"
   },
   {
    "duration": 167,
    "start_time": "2023-03-27T17:20:59.643Z"
   },
   {
    "duration": 41,
    "start_time": "2023-03-27T17:20:59.812Z"
   },
   {
    "duration": 191,
    "start_time": "2023-03-27T17:20:59.856Z"
   },
   {
    "duration": 45,
    "start_time": "2023-03-27T17:21:00.050Z"
   },
   {
    "duration": 271,
    "start_time": "2023-03-27T17:21:00.097Z"
   },
   {
    "duration": 21,
    "start_time": "2023-03-27T17:21:00.370Z"
   },
   {
    "duration": 205,
    "start_time": "2023-03-27T17:21:00.393Z"
   },
   {
    "duration": 41,
    "start_time": "2023-03-27T17:21:00.600Z"
   },
   {
    "duration": 222,
    "start_time": "2023-03-27T17:25:05.824Z"
   },
   {
    "duration": 30,
    "start_time": "2023-03-27T17:25:08.592Z"
   },
   {
    "duration": 156,
    "start_time": "2023-03-27T17:25:10.305Z"
   },
   {
    "duration": 20,
    "start_time": "2023-03-27T17:25:28.113Z"
   },
   {
    "duration": 21,
    "start_time": "2023-03-27T17:26:24.882Z"
   },
   {
    "duration": 165,
    "start_time": "2023-03-27T17:26:35.479Z"
   },
   {
    "duration": 177,
    "start_time": "2023-03-27T17:27:37.630Z"
   },
   {
    "duration": 42,
    "start_time": "2023-03-27T17:29:27.618Z"
   },
   {
    "duration": 158,
    "start_time": "2023-03-27T17:29:29.587Z"
   },
   {
    "duration": 345,
    "start_time": "2023-03-27T17:43:12.174Z"
   },
   {
    "duration": 259,
    "start_time": "2023-03-27T17:44:14.349Z"
   },
   {
    "duration": 401,
    "start_time": "2023-03-27T17:44:25.481Z"
   },
   {
    "duration": 314,
    "start_time": "2023-03-27T17:47:29.677Z"
   },
   {
    "duration": 509,
    "start_time": "2023-03-27T17:47:41.986Z"
   },
   {
    "duration": 63,
    "start_time": "2023-03-27T17:49:35.306Z"
   },
   {
    "duration": 72,
    "start_time": "2023-03-27T17:52:18.316Z"
   },
   {
    "duration": 59,
    "start_time": "2023-03-27T17:53:09.691Z"
   },
   {
    "duration": 58,
    "start_time": "2023-03-27T17:53:14.796Z"
   },
   {
    "duration": 23,
    "start_time": "2023-03-27T17:54:20.180Z"
   },
   {
    "duration": 22,
    "start_time": "2023-03-27T17:54:43.679Z"
   },
   {
    "duration": 19,
    "start_time": "2023-03-27T17:59:20.931Z"
   },
   {
    "duration": 60,
    "start_time": "2023-03-27T18:00:17.075Z"
   },
   {
    "duration": 21,
    "start_time": "2023-03-27T18:00:27.908Z"
   },
   {
    "duration": 59,
    "start_time": "2023-03-27T18:00:33.780Z"
   },
   {
    "duration": 10,
    "start_time": "2023-03-27T18:04:03.721Z"
   },
   {
    "duration": 210,
    "start_time": "2023-03-27T18:04:08.683Z"
   },
   {
    "duration": 89,
    "start_time": "2023-03-27T18:04:50.487Z"
   },
   {
    "duration": 58,
    "start_time": "2023-03-27T18:05:02.641Z"
   },
   {
    "duration": 61,
    "start_time": "2023-03-27T18:05:11.443Z"
   },
   {
    "duration": 58,
    "start_time": "2023-03-27T18:05:19.255Z"
   },
   {
    "duration": 242,
    "start_time": "2023-03-27T18:05:47.678Z"
   },
   {
    "duration": 283,
    "start_time": "2023-03-27T18:05:55.107Z"
   },
   {
    "duration": 301,
    "start_time": "2023-03-27T18:07:39.128Z"
   },
   {
    "duration": 28,
    "start_time": "2023-03-27T18:10:29.109Z"
   },
   {
    "duration": 214,
    "start_time": "2023-03-27T18:10:47.056Z"
   },
   {
    "duration": 221,
    "start_time": "2023-03-27T18:11:09.632Z"
   },
   {
    "duration": 68,
    "start_time": "2023-03-27T18:13:25.086Z"
   },
   {
    "duration": 179,
    "start_time": "2023-03-27T18:14:41.503Z"
   },
   {
    "duration": 26,
    "start_time": "2023-03-27T18:14:58.423Z"
   },
   {
    "duration": 203,
    "start_time": "2023-03-27T18:15:09.791Z"
   },
   {
    "duration": 61,
    "start_time": "2023-03-27T18:15:27.226Z"
   },
   {
    "duration": 142,
    "start_time": "2023-03-27T18:24:35.641Z"
   },
   {
    "duration": 19,
    "start_time": "2023-03-27T18:24:59.016Z"
   },
   {
    "duration": 20,
    "start_time": "2023-03-27T18:25:22.600Z"
   },
   {
    "duration": 88,
    "start_time": "2023-03-27T18:27:08.499Z"
   },
   {
    "duration": 1433,
    "start_time": "2023-03-27T18:28:00.540Z"
   },
   {
    "duration": 51,
    "start_time": "2023-03-27T18:33:29.716Z"
   },
   {
    "duration": 372,
    "start_time": "2023-03-27T18:33:34.895Z"
   },
   {
    "duration": 258,
    "start_time": "2023-03-27T18:34:53.099Z"
   },
   {
    "duration": 178,
    "start_time": "2023-03-27T18:35:43.220Z"
   },
   {
    "duration": 80,
    "start_time": "2023-03-27T18:36:09.415Z"
   },
   {
    "duration": 61,
    "start_time": "2023-03-27T18:45:46.883Z"
   },
   {
    "duration": 182,
    "start_time": "2023-03-27T18:45:49.992Z"
   },
   {
    "duration": 70,
    "start_time": "2023-03-27T18:46:15.887Z"
   },
   {
    "duration": 274,
    "start_time": "2023-03-27T18:46:18.783Z"
   },
   {
    "duration": 299,
    "start_time": "2023-03-27T18:48:51.503Z"
   },
   {
    "duration": 67,
    "start_time": "2023-03-27T18:49:31.638Z"
   },
   {
    "duration": 315,
    "start_time": "2023-03-27T18:49:54.130Z"
   },
   {
    "duration": 310,
    "start_time": "2023-03-27T18:50:28.182Z"
   },
   {
    "duration": 263,
    "start_time": "2023-03-27T18:51:52.325Z"
   },
   {
    "duration": 732,
    "start_time": "2023-03-27T18:52:05.982Z"
   },
   {
    "duration": 348,
    "start_time": "2023-03-27T18:53:02.979Z"
   },
   {
    "duration": 77,
    "start_time": "2023-03-27T18:53:46.668Z"
   },
   {
    "duration": 24,
    "start_time": "2023-03-27T19:03:21.259Z"
   },
   {
    "duration": 45,
    "start_time": "2023-03-27T19:03:36.762Z"
   },
   {
    "duration": 258,
    "start_time": "2023-03-27T19:03:41.226Z"
   },
   {
    "duration": 130,
    "start_time": "2023-03-27T19:04:15.906Z"
   },
   {
    "duration": 64,
    "start_time": "2023-03-27T19:06:42.442Z"
   },
   {
    "duration": 25,
    "start_time": "2023-03-27T19:07:43.232Z"
   },
   {
    "duration": 65,
    "start_time": "2023-03-27T19:07:48.792Z"
   },
   {
    "duration": 66,
    "start_time": "2023-03-27T19:08:06.458Z"
   },
   {
    "duration": 67,
    "start_time": "2023-03-27T19:08:17.913Z"
   },
   {
    "duration": 11,
    "start_time": "2023-03-27T19:08:38.753Z"
   },
   {
    "duration": 68,
    "start_time": "2023-03-27T19:09:38.495Z"
   },
   {
    "duration": 49,
    "start_time": "2023-03-27T19:10:04.894Z"
   },
   {
    "duration": 68,
    "start_time": "2023-03-27T19:10:13.790Z"
   },
   {
    "duration": 83,
    "start_time": "2023-03-27T19:10:46.624Z"
   },
   {
    "duration": 72,
    "start_time": "2023-03-27T19:11:23.699Z"
   },
   {
    "duration": 244,
    "start_time": "2023-03-27T19:11:27.456Z"
   },
   {
    "duration": 66,
    "start_time": "2023-03-27T19:11:58.993Z"
   },
   {
    "duration": 237,
    "start_time": "2023-03-27T19:12:17.337Z"
   },
   {
    "duration": 63,
    "start_time": "2023-03-27T19:12:21.016Z"
   },
   {
    "duration": 382,
    "start_time": "2023-03-27T19:12:22.772Z"
   },
   {
    "duration": 44,
    "start_time": "2023-03-27T19:14:08.471Z"
   },
   {
    "duration": 145,
    "start_time": "2023-03-27T19:14:13.296Z"
   },
   {
    "duration": 26,
    "start_time": "2023-03-27T19:14:58.288Z"
   },
   {
    "duration": 26,
    "start_time": "2023-03-27T19:15:25.089Z"
   },
   {
    "duration": 62,
    "start_time": "2023-03-27T19:15:37.023Z"
   },
   {
    "duration": 62,
    "start_time": "2023-03-27T19:15:40.927Z"
   },
   {
    "duration": 58,
    "start_time": "2023-03-27T19:15:58.879Z"
   },
   {
    "duration": 142,
    "start_time": "2023-03-27T19:16:32.527Z"
   },
   {
    "duration": 58,
    "start_time": "2023-03-27T19:16:36.126Z"
   },
   {
    "duration": 237,
    "start_time": "2023-03-27T19:16:42.512Z"
   },
   {
    "duration": 11,
    "start_time": "2023-03-27T19:17:34.687Z"
   },
   {
    "duration": 148,
    "start_time": "2023-03-27T19:17:39.984Z"
   },
   {
    "duration": 36,
    "start_time": "2023-03-27T19:32:37.580Z"
   },
   {
    "duration": 35,
    "start_time": "2023-03-27T19:33:04.514Z"
   },
   {
    "duration": 14,
    "start_time": "2023-03-27T19:33:21.907Z"
   },
   {
    "duration": 10,
    "start_time": "2023-03-27T19:33:43.393Z"
   },
   {
    "duration": 25,
    "start_time": "2023-03-27T19:40:11.640Z"
   },
   {
    "duration": 7,
    "start_time": "2023-03-27T19:41:22.308Z"
   },
   {
    "duration": 10,
    "start_time": "2023-03-27T19:41:34.328Z"
   },
   {
    "duration": 14,
    "start_time": "2023-03-27T19:45:52.454Z"
   },
   {
    "duration": 12,
    "start_time": "2023-03-27T19:46:29.890Z"
   },
   {
    "duration": 3,
    "start_time": "2023-03-27T19:48:36.036Z"
   },
   {
    "duration": 3,
    "start_time": "2023-03-27T19:48:41.013Z"
   },
   {
    "duration": 4,
    "start_time": "2023-03-27T19:48:52.206Z"
   },
   {
    "duration": 5,
    "start_time": "2023-03-27T19:49:07.637Z"
   },
   {
    "duration": 4,
    "start_time": "2023-03-27T19:49:13.238Z"
   },
   {
    "duration": 3,
    "start_time": "2023-03-27T19:49:17.107Z"
   },
   {
    "duration": 4,
    "start_time": "2023-03-27T19:51:03.290Z"
   },
   {
    "duration": 5,
    "start_time": "2023-03-27T19:51:05.089Z"
   },
   {
    "duration": 21,
    "start_time": "2023-03-27T19:51:17.846Z"
   },
   {
    "duration": 173,
    "start_time": "2023-03-27T19:51:19.606Z"
   },
   {
    "duration": 15,
    "start_time": "2023-03-27T19:51:44.898Z"
   },
   {
    "duration": 62,
    "start_time": "2023-03-27T19:52:45.461Z"
   },
   {
    "duration": 21,
    "start_time": "2023-03-27T19:52:56.899Z"
   },
   {
    "duration": 4,
    "start_time": "2023-03-27T19:54:19.829Z"
   },
   {
    "duration": 15,
    "start_time": "2023-03-27T19:54:24.366Z"
   },
   {
    "duration": 72,
    "start_time": "2023-03-27T19:54:47.420Z"
   },
   {
    "duration": 10,
    "start_time": "2023-03-27T19:54:51.698Z"
   },
   {
    "duration": 26,
    "start_time": "2023-03-27T19:54:58.900Z"
   },
   {
    "duration": 11,
    "start_time": "2023-03-27T19:55:28.335Z"
   },
   {
    "duration": 18,
    "start_time": "2023-03-27T19:55:36.437Z"
   },
   {
    "duration": 11,
    "start_time": "2023-03-27T19:56:03.828Z"
   },
   {
    "duration": 14,
    "start_time": "2023-03-27T19:56:25.700Z"
   },
   {
    "duration": 10,
    "start_time": "2023-03-27T19:56:58.898Z"
   },
   {
    "duration": 28,
    "start_time": "2023-03-27T19:58:24.991Z"
   },
   {
    "duration": 42,
    "start_time": "2023-03-27T19:58:57.357Z"
   },
   {
    "duration": 66,
    "start_time": "2023-03-27T19:59:09.660Z"
   },
   {
    "duration": 5,
    "start_time": "2023-03-27T19:59:18.900Z"
   },
   {
    "duration": 6,
    "start_time": "2023-03-27T19:59:20.524Z"
   },
   {
    "duration": 4,
    "start_time": "2023-03-27T19:59:31.516Z"
   },
   {
    "duration": 4,
    "start_time": "2023-03-27T19:59:33.860Z"
   },
   {
    "duration": 26,
    "start_time": "2023-03-27T19:59:42.384Z"
   },
   {
    "duration": 31,
    "start_time": "2023-03-27T20:00:07.709Z"
   },
   {
    "duration": 54,
    "start_time": "2023-03-27T20:03:36.019Z"
   },
   {
    "duration": 43,
    "start_time": "2023-03-27T20:04:21.599Z"
   },
   {
    "duration": 18,
    "start_time": "2023-03-27T20:05:37.220Z"
   },
   {
    "duration": 13,
    "start_time": "2023-03-27T20:07:02.684Z"
   },
   {
    "duration": 59,
    "start_time": "2023-03-27T20:08:44.314Z"
   },
   {
    "duration": 75,
    "start_time": "2023-03-27T20:09:13.978Z"
   },
   {
    "duration": 47,
    "start_time": "2023-03-27T20:09:20.593Z"
   },
   {
    "duration": 152,
    "start_time": "2023-03-27T20:10:09.626Z"
   },
   {
    "duration": 57,
    "start_time": "2023-03-27T20:10:37.362Z"
   },
   {
    "duration": 45,
    "start_time": "2023-03-27T20:11:46.122Z"
   },
   {
    "duration": 13,
    "start_time": "2023-03-27T20:11:53.085Z"
   },
   {
    "duration": 186,
    "start_time": "2023-03-27T20:11:58.370Z"
   },
   {
    "duration": 225,
    "start_time": "2023-03-27T20:15:32.499Z"
   },
   {
    "duration": 209,
    "start_time": "2023-03-27T20:15:37.865Z"
   },
   {
    "duration": 228,
    "start_time": "2023-03-27T20:15:57.056Z"
   },
   {
    "duration": 235,
    "start_time": "2023-03-27T20:17:21.711Z"
   },
   {
    "duration": 249,
    "start_time": "2023-03-27T20:18:02.712Z"
   },
   {
    "duration": 230,
    "start_time": "2023-03-27T20:18:11.944Z"
   },
   {
    "duration": 250,
    "start_time": "2023-03-27T20:18:23.880Z"
   },
   {
    "duration": 278,
    "start_time": "2023-03-27T20:18:27.136Z"
   },
   {
    "duration": 271,
    "start_time": "2023-03-27T20:18:42.929Z"
   },
   {
    "duration": 47,
    "start_time": "2023-03-27T20:19:55.328Z"
   },
   {
    "duration": 267,
    "start_time": "2023-03-27T20:19:58.592Z"
   },
   {
    "duration": 305,
    "start_time": "2023-03-27T20:20:51.719Z"
   },
   {
    "duration": 434,
    "start_time": "2023-03-27T20:21:06.624Z"
   },
   {
    "duration": 289,
    "start_time": "2023-03-27T20:21:11.175Z"
   },
   {
    "duration": 310,
    "start_time": "2023-03-27T20:21:22.681Z"
   },
   {
    "duration": 56,
    "start_time": "2023-03-28T14:55:49.902Z"
   },
   {
    "duration": 1426,
    "start_time": "2023-03-28T14:56:03.602Z"
   },
   {
    "duration": 820,
    "start_time": "2023-03-28T14:56:05.031Z"
   },
   {
    "duration": 12,
    "start_time": "2023-03-28T14:56:05.853Z"
   },
   {
    "duration": 38,
    "start_time": "2023-03-28T14:56:05.868Z"
   },
   {
    "duration": 24,
    "start_time": "2023-03-28T14:56:05.907Z"
   },
   {
    "duration": 57,
    "start_time": "2023-03-28T14:56:05.933Z"
   },
   {
    "duration": 199,
    "start_time": "2023-03-28T14:56:05.992Z"
   },
   {
    "duration": 8,
    "start_time": "2023-03-28T14:56:06.193Z"
   },
   {
    "duration": 38,
    "start_time": "2023-03-28T14:56:06.203Z"
   },
   {
    "duration": 28,
    "start_time": "2023-03-28T14:56:06.243Z"
   },
   {
    "duration": 46,
    "start_time": "2023-03-28T14:56:06.273Z"
   },
   {
    "duration": 29,
    "start_time": "2023-03-28T14:56:06.321Z"
   },
   {
    "duration": 42,
    "start_time": "2023-03-28T14:56:06.352Z"
   },
   {
    "duration": 32,
    "start_time": "2023-03-28T14:56:06.397Z"
   },
   {
    "duration": 16,
    "start_time": "2023-03-28T14:56:06.431Z"
   },
   {
    "duration": 89,
    "start_time": "2023-03-28T14:56:06.448Z"
   },
   {
    "duration": 9,
    "start_time": "2023-03-28T14:56:06.538Z"
   },
   {
    "duration": 7,
    "start_time": "2023-03-28T14:56:06.549Z"
   },
   {
    "duration": 48,
    "start_time": "2023-03-28T14:56:06.557Z"
   },
   {
    "duration": 17,
    "start_time": "2023-03-28T14:56:06.606Z"
   },
   {
    "duration": 41,
    "start_time": "2023-03-28T14:56:06.624Z"
   },
   {
    "duration": 41,
    "start_time": "2023-03-28T14:56:06.667Z"
   },
   {
    "duration": 40,
    "start_time": "2023-03-28T14:56:06.709Z"
   },
   {
    "duration": 198,
    "start_time": "2023-03-28T14:56:06.751Z"
   },
   {
    "duration": 71,
    "start_time": "2023-03-28T14:56:06.951Z"
   },
   {
    "duration": 63,
    "start_time": "2023-03-28T14:56:07.024Z"
   },
   {
    "duration": 59,
    "start_time": "2023-03-28T14:56:07.089Z"
   },
   {
    "duration": 4,
    "start_time": "2023-03-28T14:56:07.152Z"
   },
   {
    "duration": 30,
    "start_time": "2023-03-28T14:56:07.158Z"
   },
   {
    "duration": 439,
    "start_time": "2023-03-28T14:56:07.191Z"
   },
   {
    "duration": 7,
    "start_time": "2023-03-28T14:56:07.632Z"
   },
   {
    "duration": 289,
    "start_time": "2023-03-28T14:56:07.641Z"
   },
   {
    "duration": 116,
    "start_time": "2023-03-28T14:56:07.931Z"
   },
   {
    "duration": 208,
    "start_time": "2023-03-28T14:56:08.049Z"
   },
   {
    "duration": 441,
    "start_time": "2023-03-28T14:56:08.259Z"
   },
   {
    "duration": 41,
    "start_time": "2023-03-28T14:56:08.703Z"
   },
   {
    "duration": 79,
    "start_time": "2023-03-28T14:56:08.746Z"
   },
   {
    "duration": 16,
    "start_time": "2023-03-28T14:56:08.827Z"
   },
   {
    "duration": 27,
    "start_time": "2023-03-28T14:56:08.844Z"
   },
   {
    "duration": 20,
    "start_time": "2023-03-28T14:56:08.873Z"
   },
   {
    "duration": 25,
    "start_time": "2023-03-28T14:56:08.895Z"
   },
   {
    "duration": 25,
    "start_time": "2023-03-28T14:56:08.921Z"
   },
   {
    "duration": 66,
    "start_time": "2023-03-28T14:56:08.948Z"
   },
   {
    "duration": 259,
    "start_time": "2023-03-28T14:56:09.016Z"
   },
   {
    "duration": 163,
    "start_time": "2023-03-28T14:56:09.276Z"
   },
   {
    "duration": 0,
    "start_time": "2023-03-28T14:56:09.441Z"
   },
   {
    "duration": 53,
    "start_time": "2023-03-28T14:56:20.899Z"
   },
   {
    "duration": 9,
    "start_time": "2023-03-28T14:56:29.661Z"
   },
   {
    "duration": 70,
    "start_time": "2023-03-28T14:59:52.639Z"
   },
   {
    "duration": 45,
    "start_time": "2023-03-28T15:00:27.282Z"
   },
   {
    "duration": 24,
    "start_time": "2023-03-28T15:00:49.836Z"
   },
   {
    "duration": 46,
    "start_time": "2023-03-28T15:01:14.865Z"
   },
   {
    "duration": 16,
    "start_time": "2023-03-28T15:01:24.250Z"
   },
   {
    "duration": 21,
    "start_time": "2023-03-28T15:01:42.882Z"
   },
   {
    "duration": 242,
    "start_time": "2023-03-28T15:01:55.916Z"
   },
   {
    "duration": 60,
    "start_time": "2023-03-28T15:03:09.638Z"
   },
   {
    "duration": 44,
    "start_time": "2023-03-28T15:03:12.296Z"
   },
   {
    "duration": 41,
    "start_time": "2023-03-28T15:03:26.295Z"
   },
   {
    "duration": 39,
    "start_time": "2023-03-28T15:04:31.085Z"
   },
   {
    "duration": 252,
    "start_time": "2023-03-28T15:04:35.559Z"
   },
   {
    "duration": 162,
    "start_time": "2023-03-28T15:04:49.943Z"
   },
   {
    "duration": 165,
    "start_time": "2023-03-28T15:05:59.286Z"
   },
   {
    "duration": 14,
    "start_time": "2023-03-28T15:07:04.511Z"
   },
   {
    "duration": 61,
    "start_time": "2023-03-28T15:17:03.397Z"
   },
   {
    "duration": 65,
    "start_time": "2023-03-28T15:17:11.522Z"
   },
   {
    "duration": 12,
    "start_time": "2023-03-28T15:17:27.244Z"
   },
   {
    "duration": 15,
    "start_time": "2023-03-28T15:17:39.378Z"
   },
   {
    "duration": 63,
    "start_time": "2023-03-28T15:17:59.427Z"
   },
   {
    "duration": 57,
    "start_time": "2023-03-28T15:24:48.349Z"
   },
   {
    "duration": 82,
    "start_time": "2023-03-28T15:25:18.537Z"
   },
   {
    "duration": 11,
    "start_time": "2023-03-28T15:25:32.806Z"
   },
   {
    "duration": 6,
    "start_time": "2023-03-28T15:25:45.159Z"
   },
   {
    "duration": 4,
    "start_time": "2023-03-28T15:25:47.949Z"
   },
   {
    "duration": 48,
    "start_time": "2023-03-28T15:25:58.197Z"
   },
   {
    "duration": 261,
    "start_time": "2023-03-28T15:32:06.472Z"
   },
   {
    "duration": 15,
    "start_time": "2023-03-28T15:36:25.570Z"
   },
   {
    "duration": 86,
    "start_time": "2023-03-28T15:39:22.333Z"
   },
   {
    "duration": 9,
    "start_time": "2023-03-28T15:39:23.920Z"
   },
   {
    "duration": 251,
    "start_time": "2023-03-28T15:41:54.325Z"
   },
   {
    "duration": 262,
    "start_time": "2023-03-28T15:43:23.628Z"
   },
   {
    "duration": 251,
    "start_time": "2023-03-28T15:45:03.708Z"
   },
   {
    "duration": 326,
    "start_time": "2023-03-28T15:45:27.187Z"
   },
   {
    "duration": 245,
    "start_time": "2023-03-28T15:46:58.008Z"
   },
   {
    "duration": 304,
    "start_time": "2023-03-28T15:47:04.874Z"
   },
   {
    "duration": 259,
    "start_time": "2023-03-28T15:47:11.490Z"
   },
   {
    "duration": 252,
    "start_time": "2023-03-28T15:47:20.273Z"
   },
   {
    "duration": 284,
    "start_time": "2023-03-28T15:48:35.164Z"
   },
   {
    "duration": 159,
    "start_time": "2023-03-28T15:48:39.518Z"
   },
   {
    "duration": 4,
    "start_time": "2023-03-28T16:13:50.881Z"
   },
   {
    "duration": 112,
    "start_time": "2023-03-28T16:17:18.318Z"
   },
   {
    "duration": 173,
    "start_time": "2023-03-28T16:17:54.330Z"
   },
   {
    "duration": 42,
    "start_time": "2023-03-28T16:22:08.185Z"
   },
   {
    "duration": 50,
    "start_time": "2023-03-28T16:22:17.330Z"
   },
   {
    "duration": 54,
    "start_time": "2023-03-28T16:23:09.164Z"
   },
   {
    "duration": 11,
    "start_time": "2023-03-28T16:24:38.543Z"
   },
   {
    "duration": 16,
    "start_time": "2023-03-28T16:25:27.482Z"
   },
   {
    "duration": 56,
    "start_time": "2023-03-28T16:25:43.647Z"
   },
   {
    "duration": 610,
    "start_time": "2023-03-28T16:25:46.413Z"
   },
   {
    "duration": 843,
    "start_time": "2023-03-28T16:26:02.313Z"
   },
   {
    "duration": 760,
    "start_time": "2023-03-28T16:26:31.975Z"
   },
   {
    "duration": 780,
    "start_time": "2023-03-28T16:26:51.128Z"
   },
   {
    "duration": 49,
    "start_time": "2023-03-28T16:28:57.991Z"
   },
   {
    "duration": 55,
    "start_time": "2023-03-28T16:29:00.231Z"
   },
   {
    "duration": 975,
    "start_time": "2023-03-28T16:29:02.239Z"
   },
   {
    "duration": 37,
    "start_time": "2023-03-28T16:29:53.478Z"
   },
   {
    "duration": 797,
    "start_time": "2023-03-28T16:30:03.295Z"
   },
   {
    "duration": 13,
    "start_time": "2023-03-28T16:30:30.763Z"
   },
   {
    "duration": 14,
    "start_time": "2023-03-28T16:31:08.405Z"
   },
   {
    "duration": 18,
    "start_time": "2023-03-28T16:31:10.677Z"
   },
   {
    "duration": 734,
    "start_time": "2023-03-28T16:31:16.926Z"
   },
   {
    "duration": 15,
    "start_time": "2023-03-28T16:32:07.197Z"
   },
   {
    "duration": 1586,
    "start_time": "2023-03-28T16:32:36.164Z"
   },
   {
    "duration": 13,
    "start_time": "2023-03-28T16:32:52.103Z"
   },
   {
    "duration": 14,
    "start_time": "2023-03-28T16:32:55.670Z"
   },
   {
    "duration": 992,
    "start_time": "2023-03-28T16:33:10.862Z"
   },
   {
    "duration": 9,
    "start_time": "2023-03-28T16:49:42.424Z"
   },
   {
    "duration": 12,
    "start_time": "2023-03-28T16:49:49.929Z"
   },
   {
    "duration": 18,
    "start_time": "2023-03-28T16:51:01.264Z"
   },
   {
    "duration": 778,
    "start_time": "2023-03-28T16:51:16.994Z"
   },
   {
    "duration": 1052,
    "start_time": "2023-03-28T16:52:39.312Z"
   },
   {
    "duration": 923,
    "start_time": "2023-03-28T16:57:42.310Z"
   },
   {
    "duration": 26,
    "start_time": "2023-03-28T16:57:51.205Z"
   },
   {
    "duration": 17,
    "start_time": "2023-03-28T16:58:03.084Z"
   },
   {
    "duration": 66,
    "start_time": "2023-03-28T17:01:52.722Z"
   },
   {
    "duration": 64,
    "start_time": "2023-03-28T17:02:01.554Z"
   },
   {
    "duration": 15,
    "start_time": "2023-03-28T17:02:13.378Z"
   },
   {
    "duration": 44,
    "start_time": "2023-03-28T17:03:11.490Z"
   },
   {
    "duration": 41,
    "start_time": "2023-03-28T17:03:13.129Z"
   },
   {
    "duration": 15,
    "start_time": "2023-03-28T17:03:14.304Z"
   },
   {
    "duration": 88,
    "start_time": "2023-03-28T17:04:51.730Z"
   },
   {
    "duration": 39,
    "start_time": "2023-03-28T17:07:00.399Z"
   },
   {
    "duration": 56,
    "start_time": "2023-03-28T17:07:50.988Z"
   },
   {
    "duration": 40,
    "start_time": "2023-03-28T17:07:59.568Z"
   },
   {
    "duration": 14,
    "start_time": "2023-03-28T17:08:12.453Z"
   },
   {
    "duration": 55,
    "start_time": "2023-03-28T17:09:02.854Z"
   },
   {
    "duration": 49,
    "start_time": "2023-03-28T17:09:04.133Z"
   },
   {
    "duration": 12,
    "start_time": "2023-03-28T17:09:07.056Z"
   },
   {
    "duration": 35,
    "start_time": "2023-03-28T17:09:08.539Z"
   },
   {
    "duration": 62,
    "start_time": "2023-03-28T17:09:10.102Z"
   },
   {
    "duration": 54,
    "start_time": "2023-03-28T17:11:16.222Z"
   },
   {
    "duration": 54,
    "start_time": "2023-03-28T17:11:17.893Z"
   },
   {
    "duration": 15,
    "start_time": "2023-03-28T17:11:24.791Z"
   },
   {
    "duration": 15,
    "start_time": "2023-03-28T17:11:26.119Z"
   },
   {
    "duration": 52,
    "start_time": "2023-03-28T17:11:41.735Z"
   },
   {
    "duration": 80,
    "start_time": "2023-03-28T17:12:03.679Z"
   },
   {
    "duration": 73,
    "start_time": "2023-03-28T17:12:25.208Z"
   },
   {
    "duration": 76,
    "start_time": "2023-03-28T17:12:31.360Z"
   },
   {
    "duration": 54,
    "start_time": "2023-03-28T17:12:35.655Z"
   },
   {
    "duration": 19,
    "start_time": "2023-03-28T17:12:36.258Z"
   },
   {
    "duration": 25,
    "start_time": "2023-03-28T17:12:36.671Z"
   },
   {
    "duration": 10,
    "start_time": "2023-03-28T17:12:37.356Z"
   },
   {
    "duration": 10,
    "start_time": "2023-03-28T17:12:38.199Z"
   },
   {
    "duration": 15,
    "start_time": "2023-03-28T17:12:38.653Z"
   },
   {
    "duration": 49,
    "start_time": "2023-03-28T17:12:40.639Z"
   },
   {
    "duration": 240,
    "start_time": "2023-03-28T17:12:42.157Z"
   },
   {
    "duration": 30,
    "start_time": "2023-03-28T17:12:44.511Z"
   },
   {
    "duration": 135,
    "start_time": "2023-03-28T17:12:45.911Z"
   },
   {
    "duration": 38,
    "start_time": "2023-03-28T17:12:48.007Z"
   },
   {
    "duration": 16,
    "start_time": "2023-03-28T17:12:48.463Z"
   },
   {
    "duration": 82,
    "start_time": "2023-03-28T17:13:38.064Z"
   },
   {
    "duration": 71,
    "start_time": "2023-03-28T17:13:47.226Z"
   },
   {
    "duration": 73,
    "start_time": "2023-03-28T17:13:53.313Z"
   },
   {
    "duration": 59,
    "start_time": "2023-03-28T17:14:00.768Z"
   },
   {
    "duration": 46,
    "start_time": "2023-03-28T17:14:10.053Z"
   },
   {
    "duration": 251,
    "start_time": "2023-03-28T17:14:12.377Z"
   },
   {
    "duration": 30,
    "start_time": "2023-03-28T17:14:14.198Z"
   },
   {
    "duration": 134,
    "start_time": "2023-03-28T17:14:15.720Z"
   },
   {
    "duration": 38,
    "start_time": "2023-03-28T17:14:17.808Z"
   },
   {
    "duration": 15,
    "start_time": "2023-03-28T17:14:19.455Z"
   },
   {
    "duration": 62,
    "start_time": "2023-03-28T17:15:01.395Z"
   },
   {
    "duration": 17,
    "start_time": "2023-03-28T17:15:12.299Z"
   },
   {
    "duration": 51,
    "start_time": "2023-03-28T17:15:32.209Z"
   },
   {
    "duration": 131,
    "start_time": "2023-03-28T17:16:20.154Z"
   },
   {
    "duration": 41,
    "start_time": "2023-03-28T17:16:41.369Z"
   },
   {
    "duration": 47,
    "start_time": "2023-03-28T17:16:56.217Z"
   },
   {
    "duration": 44,
    "start_time": "2023-03-28T17:17:01.570Z"
   },
   {
    "duration": 901,
    "start_time": "2023-03-28T17:17:12.602Z"
   },
   {
    "duration": 50,
    "start_time": "2023-03-28T17:17:25.060Z"
   },
   {
    "duration": 52,
    "start_time": "2023-03-28T17:17:25.555Z"
   },
   {
    "duration": 42,
    "start_time": "2023-03-28T17:17:28.369Z"
   },
   {
    "duration": 43,
    "start_time": "2023-03-28T17:17:29.906Z"
   },
   {
    "duration": 794,
    "start_time": "2023-03-28T17:17:31.698Z"
   },
   {
    "duration": 37,
    "start_time": "2023-03-28T17:43:52.604Z"
   },
   {
    "duration": 46,
    "start_time": "2023-03-28T17:44:42.575Z"
   },
   {
    "duration": 74,
    "start_time": "2023-03-28T17:46:46.081Z"
   },
   {
    "duration": 81,
    "start_time": "2023-03-28T17:47:11.737Z"
   },
   {
    "duration": 78,
    "start_time": "2023-03-28T17:47:41.666Z"
   },
   {
    "duration": 98,
    "start_time": "2023-03-28T17:47:54.042Z"
   },
   {
    "duration": 94,
    "start_time": "2023-03-28T17:48:00.714Z"
   },
   {
    "duration": 49,
    "start_time": "2023-03-28T17:48:20.915Z"
   },
   {
    "duration": 34,
    "start_time": "2023-03-28T17:49:06.082Z"
   },
   {
    "duration": 335,
    "start_time": "2023-03-28T17:49:42.548Z"
   },
   {
    "duration": 327,
    "start_time": "2023-03-28T17:50:12.723Z"
   },
   {
    "duration": 51,
    "start_time": "2023-03-28T17:53:58.033Z"
   },
   {
    "duration": 17,
    "start_time": "2023-03-28T17:54:14.486Z"
   },
   {
    "duration": 11,
    "start_time": "2023-03-28T17:55:19.965Z"
   },
   {
    "duration": 9,
    "start_time": "2023-03-28T17:55:37.557Z"
   },
   {
    "duration": 15,
    "start_time": "2023-03-28T17:55:50.846Z"
   },
   {
    "duration": 77,
    "start_time": "2023-03-28T17:56:22.229Z"
   },
   {
    "duration": 45,
    "start_time": "2023-03-28T17:56:22.796Z"
   },
   {
    "duration": 18,
    "start_time": "2023-03-28T17:56:23.197Z"
   },
   {
    "duration": 25,
    "start_time": "2023-03-28T17:56:23.596Z"
   },
   {
    "duration": 10,
    "start_time": "2023-03-28T17:56:24.021Z"
   },
   {
    "duration": 11,
    "start_time": "2023-03-28T17:56:24.797Z"
   },
   {
    "duration": 17,
    "start_time": "2023-03-28T17:56:25.090Z"
   },
   {
    "duration": 40,
    "start_time": "2023-03-28T17:56:25.629Z"
   },
   {
    "duration": 247,
    "start_time": "2023-03-28T17:56:25.924Z"
   },
   {
    "duration": 31,
    "start_time": "2023-03-28T17:56:26.733Z"
   },
   {
    "duration": 242,
    "start_time": "2023-03-28T17:56:27.077Z"
   },
   {
    "duration": 40,
    "start_time": "2023-03-28T17:56:28.018Z"
   },
   {
    "duration": 63,
    "start_time": "2023-03-28T17:56:28.365Z"
   },
   {
    "duration": 39,
    "start_time": "2023-03-28T17:56:28.696Z"
   },
   {
    "duration": 796,
    "start_time": "2023-03-28T17:56:29.038Z"
   },
   {
    "duration": 23,
    "start_time": "2023-03-28T17:56:31.125Z"
   },
   {
    "duration": 27,
    "start_time": "2023-03-28T17:56:44.381Z"
   },
   {
    "duration": 389,
    "start_time": "2023-03-28T17:57:05.999Z"
   },
   {
    "duration": 297,
    "start_time": "2023-03-28T17:57:25.513Z"
   },
   {
    "duration": 414,
    "start_time": "2023-03-28T17:59:10.261Z"
   },
   {
    "duration": 440,
    "start_time": "2023-03-28T17:59:33.671Z"
   },
   {
    "duration": 376,
    "start_time": "2023-03-28T18:02:08.511Z"
   },
   {
    "duration": 341,
    "start_time": "2023-03-28T18:02:13.966Z"
   },
   {
    "duration": 406,
    "start_time": "2023-03-28T18:02:18.342Z"
   },
   {
    "duration": 473,
    "start_time": "2023-03-28T18:02:29.735Z"
   },
   {
    "duration": 1161,
    "start_time": "2023-03-28T18:03:24.357Z"
   },
   {
    "duration": 12,
    "start_time": "2023-03-28T18:13:19.326Z"
   },
   {
    "duration": 18,
    "start_time": "2023-03-28T18:13:53.606Z"
   },
   {
    "duration": 6,
    "start_time": "2023-03-28T18:14:04.514Z"
   },
   {
    "duration": 9,
    "start_time": "2023-03-28T18:14:54.312Z"
   },
   {
    "duration": 12,
    "start_time": "2023-03-28T18:15:09.337Z"
   },
   {
    "duration": 782,
    "start_time": "2023-03-28T18:15:43.691Z"
   },
   {
    "duration": 7,
    "start_time": "2023-03-28T18:15:51.942Z"
   },
   {
    "duration": 941,
    "start_time": "2023-03-28T18:16:34.942Z"
   },
   {
    "duration": 9,
    "start_time": "2023-03-28T18:16:49.199Z"
   },
   {
    "duration": 9,
    "start_time": "2023-03-28T18:19:06.318Z"
   },
   {
    "duration": 735,
    "start_time": "2023-03-28T18:19:10.429Z"
   },
   {
    "duration": 40,
    "start_time": "2023-03-28T18:19:12.091Z"
   },
   {
    "duration": 3,
    "start_time": "2023-03-28T18:19:52.927Z"
   },
   {
    "duration": 3,
    "start_time": "2023-03-28T18:19:56.216Z"
   },
   {
    "duration": 47,
    "start_time": "2023-03-28T18:20:02.092Z"
   },
   {
    "duration": 414,
    "start_time": "2023-03-28T18:21:36.033Z"
   },
   {
    "duration": 22,
    "start_time": "2023-03-28T18:21:37.518Z"
   },
   {
    "duration": 35,
    "start_time": "2023-03-28T18:21:39.288Z"
   },
   {
    "duration": 6,
    "start_time": "2023-03-28T18:22:00.685Z"
   },
   {
    "duration": 21,
    "start_time": "2023-03-28T18:22:06.065Z"
   },
   {
    "duration": 426,
    "start_time": "2023-03-28T18:22:08.825Z"
   },
   {
    "duration": 42,
    "start_time": "2023-03-28T18:22:09.985Z"
   },
   {
    "duration": 387,
    "start_time": "2023-03-28T18:22:25.122Z"
   },
   {
    "duration": 21,
    "start_time": "2023-03-28T18:24:14.627Z"
   },
   {
    "duration": 404,
    "start_time": "2023-03-28T18:24:17.097Z"
   },
   {
    "duration": 23,
    "start_time": "2023-03-28T18:24:18.466Z"
   },
   {
    "duration": 6,
    "start_time": "2023-03-28T18:24:32.426Z"
   },
   {
    "duration": 25,
    "start_time": "2023-03-28T18:25:03.402Z"
   },
   {
    "duration": 24,
    "start_time": "2023-03-28T18:27:21.407Z"
   },
   {
    "duration": 25,
    "start_time": "2023-03-28T18:27:28.948Z"
   },
   {
    "duration": 4,
    "start_time": "2023-03-28T18:27:57.023Z"
   },
   {
    "duration": 284,
    "start_time": "2023-03-28T18:27:58.323Z"
   },
   {
    "duration": 17,
    "start_time": "2023-03-28T18:27:59.204Z"
   },
   {
    "duration": 8,
    "start_time": "2023-03-28T18:27:59.667Z"
   },
   {
    "duration": 12,
    "start_time": "2023-03-28T18:28:01.659Z"
   },
   {
    "duration": 34,
    "start_time": "2023-03-28T18:28:02.205Z"
   },
   {
    "duration": 224,
    "start_time": "2023-03-28T18:28:02.240Z"
   },
   {
    "duration": 7,
    "start_time": "2023-03-28T18:28:02.466Z"
   },
   {
    "duration": 49,
    "start_time": "2023-03-28T18:28:02.474Z"
   },
   {
    "duration": 43,
    "start_time": "2023-03-28T18:28:02.524Z"
   },
   {
    "duration": 69,
    "start_time": "2023-03-28T18:28:02.569Z"
   },
   {
    "duration": 39,
    "start_time": "2023-03-28T18:28:02.639Z"
   },
   {
    "duration": 72,
    "start_time": "2023-03-28T18:28:02.680Z"
   },
   {
    "duration": 54,
    "start_time": "2023-03-28T18:28:02.754Z"
   },
   {
    "duration": 26,
    "start_time": "2023-03-28T18:28:02.810Z"
   },
   {
    "duration": 106,
    "start_time": "2023-03-28T18:28:02.837Z"
   },
   {
    "duration": 9,
    "start_time": "2023-03-28T18:28:02.944Z"
   },
   {
    "duration": 12,
    "start_time": "2023-03-28T18:28:02.956Z"
   },
   {
    "duration": 83,
    "start_time": "2023-03-28T18:28:02.969Z"
   },
   {
    "duration": 65,
    "start_time": "2023-03-28T18:28:03.054Z"
   },
   {
    "duration": 49,
    "start_time": "2023-03-28T18:28:03.122Z"
   },
   {
    "duration": 46,
    "start_time": "2023-03-28T18:28:03.173Z"
   },
   {
    "duration": 68,
    "start_time": "2023-03-28T18:28:03.222Z"
   },
   {
    "duration": 170,
    "start_time": "2023-03-28T18:28:03.293Z"
   },
   {
    "duration": 63,
    "start_time": "2023-03-28T18:28:03.465Z"
   },
   {
    "duration": 63,
    "start_time": "2023-03-28T18:28:03.530Z"
   },
   {
    "duration": 57,
    "start_time": "2023-03-28T18:28:03.595Z"
   },
   {
    "duration": 5,
    "start_time": "2023-03-28T18:28:03.654Z"
   },
   {
    "duration": 58,
    "start_time": "2023-03-28T18:28:03.660Z"
   },
   {
    "duration": 371,
    "start_time": "2023-03-28T18:28:03.720Z"
   },
   {
    "duration": 12,
    "start_time": "2023-03-28T18:28:04.093Z"
   },
   {
    "duration": 262,
    "start_time": "2023-03-28T18:28:04.107Z"
   },
   {
    "duration": 111,
    "start_time": "2023-03-28T18:28:04.372Z"
   },
   {
    "duration": 15,
    "start_time": "2023-03-28T18:28:04.485Z"
   },
   {
    "duration": 36,
    "start_time": "2023-03-28T18:28:04.503Z"
   },
   {
    "duration": 302,
    "start_time": "2023-03-28T18:28:04.540Z"
   },
   {
    "duration": 56,
    "start_time": "2023-03-28T18:28:04.846Z"
   },
   {
    "duration": 20,
    "start_time": "2023-03-28T18:28:04.904Z"
   },
   {
    "duration": 133,
    "start_time": "2023-03-28T18:28:04.927Z"
   },
   {
    "duration": 81,
    "start_time": "2023-03-28T18:28:05.062Z"
   },
   {
    "duration": 21,
    "start_time": "2023-03-28T18:28:05.147Z"
   },
   {
    "duration": 52,
    "start_time": "2023-03-28T18:28:05.170Z"
   },
   {
    "duration": 48,
    "start_time": "2023-03-28T18:28:05.224Z"
   },
   {
    "duration": 45,
    "start_time": "2023-03-28T18:28:05.274Z"
   },
   {
    "duration": 29,
    "start_time": "2023-03-28T18:28:05.323Z"
   },
   {
    "duration": 82,
    "start_time": "2023-03-28T18:28:05.354Z"
   },
   {
    "duration": 292,
    "start_time": "2023-03-28T18:28:05.437Z"
   },
   {
    "duration": 36,
    "start_time": "2023-03-28T18:28:05.731Z"
   },
   {
    "duration": 184,
    "start_time": "2023-03-28T18:28:05.769Z"
   },
   {
    "duration": 51,
    "start_time": "2023-03-28T18:28:05.954Z"
   },
   {
    "duration": 101,
    "start_time": "2023-03-28T18:28:06.007Z"
   },
   {
    "duration": 44,
    "start_time": "2023-03-28T18:28:06.110Z"
   },
   {
    "duration": 1009,
    "start_time": "2023-03-28T18:28:06.156Z"
   },
   {
    "duration": 32,
    "start_time": "2023-03-28T18:28:07.167Z"
   },
   {
    "duration": 369,
    "start_time": "2023-03-28T18:28:07.209Z"
   },
   {
    "duration": 331,
    "start_time": "2023-03-28T18:28:07.583Z"
   },
   {
    "duration": 18,
    "start_time": "2023-03-28T18:28:07.916Z"
   },
   {
    "duration": 499,
    "start_time": "2023-03-28T18:28:07.936Z"
   },
   {
    "duration": 7,
    "start_time": "2023-03-28T18:28:08.437Z"
   },
   {
    "duration": 24,
    "start_time": "2023-03-28T18:28:08.445Z"
   },
   {
    "duration": 7,
    "start_time": "2023-03-28T18:31:31.531Z"
   },
   {
    "duration": 38,
    "start_time": "2023-03-28T18:31:36.557Z"
   },
   {
    "duration": 24,
    "start_time": "2023-03-28T18:31:37.312Z"
   },
   {
    "duration": 43,
    "start_time": "2023-03-28T18:31:52.468Z"
   },
   {
    "duration": 81,
    "start_time": "2023-03-28T18:31:55.157Z"
   },
   {
    "duration": 425,
    "start_time": "2023-03-28T18:32:03.110Z"
   },
   {
    "duration": 35,
    "start_time": "2023-03-28T18:32:04.942Z"
   },
   {
    "duration": 9,
    "start_time": "2023-03-28T18:38:15.407Z"
   },
   {
    "duration": 7,
    "start_time": "2023-03-28T18:40:08.887Z"
   },
   {
    "duration": 322,
    "start_time": "2023-03-28T18:40:17.895Z"
   },
   {
    "duration": 7,
    "start_time": "2023-03-28T18:40:18.959Z"
   },
   {
    "duration": 134,
    "start_time": "2023-03-28T18:40:58.358Z"
   },
   {
    "duration": 7,
    "start_time": "2023-03-28T18:40:59.782Z"
   },
   {
    "duration": 7,
    "start_time": "2023-03-28T18:41:01.592Z"
   },
   {
    "duration": 6,
    "start_time": "2023-03-28T18:41:10.055Z"
   },
   {
    "duration": 2,
    "start_time": "2023-03-28T18:41:40.431Z"
   },
   {
    "duration": 5,
    "start_time": "2023-03-28T18:41:41.807Z"
   },
   {
    "duration": 6,
    "start_time": "2023-03-28T18:41:45.255Z"
   },
   {
    "duration": 6,
    "start_time": "2023-03-28T18:42:05.433Z"
   },
   {
    "duration": 4,
    "start_time": "2023-03-28T18:42:19.503Z"
   },
   {
    "duration": 6,
    "start_time": "2023-03-28T18:42:20.809Z"
   },
   {
    "duration": 7,
    "start_time": "2023-03-28T18:42:22.870Z"
   },
   {
    "duration": 17,
    "start_time": "2023-03-28T18:42:25.167Z"
   },
   {
    "duration": 11,
    "start_time": "2023-03-28T18:43:26.063Z"
   },
   {
    "duration": 10,
    "start_time": "2023-03-28T18:44:00.646Z"
   },
   {
    "duration": 13,
    "start_time": "2023-03-28T18:44:30.801Z"
   },
   {
    "duration": 13,
    "start_time": "2023-03-28T18:44:33.384Z"
   },
   {
    "duration": 3,
    "start_time": "2023-03-28T18:46:25.264Z"
   },
   {
    "duration": 3,
    "start_time": "2023-03-28T18:46:26.239Z"
   },
   {
    "duration": 5,
    "start_time": "2023-03-28T18:46:27.263Z"
   },
   {
    "duration": 13,
    "start_time": "2023-03-28T18:48:41.264Z"
   },
   {
    "duration": 3,
    "start_time": "2023-03-28T18:54:29.191Z"
   },
   {
    "duration": 6,
    "start_time": "2023-03-28T18:54:30.591Z"
   },
   {
    "duration": 6,
    "start_time": "2023-03-28T18:54:38.103Z"
   },
   {
    "duration": 6,
    "start_time": "2023-03-28T18:54:50.614Z"
   },
   {
    "duration": 4,
    "start_time": "2023-03-28T18:55:33.237Z"
   },
   {
    "duration": 5,
    "start_time": "2023-03-28T18:55:34.998Z"
   },
   {
    "duration": 4,
    "start_time": "2023-03-28T18:55:36.198Z"
   },
   {
    "duration": 7,
    "start_time": "2023-03-28T18:55:37.462Z"
   },
   {
    "duration": 43,
    "start_time": "2023-03-28T18:55:54.550Z"
   },
   {
    "duration": 5,
    "start_time": "2023-03-28T18:55:58.937Z"
   },
   {
    "duration": 8,
    "start_time": "2023-03-28T18:56:00.495Z"
   },
   {
    "duration": 8,
    "start_time": "2023-03-28T18:56:03.431Z"
   },
   {
    "duration": 8,
    "start_time": "2023-03-28T18:56:05.736Z"
   },
   {
    "duration": 10,
    "start_time": "2023-03-28T19:01:06.197Z"
   },
   {
    "duration": 12,
    "start_time": "2023-03-28T19:01:07.462Z"
   },
   {
    "duration": 11,
    "start_time": "2023-03-28T19:01:19.772Z"
   },
   {
    "duration": 5,
    "start_time": "2023-03-28T19:01:32.877Z"
   },
   {
    "duration": 1007,
    "start_time": "2023-03-28T19:03:36.116Z"
   },
   {
    "duration": 604,
    "start_time": "2023-03-28T19:03:50.050Z"
   },
   {
    "duration": 10,
    "start_time": "2023-03-28T19:04:00.445Z"
   },
   {
    "duration": 10,
    "start_time": "2023-03-28T19:04:06.291Z"
   },
   {
    "duration": 7,
    "start_time": "2023-03-28T19:04:12.538Z"
   },
   {
    "duration": 8,
    "start_time": "2023-03-28T19:04:16.300Z"
   },
   {
    "duration": 10,
    "start_time": "2023-03-28T19:04:21.004Z"
   },
   {
    "duration": 10,
    "start_time": "2023-03-28T19:04:52.446Z"
   },
   {
    "duration": 9,
    "start_time": "2023-03-28T19:04:58.950Z"
   },
   {
    "duration": 13,
    "start_time": "2023-03-28T19:05:14.988Z"
   },
   {
    "duration": 7,
    "start_time": "2023-03-28T19:05:16.648Z"
   },
   {
    "duration": 63,
    "start_time": "2023-03-28T19:05:45.973Z"
   },
   {
    "duration": 10,
    "start_time": "2023-03-28T19:05:53.404Z"
   },
   {
    "duration": 80,
    "start_time": "2023-03-28T19:06:19.364Z"
   },
   {
    "duration": 67,
    "start_time": "2023-03-28T19:07:03.563Z"
   },
   {
    "duration": 51,
    "start_time": "2023-03-28T19:07:19.315Z"
   },
   {
    "duration": 47,
    "start_time": "2023-03-28T19:07:36.901Z"
   },
   {
    "duration": 73,
    "start_time": "2023-03-28T19:07:42.539Z"
   },
   {
    "duration": 14,
    "start_time": "2023-03-28T19:07:51.040Z"
   },
   {
    "duration": 19,
    "start_time": "2023-03-28T19:08:13.780Z"
   },
   {
    "duration": 10,
    "start_time": "2023-03-28T19:08:16.703Z"
   },
   {
    "duration": 10,
    "start_time": "2023-03-28T19:08:42.243Z"
   },
   {
    "duration": 9,
    "start_time": "2023-03-28T19:08:49.846Z"
   },
   {
    "duration": 457,
    "start_time": "2023-03-28T19:09:00.715Z"
   },
   {
    "duration": 7,
    "start_time": "2023-03-28T19:09:11.841Z"
   },
   {
    "duration": 80,
    "start_time": "2023-03-28T19:13:15.074Z"
   },
   {
    "duration": 48,
    "start_time": "2023-03-28T19:13:23.538Z"
   },
   {
    "duration": 458,
    "start_time": "2023-03-28T19:13:26.610Z"
   },
   {
    "duration": 464,
    "start_time": "2023-03-28T19:16:13.202Z"
   },
   {
    "duration": 11,
    "start_time": "2023-03-28T19:16:14.737Z"
   },
   {
    "duration": 17,
    "start_time": "2023-03-28T19:16:19.810Z"
   },
   {
    "duration": 483,
    "start_time": "2023-03-28T19:16:24.545Z"
   },
   {
    "duration": 9,
    "start_time": "2023-03-28T19:16:55.810Z"
   },
   {
    "duration": 497,
    "start_time": "2023-03-28T19:17:05.703Z"
   },
   {
    "duration": 1215,
    "start_time": "2023-03-28T19:17:07.176Z"
   },
   {
    "duration": 841,
    "start_time": "2023-03-28T19:17:11.778Z"
   },
   {
    "duration": 458,
    "start_time": "2023-03-28T19:17:13.141Z"
   },
   {
    "duration": 442,
    "start_time": "2023-03-28T19:17:18.457Z"
   },
   {
    "duration": 7,
    "start_time": "2023-03-28T19:17:19.243Z"
   },
   {
    "duration": 950,
    "start_time": "2023-03-28T19:18:08.259Z"
   },
   {
    "duration": 677,
    "start_time": "2023-03-28T19:18:25.500Z"
   },
   {
    "duration": 6,
    "start_time": "2023-03-28T19:18:26.811Z"
   },
   {
    "duration": 7,
    "start_time": "2023-03-28T19:18:28.115Z"
   },
   {
    "duration": 697,
    "start_time": "2023-03-28T19:19:03.977Z"
   },
   {
    "duration": 11,
    "start_time": "2023-03-28T19:19:05.505Z"
   },
   {
    "duration": 648,
    "start_time": "2023-03-28T19:19:08.894Z"
   },
   {
    "duration": 21,
    "start_time": "2023-03-28T19:19:14.742Z"
   },
   {
    "duration": 628,
    "start_time": "2023-03-28T19:19:36.198Z"
   },
   {
    "duration": 7,
    "start_time": "2023-03-28T19:19:37.505Z"
   },
   {
    "duration": 6,
    "start_time": "2023-03-28T19:19:38.753Z"
   },
   {
    "duration": 32,
    "start_time": "2023-03-28T19:19:41.562Z"
   },
   {
    "duration": 1218,
    "start_time": "2023-03-28T19:20:36.481Z"
   },
   {
    "duration": 18,
    "start_time": "2023-03-28T19:20:37.905Z"
   },
   {
    "duration": 13,
    "start_time": "2023-03-28T19:20:41.017Z"
   },
   {
    "duration": 1394,
    "start_time": "2023-03-28T19:20:43.809Z"
   },
   {
    "duration": 1118,
    "start_time": "2023-03-28T19:20:46.640Z"
   },
   {
    "duration": 358,
    "start_time": "2023-03-28T19:20:59.977Z"
   },
   {
    "duration": 6,
    "start_time": "2023-03-28T19:21:01.810Z"
   },
   {
    "duration": 7,
    "start_time": "2023-03-28T19:21:03.497Z"
   },
   {
    "duration": 6,
    "start_time": "2023-03-28T19:21:05.498Z"
   },
   {
    "duration": 33,
    "start_time": "2023-03-28T19:21:07.258Z"
   },
   {
    "duration": 23,
    "start_time": "2023-03-28T19:21:10.506Z"
   },
   {
    "duration": 361,
    "start_time": "2023-03-28T19:32:41.158Z"
   },
   {
    "duration": 62,
    "start_time": "2023-03-28T19:32:42.543Z"
   },
   {
    "duration": 52,
    "start_time": "2023-03-28T19:32:45.683Z"
   },
   {
    "duration": 11,
    "start_time": "2023-03-28T19:32:51.398Z"
   },
   {
    "duration": 1470,
    "start_time": "2023-03-28T19:33:31.483Z"
   },
   {
    "duration": 16,
    "start_time": "2023-03-28T19:33:33.041Z"
   },
   {
    "duration": 16,
    "start_time": "2023-03-28T19:33:34.874Z"
   },
   {
    "duration": 1629,
    "start_time": "2023-03-28T19:33:37.227Z"
   },
   {
    "duration": 11,
    "start_time": "2023-03-28T19:33:39.122Z"
   },
   {
    "duration": 676,
    "start_time": "2023-03-28T19:33:51.346Z"
   },
   {
    "duration": 74,
    "start_time": "2023-03-28T19:33:52.826Z"
   },
   {
    "duration": 77,
    "start_time": "2023-03-28T19:33:59.827Z"
   },
   {
    "duration": 16,
    "start_time": "2023-03-28T19:34:08.155Z"
   },
   {
    "duration": 597,
    "start_time": "2023-03-28T19:34:28.706Z"
   },
   {
    "duration": 10,
    "start_time": "2023-03-28T19:39:30.144Z"
   },
   {
    "duration": 11,
    "start_time": "2023-03-28T19:40:27.768Z"
   },
   {
    "duration": 10,
    "start_time": "2023-03-28T19:40:48.351Z"
   },
   {
    "duration": 10,
    "start_time": "2023-03-28T19:40:54.620Z"
   },
   {
    "duration": 10,
    "start_time": "2023-03-28T19:41:05.916Z"
   },
   {
    "duration": 12,
    "start_time": "2023-03-28T19:41:08.149Z"
   },
   {
    "duration": 11,
    "start_time": "2023-03-28T19:41:27.867Z"
   },
   {
    "duration": 11,
    "start_time": "2023-03-28T19:43:21.150Z"
   },
   {
    "duration": 10,
    "start_time": "2023-03-28T19:43:38.219Z"
   },
   {
    "duration": 11,
    "start_time": "2023-03-28T19:43:41.259Z"
   },
   {
    "duration": 10,
    "start_time": "2023-03-28T19:43:42.452Z"
   },
   {
    "duration": 9,
    "start_time": "2023-03-28T19:43:43.387Z"
   },
   {
    "duration": 12,
    "start_time": "2023-03-28T19:44:00.315Z"
   },
   {
    "duration": 83,
    "start_time": "2023-03-28T19:44:45.388Z"
   },
   {
    "duration": 10,
    "start_time": "2023-03-28T19:44:58.879Z"
   },
   {
    "duration": 12,
    "start_time": "2023-03-28T19:45:11.307Z"
   },
   {
    "duration": 12,
    "start_time": "2023-03-28T19:45:12.812Z"
   },
   {
    "duration": 9,
    "start_time": "2023-03-28T19:45:13.988Z"
   },
   {
    "duration": 688,
    "start_time": "2023-03-28T19:45:16.054Z"
   },
   {
    "duration": 14,
    "start_time": "2023-03-28T19:45:18.932Z"
   },
   {
    "duration": 640,
    "start_time": "2023-03-28T19:45:23.075Z"
   },
   {
    "duration": 14,
    "start_time": "2023-03-28T19:45:27.128Z"
   },
   {
    "duration": 17,
    "start_time": "2023-03-28T19:45:30.916Z"
   },
   {
    "duration": 13,
    "start_time": "2023-03-28T19:45:47.045Z"
   },
   {
    "duration": 13,
    "start_time": "2023-03-28T19:45:49.670Z"
   },
   {
    "duration": 16,
    "start_time": "2023-03-28T19:45:56.580Z"
   },
   {
    "duration": 16,
    "start_time": "2023-03-28T19:45:57.797Z"
   },
   {
    "duration": 18,
    "start_time": "2023-03-28T19:46:17.580Z"
   },
   {
    "duration": 20,
    "start_time": "2023-03-28T19:46:19.212Z"
   },
   {
    "duration": 47,
    "start_time": "2023-03-28T19:47:55.865Z"
   },
   {
    "duration": 4,
    "start_time": "2023-03-28T19:48:05.923Z"
   },
   {
    "duration": 23,
    "start_time": "2023-03-28T19:48:15.269Z"
   },
   {
    "duration": 589,
    "start_time": "2023-03-28T19:48:31.324Z"
   },
   {
    "duration": 12,
    "start_time": "2023-03-28T19:48:32.243Z"
   },
   {
    "duration": 12,
    "start_time": "2023-03-28T19:48:34.492Z"
   },
   {
    "duration": 6,
    "start_time": "2023-03-28T19:49:08.770Z"
   },
   {
    "duration": 7,
    "start_time": "2023-03-28T19:49:34.203Z"
   },
   {
    "duration": 679,
    "start_time": "2023-03-28T19:49:55.556Z"
   },
   {
    "duration": 6,
    "start_time": "2023-03-28T19:50:00.724Z"
   },
   {
    "duration": 4,
    "start_time": "2023-03-28T19:50:29.468Z"
   },
   {
    "duration": 19,
    "start_time": "2023-03-28T19:50:54.032Z"
   },
   {
    "duration": 21,
    "start_time": "2023-03-28T19:51:13.743Z"
   },
   {
    "duration": 36,
    "start_time": "2023-03-28T19:52:25.300Z"
   },
   {
    "duration": 20,
    "start_time": "2023-03-28T19:52:25.759Z"
   },
   {
    "duration": 37,
    "start_time": "2023-03-28T19:52:26.164Z"
   },
   {
    "duration": 7,
    "start_time": "2023-03-28T19:52:33.923Z"
   },
   {
    "duration": 7,
    "start_time": "2023-03-28T19:52:38.558Z"
   },
   {
    "duration": 23,
    "start_time": "2023-03-28T19:52:40.381Z"
   },
   {
    "duration": 27,
    "start_time": "2023-03-28T19:52:43.804Z"
   },
   {
    "duration": 6,
    "start_time": "2023-03-28T19:52:49.301Z"
   },
   {
    "duration": 6,
    "start_time": "2023-03-28T19:53:54.774Z"
   },
   {
    "duration": 6,
    "start_time": "2023-03-28T19:54:16.084Z"
   },
   {
    "duration": 6,
    "start_time": "2023-03-28T19:55:14.284Z"
   },
   {
    "duration": 21,
    "start_time": "2023-03-28T19:55:17.759Z"
   },
   {
    "duration": 6,
    "start_time": "2023-03-28T19:55:37.763Z"
   },
   {
    "duration": 392,
    "start_time": "2023-03-28T19:55:39.372Z"
   },
   {
    "duration": 28,
    "start_time": "2023-03-28T19:55:43.977Z"
   },
   {
    "duration": 325,
    "start_time": "2023-03-28T19:55:52.707Z"
   },
   {
    "duration": 386,
    "start_time": "2023-03-28T19:56:07.900Z"
   },
   {
    "duration": 25,
    "start_time": "2023-03-28T19:56:09.732Z"
   },
   {
    "duration": 24,
    "start_time": "2023-03-28T19:56:12.150Z"
   },
   {
    "duration": 95,
    "start_time": "2023-03-28T19:56:13.788Z"
   },
   {
    "duration": 98,
    "start_time": "2023-03-28T19:56:17.212Z"
   },
   {
    "duration": 8,
    "start_time": "2023-03-28T19:56:22.804Z"
   },
   {
    "duration": 7,
    "start_time": "2023-03-28T19:57:44.523Z"
   },
   {
    "duration": 7,
    "start_time": "2023-03-28T19:57:47.560Z"
   },
   {
    "duration": 10,
    "start_time": "2023-03-28T20:06:24.878Z"
   },
   {
    "duration": 6,
    "start_time": "2023-03-28T20:07:54.312Z"
   },
   {
    "duration": 9,
    "start_time": "2023-03-28T20:08:00.694Z"
   },
   {
    "duration": 60,
    "start_time": "2023-03-28T20:08:52.565Z"
   },
   {
    "duration": 48,
    "start_time": "2023-03-28T20:24:14.672Z"
   },
   {
    "duration": 802,
    "start_time": "2023-03-28T20:24:15.969Z"
   },
   {
    "duration": 881,
    "start_time": "2023-03-28T20:24:31.633Z"
   },
   {
    "duration": 22,
    "start_time": "2023-03-28T20:30:41.771Z"
   },
   {
    "duration": 51,
    "start_time": "2023-03-28T20:38:59.492Z"
   },
   {
    "duration": 13,
    "start_time": "2023-03-28T20:39:34.108Z"
   },
   {
    "duration": 10,
    "start_time": "2023-03-28T20:39:41.404Z"
   },
   {
    "duration": 10,
    "start_time": "2023-03-28T20:39:49.871Z"
   },
   {
    "duration": 6,
    "start_time": "2023-03-28T20:39:54.013Z"
   },
   {
    "duration": 16,
    "start_time": "2023-03-28T20:40:02.109Z"
   },
   {
    "duration": 22,
    "start_time": "2023-03-28T20:40:54.084Z"
   },
   {
    "duration": 347,
    "start_time": "2023-03-28T20:41:12.229Z"
   },
   {
    "duration": 14,
    "start_time": "2023-03-28T20:41:49.203Z"
   },
   {
    "duration": 557,
    "start_time": "2023-03-28T20:41:58.115Z"
   },
   {
    "duration": 18,
    "start_time": "2023-03-28T20:43:57.950Z"
   },
   {
    "duration": 411,
    "start_time": "2023-03-28T20:44:14.173Z"
   },
   {
    "duration": 17,
    "start_time": "2023-03-28T20:44:50.977Z"
   },
   {
    "duration": 805,
    "start_time": "2023-03-28T20:44:56.386Z"
   },
   {
    "duration": 50,
    "start_time": "2023-03-28T20:46:23.062Z"
   },
   {
    "duration": 17,
    "start_time": "2023-03-28T20:46:35.323Z"
   },
   {
    "duration": 361,
    "start_time": "2023-03-28T20:48:48.869Z"
   },
   {
    "duration": 441,
    "start_time": "2023-03-28T20:49:07.234Z"
   },
   {
    "duration": 341,
    "start_time": "2023-03-28T20:49:35.080Z"
   },
   {
    "duration": 348,
    "start_time": "2023-03-28T20:55:40.039Z"
   },
   {
    "duration": 51,
    "start_time": "2023-03-29T13:36:24.324Z"
   },
   {
    "duration": 9,
    "start_time": "2023-03-29T13:37:04.140Z"
   },
   {
    "duration": 8,
    "start_time": "2023-03-29T13:37:13.198Z"
   },
   {
    "duration": 1597,
    "start_time": "2023-03-29T13:37:25.140Z"
   },
   {
    "duration": 972,
    "start_time": "2023-03-29T13:37:26.739Z"
   },
   {
    "duration": 16,
    "start_time": "2023-03-29T13:37:27.713Z"
   },
   {
    "duration": 31,
    "start_time": "2023-03-29T13:37:27.730Z"
   },
   {
    "duration": 17,
    "start_time": "2023-03-29T13:37:27.763Z"
   },
   {
    "duration": 38,
    "start_time": "2023-03-29T13:37:27.782Z"
   },
   {
    "duration": 214,
    "start_time": "2023-03-29T13:37:27.822Z"
   },
   {
    "duration": 11,
    "start_time": "2023-03-29T13:37:28.038Z"
   },
   {
    "duration": 29,
    "start_time": "2023-03-29T13:37:28.051Z"
   },
   {
    "duration": 11,
    "start_time": "2023-03-29T13:37:28.083Z"
   },
   {
    "duration": 34,
    "start_time": "2023-03-29T13:37:28.097Z"
   },
   {
    "duration": 6,
    "start_time": "2023-03-29T13:37:28.134Z"
   },
   {
    "duration": 40,
    "start_time": "2023-03-29T13:37:28.142Z"
   },
   {
    "duration": 7,
    "start_time": "2023-03-29T13:37:28.187Z"
   },
   {
    "duration": 20,
    "start_time": "2023-03-29T13:37:28.196Z"
   },
   {
    "duration": 92,
    "start_time": "2023-03-29T13:37:28.218Z"
   },
   {
    "duration": 21,
    "start_time": "2023-03-29T13:37:28.312Z"
   },
   {
    "duration": 4,
    "start_time": "2023-03-29T13:37:28.335Z"
   },
   {
    "duration": 60,
    "start_time": "2023-03-29T13:37:28.342Z"
   },
   {
    "duration": 21,
    "start_time": "2023-03-29T13:37:28.404Z"
   },
   {
    "duration": 45,
    "start_time": "2023-03-29T13:37:28.427Z"
   },
   {
    "duration": 34,
    "start_time": "2023-03-29T13:37:28.474Z"
   },
   {
    "duration": 68,
    "start_time": "2023-03-29T13:37:28.510Z"
   },
   {
    "duration": 163,
    "start_time": "2023-03-29T13:37:28.580Z"
   },
   {
    "duration": 55,
    "start_time": "2023-03-29T13:37:28.744Z"
   },
   {
    "duration": 74,
    "start_time": "2023-03-29T13:37:28.801Z"
   },
   {
    "duration": 69,
    "start_time": "2023-03-29T13:37:28.878Z"
   },
   {
    "duration": 6,
    "start_time": "2023-03-29T13:37:28.949Z"
   },
   {
    "duration": 18,
    "start_time": "2023-03-29T13:37:28.957Z"
   },
   {
    "duration": 407,
    "start_time": "2023-03-29T13:37:28.977Z"
   },
   {
    "duration": 8,
    "start_time": "2023-03-29T13:37:29.386Z"
   },
   {
    "duration": 254,
    "start_time": "2023-03-29T13:37:29.397Z"
   },
   {
    "duration": 106,
    "start_time": "2023-03-29T13:37:29.653Z"
   },
   {
    "duration": 174,
    "start_time": "2023-03-29T13:37:29.761Z"
   },
   {
    "duration": 11,
    "start_time": "2023-03-29T13:37:29.937Z"
   },
   {
    "duration": 458,
    "start_time": "2023-03-29T13:37:29.950Z"
   },
   {
    "duration": 12,
    "start_time": "2023-03-29T13:37:30.410Z"
   },
   {
    "duration": 394,
    "start_time": "2023-03-29T13:37:30.434Z"
   },
   {
    "duration": 42,
    "start_time": "2023-03-29T13:37:30.831Z"
   },
   {
    "duration": 74,
    "start_time": "2023-03-29T13:37:30.875Z"
   },
   {
    "duration": 118,
    "start_time": "2023-03-29T13:37:30.953Z"
   },
   {
    "duration": 68,
    "start_time": "2023-03-29T13:37:31.073Z"
   },
   {
    "duration": 21,
    "start_time": "2023-03-29T13:37:31.143Z"
   },
   {
    "duration": 35,
    "start_time": "2023-03-29T13:37:31.165Z"
   },
   {
    "duration": 14,
    "start_time": "2023-03-29T13:37:31.202Z"
   },
   {
    "duration": 27,
    "start_time": "2023-03-29T13:37:31.218Z"
   },
   {
    "duration": 35,
    "start_time": "2023-03-29T13:37:31.247Z"
   },
   {
    "duration": 88,
    "start_time": "2023-03-29T13:37:31.284Z"
   },
   {
    "duration": 285,
    "start_time": "2023-03-29T13:37:31.374Z"
   },
   {
    "duration": 39,
    "start_time": "2023-03-29T13:37:31.661Z"
   },
   {
    "duration": 175,
    "start_time": "2023-03-29T13:37:31.702Z"
   },
   {
    "duration": 44,
    "start_time": "2023-03-29T13:37:31.879Z"
   },
   {
    "duration": 112,
    "start_time": "2023-03-29T13:37:31.933Z"
   },
   {
    "duration": 45,
    "start_time": "2023-03-29T13:37:32.046Z"
   },
   {
    "duration": 867,
    "start_time": "2023-03-29T13:37:32.092Z"
   },
   {
    "duration": 12,
    "start_time": "2023-03-29T13:37:32.960Z"
   },
   {
    "duration": 159,
    "start_time": "2023-03-29T13:37:32.974Z"
   },
   {
    "duration": 0,
    "start_time": "2023-03-29T13:37:33.136Z"
   },
   {
    "duration": 0,
    "start_time": "2023-03-29T13:37:33.137Z"
   },
   {
    "duration": 0,
    "start_time": "2023-03-29T13:37:33.139Z"
   },
   {
    "duration": 0,
    "start_time": "2023-03-29T13:37:33.140Z"
   },
   {
    "duration": 0,
    "start_time": "2023-03-29T13:37:33.141Z"
   },
   {
    "duration": 0,
    "start_time": "2023-03-29T13:37:33.142Z"
   },
   {
    "duration": 0,
    "start_time": "2023-03-29T13:37:33.143Z"
   },
   {
    "duration": 8,
    "start_time": "2023-03-29T13:37:56.655Z"
   },
   {
    "duration": 11,
    "start_time": "2023-03-29T13:38:21.664Z"
   },
   {
    "duration": 11,
    "start_time": "2023-03-29T13:38:40.183Z"
   },
   {
    "duration": 7,
    "start_time": "2023-03-29T13:38:48.867Z"
   },
   {
    "duration": 1118,
    "start_time": "2023-03-29T13:40:01.054Z"
   },
   {
    "duration": 12,
    "start_time": "2023-03-29T13:40:05.207Z"
   },
   {
    "duration": 32,
    "start_time": "2023-03-29T13:42:15.030Z"
   },
   {
    "duration": 43,
    "start_time": "2023-03-29T13:44:04.102Z"
   },
   {
    "duration": 46,
    "start_time": "2023-03-29T13:47:58.678Z"
   },
   {
    "duration": 54,
    "start_time": "2023-03-29T13:48:00.493Z"
   },
   {
    "duration": 43,
    "start_time": "2023-03-29T13:48:01.413Z"
   },
   {
    "duration": 22,
    "start_time": "2023-03-29T13:49:09.068Z"
   },
   {
    "duration": 22,
    "start_time": "2023-03-29T13:49:46.316Z"
   },
   {
    "duration": 11,
    "start_time": "2023-03-29T13:51:29.275Z"
   },
   {
    "duration": 20,
    "start_time": "2023-03-29T13:51:32.691Z"
   },
   {
    "duration": 35,
    "start_time": "2023-03-29T13:52:15.045Z"
   },
   {
    "duration": 21,
    "start_time": "2023-03-29T13:52:25.869Z"
   },
   {
    "duration": 34,
    "start_time": "2023-03-29T13:52:49.140Z"
   },
   {
    "duration": 7,
    "start_time": "2023-03-29T13:53:46.931Z"
   },
   {
    "duration": 9,
    "start_time": "2023-03-29T13:56:14.978Z"
   },
   {
    "duration": 119,
    "start_time": "2023-03-29T13:56:50.603Z"
   },
   {
    "duration": 11,
    "start_time": "2023-03-29T13:56:55.659Z"
   },
   {
    "duration": 11,
    "start_time": "2023-03-29T13:57:02.258Z"
   },
   {
    "duration": 33,
    "start_time": "2023-03-29T13:57:11.531Z"
   },
   {
    "duration": 30,
    "start_time": "2023-03-29T14:08:54.160Z"
   },
   {
    "duration": 22,
    "start_time": "2023-03-29T14:09:30.184Z"
   },
   {
    "duration": 40,
    "start_time": "2023-03-29T14:10:10.161Z"
   },
   {
    "duration": 40,
    "start_time": "2023-03-29T14:10:25.016Z"
   },
   {
    "duration": 785,
    "start_time": "2023-03-29T14:10:41.424Z"
   },
   {
    "duration": 16,
    "start_time": "2023-03-29T14:11:09.599Z"
   },
   {
    "duration": 9,
    "start_time": "2023-03-29T14:11:22.951Z"
   },
   {
    "duration": 12,
    "start_time": "2023-03-29T14:11:40.221Z"
   },
   {
    "duration": 16,
    "start_time": "2023-03-29T14:11:44.679Z"
   },
   {
    "duration": 48,
    "start_time": "2023-03-29T14:11:51.975Z"
   },
   {
    "duration": 14,
    "start_time": "2023-03-29T14:13:21.182Z"
   },
   {
    "duration": 13,
    "start_time": "2023-03-29T14:13:31.958Z"
   },
   {
    "duration": 64,
    "start_time": "2023-03-29T14:13:42.109Z"
   },
   {
    "duration": 4,
    "start_time": "2023-03-29T14:14:08.990Z"
   },
   {
    "duration": 243,
    "start_time": "2023-03-29T14:14:32.959Z"
   },
   {
    "duration": 43,
    "start_time": "2023-03-29T14:16:29.838Z"
   },
   {
    "duration": 9,
    "start_time": "2023-03-29T14:16:31.213Z"
   },
   {
    "duration": 4,
    "start_time": "2023-03-29T14:16:46.845Z"
   },
   {
    "duration": 4,
    "start_time": "2023-03-29T14:16:48.525Z"
   },
   {
    "duration": 4,
    "start_time": "2023-03-29T14:16:51.766Z"
   },
   {
    "duration": 3,
    "start_time": "2023-03-29T14:16:58.358Z"
   },
   {
    "duration": 4,
    "start_time": "2023-03-29T14:16:59.421Z"
   },
   {
    "duration": 30,
    "start_time": "2023-03-29T14:17:03.534Z"
   },
   {
    "duration": 6,
    "start_time": "2023-03-29T14:17:04.613Z"
   },
   {
    "duration": 28,
    "start_time": "2023-03-29T14:19:01.038Z"
   },
   {
    "duration": 6,
    "start_time": "2023-03-29T14:19:50.021Z"
   },
   {
    "duration": 10,
    "start_time": "2023-03-29T14:19:57.929Z"
   },
   {
    "duration": 3,
    "start_time": "2023-03-29T14:20:27.773Z"
   },
   {
    "duration": 5,
    "start_time": "2023-03-29T14:20:30.286Z"
   },
   {
    "duration": 7,
    "start_time": "2023-03-29T14:20:34.134Z"
   },
   {
    "duration": 5,
    "start_time": "2023-03-29T14:20:44.917Z"
   },
   {
    "duration": 6,
    "start_time": "2023-03-29T14:20:45.632Z"
   },
   {
    "duration": 6,
    "start_time": "2023-03-29T14:20:49.942Z"
   },
   {
    "duration": 903,
    "start_time": "2023-03-29T14:23:08.932Z"
   },
   {
    "duration": 6,
    "start_time": "2023-03-29T14:23:09.941Z"
   },
   {
    "duration": 1102,
    "start_time": "2023-03-29T14:23:50.947Z"
   },
   {
    "duration": 11,
    "start_time": "2023-03-29T14:26:20.301Z"
   },
   {
    "duration": 7,
    "start_time": "2023-03-29T14:27:23.842Z"
   },
   {
    "duration": 8,
    "start_time": "2023-03-29T14:27:33.322Z"
   },
   {
    "duration": 11,
    "start_time": "2023-03-29T14:28:06.466Z"
   },
   {
    "duration": 36,
    "start_time": "2023-03-29T14:29:02.442Z"
   },
   {
    "duration": 38,
    "start_time": "2023-03-29T14:29:04.066Z"
   },
   {
    "duration": 7,
    "start_time": "2023-03-29T14:29:05.592Z"
   },
   {
    "duration": 9,
    "start_time": "2023-03-29T14:30:10.410Z"
   },
   {
    "duration": 32,
    "start_time": "2023-03-29T14:30:11.946Z"
   },
   {
    "duration": 7,
    "start_time": "2023-03-29T14:30:12.817Z"
   },
   {
    "duration": 42,
    "start_time": "2023-03-29T14:31:21.202Z"
   },
   {
    "duration": 4,
    "start_time": "2023-03-29T14:31:26.762Z"
   },
   {
    "duration": 7,
    "start_time": "2023-03-29T14:31:34.954Z"
   },
   {
    "duration": 7,
    "start_time": "2023-03-29T14:32:10.090Z"
   },
   {
    "duration": 7,
    "start_time": "2023-03-29T14:32:15.505Z"
   },
   {
    "duration": 43,
    "start_time": "2023-03-29T14:34:55.575Z"
   },
   {
    "duration": 8,
    "start_time": "2023-03-29T14:34:56.737Z"
   },
   {
    "duration": 6,
    "start_time": "2023-03-29T14:35:01.280Z"
   },
   {
    "duration": 10,
    "start_time": "2023-03-29T14:35:30.400Z"
   },
   {
    "duration": 8,
    "start_time": "2023-03-29T14:35:35.665Z"
   },
   {
    "duration": 6,
    "start_time": "2023-03-29T14:35:41.472Z"
   },
   {
    "duration": 6,
    "start_time": "2023-03-29T14:36:28.704Z"
   },
   {
    "duration": 8,
    "start_time": "2023-03-29T14:37:19.479Z"
   },
   {
    "duration": 17,
    "start_time": "2023-03-29T14:37:22.032Z"
   },
   {
    "duration": 9,
    "start_time": "2023-03-29T14:37:25.966Z"
   },
   {
    "duration": 15,
    "start_time": "2023-03-29T14:37:31.704Z"
   },
   {
    "duration": 109,
    "start_time": "2023-03-29T14:37:32.663Z"
   },
   {
    "duration": 34,
    "start_time": "2023-03-29T14:37:33.006Z"
   },
   {
    "duration": 9,
    "start_time": "2023-03-29T14:37:33.623Z"
   },
   {
    "duration": 56,
    "start_time": "2023-03-29T14:37:38.336Z"
   },
   {
    "duration": 8,
    "start_time": "2023-03-29T14:37:38.959Z"
   },
   {
    "duration": 10,
    "start_time": "2023-03-29T14:37:39.627Z"
   },
   {
    "duration": 9,
    "start_time": "2023-03-29T14:37:57.023Z"
   },
   {
    "duration": 10,
    "start_time": "2023-03-29T14:38:16.911Z"
   },
   {
    "duration": 20,
    "start_time": "2023-03-29T14:39:44.647Z"
   },
   {
    "duration": 353,
    "start_time": "2023-03-29T14:39:45.567Z"
   },
   {
    "duration": 386,
    "start_time": "2023-03-29T14:39:46.080Z"
   },
   {
    "duration": 166,
    "start_time": "2023-03-29T14:40:32.590Z"
   },
   {
    "duration": 154,
    "start_time": "2023-03-29T14:44:44.543Z"
   },
   {
    "duration": 153,
    "start_time": "2023-03-29T14:44:46.330Z"
   },
   {
    "duration": 175,
    "start_time": "2023-03-29T14:45:02.814Z"
   },
   {
    "duration": 224,
    "start_time": "2023-03-29T14:45:12.198Z"
   },
   {
    "duration": 222,
    "start_time": "2023-03-29T14:46:16.237Z"
   },
   {
    "duration": 158,
    "start_time": "2023-03-29T14:46:34.558Z"
   },
   {
    "duration": 48,
    "start_time": "2023-03-29T14:49:03.509Z"
   },
   {
    "duration": 184,
    "start_time": "2023-03-29T14:49:08.972Z"
   },
   {
    "duration": 168,
    "start_time": "2023-03-29T14:49:19.717Z"
   },
   {
    "duration": 5,
    "start_time": "2023-03-29T14:56:40.123Z"
   },
   {
    "duration": 9,
    "start_time": "2023-03-29T14:56:47.579Z"
   },
   {
    "duration": 16,
    "start_time": "2023-03-29T14:56:56.664Z"
   },
   {
    "duration": 15,
    "start_time": "2023-03-29T14:57:56.042Z"
   },
   {
    "duration": 3,
    "start_time": "2023-03-29T14:59:19.299Z"
   },
   {
    "duration": 5,
    "start_time": "2023-03-29T14:59:25.003Z"
   },
   {
    "duration": 5,
    "start_time": "2023-03-29T15:00:12.011Z"
   },
   {
    "duration": 11,
    "start_time": "2023-03-29T15:00:50.082Z"
   },
   {
    "duration": 9,
    "start_time": "2023-03-29T15:00:56.442Z"
   },
   {
    "duration": 4,
    "start_time": "2023-03-29T15:00:56.946Z"
   },
   {
    "duration": 2,
    "start_time": "2023-03-29T15:00:57.507Z"
   },
   {
    "duration": 4,
    "start_time": "2023-03-29T15:01:19.267Z"
   },
   {
    "duration": 4,
    "start_time": "2023-03-29T15:01:24.266Z"
   },
   {
    "duration": 172,
    "start_time": "2023-03-29T15:03:17.118Z"
   },
   {
    "duration": 279,
    "start_time": "2023-03-29T15:03:39.363Z"
   },
   {
    "duration": 221,
    "start_time": "2023-03-29T15:03:56.761Z"
   },
   {
    "duration": 11,
    "start_time": "2023-03-29T15:04:16.570Z"
   },
   {
    "duration": 175,
    "start_time": "2023-03-29T15:04:19.626Z"
   },
   {
    "duration": 13,
    "start_time": "2023-03-29T15:04:25.233Z"
   },
   {
    "duration": 210,
    "start_time": "2023-03-29T15:04:45.139Z"
   },
   {
    "duration": 9,
    "start_time": "2023-03-29T15:04:48.499Z"
   },
   {
    "duration": 179,
    "start_time": "2023-03-29T15:04:50.666Z"
   },
   {
    "duration": 13,
    "start_time": "2023-03-29T15:07:31.281Z"
   },
   {
    "duration": 34,
    "start_time": "2023-03-29T15:07:35.285Z"
   },
   {
    "duration": 460,
    "start_time": "2023-03-29T15:07:36.481Z"
   },
   {
    "duration": 411,
    "start_time": "2023-03-29T15:07:36.993Z"
   },
   {
    "duration": 11,
    "start_time": "2023-03-29T15:07:37.528Z"
   },
   {
    "duration": 53,
    "start_time": "2023-03-29T15:11:58.121Z"
   },
   {
    "duration": 55,
    "start_time": "2023-03-29T15:28:26.420Z"
   },
   {
    "duration": 80,
    "start_time": "2023-03-29T15:28:30.224Z"
   },
   {
    "duration": 66,
    "start_time": "2023-03-29T15:38:29.945Z"
   },
   {
    "duration": 3,
    "start_time": "2023-03-29T15:44:49.015Z"
   },
   {
    "duration": 4,
    "start_time": "2023-03-29T15:45:14.960Z"
   },
   {
    "duration": 306,
    "start_time": "2023-03-29T15:45:17.119Z"
   },
   {
    "duration": 13,
    "start_time": "2023-03-29T15:45:18.559Z"
   },
   {
    "duration": 8,
    "start_time": "2023-03-29T15:45:19.099Z"
   },
   {
    "duration": 13,
    "start_time": "2023-03-29T15:45:19.696Z"
   },
   {
    "duration": 40,
    "start_time": "2023-03-29T15:45:20.800Z"
   },
   {
    "duration": 222,
    "start_time": "2023-03-29T15:45:21.560Z"
   },
   {
    "duration": 10,
    "start_time": "2023-03-29T15:45:22.495Z"
   },
   {
    "duration": 13,
    "start_time": "2023-03-29T15:45:22.992Z"
   },
   {
    "duration": 9,
    "start_time": "2023-03-29T15:45:23.400Z"
   },
   {
    "duration": 35,
    "start_time": "2023-03-29T15:45:24.432Z"
   },
   {
    "duration": 8,
    "start_time": "2023-03-29T15:45:26.521Z"
   },
   {
    "duration": 34,
    "start_time": "2023-03-29T15:45:27.328Z"
   },
   {
    "duration": 8,
    "start_time": "2023-03-29T15:45:28.120Z"
   },
   {
    "duration": 6,
    "start_time": "2023-03-29T15:45:39.231Z"
   },
   {
    "duration": 81,
    "start_time": "2023-03-29T15:45:39.672Z"
   },
   {
    "duration": 14,
    "start_time": "2023-03-29T15:45:40.176Z"
   },
   {
    "duration": 4,
    "start_time": "2023-03-29T15:45:41.889Z"
   },
   {
    "duration": 28,
    "start_time": "2023-03-29T15:45:44.551Z"
   },
   {
    "duration": 13,
    "start_time": "2023-03-29T15:45:46.864Z"
   },
   {
    "duration": 48,
    "start_time": "2023-03-29T15:45:48.464Z"
   },
   {
    "duration": 50,
    "start_time": "2023-03-29T15:45:50.322Z"
   },
   {
    "duration": 41,
    "start_time": "2023-03-29T15:45:51.024Z"
   },
   {
    "duration": 172,
    "start_time": "2023-03-29T15:45:53.945Z"
   },
   {
    "duration": 56,
    "start_time": "2023-03-29T15:46:13.247Z"
   },
   {
    "duration": 90,
    "start_time": "2023-03-29T15:46:15.202Z"
   },
   {
    "duration": 63,
    "start_time": "2023-03-29T15:46:23.711Z"
   },
   {
    "duration": 6,
    "start_time": "2023-03-29T15:46:42.394Z"
   },
   {
    "duration": 5,
    "start_time": "2023-03-29T15:46:42.816Z"
   },
   {
    "duration": 375,
    "start_time": "2023-03-29T15:47:16.151Z"
   },
   {
    "duration": 8,
    "start_time": "2023-03-29T15:47:25.129Z"
   },
   {
    "duration": 253,
    "start_time": "2023-03-29T15:47:25.569Z"
   },
   {
    "duration": 100,
    "start_time": "2023-03-29T15:47:32.264Z"
   },
   {
    "duration": 13,
    "start_time": "2023-03-29T15:47:36.176Z"
   },
   {
    "duration": 12,
    "start_time": "2023-03-29T15:48:14.902Z"
   },
   {
    "duration": 273,
    "start_time": "2023-03-29T15:48:48.490Z"
   },
   {
    "duration": 13,
    "start_time": "2023-03-29T15:48:50.758Z"
   },
   {
    "duration": 401,
    "start_time": "2023-03-29T15:48:57.736Z"
   },
   {
    "duration": 279,
    "start_time": "2023-03-29T15:49:28.528Z"
   },
   {
    "duration": 374,
    "start_time": "2023-03-29T15:49:40.873Z"
   },
   {
    "duration": 54,
    "start_time": "2023-03-29T15:50:09.416Z"
   },
   {
    "duration": 17,
    "start_time": "2023-03-29T15:50:11.215Z"
   },
   {
    "duration": 104,
    "start_time": "2023-03-29T15:51:09.431Z"
   },
   {
    "duration": 46,
    "start_time": "2023-03-29T15:51:37.511Z"
   },
   {
    "duration": 15,
    "start_time": "2023-03-29T15:51:43.055Z"
   },
   {
    "duration": 11,
    "start_time": "2023-03-29T15:51:52.392Z"
   },
   {
    "duration": 104,
    "start_time": "2023-03-29T15:52:14.927Z"
   },
   {
    "duration": 91,
    "start_time": "2023-03-29T15:52:28.911Z"
   },
   {
    "duration": 205,
    "start_time": "2023-03-29T15:53:17.687Z"
   },
   {
    "duration": 101,
    "start_time": "2023-03-29T15:55:08.958Z"
   },
   {
    "duration": 67,
    "start_time": "2023-03-29T15:55:39.262Z"
   },
   {
    "duration": 26,
    "start_time": "2023-03-29T15:55:39.765Z"
   },
   {
    "duration": 28,
    "start_time": "2023-03-29T15:55:40.191Z"
   },
   {
    "duration": 13,
    "start_time": "2023-03-29T15:55:40.653Z"
   },
   {
    "duration": 14,
    "start_time": "2023-03-29T15:55:41.290Z"
   },
   {
    "duration": 15,
    "start_time": "2023-03-29T15:55:41.690Z"
   },
   {
    "duration": 55,
    "start_time": "2023-03-29T15:55:48.829Z"
   },
   {
    "duration": 312,
    "start_time": "2023-03-29T15:55:50.022Z"
   },
   {
    "duration": 39,
    "start_time": "2023-03-29T15:55:55.581Z"
   },
   {
    "duration": 169,
    "start_time": "2023-03-29T15:56:02.534Z"
   },
   {
    "duration": 50,
    "start_time": "2023-03-29T15:56:13.380Z"
   },
   {
    "duration": 82,
    "start_time": "2023-03-29T15:56:18.358Z"
   },
   {
    "duration": 54,
    "start_time": "2023-03-29T15:56:18.773Z"
   },
   {
    "duration": 900,
    "start_time": "2023-03-29T15:57:03.030Z"
   },
   {
    "duration": 55,
    "start_time": "2023-03-29T15:57:51.901Z"
   },
   {
    "duration": 895,
    "start_time": "2023-03-29T15:57:54.892Z"
   },
   {
    "duration": 67,
    "start_time": "2023-03-29T15:58:49.670Z"
   },
   {
    "duration": 59,
    "start_time": "2023-03-29T15:58:50.427Z"
   },
   {
    "duration": 1075,
    "start_time": "2023-03-29T15:58:52.925Z"
   },
   {
    "duration": 61,
    "start_time": "2023-03-29T15:58:57.900Z"
   },
   {
    "duration": 15,
    "start_time": "2023-03-29T15:59:04.030Z"
   },
   {
    "duration": 35,
    "start_time": "2023-03-29T15:59:15.523Z"
   },
   {
    "duration": 7,
    "start_time": "2023-03-29T15:59:16.445Z"
   },
   {
    "duration": 10,
    "start_time": "2023-03-29T15:59:19.381Z"
   },
   {
    "duration": 191,
    "start_time": "2023-03-29T15:59:19.900Z"
   },
   {
    "duration": 50,
    "start_time": "2023-03-29T15:59:21.149Z"
   },
   {
    "duration": 11,
    "start_time": "2023-03-29T15:59:26.076Z"
   },
   {
    "duration": 5,
    "start_time": "2023-03-29T15:59:26.824Z"
   },
   {
    "duration": 4,
    "start_time": "2023-03-29T15:59:27.453Z"
   },
   {
    "duration": 22,
    "start_time": "2023-03-29T15:59:30.686Z"
   },
   {
    "duration": 377,
    "start_time": "2023-03-29T15:59:31.685Z"
   },
   {
    "duration": 336,
    "start_time": "2023-03-29T15:59:32.988Z"
   },
   {
    "duration": 8,
    "start_time": "2023-03-29T15:59:35.028Z"
   },
   {
    "duration": 442,
    "start_time": "2023-03-29T15:59:35.716Z"
   },
   {
    "duration": 9,
    "start_time": "2023-03-29T15:59:36.243Z"
   },
   {
    "duration": 361,
    "start_time": "2023-03-29T16:18:19.235Z"
   },
   {
    "duration": 12,
    "start_time": "2023-03-29T16:18:21.944Z"
   },
   {
    "duration": 31,
    "start_time": "2023-03-29T16:22:03.710Z"
   },
   {
    "duration": 499,
    "start_time": "2023-03-29T16:22:04.134Z"
   },
   {
    "duration": 369,
    "start_time": "2023-03-29T16:22:05.384Z"
   },
   {
    "duration": 1267,
    "start_time": "2023-03-29T16:23:24.425Z"
   },
   {
    "duration": 296,
    "start_time": "2023-03-29T16:23:25.695Z"
   },
   {
    "duration": 14,
    "start_time": "2023-03-29T16:23:25.993Z"
   },
   {
    "duration": 17,
    "start_time": "2023-03-29T16:23:26.009Z"
   },
   {
    "duration": 21,
    "start_time": "2023-03-29T16:23:26.028Z"
   },
   {
    "duration": 50,
    "start_time": "2023-03-29T16:23:26.051Z"
   },
   {
    "duration": 252,
    "start_time": "2023-03-29T16:23:26.103Z"
   },
   {
    "duration": 10,
    "start_time": "2023-03-29T16:23:26.356Z"
   },
   {
    "duration": 15,
    "start_time": "2023-03-29T16:23:26.367Z"
   },
   {
    "duration": 12,
    "start_time": "2023-03-29T16:23:26.385Z"
   },
   {
    "duration": 63,
    "start_time": "2023-03-29T16:23:26.399Z"
   },
   {
    "duration": 13,
    "start_time": "2023-03-29T16:23:26.464Z"
   },
   {
    "duration": 67,
    "start_time": "2023-03-29T16:23:26.479Z"
   },
   {
    "duration": 18,
    "start_time": "2023-03-29T16:23:26.548Z"
   },
   {
    "duration": 16,
    "start_time": "2023-03-29T16:23:26.569Z"
   },
   {
    "duration": 104,
    "start_time": "2023-03-29T16:23:26.586Z"
   },
   {
    "duration": 13,
    "start_time": "2023-03-29T16:23:26.692Z"
   },
   {
    "duration": 5,
    "start_time": "2023-03-29T16:23:26.707Z"
   },
   {
    "duration": 66,
    "start_time": "2023-03-29T16:23:26.714Z"
   },
   {
    "duration": 12,
    "start_time": "2023-03-29T16:23:26.781Z"
   },
   {
    "duration": 52,
    "start_time": "2023-03-29T16:23:26.794Z"
   },
   {
    "duration": 34,
    "start_time": "2023-03-29T16:23:26.848Z"
   },
   {
    "duration": 68,
    "start_time": "2023-03-29T16:23:26.883Z"
   },
   {
    "duration": 204,
    "start_time": "2023-03-29T16:23:26.953Z"
   },
   {
    "duration": 58,
    "start_time": "2023-03-29T16:23:27.159Z"
   },
   {
    "duration": 101,
    "start_time": "2023-03-29T16:23:27.233Z"
   },
   {
    "duration": 7,
    "start_time": "2023-03-29T16:23:27.337Z"
   },
   {
    "duration": 19,
    "start_time": "2023-03-29T16:23:27.350Z"
   },
   {
    "duration": 541,
    "start_time": "2023-03-29T16:23:27.371Z"
   },
   {
    "duration": 19,
    "start_time": "2023-03-29T16:23:27.914Z"
   },
   {
    "duration": 268,
    "start_time": "2023-03-29T16:23:27.936Z"
   },
   {
    "duration": 97,
    "start_time": "2023-03-29T16:23:28.206Z"
   },
   {
    "duration": 162,
    "start_time": "2023-03-29T16:23:28.305Z"
   },
   {
    "duration": 12,
    "start_time": "2023-03-29T16:23:28.469Z"
   },
   {
    "duration": 428,
    "start_time": "2023-03-29T16:23:28.482Z"
   },
   {
    "duration": 26,
    "start_time": "2023-03-29T16:23:28.912Z"
   },
   {
    "duration": 465,
    "start_time": "2023-03-29T16:23:28.940Z"
   },
   {
    "duration": 12,
    "start_time": "2023-03-29T16:23:29.407Z"
   },
   {
    "duration": 134,
    "start_time": "2023-03-29T16:23:29.421Z"
   },
   {
    "duration": 0,
    "start_time": "2023-03-29T16:23:29.557Z"
   },
   {
    "duration": 0,
    "start_time": "2023-03-29T16:23:29.558Z"
   },
   {
    "duration": 0,
    "start_time": "2023-03-29T16:23:29.558Z"
   },
   {
    "duration": 0,
    "start_time": "2023-03-29T16:23:29.560Z"
   },
   {
    "duration": 0,
    "start_time": "2023-03-29T16:23:29.561Z"
   },
   {
    "duration": 0,
    "start_time": "2023-03-29T16:23:29.562Z"
   },
   {
    "duration": 0,
    "start_time": "2023-03-29T16:23:29.563Z"
   },
   {
    "duration": 0,
    "start_time": "2023-03-29T16:23:29.563Z"
   },
   {
    "duration": 0,
    "start_time": "2023-03-29T16:23:29.564Z"
   },
   {
    "duration": 0,
    "start_time": "2023-03-29T16:23:29.565Z"
   },
   {
    "duration": 0,
    "start_time": "2023-03-29T16:23:29.566Z"
   },
   {
    "duration": 0,
    "start_time": "2023-03-29T16:23:29.568Z"
   },
   {
    "duration": 0,
    "start_time": "2023-03-29T16:23:29.569Z"
   },
   {
    "duration": 0,
    "start_time": "2023-03-29T16:23:29.571Z"
   },
   {
    "duration": 0,
    "start_time": "2023-03-29T16:23:29.572Z"
   },
   {
    "duration": 0,
    "start_time": "2023-03-29T16:23:29.573Z"
   },
   {
    "duration": 0,
    "start_time": "2023-03-29T16:23:29.577Z"
   },
   {
    "duration": 0,
    "start_time": "2023-03-29T16:23:29.578Z"
   },
   {
    "duration": 0,
    "start_time": "2023-03-29T16:23:29.581Z"
   },
   {
    "duration": 0,
    "start_time": "2023-03-29T16:23:29.582Z"
   },
   {
    "duration": 0,
    "start_time": "2023-03-29T16:23:29.584Z"
   },
   {
    "duration": 0,
    "start_time": "2023-03-29T16:23:29.586Z"
   },
   {
    "duration": 0,
    "start_time": "2023-03-29T16:23:29.587Z"
   },
   {
    "duration": 0,
    "start_time": "2023-03-29T16:23:29.634Z"
   },
   {
    "duration": 0,
    "start_time": "2023-03-29T16:23:29.635Z"
   },
   {
    "duration": 0,
    "start_time": "2023-03-29T16:23:29.637Z"
   },
   {
    "duration": 0,
    "start_time": "2023-03-29T16:23:29.638Z"
   },
   {
    "duration": 0,
    "start_time": "2023-03-29T16:23:29.639Z"
   },
   {
    "duration": 11,
    "start_time": "2023-03-29T16:23:44.765Z"
   },
   {
    "duration": 14,
    "start_time": "2023-03-29T16:23:45.517Z"
   },
   {
    "duration": 39,
    "start_time": "2023-03-29T16:23:50.580Z"
   },
   {
    "duration": 12,
    "start_time": "2023-03-29T16:23:51.611Z"
   },
   {
    "duration": 50,
    "start_time": "2023-03-29T16:23:52.916Z"
   },
   {
    "duration": 108,
    "start_time": "2023-03-29T16:24:11.958Z"
   },
   {
    "duration": 69,
    "start_time": "2023-03-29T16:24:14.597Z"
   },
   {
    "duration": 22,
    "start_time": "2023-03-29T16:24:14.909Z"
   },
   {
    "duration": 28,
    "start_time": "2023-03-29T16:24:15.164Z"
   },
   {
    "duration": 13,
    "start_time": "2023-03-29T16:24:15.429Z"
   },
   {
    "duration": 10,
    "start_time": "2023-03-29T16:24:15.885Z"
   },
   {
    "duration": 25,
    "start_time": "2023-03-29T16:24:16.325Z"
   },
   {
    "duration": 44,
    "start_time": "2023-03-29T16:24:17.939Z"
   },
   {
    "duration": 152,
    "start_time": "2023-03-29T16:24:19.518Z"
   },
   {
    "duration": 54,
    "start_time": "2023-03-29T16:24:21.272Z"
   },
   {
    "duration": 85,
    "start_time": "2023-03-29T16:24:21.333Z"
   },
   {
    "duration": 950,
    "start_time": "2023-03-29T16:24:21.596Z"
   },
   {
    "duration": 25,
    "start_time": "2023-03-29T16:24:22.549Z"
   },
   {
    "duration": 403,
    "start_time": "2023-03-29T16:24:22.683Z"
   },
   {
    "duration": 467,
    "start_time": "2023-03-29T16:24:23.089Z"
   },
   {
    "duration": 9,
    "start_time": "2023-03-29T16:24:23.756Z"
   },
   {
    "duration": 485,
    "start_time": "2023-03-29T16:24:23.988Z"
   },
   {
    "duration": 11,
    "start_time": "2023-03-29T16:24:24.476Z"
   },
   {
    "duration": 1237,
    "start_time": "2023-03-29T19:29:59.549Z"
   },
   {
    "duration": 269,
    "start_time": "2023-03-29T19:30:00.787Z"
   },
   {
    "duration": 1264,
    "start_time": "2023-03-29T19:30:05.358Z"
   },
   {
    "duration": 280,
    "start_time": "2023-03-29T19:30:06.625Z"
   },
   {
    "duration": 14,
    "start_time": "2023-03-29T19:30:06.907Z"
   },
   {
    "duration": 45,
    "start_time": "2023-03-29T19:30:06.922Z"
   },
   {
    "duration": 31,
    "start_time": "2023-03-29T19:30:06.969Z"
   },
   {
    "duration": 83,
    "start_time": "2023-03-29T19:30:07.002Z"
   },
   {
    "duration": 245,
    "start_time": "2023-03-29T19:30:07.087Z"
   },
   {
    "duration": 9,
    "start_time": "2023-03-29T19:30:07.334Z"
   },
   {
    "duration": 23,
    "start_time": "2023-03-29T19:30:07.345Z"
   },
   {
    "duration": 29,
    "start_time": "2023-03-29T19:30:07.370Z"
   },
   {
    "duration": 29,
    "start_time": "2023-03-29T19:30:07.401Z"
   },
   {
    "duration": 8,
    "start_time": "2023-03-29T19:30:07.432Z"
   },
   {
    "duration": 58,
    "start_time": "2023-03-29T19:30:07.442Z"
   },
   {
    "duration": 9,
    "start_time": "2023-03-29T19:30:07.505Z"
   },
   {
    "duration": 14,
    "start_time": "2023-03-29T19:30:07.516Z"
   },
   {
    "duration": 108,
    "start_time": "2023-03-29T19:30:07.532Z"
   },
   {
    "duration": 10,
    "start_time": "2023-03-29T19:30:07.642Z"
   },
   {
    "duration": 5,
    "start_time": "2023-03-29T19:30:07.662Z"
   },
   {
    "duration": 36,
    "start_time": "2023-03-29T19:30:07.670Z"
   },
   {
    "duration": 15,
    "start_time": "2023-03-29T19:30:07.707Z"
   },
   {
    "duration": 60,
    "start_time": "2023-03-29T19:30:07.724Z"
   },
   {
    "duration": 45,
    "start_time": "2023-03-29T19:30:07.785Z"
   },
   {
    "duration": 65,
    "start_time": "2023-03-29T19:30:07.832Z"
   },
   {
    "duration": 190,
    "start_time": "2023-03-29T19:30:07.899Z"
   },
   {
    "duration": 72,
    "start_time": "2023-03-29T19:30:08.091Z"
   },
   {
    "duration": 66,
    "start_time": "2023-03-29T19:30:08.164Z"
   },
   {
    "duration": 5,
    "start_time": "2023-03-29T19:30:08.232Z"
   },
   {
    "duration": 24,
    "start_time": "2023-03-29T19:30:08.239Z"
   },
   {
    "duration": 439,
    "start_time": "2023-03-29T19:30:08.265Z"
   },
   {
    "duration": 7,
    "start_time": "2023-03-29T19:30:08.706Z"
   },
   {
    "duration": 286,
    "start_time": "2023-03-29T19:30:08.715Z"
   },
   {
    "duration": 115,
    "start_time": "2023-03-29T19:30:09.002Z"
   },
   {
    "duration": 279,
    "start_time": "2023-03-29T19:30:09.119Z"
   },
   {
    "duration": 14,
    "start_time": "2023-03-29T19:30:09.400Z"
   },
   {
    "duration": 369,
    "start_time": "2023-03-29T19:30:09.416Z"
   },
   {
    "duration": 16,
    "start_time": "2023-03-29T19:30:09.787Z"
   },
   {
    "duration": 493,
    "start_time": "2023-03-29T19:30:09.805Z"
   },
   {
    "duration": 13,
    "start_time": "2023-03-29T19:30:10.300Z"
   },
   {
    "duration": 139,
    "start_time": "2023-03-29T19:30:10.315Z"
   },
   {
    "duration": 0,
    "start_time": "2023-03-29T19:30:10.456Z"
   },
   {
    "duration": 0,
    "start_time": "2023-03-29T19:30:10.458Z"
   },
   {
    "duration": 0,
    "start_time": "2023-03-29T19:30:10.458Z"
   },
   {
    "duration": 0,
    "start_time": "2023-03-29T19:30:10.461Z"
   },
   {
    "duration": 0,
    "start_time": "2023-03-29T19:30:10.462Z"
   },
   {
    "duration": 0,
    "start_time": "2023-03-29T19:30:10.463Z"
   },
   {
    "duration": 0,
    "start_time": "2023-03-29T19:30:10.464Z"
   },
   {
    "duration": 0,
    "start_time": "2023-03-29T19:30:10.465Z"
   },
   {
    "duration": 0,
    "start_time": "2023-03-29T19:30:10.466Z"
   },
   {
    "duration": 0,
    "start_time": "2023-03-29T19:30:10.467Z"
   },
   {
    "duration": 0,
    "start_time": "2023-03-29T19:30:10.468Z"
   },
   {
    "duration": 0,
    "start_time": "2023-03-29T19:30:10.469Z"
   },
   {
    "duration": 0,
    "start_time": "2023-03-29T19:30:10.470Z"
   },
   {
    "duration": 0,
    "start_time": "2023-03-29T19:30:10.471Z"
   },
   {
    "duration": 0,
    "start_time": "2023-03-29T19:30:10.472Z"
   },
   {
    "duration": 0,
    "start_time": "2023-03-29T19:30:10.473Z"
   },
   {
    "duration": 0,
    "start_time": "2023-03-29T19:30:10.474Z"
   },
   {
    "duration": 0,
    "start_time": "2023-03-29T19:30:10.475Z"
   },
   {
    "duration": 0,
    "start_time": "2023-03-29T19:30:10.476Z"
   },
   {
    "duration": 1,
    "start_time": "2023-03-29T19:30:10.477Z"
   },
   {
    "duration": 0,
    "start_time": "2023-03-29T19:30:10.479Z"
   },
   {
    "duration": 0,
    "start_time": "2023-03-29T19:30:10.479Z"
   },
   {
    "duration": 0,
    "start_time": "2023-03-29T19:30:10.481Z"
   },
   {
    "duration": 0,
    "start_time": "2023-03-29T19:30:10.482Z"
   },
   {
    "duration": 0,
    "start_time": "2023-03-29T19:30:10.483Z"
   },
   {
    "duration": 0,
    "start_time": "2023-03-29T19:30:10.484Z"
   },
   {
    "duration": 0,
    "start_time": "2023-03-29T19:30:10.485Z"
   },
   {
    "duration": 0,
    "start_time": "2023-03-29T19:30:10.486Z"
   },
   {
    "duration": 110,
    "start_time": "2023-03-29T19:35:01.071Z"
   },
   {
    "duration": 150,
    "start_time": "2023-03-29T19:37:13.062Z"
   },
   {
    "duration": 9,
    "start_time": "2023-03-29T19:37:16.870Z"
   },
   {
    "duration": 10,
    "start_time": "2023-03-29T19:37:17.646Z"
   },
   {
    "duration": 12,
    "start_time": "2023-03-29T19:37:18.567Z"
   },
   {
    "duration": 10,
    "start_time": "2023-03-29T19:37:19.902Z"
   },
   {
    "duration": 14,
    "start_time": "2023-03-29T19:37:22.312Z"
   },
   {
    "duration": 55,
    "start_time": "2023-03-30T14:41:52.819Z"
   },
   {
    "duration": 1451,
    "start_time": "2023-03-30T14:42:02.582Z"
   },
   {
    "duration": 755,
    "start_time": "2023-03-30T14:42:09.031Z"
   },
   {
    "duration": 13,
    "start_time": "2023-03-30T14:42:25.679Z"
   },
   {
    "duration": 13,
    "start_time": "2023-03-30T14:42:26.886Z"
   },
   {
    "duration": 12,
    "start_time": "2023-03-30T14:42:27.912Z"
   },
   {
    "duration": 36,
    "start_time": "2023-03-30T14:42:28.912Z"
   },
   {
    "duration": 201,
    "start_time": "2023-03-30T14:42:29.720Z"
   },
   {
    "duration": 10,
    "start_time": "2023-03-30T14:42:30.976Z"
   },
   {
    "duration": 12,
    "start_time": "2023-03-30T14:42:32.055Z"
   },
   {
    "duration": 7,
    "start_time": "2023-03-30T14:42:33.047Z"
   },
   {
    "duration": 20,
    "start_time": "2023-03-30T14:42:34.055Z"
   },
   {
    "duration": 7,
    "start_time": "2023-03-30T14:42:36.502Z"
   },
   {
    "duration": 34,
    "start_time": "2023-03-30T14:42:36.950Z"
   },
   {
    "duration": 8,
    "start_time": "2023-03-30T14:42:37.414Z"
   },
   {
    "duration": 13,
    "start_time": "2023-03-30T14:53:58.884Z"
   },
   {
    "duration": 11,
    "start_time": "2023-03-30T15:01:06.633Z"
   },
   {
    "duration": 29,
    "start_time": "2023-03-30T15:01:24.151Z"
   },
   {
    "duration": 18,
    "start_time": "2023-03-30T15:01:50.931Z"
   },
   {
    "duration": 19,
    "start_time": "2023-03-30T15:01:54.715Z"
   },
   {
    "duration": 51,
    "start_time": "2023-03-30T15:02:59.960Z"
   },
   {
    "duration": 69,
    "start_time": "2023-03-30T15:03:22.114Z"
   },
   {
    "duration": 24,
    "start_time": "2023-03-30T15:25:33.915Z"
   },
   {
    "duration": 29,
    "start_time": "2023-03-30T15:38:00.608Z"
   },
   {
    "duration": 28,
    "start_time": "2023-03-30T15:38:06.667Z"
   },
   {
    "duration": 19,
    "start_time": "2023-03-30T15:38:15.929Z"
   },
   {
    "duration": 11,
    "start_time": "2023-03-30T15:38:22.259Z"
   },
   {
    "duration": 43,
    "start_time": "2023-03-30T15:45:31.322Z"
   },
   {
    "duration": 9,
    "start_time": "2023-03-30T15:45:56.488Z"
   },
   {
    "duration": 8,
    "start_time": "2023-03-30T15:45:57.577Z"
   },
   {
    "duration": 7,
    "start_time": "2023-03-30T15:46:02.119Z"
   },
   {
    "duration": 13,
    "start_time": "2023-03-30T15:50:31.209Z"
   },
   {
    "duration": 13,
    "start_time": "2023-03-30T15:51:40.072Z"
   },
   {
    "duration": 10,
    "start_time": "2023-03-30T15:51:50.455Z"
   },
   {
    "duration": 29,
    "start_time": "2023-03-30T15:53:36.271Z"
   },
   {
    "duration": 12,
    "start_time": "2023-03-30T15:55:15.567Z"
   },
   {
    "duration": 819,
    "start_time": "2023-03-30T15:57:55.829Z"
   },
   {
    "duration": 22,
    "start_time": "2023-03-30T15:58:09.966Z"
   },
   {
    "duration": 22,
    "start_time": "2023-03-30T15:58:51.482Z"
   },
   {
    "duration": 22,
    "start_time": "2023-03-30T15:59:11.334Z"
   },
   {
    "duration": 13,
    "start_time": "2023-03-30T16:00:03.278Z"
   },
   {
    "duration": 998,
    "start_time": "2023-03-30T16:02:02.628Z"
   },
   {
    "duration": 4,
    "start_time": "2023-03-30T16:02:37.828Z"
   },
   {
    "duration": 17,
    "start_time": "2023-03-30T16:02:43.684Z"
   },
   {
    "duration": 18,
    "start_time": "2023-03-30T16:02:54.747Z"
   },
   {
    "duration": 23,
    "start_time": "2023-03-30T16:04:11.260Z"
   },
   {
    "duration": 14,
    "start_time": "2023-03-30T16:06:33.475Z"
   },
   {
    "duration": 69,
    "start_time": "2023-03-30T16:07:46.682Z"
   },
   {
    "duration": 14,
    "start_time": "2023-03-30T16:07:53.308Z"
   },
   {
    "duration": 17,
    "start_time": "2023-03-30T16:08:24.571Z"
   },
   {
    "duration": 17,
    "start_time": "2023-03-30T16:08:36.531Z"
   },
   {
    "duration": 15,
    "start_time": "2023-03-30T16:08:46.138Z"
   },
   {
    "duration": 22,
    "start_time": "2023-03-30T16:09:28.734Z"
   },
   {
    "duration": 15,
    "start_time": "2023-03-30T16:09:41.474Z"
   },
   {
    "duration": 22,
    "start_time": "2023-03-30T16:10:05.754Z"
   },
   {
    "duration": 15,
    "start_time": "2023-03-30T16:11:23.057Z"
   },
   {
    "duration": 178,
    "start_time": "2023-03-30T16:15:04.681Z"
   },
   {
    "duration": 12,
    "start_time": "2023-03-30T16:15:06.280Z"
   },
   {
    "duration": 85,
    "start_time": "2023-03-30T16:15:17.929Z"
   },
   {
    "duration": 16,
    "start_time": "2023-03-30T16:15:22.384Z"
   },
   {
    "duration": 319,
    "start_time": "2023-03-30T16:15:35.072Z"
   },
   {
    "duration": 33,
    "start_time": "2023-03-30T16:15:40.376Z"
   },
   {
    "duration": 48,
    "start_time": "2023-03-30T16:15:41.176Z"
   },
   {
    "duration": 15,
    "start_time": "2023-03-30T16:15:51.024Z"
   },
   {
    "duration": 6,
    "start_time": "2023-03-30T16:15:55.167Z"
   },
   {
    "duration": 75,
    "start_time": "2023-03-30T16:15:56.000Z"
   },
   {
    "duration": 89,
    "start_time": "2023-03-30T16:15:57.594Z"
   },
   {
    "duration": 11,
    "start_time": "2023-03-30T16:15:58.488Z"
   },
   {
    "duration": 72,
    "start_time": "2023-03-30T16:16:09.696Z"
   },
   {
    "duration": 95,
    "start_time": "2023-03-30T16:16:10.368Z"
   },
   {
    "duration": 11,
    "start_time": "2023-03-30T16:16:11.096Z"
   },
   {
    "duration": 5,
    "start_time": "2023-03-30T16:17:05.063Z"
   },
   {
    "duration": 38,
    "start_time": "2023-03-30T16:17:06.808Z"
   },
   {
    "duration": 9,
    "start_time": "2023-03-30T16:17:08.886Z"
   },
   {
    "duration": 30,
    "start_time": "2023-03-30T16:17:09.711Z"
   },
   {
    "duration": 31,
    "start_time": "2023-03-30T16:17:11.223Z"
   },
   {
    "duration": 39,
    "start_time": "2023-03-30T16:17:11.775Z"
   },
   {
    "duration": 170,
    "start_time": "2023-03-30T16:17:12.576Z"
   },
   {
    "duration": 50,
    "start_time": "2023-03-30T16:17:12.880Z"
   },
   {
    "duration": 52,
    "start_time": "2023-03-30T16:17:14.175Z"
   },
   {
    "duration": 6,
    "start_time": "2023-03-30T16:17:15.727Z"
   },
   {
    "duration": 5,
    "start_time": "2023-03-30T16:17:16.047Z"
   },
   {
    "duration": 399,
    "start_time": "2023-03-30T16:17:18.023Z"
   },
   {
    "duration": 96,
    "start_time": "2023-03-30T16:19:23.879Z"
   },
   {
    "duration": 5,
    "start_time": "2023-03-30T16:19:46.854Z"
   },
   {
    "duration": 12,
    "start_time": "2023-03-30T16:20:14.024Z"
   },
   {
    "duration": 7,
    "start_time": "2023-03-30T16:20:17.967Z"
   },
   {
    "duration": 202,
    "start_time": "2023-03-30T16:20:18.542Z"
   },
   {
    "duration": 230,
    "start_time": "2023-03-30T16:20:42.719Z"
   },
   {
    "duration": 258,
    "start_time": "2023-03-30T16:21:32.670Z"
   },
   {
    "duration": 254,
    "start_time": "2023-03-30T16:21:36.463Z"
   },
   {
    "duration": 306,
    "start_time": "2023-03-30T16:21:59.423Z"
   },
   {
    "duration": 213,
    "start_time": "2023-03-30T16:22:42.926Z"
   },
   {
    "duration": 217,
    "start_time": "2023-03-30T16:22:54.878Z"
   },
   {
    "duration": 215,
    "start_time": "2023-03-30T16:23:07.343Z"
   },
   {
    "duration": 265,
    "start_time": "2023-03-30T16:26:01.309Z"
   },
   {
    "duration": 274,
    "start_time": "2023-03-30T16:26:06.413Z"
   },
   {
    "duration": 264,
    "start_time": "2023-03-30T16:27:16.485Z"
   },
   {
    "duration": 226,
    "start_time": "2023-03-30T16:29:27.724Z"
   },
   {
    "duration": 245,
    "start_time": "2023-03-30T16:29:36.677Z"
   },
   {
    "duration": 234,
    "start_time": "2023-03-30T16:29:47.316Z"
   },
   {
    "duration": 248,
    "start_time": "2023-03-30T16:29:50.628Z"
   },
   {
    "duration": 331,
    "start_time": "2023-03-30T16:30:13.172Z"
   },
   {
    "duration": 399,
    "start_time": "2023-03-30T16:30:40.469Z"
   },
   {
    "duration": 299,
    "start_time": "2023-03-30T16:31:56.436Z"
   },
   {
    "duration": 326,
    "start_time": "2023-03-30T16:32:03.100Z"
   },
   {
    "duration": 285,
    "start_time": "2023-03-30T16:32:17.804Z"
   },
   {
    "duration": 303,
    "start_time": "2023-03-30T16:32:21.676Z"
   },
   {
    "duration": 392,
    "start_time": "2023-03-30T16:33:43.052Z"
   },
   {
    "duration": 87,
    "start_time": "2023-03-30T16:34:01.329Z"
   },
   {
    "duration": 146,
    "start_time": "2023-03-30T16:34:03.548Z"
   },
   {
    "duration": 11,
    "start_time": "2023-03-30T16:36:27.555Z"
   },
   {
    "duration": 11,
    "start_time": "2023-03-30T16:37:22.131Z"
   },
   {
    "duration": 32,
    "start_time": "2023-03-30T16:37:49.507Z"
   },
   {
    "duration": 18,
    "start_time": "2023-03-30T16:37:54.067Z"
   },
   {
    "duration": 344,
    "start_time": "2023-03-30T16:38:05.243Z"
   },
   {
    "duration": 329,
    "start_time": "2023-03-30T16:41:53.051Z"
   },
   {
    "duration": 367,
    "start_time": "2023-03-30T16:41:58.601Z"
   },
   {
    "duration": 9,
    "start_time": "2023-03-30T16:42:16.890Z"
   },
   {
    "duration": 22,
    "start_time": "2023-03-30T16:42:21.539Z"
   },
   {
    "duration": 9,
    "start_time": "2023-03-30T16:42:28.969Z"
   },
   {
    "duration": 15,
    "start_time": "2023-03-30T16:42:40.835Z"
   },
   {
    "duration": 456,
    "start_time": "2023-03-30T16:42:54.451Z"
   },
   {
    "duration": 12,
    "start_time": "2023-03-30T16:44:44.330Z"
   },
   {
    "duration": 354,
    "start_time": "2023-03-30T16:44:54.266Z"
   },
   {
    "duration": 342,
    "start_time": "2023-03-30T16:45:12.660Z"
   },
   {
    "duration": 368,
    "start_time": "2023-03-30T16:45:34.746Z"
   },
   {
    "duration": 346,
    "start_time": "2023-03-30T16:45:45.850Z"
   },
   {
    "duration": 10,
    "start_time": "2023-03-30T16:46:30.009Z"
   },
   {
    "duration": 11,
    "start_time": "2023-03-30T16:46:50.105Z"
   },
   {
    "duration": 217,
    "start_time": "2023-03-30T16:46:50.209Z"
   },
   {
    "duration": 11,
    "start_time": "2023-03-30T16:47:00.712Z"
   },
   {
    "duration": 4,
    "start_time": "2023-03-30T16:51:39.088Z"
   },
   {
    "duration": 282,
    "start_time": "2023-03-30T16:51:41.577Z"
   },
   {
    "duration": 14,
    "start_time": "2023-03-30T16:51:56.816Z"
   },
   {
    "duration": 13,
    "start_time": "2023-03-30T16:51:58.793Z"
   },
   {
    "duration": 293,
    "start_time": "2023-03-30T16:52:04.466Z"
   },
   {
    "duration": 12,
    "start_time": "2023-03-30T16:53:23.824Z"
   },
   {
    "duration": 12,
    "start_time": "2023-03-30T16:54:06.119Z"
   },
   {
    "duration": 5,
    "start_time": "2023-03-30T16:56:32.895Z"
   },
   {
    "duration": 310,
    "start_time": "2023-03-30T16:56:34.671Z"
   },
   {
    "duration": 14,
    "start_time": "2023-03-30T16:56:40.599Z"
   },
   {
    "duration": 4,
    "start_time": "2023-03-30T16:56:44.678Z"
   },
   {
    "duration": 370,
    "start_time": "2023-03-30T16:56:46.433Z"
   },
   {
    "duration": 431,
    "start_time": "2023-03-30T17:00:20.326Z"
   },
   {
    "duration": 352,
    "start_time": "2023-03-30T17:00:26.086Z"
   },
   {
    "duration": 358,
    "start_time": "2023-03-30T17:00:35.358Z"
   },
   {
    "duration": 519,
    "start_time": "2023-03-30T17:01:00.302Z"
   },
   {
    "duration": 357,
    "start_time": "2023-03-30T17:01:40.007Z"
   },
   {
    "duration": 10,
    "start_time": "2023-03-30T17:01:52.989Z"
   },
   {
    "duration": 13,
    "start_time": "2023-03-30T17:03:49.681Z"
   },
   {
    "duration": 2,
    "start_time": "2023-03-30T17:04:39.445Z"
   },
   {
    "duration": 274,
    "start_time": "2023-03-30T17:04:58.892Z"
   },
   {
    "duration": 371,
    "start_time": "2023-03-30T17:05:05.284Z"
   },
   {
    "duration": 19,
    "start_time": "2023-03-30T17:54:48.797Z"
   },
   {
    "duration": 9,
    "start_time": "2023-03-30T17:54:58.159Z"
   },
   {
    "duration": 12,
    "start_time": "2023-03-30T17:55:38.133Z"
   },
   {
    "duration": 11,
    "start_time": "2023-03-30T17:56:12.369Z"
   },
   {
    "duration": 10,
    "start_time": "2023-03-30T17:56:31.487Z"
   },
   {
    "duration": 9,
    "start_time": "2023-03-30T17:56:50.023Z"
   },
   {
    "duration": 16,
    "start_time": "2023-03-30T17:57:20.608Z"
   },
   {
    "duration": 13,
    "start_time": "2023-03-30T17:57:29.357Z"
   },
   {
    "duration": 51,
    "start_time": "2023-03-30T17:59:00.510Z"
   },
   {
    "duration": 32,
    "start_time": "2023-03-30T17:59:12.783Z"
   },
   {
    "duration": 7,
    "start_time": "2023-03-30T17:59:19.428Z"
   },
   {
    "duration": 7,
    "start_time": "2023-03-30T17:59:27.373Z"
   },
   {
    "duration": 9,
    "start_time": "2023-03-30T17:59:29.139Z"
   },
   {
    "duration": 168,
    "start_time": "2023-03-30T17:59:30.846Z"
   },
   {
    "duration": 86,
    "start_time": "2023-03-30T17:59:39.793Z"
   },
   {
    "duration": 272,
    "start_time": "2023-03-30T18:00:14.678Z"
   },
   {
    "duration": 10,
    "start_time": "2023-03-30T18:00:55.021Z"
   },
   {
    "duration": 4,
    "start_time": "2023-03-30T18:00:56.661Z"
   },
   {
    "duration": 4,
    "start_time": "2023-03-30T18:00:57.245Z"
   },
   {
    "duration": 2168,
    "start_time": "2023-03-30T18:01:08.287Z"
   },
   {
    "duration": 2156,
    "start_time": "2023-03-30T18:01:11.414Z"
   },
   {
    "duration": 2182,
    "start_time": "2023-03-30T18:01:26.741Z"
   },
   {
    "duration": 49,
    "start_time": "2023-03-30T18:01:50.317Z"
   },
   {
    "duration": 2175,
    "start_time": "2023-03-30T18:01:54.957Z"
   },
   {
    "duration": 18,
    "start_time": "2023-03-30T18:02:51.037Z"
   },
   {
    "duration": 63,
    "start_time": "2023-03-30T18:03:03.557Z"
   },
   {
    "duration": 40,
    "start_time": "2023-03-30T18:05:36.772Z"
   },
   {
    "duration": 73,
    "start_time": "2023-03-30T18:05:51.052Z"
   },
   {
    "duration": 49,
    "start_time": "2023-03-30T18:07:45.379Z"
   },
   {
    "duration": 49,
    "start_time": "2023-03-30T18:07:54.324Z"
   },
   {
    "duration": 85,
    "start_time": "2023-03-30T18:08:02.660Z"
   },
   {
    "duration": 55,
    "start_time": "2023-03-30T18:09:03.994Z"
   },
   {
    "duration": 38,
    "start_time": "2023-03-30T18:09:07.579Z"
   },
   {
    "duration": 97,
    "start_time": "2023-03-30T18:09:19.757Z"
   },
   {
    "duration": 44,
    "start_time": "2023-03-30T18:09:21.123Z"
   },
   {
    "duration": 20,
    "start_time": "2023-03-30T18:09:21.546Z"
   },
   {
    "duration": 25,
    "start_time": "2023-03-30T18:09:21.947Z"
   },
   {
    "duration": 11,
    "start_time": "2023-03-30T18:09:22.371Z"
   },
   {
    "duration": 10,
    "start_time": "2023-03-30T18:09:22.979Z"
   },
   {
    "duration": 15,
    "start_time": "2023-03-30T18:09:23.443Z"
   },
   {
    "duration": 37,
    "start_time": "2023-03-30T18:09:25.251Z"
   },
   {
    "duration": 153,
    "start_time": "2023-03-30T18:09:27.202Z"
   },
   {
    "duration": 44,
    "start_time": "2023-03-30T18:09:29.538Z"
   },
   {
    "duration": 71,
    "start_time": "2023-03-30T18:09:30.306Z"
   },
   {
    "duration": 44,
    "start_time": "2023-03-30T18:09:58.683Z"
   },
   {
    "duration": 58,
    "start_time": "2023-03-30T18:09:59.195Z"
   },
   {
    "duration": 1064,
    "start_time": "2023-03-30T18:10:00.066Z"
   },
   {
    "duration": 863,
    "start_time": "2023-03-30T18:10:23.582Z"
   },
   {
    "duration": 29,
    "start_time": "2023-03-30T18:10:30.937Z"
   },
   {
    "duration": 392,
    "start_time": "2023-03-30T18:10:31.819Z"
   },
   {
    "duration": 337,
    "start_time": "2023-03-30T18:10:32.633Z"
   },
   {
    "duration": 7,
    "start_time": "2023-03-30T18:10:35.346Z"
   },
   {
    "duration": 413,
    "start_time": "2023-03-30T18:10:36.347Z"
   },
   {
    "duration": 10,
    "start_time": "2023-03-30T18:10:37.490Z"
   },
   {
    "duration": 7,
    "start_time": "2023-03-30T18:28:57.352Z"
   },
   {
    "duration": 50,
    "start_time": "2023-03-30T18:34:54.745Z"
   },
   {
    "duration": 21,
    "start_time": "2023-03-30T18:45:01.390Z"
   },
   {
    "duration": 3028,
    "start_time": "2023-03-30T18:45:40.781Z"
   },
   {
    "duration": 3403,
    "start_time": "2023-03-30T18:47:03.228Z"
   },
   {
    "duration": 1234,
    "start_time": "2023-03-30T18:53:32.290Z"
   },
   {
    "duration": 294,
    "start_time": "2023-03-30T18:53:33.527Z"
   },
   {
    "duration": 12,
    "start_time": "2023-03-30T18:53:33.823Z"
   },
   {
    "duration": 26,
    "start_time": "2023-03-30T18:53:33.838Z"
   },
   {
    "duration": 27,
    "start_time": "2023-03-30T18:53:33.866Z"
   },
   {
    "duration": 48,
    "start_time": "2023-03-30T18:53:33.895Z"
   },
   {
    "duration": 209,
    "start_time": "2023-03-30T18:53:33.945Z"
   },
   {
    "duration": 9,
    "start_time": "2023-03-30T18:53:34.156Z"
   },
   {
    "duration": 42,
    "start_time": "2023-03-30T18:53:34.166Z"
   },
   {
    "duration": 32,
    "start_time": "2023-03-30T18:53:34.210Z"
   },
   {
    "duration": 39,
    "start_time": "2023-03-30T18:53:34.243Z"
   },
   {
    "duration": 22,
    "start_time": "2023-03-30T18:53:34.284Z"
   },
   {
    "duration": 57,
    "start_time": "2023-03-30T18:53:34.307Z"
   },
   {
    "duration": 7,
    "start_time": "2023-03-30T18:53:34.367Z"
   },
   {
    "duration": 40,
    "start_time": "2023-03-30T18:53:34.375Z"
   },
   {
    "duration": 15,
    "start_time": "2023-03-30T18:53:34.417Z"
   },
   {
    "duration": 5,
    "start_time": "2023-03-30T18:53:34.433Z"
   },
   {
    "duration": 93,
    "start_time": "2023-03-30T18:53:34.440Z"
   },
   {
    "duration": 117,
    "start_time": "2023-03-30T18:53:34.535Z"
   },
   {
    "duration": 11,
    "start_time": "2023-03-30T18:53:34.653Z"
   },
   {
    "duration": 7,
    "start_time": "2023-03-30T18:53:34.665Z"
   },
   {
    "duration": 46,
    "start_time": "2023-03-30T18:53:34.673Z"
   },
   {
    "duration": 29,
    "start_time": "2023-03-30T18:53:34.720Z"
   },
   {
    "duration": 48,
    "start_time": "2023-03-30T18:53:34.751Z"
   },
   {
    "duration": 38,
    "start_time": "2023-03-30T18:53:34.803Z"
   },
   {
    "duration": 54,
    "start_time": "2023-03-30T18:53:34.843Z"
   },
   {
    "duration": 169,
    "start_time": "2023-03-30T18:53:34.898Z"
   },
   {
    "duration": 59,
    "start_time": "2023-03-30T18:53:35.069Z"
   },
   {
    "duration": 75,
    "start_time": "2023-03-30T18:53:35.130Z"
   },
   {
    "duration": 6,
    "start_time": "2023-03-30T18:53:35.207Z"
   },
   {
    "duration": 29,
    "start_time": "2023-03-30T18:53:35.215Z"
   },
   {
    "duration": 407,
    "start_time": "2023-03-30T18:53:35.246Z"
   },
   {
    "duration": 326,
    "start_time": "2023-03-30T18:53:35.655Z"
   },
   {
    "duration": 86,
    "start_time": "2023-03-30T18:53:35.987Z"
   },
   {
    "duration": 160,
    "start_time": "2023-03-30T18:53:36.088Z"
   },
   {
    "duration": 425,
    "start_time": "2023-03-30T18:53:36.250Z"
   },
   {
    "duration": 19,
    "start_time": "2023-03-30T18:53:36.677Z"
   },
   {
    "duration": 366,
    "start_time": "2023-03-30T18:53:36.698Z"
   },
   {
    "duration": 10,
    "start_time": "2023-03-30T18:53:37.066Z"
   },
   {
    "duration": 52,
    "start_time": "2023-03-30T18:53:37.087Z"
   },
   {
    "duration": 48,
    "start_time": "2023-03-30T18:53:37.143Z"
   },
   {
    "duration": 6,
    "start_time": "2023-03-30T18:53:37.194Z"
   },
   {
    "duration": 11,
    "start_time": "2023-03-30T18:53:37.202Z"
   },
   {
    "duration": 12,
    "start_time": "2023-03-30T18:53:37.214Z"
   },
   {
    "duration": 178,
    "start_time": "2023-03-30T18:53:37.228Z"
   },
   {
    "duration": 79,
    "start_time": "2023-03-30T18:53:37.408Z"
   },
   {
    "duration": 277,
    "start_time": "2023-03-30T18:53:37.489Z"
   },
   {
    "duration": 8,
    "start_time": "2023-03-30T18:53:37.768Z"
   },
   {
    "duration": 12,
    "start_time": "2023-03-30T18:53:37.778Z"
   },
   {
    "duration": 8,
    "start_time": "2023-03-30T18:53:37.792Z"
   },
   {
    "duration": 91,
    "start_time": "2023-03-30T18:53:37.802Z"
   },
   {
    "duration": 44,
    "start_time": "2023-03-30T18:53:37.895Z"
   },
   {
    "duration": 20,
    "start_time": "2023-03-30T18:53:37.941Z"
   },
   {
    "duration": 41,
    "start_time": "2023-03-30T18:53:37.962Z"
   },
   {
    "duration": 11,
    "start_time": "2023-03-30T18:53:38.005Z"
   },
   {
    "duration": 16,
    "start_time": "2023-03-30T18:53:38.018Z"
   },
   {
    "duration": 24,
    "start_time": "2023-03-30T18:53:38.036Z"
   },
   {
    "duration": 54,
    "start_time": "2023-03-30T18:53:38.062Z"
   },
   {
    "duration": 161,
    "start_time": "2023-03-30T18:53:38.118Z"
   },
   {
    "duration": 48,
    "start_time": "2023-03-30T18:53:38.281Z"
   },
   {
    "duration": 87,
    "start_time": "2023-03-30T18:53:38.331Z"
   },
   {
    "duration": 894,
    "start_time": "2023-03-30T18:53:38.420Z"
   },
   {
    "duration": 21,
    "start_time": "2023-03-30T18:53:39.316Z"
   },
   {
    "duration": 477,
    "start_time": "2023-03-30T18:53:39.339Z"
   },
   {
    "duration": 305,
    "start_time": "2023-03-30T18:53:39.819Z"
   },
   {
    "duration": 7,
    "start_time": "2023-03-30T18:53:40.126Z"
   },
   {
    "duration": 449,
    "start_time": "2023-03-30T18:53:40.135Z"
   },
   {
    "duration": 11,
    "start_time": "2023-03-30T18:53:40.586Z"
   },
   {
    "duration": 117,
    "start_time": "2023-03-30T20:04:22.129Z"
   },
   {
    "duration": 3678,
    "start_time": "2023-03-30T20:04:33.550Z"
   },
   {
    "duration": 480,
    "start_time": "2023-03-30T20:04:45.078Z"
   },
   {
    "duration": 768,
    "start_time": "2023-03-30T20:08:05.088Z"
   },
   {
    "duration": 787,
    "start_time": "2023-03-30T20:08:24.865Z"
   },
   {
    "duration": 221,
    "start_time": "2023-03-30T20:08:26.492Z"
   },
   {
    "duration": 22,
    "start_time": "2023-03-30T20:09:25.453Z"
   },
   {
    "duration": 1058,
    "start_time": "2023-03-30T20:09:44.790Z"
   },
   {
    "duration": 322,
    "start_time": "2023-03-30T20:09:46.634Z"
   },
   {
    "duration": 19,
    "start_time": "2023-03-30T20:09:50.398Z"
   },
   {
    "duration": 1150,
    "start_time": "2023-03-30T20:10:28.565Z"
   },
   {
    "duration": 333,
    "start_time": "2023-03-30T20:10:29.822Z"
   },
   {
    "duration": 42,
    "start_time": "2023-03-31T07:52:57.984Z"
   },
   {
    "duration": 1161,
    "start_time": "2023-03-31T07:53:23.571Z"
   },
   {
    "duration": 1117,
    "start_time": "2023-03-31T07:53:24.735Z"
   },
   {
    "duration": 11,
    "start_time": "2023-03-31T07:53:25.854Z"
   },
   {
    "duration": 12,
    "start_time": "2023-03-31T07:53:25.866Z"
   },
   {
    "duration": 10,
    "start_time": "2023-03-31T07:53:25.880Z"
   },
   {
    "duration": 29,
    "start_time": "2023-03-31T07:53:25.891Z"
   },
   {
    "duration": 150,
    "start_time": "2023-03-31T07:53:25.921Z"
   },
   {
    "duration": 8,
    "start_time": "2023-03-31T07:53:26.072Z"
   },
   {
    "duration": 10,
    "start_time": "2023-03-31T07:53:26.081Z"
   },
   {
    "duration": 8,
    "start_time": "2023-03-31T07:53:26.092Z"
   },
   {
    "duration": 20,
    "start_time": "2023-03-31T07:53:26.101Z"
   },
   {
    "duration": 4,
    "start_time": "2023-03-31T07:53:26.122Z"
   },
   {
    "duration": 47,
    "start_time": "2023-03-31T07:53:26.127Z"
   },
   {
    "duration": 5,
    "start_time": "2023-03-31T07:53:26.177Z"
   },
   {
    "duration": 22,
    "start_time": "2023-03-31T07:53:26.184Z"
   },
   {
    "duration": 11,
    "start_time": "2023-03-31T07:53:26.208Z"
   },
   {
    "duration": 4,
    "start_time": "2023-03-31T07:53:26.220Z"
   },
   {
    "duration": 88,
    "start_time": "2023-03-31T07:53:26.226Z"
   },
   {
    "duration": 85,
    "start_time": "2023-03-31T07:53:26.315Z"
   },
   {
    "duration": 10,
    "start_time": "2023-03-31T07:53:26.401Z"
   },
   {
    "duration": 3,
    "start_time": "2023-03-31T07:53:26.412Z"
   },
   {
    "duration": 26,
    "start_time": "2023-03-31T07:53:26.416Z"
   },
   {
    "duration": 28,
    "start_time": "2023-03-31T07:53:26.443Z"
   },
   {
    "duration": 29,
    "start_time": "2023-03-31T07:53:26.472Z"
   },
   {
    "duration": 27,
    "start_time": "2023-03-31T07:53:26.503Z"
   },
   {
    "duration": 51,
    "start_time": "2023-03-31T07:53:26.532Z"
   },
   {
    "duration": 132,
    "start_time": "2023-03-31T07:53:26.585Z"
   },
   {
    "duration": 39,
    "start_time": "2023-03-31T07:53:26.719Z"
   },
   {
    "duration": 41,
    "start_time": "2023-03-31T07:53:26.769Z"
   },
   {
    "duration": 4,
    "start_time": "2023-03-31T07:53:26.811Z"
   },
   {
    "duration": 6,
    "start_time": "2023-03-31T07:53:26.816Z"
   },
   {
    "duration": 348,
    "start_time": "2023-03-31T07:53:26.824Z"
   },
   {
    "duration": 257,
    "start_time": "2023-03-31T07:53:27.174Z"
   },
   {
    "duration": 77,
    "start_time": "2023-03-31T07:53:27.432Z"
   },
   {
    "duration": 151,
    "start_time": "2023-03-31T07:53:27.511Z"
   },
   {
    "duration": 326,
    "start_time": "2023-03-31T07:53:27.664Z"
   },
   {
    "duration": 11,
    "start_time": "2023-03-31T07:53:27.992Z"
   },
   {
    "duration": 277,
    "start_time": "2023-03-31T07:53:28.005Z"
   },
   {
    "duration": 9,
    "start_time": "2023-03-31T07:53:28.284Z"
   },
   {
    "duration": 40,
    "start_time": "2023-03-31T07:53:28.294Z"
   },
   {
    "duration": 51,
    "start_time": "2023-03-31T07:53:28.338Z"
   },
   {
    "duration": 6,
    "start_time": "2023-03-31T07:53:28.390Z"
   },
   {
    "duration": 10,
    "start_time": "2023-03-31T07:53:28.397Z"
   },
   {
    "duration": 6,
    "start_time": "2023-03-31T07:53:28.408Z"
   },
   {
    "duration": 149,
    "start_time": "2023-03-31T07:53:28.415Z"
   },
   {
    "duration": 54,
    "start_time": "2023-03-31T07:53:28.567Z"
   },
   {
    "duration": 237,
    "start_time": "2023-03-31T07:53:28.623Z"
   },
   {
    "duration": 9,
    "start_time": "2023-03-31T07:53:28.861Z"
   },
   {
    "duration": 6,
    "start_time": "2023-03-31T07:53:28.871Z"
   },
   {
    "duration": 4,
    "start_time": "2023-03-31T07:53:28.878Z"
   },
   {
    "duration": 76,
    "start_time": "2023-03-31T07:53:28.883Z"
   },
   {
    "duration": 34,
    "start_time": "2023-03-31T07:53:28.968Z"
   },
   {
    "duration": 15,
    "start_time": "2023-03-31T07:53:29.004Z"
   },
   {
    "duration": 22,
    "start_time": "2023-03-31T07:53:29.021Z"
   },
   {
    "duration": 29,
    "start_time": "2023-03-31T07:53:29.045Z"
   },
   {
    "duration": 7,
    "start_time": "2023-03-31T07:53:29.076Z"
   },
   {
    "duration": 16,
    "start_time": "2023-03-31T07:53:29.084Z"
   },
   {
    "duration": 37,
    "start_time": "2023-03-31T07:53:29.101Z"
   },
   {
    "duration": 157,
    "start_time": "2023-03-31T07:53:29.139Z"
   },
   {
    "duration": 34,
    "start_time": "2023-03-31T07:53:29.297Z"
   },
   {
    "duration": 80,
    "start_time": "2023-03-31T07:53:29.333Z"
   },
   {
    "duration": 703,
    "start_time": "2023-03-31T07:53:29.414Z"
   },
   {
    "duration": 17,
    "start_time": "2023-03-31T07:53:30.119Z"
   },
   {
    "duration": 376,
    "start_time": "2023-03-31T07:53:30.137Z"
   },
   {
    "duration": 250,
    "start_time": "2023-03-31T07:53:30.514Z"
   },
   {
    "duration": 5,
    "start_time": "2023-03-31T07:53:30.769Z"
   },
   {
    "duration": 393,
    "start_time": "2023-03-31T07:53:30.775Z"
   },
   {
    "duration": 8,
    "start_time": "2023-03-31T07:53:31.170Z"
   },
   {
    "duration": 809,
    "start_time": "2023-03-31T07:53:31.180Z"
   },
   {
    "duration": 350,
    "start_time": "2023-03-31T07:53:31.991Z"
   },
   {
    "duration": 17,
    "start_time": "2023-03-31T07:53:32.343Z"
   },
   {
    "duration": 1369,
    "start_time": "2023-03-31T07:54:50.526Z"
   },
   {
    "duration": 264,
    "start_time": "2023-03-31T07:54:52.806Z"
   },
   {
    "duration": 18,
    "start_time": "2023-03-31T07:54:56.454Z"
   },
   {
    "duration": 363,
    "start_time": "2023-03-31T07:54:59.842Z"
   },
   {
    "duration": 49,
    "start_time": "2023-03-31T08:12:59.159Z"
   },
   {
    "duration": 496,
    "start_time": "2023-03-31T08:29:42.859Z"
   },
   {
    "duration": 30,
    "start_time": "2023-03-31T08:30:21.445Z"
   },
   {
    "duration": 52,
    "start_time": "2023-03-31T08:30:23.100Z"
   },
   {
    "duration": 49,
    "start_time": "2023-03-31T08:30:38.653Z"
   },
   {
    "duration": 49,
    "start_time": "2023-03-31T08:30:45.405Z"
   },
   {
    "duration": 27,
    "start_time": "2023-03-31T08:30:53.884Z"
   },
   {
    "duration": 35,
    "start_time": "2023-03-31T08:36:23.625Z"
   },
   {
    "duration": 27,
    "start_time": "2023-03-31T08:36:31.436Z"
   },
   {
    "duration": 50,
    "start_time": "2023-03-31T08:36:33.764Z"
   },
   {
    "duration": 40,
    "start_time": "2023-03-31T08:36:35.149Z"
   },
   {
    "duration": 1030,
    "start_time": "2023-03-31T08:36:41.484Z"
   },
   {
    "duration": 239,
    "start_time": "2023-03-31T08:36:43.700Z"
   },
   {
    "duration": 1247,
    "start_time": "2023-03-31T08:55:59.374Z"
   },
   {
    "duration": 300,
    "start_time": "2023-03-31T08:56:00.625Z"
   },
   {
    "duration": 12,
    "start_time": "2023-03-31T08:56:00.927Z"
   },
   {
    "duration": 81,
    "start_time": "2023-03-31T08:56:00.940Z"
   },
   {
    "duration": 55,
    "start_time": "2023-03-31T08:56:01.025Z"
   },
   {
    "duration": 76,
    "start_time": "2023-03-31T08:56:01.084Z"
   },
   {
    "duration": 258,
    "start_time": "2023-03-31T08:56:01.162Z"
   },
   {
    "duration": 8,
    "start_time": "2023-03-31T08:56:01.425Z"
   },
   {
    "duration": 24,
    "start_time": "2023-03-31T08:56:01.434Z"
   },
   {
    "duration": 54,
    "start_time": "2023-03-31T08:56:01.460Z"
   },
   {
    "duration": 44,
    "start_time": "2023-03-31T08:56:01.516Z"
   },
   {
    "duration": 5,
    "start_time": "2023-03-31T08:56:01.562Z"
   },
   {
    "duration": 64,
    "start_time": "2023-03-31T08:56:01.569Z"
   },
   {
    "duration": 22,
    "start_time": "2023-03-31T08:56:01.637Z"
   },
   {
    "duration": 51,
    "start_time": "2023-03-31T08:56:01.661Z"
   },
   {
    "duration": 18,
    "start_time": "2023-03-31T08:56:01.716Z"
   },
   {
    "duration": 19,
    "start_time": "2023-03-31T08:56:01.736Z"
   },
   {
    "duration": 132,
    "start_time": "2023-03-31T08:56:01.757Z"
   },
   {
    "duration": 95,
    "start_time": "2023-03-31T08:56:01.898Z"
   },
   {
    "duration": 11,
    "start_time": "2023-03-31T08:56:01.995Z"
   },
   {
    "duration": 5,
    "start_time": "2023-03-31T08:56:02.010Z"
   },
   {
    "duration": 52,
    "start_time": "2023-03-31T08:56:02.019Z"
   },
   {
    "duration": 20,
    "start_time": "2023-03-31T08:56:02.079Z"
   },
   {
    "duration": 45,
    "start_time": "2023-03-31T08:56:02.101Z"
   },
   {
    "duration": 55,
    "start_time": "2023-03-31T08:56:02.148Z"
   },
   {
    "duration": 48,
    "start_time": "2023-03-31T08:56:02.212Z"
   },
   {
    "duration": 167,
    "start_time": "2023-03-31T08:56:02.262Z"
   },
   {
    "duration": 42,
    "start_time": "2023-03-31T08:56:02.431Z"
   },
   {
    "duration": 62,
    "start_time": "2023-03-31T08:56:02.474Z"
   },
   {
    "duration": 6,
    "start_time": "2023-03-31T08:56:02.538Z"
   },
   {
    "duration": 5,
    "start_time": "2023-03-31T08:56:02.547Z"
   },
   {
    "duration": 463,
    "start_time": "2023-03-31T08:56:02.571Z"
   },
   {
    "duration": 336,
    "start_time": "2023-03-31T08:56:03.036Z"
   },
   {
    "duration": 86,
    "start_time": "2023-03-31T08:56:03.374Z"
   },
   {
    "duration": 192,
    "start_time": "2023-03-31T08:56:03.461Z"
   },
   {
    "duration": 402,
    "start_time": "2023-03-31T08:56:03.655Z"
   },
   {
    "duration": 26,
    "start_time": "2023-03-31T08:56:04.059Z"
   },
   {
    "duration": 352,
    "start_time": "2023-03-31T08:56:04.086Z"
   },
   {
    "duration": 13,
    "start_time": "2023-03-31T08:56:04.440Z"
   },
   {
    "duration": 83,
    "start_time": "2023-03-31T08:56:04.454Z"
   },
   {
    "duration": 44,
    "start_time": "2023-03-31T08:56:04.541Z"
   },
   {
    "duration": 12,
    "start_time": "2023-03-31T08:56:04.587Z"
   },
   {
    "duration": 20,
    "start_time": "2023-03-31T08:56:04.600Z"
   },
   {
    "duration": 8,
    "start_time": "2023-03-31T08:56:04.622Z"
   },
   {
    "duration": 176,
    "start_time": "2023-03-31T08:56:04.631Z"
   },
   {
    "duration": 85,
    "start_time": "2023-03-31T08:56:04.808Z"
   },
   {
    "duration": 319,
    "start_time": "2023-03-31T08:56:04.898Z"
   },
   {
    "duration": 11,
    "start_time": "2023-03-31T08:56:05.227Z"
   },
   {
    "duration": 15,
    "start_time": "2023-03-31T08:56:05.240Z"
   },
   {
    "duration": 8,
    "start_time": "2023-03-31T08:56:05.257Z"
   },
   {
    "duration": 114,
    "start_time": "2023-03-31T08:56:05.267Z"
   },
   {
    "duration": 72,
    "start_time": "2023-03-31T08:56:05.383Z"
   },
   {
    "duration": 35,
    "start_time": "2023-03-31T08:56:05.457Z"
   },
   {
    "duration": 35,
    "start_time": "2023-03-31T08:56:05.496Z"
   },
   {
    "duration": 13,
    "start_time": "2023-03-31T08:56:05.538Z"
   },
   {
    "duration": 12,
    "start_time": "2023-03-31T08:56:05.553Z"
   },
   {
    "duration": 35,
    "start_time": "2023-03-31T08:56:05.569Z"
   },
   {
    "duration": 61,
    "start_time": "2023-03-31T08:56:05.606Z"
   },
   {
    "duration": 193,
    "start_time": "2023-03-31T08:56:05.669Z"
   },
   {
    "duration": 56,
    "start_time": "2023-03-31T08:56:05.864Z"
   },
   {
    "duration": 97,
    "start_time": "2023-03-31T08:56:05.922Z"
   },
   {
    "duration": 1032,
    "start_time": "2023-03-31T08:56:06.028Z"
   },
   {
    "duration": 43,
    "start_time": "2023-03-31T08:56:07.062Z"
   },
   {
    "duration": 503,
    "start_time": "2023-03-31T08:56:07.107Z"
   },
   {
    "duration": 334,
    "start_time": "2023-03-31T08:56:07.612Z"
   },
   {
    "duration": 6,
    "start_time": "2023-03-31T08:56:07.948Z"
   },
   {
    "duration": 456,
    "start_time": "2023-03-31T08:56:07.956Z"
   },
   {
    "duration": 14,
    "start_time": "2023-03-31T08:56:08.414Z"
   },
   {
    "duration": 1308,
    "start_time": "2023-03-31T08:56:08.429Z"
   },
   {
    "duration": 374,
    "start_time": "2023-03-31T08:56:09.739Z"
   },
   {
    "duration": 118,
    "start_time": "2023-03-31T08:56:10.123Z"
   },
   {
    "duration": 40,
    "start_time": "2023-03-31T08:57:12.042Z"
   },
   {
    "duration": 15,
    "start_time": "2023-03-31T09:01:20.438Z"
   },
   {
    "duration": 38,
    "start_time": "2023-03-31T09:01:30.786Z"
   },
   {
    "duration": 160,
    "start_time": "2023-03-31T09:02:17.023Z"
   },
   {
    "duration": 2341,
    "start_time": "2023-03-31T09:02:32.420Z"
   },
   {
    "duration": 501,
    "start_time": "2023-03-31T09:02:37.694Z"
   },
   {
    "duration": 18,
    "start_time": "2023-03-31T09:23:04.768Z"
   },
   {
    "duration": 19,
    "start_time": "2023-03-31T09:23:05.930Z"
   },
   {
    "duration": 1392,
    "start_time": "2023-03-31T09:23:11.560Z"
   },
   {
    "duration": 382,
    "start_time": "2023-03-31T09:23:13.300Z"
   },
   {
    "duration": 1345,
    "start_time": "2023-03-31T10:14:48.701Z"
   },
   {
    "duration": 273,
    "start_time": "2023-03-31T10:14:50.049Z"
   },
   {
    "duration": 11,
    "start_time": "2023-03-31T10:14:50.323Z"
   },
   {
    "duration": 14,
    "start_time": "2023-03-31T10:14:50.336Z"
   },
   {
    "duration": 26,
    "start_time": "2023-03-31T10:14:50.353Z"
   },
   {
    "duration": 37,
    "start_time": "2023-03-31T10:14:50.387Z"
   },
   {
    "duration": 185,
    "start_time": "2023-03-31T10:14:50.426Z"
   },
   {
    "duration": 8,
    "start_time": "2023-03-31T10:14:50.613Z"
   },
   {
    "duration": 23,
    "start_time": "2023-03-31T10:14:50.623Z"
   },
   {
    "duration": 19,
    "start_time": "2023-03-31T10:14:50.647Z"
   },
   {
    "duration": 33,
    "start_time": "2023-03-31T10:14:50.667Z"
   },
   {
    "duration": 10,
    "start_time": "2023-03-31T10:14:50.704Z"
   },
   {
    "duration": 36,
    "start_time": "2023-03-31T10:14:50.716Z"
   },
   {
    "duration": 34,
    "start_time": "2023-03-31T10:14:50.755Z"
   },
   {
    "duration": 39,
    "start_time": "2023-03-31T10:14:50.791Z"
   },
   {
    "duration": 17,
    "start_time": "2023-03-31T10:14:50.831Z"
   },
   {
    "duration": 8,
    "start_time": "2023-03-31T10:14:50.849Z"
   },
   {
    "duration": 90,
    "start_time": "2023-03-31T10:14:50.859Z"
   },
   {
    "duration": 97,
    "start_time": "2023-03-31T10:14:50.951Z"
   },
   {
    "duration": 11,
    "start_time": "2023-03-31T10:14:51.050Z"
   },
   {
    "duration": 23,
    "start_time": "2023-03-31T10:14:51.063Z"
   },
   {
    "duration": 39,
    "start_time": "2023-03-31T10:14:51.089Z"
   },
   {
    "duration": 32,
    "start_time": "2023-03-31T10:14:51.130Z"
   },
   {
    "duration": 51,
    "start_time": "2023-03-31T10:14:51.163Z"
   },
   {
    "duration": 45,
    "start_time": "2023-03-31T10:14:51.216Z"
   },
   {
    "duration": 53,
    "start_time": "2023-03-31T10:14:51.268Z"
   },
   {
    "duration": 211,
    "start_time": "2023-03-31T10:14:51.323Z"
   },
   {
    "duration": 76,
    "start_time": "2023-03-31T10:14:51.537Z"
   },
   {
    "duration": 75,
    "start_time": "2023-03-31T10:14:51.615Z"
   },
   {
    "duration": 11,
    "start_time": "2023-03-31T10:14:51.692Z"
   },
   {
    "duration": 11,
    "start_time": "2023-03-31T10:14:51.709Z"
   },
   {
    "duration": 398,
    "start_time": "2023-03-31T10:14:51.722Z"
   },
   {
    "duration": 324,
    "start_time": "2023-03-31T10:14:52.121Z"
   },
   {
    "duration": 102,
    "start_time": "2023-03-31T10:14:52.447Z"
   },
   {
    "duration": 168,
    "start_time": "2023-03-31T10:14:52.551Z"
   },
   {
    "duration": 476,
    "start_time": "2023-03-31T10:14:52.725Z"
   },
   {
    "duration": 11,
    "start_time": "2023-03-31T10:14:53.203Z"
   },
   {
    "duration": 334,
    "start_time": "2023-03-31T10:14:53.216Z"
   },
   {
    "duration": 17,
    "start_time": "2023-03-31T10:14:53.552Z"
   },
   {
    "duration": 58,
    "start_time": "2023-03-31T10:14:53.576Z"
   },
   {
    "duration": 50,
    "start_time": "2023-03-31T10:14:53.637Z"
   },
   {
    "duration": 9,
    "start_time": "2023-03-31T10:14:53.689Z"
   },
   {
    "duration": 12,
    "start_time": "2023-03-31T10:14:53.706Z"
   },
   {
    "duration": 10,
    "start_time": "2023-03-31T10:14:53.719Z"
   },
   {
    "duration": 180,
    "start_time": "2023-03-31T10:14:53.731Z"
   },
   {
    "duration": 66,
    "start_time": "2023-03-31T10:14:53.913Z"
   },
   {
    "duration": 280,
    "start_time": "2023-03-31T10:14:53.986Z"
   },
   {
    "duration": 27,
    "start_time": "2023-03-31T10:14:54.270Z"
   },
   {
    "duration": 11,
    "start_time": "2023-03-31T10:14:54.299Z"
   },
   {
    "duration": 21,
    "start_time": "2023-03-31T10:14:54.312Z"
   },
   {
    "duration": 87,
    "start_time": "2023-03-31T10:14:54.335Z"
   },
   {
    "duration": 55,
    "start_time": "2023-03-31T10:14:54.423Z"
   },
   {
    "duration": 29,
    "start_time": "2023-03-31T10:14:54.484Z"
   },
   {
    "duration": 24,
    "start_time": "2023-03-31T10:14:54.518Z"
   },
   {
    "duration": 10,
    "start_time": "2023-03-31T10:14:54.543Z"
   },
   {
    "duration": 35,
    "start_time": "2023-03-31T10:14:54.554Z"
   },
   {
    "duration": 19,
    "start_time": "2023-03-31T10:14:54.592Z"
   },
   {
    "duration": 32,
    "start_time": "2023-03-31T10:14:54.613Z"
   },
   {
    "duration": 147,
    "start_time": "2023-03-31T10:14:54.647Z"
   },
   {
    "duration": 42,
    "start_time": "2023-03-31T10:14:54.796Z"
   },
   {
    "duration": 95,
    "start_time": "2023-03-31T10:14:54.839Z"
   },
   {
    "duration": 801,
    "start_time": "2023-03-31T10:14:54.935Z"
   },
   {
    "duration": 17,
    "start_time": "2023-03-31T10:14:55.738Z"
   },
   {
    "duration": 420,
    "start_time": "2023-03-31T10:14:55.782Z"
   },
   {
    "duration": 265,
    "start_time": "2023-03-31T10:14:56.204Z"
   },
   {
    "duration": 11,
    "start_time": "2023-03-31T10:14:56.475Z"
   },
   {
    "duration": 377,
    "start_time": "2023-03-31T10:14:56.487Z"
   },
   {
    "duration": 17,
    "start_time": "2023-03-31T10:14:56.866Z"
   },
   {
    "duration": 1228,
    "start_time": "2023-03-31T14:21:31.229Z"
   },
   {
    "duration": 1248,
    "start_time": "2023-03-31T14:21:32.459Z"
   },
   {
    "duration": 11,
    "start_time": "2023-03-31T14:21:33.708Z"
   },
   {
    "duration": 16,
    "start_time": "2023-03-31T14:21:33.721Z"
   },
   {
    "duration": 10,
    "start_time": "2023-03-31T14:21:33.739Z"
   },
   {
    "duration": 44,
    "start_time": "2023-03-31T14:21:33.750Z"
   },
   {
    "duration": 149,
    "start_time": "2023-03-31T14:21:33.795Z"
   },
   {
    "duration": 7,
    "start_time": "2023-03-31T14:21:33.946Z"
   },
   {
    "duration": 18,
    "start_time": "2023-03-31T14:21:33.955Z"
   },
   {
    "duration": 8,
    "start_time": "2023-03-31T14:21:33.975Z"
   },
   {
    "duration": 17,
    "start_time": "2023-03-31T14:21:33.985Z"
   },
   {
    "duration": 4,
    "start_time": "2023-03-31T14:21:34.004Z"
   },
   {
    "duration": 33,
    "start_time": "2023-03-31T14:21:34.010Z"
   },
   {
    "duration": 10,
    "start_time": "2023-03-31T14:21:34.047Z"
   },
   {
    "duration": 38,
    "start_time": "2023-03-31T14:21:34.058Z"
   },
   {
    "duration": 12,
    "start_time": "2023-03-31T14:21:34.098Z"
   },
   {
    "duration": 23,
    "start_time": "2023-03-31T14:21:34.111Z"
   },
   {
    "duration": 82,
    "start_time": "2023-03-31T14:21:34.135Z"
   },
   {
    "duration": 83,
    "start_time": "2023-03-31T14:21:34.219Z"
   },
   {
    "duration": 8,
    "start_time": "2023-03-31T14:21:34.304Z"
   },
   {
    "duration": 29,
    "start_time": "2023-03-31T14:21:34.314Z"
   },
   {
    "duration": 7,
    "start_time": "2023-03-31T14:21:34.344Z"
   },
   {
    "duration": 44,
    "start_time": "2023-03-31T14:21:34.352Z"
   },
   {
    "duration": 25,
    "start_time": "2023-03-31T14:21:34.398Z"
   },
   {
    "duration": 31,
    "start_time": "2023-03-31T14:21:34.424Z"
   },
   {
    "duration": 134,
    "start_time": "2023-03-31T14:21:34.469Z"
   },
   {
    "duration": 42,
    "start_time": "2023-03-31T14:21:34.604Z"
   },
   {
    "duration": 63,
    "start_time": "2023-03-31T14:21:34.648Z"
   },
   {
    "duration": 4,
    "start_time": "2023-03-31T14:21:34.712Z"
   },
   {
    "duration": 6,
    "start_time": "2023-03-31T14:21:34.717Z"
   },
   {
    "duration": 361,
    "start_time": "2023-03-31T14:21:34.724Z"
   },
   {
    "duration": 273,
    "start_time": "2023-03-31T14:21:35.087Z"
   },
   {
    "duration": 78,
    "start_time": "2023-03-31T14:21:35.362Z"
   },
   {
    "duration": 145,
    "start_time": "2023-03-31T14:21:35.441Z"
   },
   {
    "duration": 389,
    "start_time": "2023-03-31T14:21:35.588Z"
   },
   {
    "duration": 12,
    "start_time": "2023-03-31T14:21:35.979Z"
   },
   {
    "duration": 280,
    "start_time": "2023-03-31T14:21:35.993Z"
   },
   {
    "duration": 13,
    "start_time": "2023-03-31T14:21:36.275Z"
   },
   {
    "duration": 59,
    "start_time": "2023-03-31T14:21:36.289Z"
   },
   {
    "duration": 41,
    "start_time": "2023-03-31T14:21:36.350Z"
   },
   {
    "duration": 6,
    "start_time": "2023-03-31T14:21:36.395Z"
   },
   {
    "duration": 11,
    "start_time": "2023-03-31T14:21:36.402Z"
   },
   {
    "duration": 6,
    "start_time": "2023-03-31T14:21:36.414Z"
   },
   {
    "duration": 161,
    "start_time": "2023-03-31T14:21:36.421Z"
   },
   {
    "duration": 54,
    "start_time": "2023-03-31T14:21:36.584Z"
   },
   {
    "duration": 255,
    "start_time": "2023-03-31T14:21:36.639Z"
   },
   {
    "duration": 7,
    "start_time": "2023-03-31T14:21:36.896Z"
   },
   {
    "duration": 11,
    "start_time": "2023-03-31T14:21:36.905Z"
   },
   {
    "duration": 5,
    "start_time": "2023-03-31T14:21:36.917Z"
   },
   {
    "duration": 80,
    "start_time": "2023-03-31T14:21:36.923Z"
   },
   {
    "duration": 32,
    "start_time": "2023-03-31T14:21:37.004Z"
   },
   {
    "duration": 32,
    "start_time": "2023-03-31T14:21:37.037Z"
   },
   {
    "duration": 25,
    "start_time": "2023-03-31T14:21:37.071Z"
   },
   {
    "duration": 9,
    "start_time": "2023-03-31T14:21:37.097Z"
   },
   {
    "duration": 11,
    "start_time": "2023-03-31T14:21:37.108Z"
   },
   {
    "duration": 12,
    "start_time": "2023-03-31T14:21:37.120Z"
   },
   {
    "duration": 60,
    "start_time": "2023-03-31T14:21:37.133Z"
   },
   {
    "duration": 130,
    "start_time": "2023-03-31T14:21:37.195Z"
   },
   {
    "duration": 43,
    "start_time": "2023-03-31T14:21:37.327Z"
   },
   {
    "duration": 68,
    "start_time": "2023-03-31T14:21:37.371Z"
   },
   {
    "duration": 725,
    "start_time": "2023-03-31T14:21:37.441Z"
   },
   {
    "duration": 19,
    "start_time": "2023-03-31T14:21:38.170Z"
   },
   {
    "duration": 433,
    "start_time": "2023-03-31T14:21:38.191Z"
   },
   {
    "duration": 272,
    "start_time": "2023-03-31T14:21:38.626Z"
   },
   {
    "duration": 5,
    "start_time": "2023-03-31T14:21:38.900Z"
   },
   {
    "duration": 368,
    "start_time": "2023-03-31T14:21:38.906Z"
   },
   {
    "duration": 8,
    "start_time": "2023-03-31T14:21:39.276Z"
   },
   {
    "duration": 47,
    "start_time": "2023-04-02T08:08:00.607Z"
   },
   {
    "duration": 1297,
    "start_time": "2023-04-02T08:08:09.409Z"
   },
   {
    "duration": 1024,
    "start_time": "2023-04-02T08:08:18.491Z"
   },
   {
    "duration": 776,
    "start_time": "2023-04-02T08:08:19.517Z"
   },
   {
    "duration": 13,
    "start_time": "2023-04-02T08:08:20.295Z"
   },
   {
    "duration": 13,
    "start_time": "2023-04-02T08:08:20.310Z"
   },
   {
    "duration": 10,
    "start_time": "2023-04-02T08:08:20.325Z"
   },
   {
    "duration": 49,
    "start_time": "2023-04-02T08:08:20.337Z"
   },
   {
    "duration": 135,
    "start_time": "2023-04-02T08:08:20.388Z"
   },
   {
    "duration": 7,
    "start_time": "2023-04-02T08:08:20.524Z"
   },
   {
    "duration": 18,
    "start_time": "2023-04-02T08:08:20.532Z"
   },
   {
    "duration": 12,
    "start_time": "2023-04-02T08:08:20.552Z"
   },
   {
    "duration": 18,
    "start_time": "2023-04-02T08:08:20.566Z"
   },
   {
    "duration": 5,
    "start_time": "2023-04-02T08:08:20.585Z"
   },
   {
    "duration": 25,
    "start_time": "2023-04-02T08:08:20.592Z"
   },
   {
    "duration": 6,
    "start_time": "2023-04-02T08:08:20.643Z"
   },
   {
    "duration": 33,
    "start_time": "2023-04-02T08:08:20.651Z"
   },
   {
    "duration": 14,
    "start_time": "2023-04-02T08:08:20.686Z"
   },
   {
    "duration": 16,
    "start_time": "2023-04-02T08:08:20.701Z"
   },
   {
    "duration": 81,
    "start_time": "2023-04-02T08:08:20.719Z"
   },
   {
    "duration": 88,
    "start_time": "2023-04-02T08:08:20.802Z"
   },
   {
    "duration": 9,
    "start_time": "2023-04-02T08:08:20.891Z"
   },
   {
    "duration": 39,
    "start_time": "2023-04-02T08:08:20.901Z"
   },
   {
    "duration": 7,
    "start_time": "2023-04-02T08:08:20.942Z"
   },
   {
    "duration": 33,
    "start_time": "2023-04-02T08:08:20.951Z"
   },
   {
    "duration": 25,
    "start_time": "2023-04-02T08:08:20.986Z"
   },
   {
    "duration": 46,
    "start_time": "2023-04-02T08:08:21.012Z"
   },
   {
    "duration": 138,
    "start_time": "2023-04-02T08:08:21.060Z"
   },
   {
    "duration": 49,
    "start_time": "2023-04-02T08:08:21.200Z"
   },
   {
    "duration": 44,
    "start_time": "2023-04-02T08:08:21.250Z"
   },
   {
    "duration": 4,
    "start_time": "2023-04-02T08:08:21.295Z"
   },
   {
    "duration": 4,
    "start_time": "2023-04-02T08:08:21.300Z"
   },
   {
    "duration": 346,
    "start_time": "2023-04-02T08:08:21.305Z"
   },
   {
    "duration": 256,
    "start_time": "2023-04-02T08:08:21.652Z"
   },
   {
    "duration": 80,
    "start_time": "2023-04-02T08:08:21.910Z"
   },
   {
    "duration": 161,
    "start_time": "2023-04-02T08:08:21.992Z"
   },
   {
    "duration": 343,
    "start_time": "2023-04-02T08:08:22.155Z"
   },
   {
    "duration": 9,
    "start_time": "2023-04-02T08:08:22.500Z"
   },
   {
    "duration": 299,
    "start_time": "2023-04-02T08:08:22.510Z"
   },
   {
    "duration": 9,
    "start_time": "2023-04-02T08:08:22.811Z"
   },
   {
    "duration": 47,
    "start_time": "2023-04-02T08:08:22.822Z"
   },
   {
    "duration": 38,
    "start_time": "2023-04-02T08:08:22.871Z"
   },
   {
    "duration": 5,
    "start_time": "2023-04-02T08:08:22.913Z"
   },
   {
    "duration": 21,
    "start_time": "2023-04-02T08:08:22.920Z"
   },
   {
    "duration": 6,
    "start_time": "2023-04-02T08:08:22.942Z"
   },
   {
    "duration": 152,
    "start_time": "2023-04-02T08:08:22.949Z"
   },
   {
    "duration": 64,
    "start_time": "2023-04-02T08:08:23.103Z"
   },
   {
    "duration": 238,
    "start_time": "2023-04-02T08:08:23.169Z"
   },
   {
    "duration": 8,
    "start_time": "2023-04-02T08:08:23.408Z"
   },
   {
    "duration": 5,
    "start_time": "2023-04-02T08:08:23.417Z"
   },
   {
    "duration": 17,
    "start_time": "2023-04-02T08:08:23.423Z"
   },
   {
    "duration": 74,
    "start_time": "2023-04-02T08:08:23.442Z"
   },
   {
    "duration": 43,
    "start_time": "2023-04-02T08:08:23.518Z"
   },
   {
    "duration": 17,
    "start_time": "2023-04-02T08:08:23.562Z"
   },
   {
    "duration": 23,
    "start_time": "2023-04-02T08:08:23.580Z"
   },
   {
    "duration": 10,
    "start_time": "2023-04-02T08:08:23.604Z"
   },
   {
    "duration": 30,
    "start_time": "2023-04-02T08:08:23.615Z"
   },
   {
    "duration": 13,
    "start_time": "2023-04-02T08:08:23.646Z"
   },
   {
    "duration": 33,
    "start_time": "2023-04-02T08:08:23.660Z"
   },
   {
    "duration": 152,
    "start_time": "2023-04-02T08:08:23.695Z"
   },
   {
    "duration": 32,
    "start_time": "2023-04-02T08:08:23.848Z"
   },
   {
    "duration": 81,
    "start_time": "2023-04-02T08:08:23.881Z"
   },
   {
    "duration": 679,
    "start_time": "2023-04-02T08:08:23.964Z"
   },
   {
    "duration": 18,
    "start_time": "2023-04-02T08:08:24.645Z"
   },
   {
    "duration": 374,
    "start_time": "2023-04-02T08:08:24.664Z"
   },
   {
    "duration": 249,
    "start_time": "2023-04-02T08:08:25.040Z"
   },
   {
    "duration": 5,
    "start_time": "2023-04-02T08:08:25.290Z"
   },
   {
    "duration": 364,
    "start_time": "2023-04-02T08:08:25.296Z"
   },
   {
    "duration": 6,
    "start_time": "2023-04-02T08:08:25.662Z"
   },
   {
    "duration": 154,
    "start_time": "2023-04-02T10:55:42.028Z"
   },
   {
    "duration": 13,
    "start_time": "2023-04-02T10:57:00.387Z"
   },
   {
    "duration": 13,
    "start_time": "2023-04-02T10:57:28.543Z"
   },
   {
    "duration": 23,
    "start_time": "2023-04-02T10:57:46.316Z"
   },
   {
    "duration": 31,
    "start_time": "2023-04-02T10:58:02.267Z"
   },
   {
    "duration": 29,
    "start_time": "2023-04-02T10:58:58.236Z"
   },
   {
    "duration": 12,
    "start_time": "2023-04-02T10:59:04.383Z"
   },
   {
    "duration": 15,
    "start_time": "2023-04-02T10:59:19.970Z"
   },
   {
    "duration": 31,
    "start_time": "2023-04-02T10:59:59.362Z"
   },
   {
    "duration": 22,
    "start_time": "2023-04-02T11:00:13.678Z"
   },
   {
    "duration": 8,
    "start_time": "2023-04-02T11:00:16.619Z"
   },
   {
    "duration": 15,
    "start_time": "2023-04-02T11:00:21.124Z"
   },
   {
    "duration": 13,
    "start_time": "2023-04-02T11:00:25.292Z"
   },
   {
    "duration": 9,
    "start_time": "2023-04-02T11:00:39.403Z"
   },
   {
    "duration": 9,
    "start_time": "2023-04-02T11:00:53.115Z"
   },
   {
    "duration": 8,
    "start_time": "2023-04-02T11:00:57.211Z"
   },
   {
    "duration": 29,
    "start_time": "2023-04-02T11:02:00.572Z"
   },
   {
    "duration": 13,
    "start_time": "2023-04-02T11:02:24.307Z"
   },
   {
    "duration": 42,
    "start_time": "2023-04-02T11:05:05.396Z"
   },
   {
    "duration": 9,
    "start_time": "2023-04-02T11:05:49.315Z"
   },
   {
    "duration": 28,
    "start_time": "2023-04-02T11:05:52.899Z"
   },
   {
    "duration": 6,
    "start_time": "2023-04-02T11:05:55.596Z"
   },
   {
    "duration": 4,
    "start_time": "2023-04-02T11:06:13.316Z"
   },
   {
    "duration": 8,
    "start_time": "2023-04-02T11:06:30.788Z"
   },
   {
    "duration": 11,
    "start_time": "2023-04-02T11:06:31.987Z"
   },
   {
    "duration": 54,
    "start_time": "2023-04-02T11:08:59.916Z"
   },
   {
    "duration": 34,
    "start_time": "2023-04-02T11:09:13.658Z"
   },
   {
    "duration": 5,
    "start_time": "2023-04-02T11:09:21.795Z"
   },
   {
    "duration": 4,
    "start_time": "2023-04-02T11:09:58.714Z"
   },
   {
    "duration": 105,
    "start_time": "2023-04-02T11:10:21.606Z"
   },
   {
    "duration": 10,
    "start_time": "2023-04-02T11:10:32.786Z"
   },
   {
    "duration": 136,
    "start_time": "2023-04-02T11:12:16.360Z"
   },
   {
    "duration": 18,
    "start_time": "2023-04-02T11:13:34.862Z"
   },
   {
    "duration": 21,
    "start_time": "2023-04-02T11:13:47.867Z"
   },
   {
    "duration": 110,
    "start_time": "2023-04-02T11:15:16.697Z"
   },
   {
    "duration": 10,
    "start_time": "2023-04-02T11:15:23.386Z"
   },
   {
    "duration": 10,
    "start_time": "2023-04-02T11:15:28.368Z"
   },
   {
    "duration": 35,
    "start_time": "2023-04-02T11:15:46.483Z"
   },
   {
    "duration": 37,
    "start_time": "2023-04-02T11:15:48.562Z"
   },
   {
    "duration": 33,
    "start_time": "2023-04-02T11:16:06.002Z"
   },
   {
    "duration": 4,
    "start_time": "2023-04-02T11:17:50.226Z"
   },
   {
    "duration": 9,
    "start_time": "2023-04-02T11:18:07.563Z"
   },
   {
    "duration": 6,
    "start_time": "2023-04-02T11:18:57.068Z"
   },
   {
    "duration": 5,
    "start_time": "2023-04-02T11:19:03.592Z"
   },
   {
    "duration": 10,
    "start_time": "2023-04-02T11:21:38.259Z"
   },
   {
    "duration": 135,
    "start_time": "2023-04-02T11:21:56.634Z"
   },
   {
    "duration": 27,
    "start_time": "2023-04-02T11:22:06.495Z"
   },
   {
    "duration": 41,
    "start_time": "2023-04-02T11:22:33.818Z"
   },
   {
    "duration": 38,
    "start_time": "2023-04-02T11:23:01.667Z"
   },
   {
    "duration": 4,
    "start_time": "2023-04-02T11:24:11.416Z"
   },
   {
    "duration": 28,
    "start_time": "2023-04-02T11:24:19.594Z"
   },
   {
    "duration": 3,
    "start_time": "2023-04-02T11:24:52.232Z"
   },
   {
    "duration": 7,
    "start_time": "2023-04-02T11:25:01.104Z"
   },
   {
    "duration": 13,
    "start_time": "2023-04-02T11:25:05.784Z"
   },
   {
    "duration": 63,
    "start_time": "2023-04-02T11:25:16.367Z"
   },
   {
    "duration": 33,
    "start_time": "2023-04-02T11:25:16.866Z"
   },
   {
    "duration": 14,
    "start_time": "2023-04-02T11:25:19.770Z"
   },
   {
    "duration": 22,
    "start_time": "2023-04-02T11:25:22.215Z"
   },
   {
    "duration": 50,
    "start_time": "2023-04-02T11:25:55.719Z"
   },
   {
    "duration": 7,
    "start_time": "2023-04-02T11:25:57.198Z"
   },
   {
    "duration": 52,
    "start_time": "2023-04-02T11:26:03.025Z"
   },
   {
    "duration": 111,
    "start_time": "2023-04-02T11:30:48.974Z"
   },
   {
    "duration": 28,
    "start_time": "2023-04-02T11:33:25.002Z"
   },
   {
    "duration": 1132,
    "start_time": "2023-04-02T11:39:42.786Z"
   },
   {
    "duration": 290,
    "start_time": "2023-04-02T11:39:43.921Z"
   },
   {
    "duration": 11,
    "start_time": "2023-04-02T11:39:44.212Z"
   },
   {
    "duration": 16,
    "start_time": "2023-04-02T11:39:44.226Z"
   },
   {
    "duration": 15,
    "start_time": "2023-04-02T11:39:44.243Z"
   },
   {
    "duration": 42,
    "start_time": "2023-04-02T11:39:44.259Z"
   },
   {
    "duration": 181,
    "start_time": "2023-04-02T11:39:44.303Z"
   },
   {
    "duration": 8,
    "start_time": "2023-04-02T11:39:44.485Z"
   },
   {
    "duration": 10,
    "start_time": "2023-04-02T11:39:44.494Z"
   },
   {
    "duration": 11,
    "start_time": "2023-04-02T11:39:44.507Z"
   },
   {
    "duration": 65,
    "start_time": "2023-04-02T11:39:44.520Z"
   },
   {
    "duration": 6,
    "start_time": "2023-04-02T11:39:44.587Z"
   },
   {
    "duration": 26,
    "start_time": "2023-04-02T11:39:44.595Z"
   },
   {
    "duration": 6,
    "start_time": "2023-04-02T11:39:44.622Z"
   },
   {
    "duration": 50,
    "start_time": "2023-04-02T11:39:44.629Z"
   },
   {
    "duration": 13,
    "start_time": "2023-04-02T11:39:44.680Z"
   },
   {
    "duration": 5,
    "start_time": "2023-04-02T11:39:44.694Z"
   },
   {
    "duration": 93,
    "start_time": "2023-04-02T11:39:44.700Z"
   },
   {
    "duration": 116,
    "start_time": "2023-04-02T11:39:44.794Z"
   },
   {
    "duration": 10,
    "start_time": "2023-04-02T11:39:44.911Z"
   },
   {
    "duration": 48,
    "start_time": "2023-04-02T11:39:44.923Z"
   },
   {
    "duration": 9,
    "start_time": "2023-04-02T11:39:44.980Z"
   },
   {
    "duration": 26,
    "start_time": "2023-04-02T11:39:44.991Z"
   },
   {
    "duration": 33,
    "start_time": "2023-04-02T11:39:45.018Z"
   },
   {
    "duration": 41,
    "start_time": "2023-04-02T11:39:45.058Z"
   },
   {
    "duration": 148,
    "start_time": "2023-04-02T11:39:45.101Z"
   },
   {
    "duration": 53,
    "start_time": "2023-04-02T11:39:45.253Z"
   },
   {
    "duration": 55,
    "start_time": "2023-04-02T11:39:45.310Z"
   },
   {
    "duration": 4,
    "start_time": "2023-04-02T11:39:45.366Z"
   },
   {
    "duration": 6,
    "start_time": "2023-04-02T11:39:45.371Z"
   },
   {
    "duration": 386,
    "start_time": "2023-04-02T11:39:45.379Z"
   },
   {
    "duration": 283,
    "start_time": "2023-04-02T11:39:45.766Z"
   },
   {
    "duration": 81,
    "start_time": "2023-04-02T11:39:46.050Z"
   },
   {
    "duration": 189,
    "start_time": "2023-04-02T11:39:46.133Z"
   },
   {
    "duration": 405,
    "start_time": "2023-04-02T11:39:46.324Z"
   },
   {
    "duration": 26,
    "start_time": "2023-04-02T11:39:46.731Z"
   },
   {
    "duration": 304,
    "start_time": "2023-04-02T11:39:46.776Z"
   },
   {
    "duration": 10,
    "start_time": "2023-04-02T11:39:47.081Z"
   },
   {
    "duration": 61,
    "start_time": "2023-04-02T11:39:47.092Z"
   },
   {
    "duration": 51,
    "start_time": "2023-04-02T11:39:47.154Z"
   },
   {
    "duration": 6,
    "start_time": "2023-04-02T11:39:47.206Z"
   },
   {
    "duration": 7,
    "start_time": "2023-04-02T11:39:47.214Z"
   },
   {
    "duration": 6,
    "start_time": "2023-04-02T11:39:47.222Z"
   },
   {
    "duration": 247,
    "start_time": "2023-04-02T11:39:47.230Z"
   },
   {
    "duration": 86,
    "start_time": "2023-04-02T11:39:47.482Z"
   },
   {
    "duration": 322,
    "start_time": "2023-04-02T11:39:47.575Z"
   },
   {
    "duration": 8,
    "start_time": "2023-04-02T11:39:47.898Z"
   },
   {
    "duration": 5,
    "start_time": "2023-04-02T11:39:47.907Z"
   },
   {
    "duration": 9,
    "start_time": "2023-04-02T11:39:47.913Z"
   },
   {
    "duration": 93,
    "start_time": "2023-04-02T11:39:47.940Z"
   },
   {
    "duration": 51,
    "start_time": "2023-04-02T11:39:48.047Z"
   },
   {
    "duration": 15,
    "start_time": "2023-04-02T11:39:48.100Z"
   },
   {
    "duration": 29,
    "start_time": "2023-04-02T11:39:48.117Z"
   },
   {
    "duration": 22,
    "start_time": "2023-04-02T11:39:48.161Z"
   },
   {
    "duration": 7,
    "start_time": "2023-04-02T11:39:48.184Z"
   },
   {
    "duration": 28,
    "start_time": "2023-04-02T11:39:48.193Z"
   },
   {
    "duration": 55,
    "start_time": "2023-04-02T11:39:48.222Z"
   },
   {
    "duration": 137,
    "start_time": "2023-04-02T11:39:48.279Z"
   },
   {
    "duration": 38,
    "start_time": "2023-04-02T11:39:48.417Z"
   },
   {
    "duration": 71,
    "start_time": "2023-04-02T11:39:48.456Z"
   },
   {
    "duration": 762,
    "start_time": "2023-04-02T11:39:48.528Z"
   },
   {
    "duration": 20,
    "start_time": "2023-04-02T11:39:49.291Z"
   },
   {
    "duration": 399,
    "start_time": "2023-04-02T11:39:49.313Z"
   },
   {
    "duration": 348,
    "start_time": "2023-04-02T11:39:49.713Z"
   },
   {
    "duration": 7,
    "start_time": "2023-04-02T11:39:50.062Z"
   },
   {
    "duration": 415,
    "start_time": "2023-04-02T11:39:50.070Z"
   },
   {
    "duration": 7,
    "start_time": "2023-04-02T11:39:50.486Z"
   },
   {
    "duration": 28,
    "start_time": "2023-04-02T11:39:50.494Z"
   },
   {
    "duration": 23,
    "start_time": "2023-04-02T11:39:50.523Z"
   },
   {
    "duration": 34,
    "start_time": "2023-04-02T11:39:50.574Z"
   },
   {
    "duration": 1411,
    "start_time": "2023-04-02T17:21:50.873Z"
   },
   {
    "duration": 1145,
    "start_time": "2023-04-02T17:21:52.286Z"
   },
   {
    "duration": 14,
    "start_time": "2023-04-02T17:21:53.433Z"
   },
   {
    "duration": 15,
    "start_time": "2023-04-02T17:21:53.448Z"
   },
   {
    "duration": 11,
    "start_time": "2023-04-02T17:21:53.465Z"
   },
   {
    "duration": 37,
    "start_time": "2023-04-02T17:21:53.478Z"
   },
   {
    "duration": 214,
    "start_time": "2023-04-02T17:21:53.516Z"
   },
   {
    "duration": 15,
    "start_time": "2023-04-02T17:21:53.732Z"
   },
   {
    "duration": 13,
    "start_time": "2023-04-02T17:21:53.748Z"
   },
   {
    "duration": 11,
    "start_time": "2023-04-02T17:21:53.763Z"
   },
   {
    "duration": 29,
    "start_time": "2023-04-02T17:21:53.775Z"
   },
   {
    "duration": 6,
    "start_time": "2023-04-02T17:21:53.806Z"
   },
   {
    "duration": 54,
    "start_time": "2023-04-02T17:21:53.813Z"
   },
   {
    "duration": 7,
    "start_time": "2023-04-02T17:21:53.872Z"
   },
   {
    "duration": 30,
    "start_time": "2023-04-02T17:21:53.881Z"
   },
   {
    "duration": 37,
    "start_time": "2023-04-02T17:21:53.912Z"
   },
   {
    "duration": 5,
    "start_time": "2023-04-02T17:21:53.951Z"
   },
   {
    "duration": 96,
    "start_time": "2023-04-02T17:21:53.957Z"
   },
   {
    "duration": 108,
    "start_time": "2023-04-02T17:21:54.054Z"
   },
   {
    "duration": 11,
    "start_time": "2023-04-02T17:21:54.164Z"
   },
   {
    "duration": 47,
    "start_time": "2023-04-02T17:21:54.177Z"
   },
   {
    "duration": 9,
    "start_time": "2023-04-02T17:21:54.226Z"
   },
   {
    "duration": 36,
    "start_time": "2023-04-02T17:21:54.241Z"
   },
   {
    "duration": 35,
    "start_time": "2023-04-02T17:21:54.279Z"
   },
   {
    "duration": 62,
    "start_time": "2023-04-02T17:21:54.315Z"
   },
   {
    "duration": 164,
    "start_time": "2023-04-02T17:21:54.378Z"
   },
   {
    "duration": 47,
    "start_time": "2023-04-02T17:21:54.544Z"
   },
   {
    "duration": 69,
    "start_time": "2023-04-02T17:21:54.592Z"
   },
   {
    "duration": 5,
    "start_time": "2023-04-02T17:21:54.663Z"
   },
   {
    "duration": 13,
    "start_time": "2023-04-02T17:21:54.670Z"
   },
   {
    "duration": 405,
    "start_time": "2023-04-02T17:21:54.684Z"
   },
   {
    "duration": 323,
    "start_time": "2023-04-02T17:21:55.090Z"
   },
   {
    "duration": 101,
    "start_time": "2023-04-02T17:21:55.415Z"
   },
   {
    "duration": 304,
    "start_time": "2023-04-02T17:21:55.518Z"
   },
   {
    "duration": 417,
    "start_time": "2023-04-02T17:21:55.824Z"
   },
   {
    "duration": 13,
    "start_time": "2023-04-02T17:21:56.242Z"
   },
   {
    "duration": 320,
    "start_time": "2023-04-02T17:21:56.257Z"
   },
   {
    "duration": 10,
    "start_time": "2023-04-02T17:21:56.579Z"
   },
   {
    "duration": 59,
    "start_time": "2023-04-02T17:21:56.591Z"
   },
   {
    "duration": 40,
    "start_time": "2023-04-02T17:21:56.652Z"
   },
   {
    "duration": 5,
    "start_time": "2023-04-02T17:21:56.697Z"
   },
   {
    "duration": 10,
    "start_time": "2023-04-02T17:21:56.704Z"
   },
   {
    "duration": 26,
    "start_time": "2023-04-02T17:21:56.716Z"
   },
   {
    "duration": 158,
    "start_time": "2023-04-02T17:21:56.743Z"
   },
   {
    "duration": 69,
    "start_time": "2023-04-02T17:21:56.903Z"
   },
   {
    "duration": 271,
    "start_time": "2023-04-02T17:21:56.973Z"
   },
   {
    "duration": 8,
    "start_time": "2023-04-02T17:21:57.246Z"
   },
   {
    "duration": 6,
    "start_time": "2023-04-02T17:21:57.256Z"
   },
   {
    "duration": 10,
    "start_time": "2023-04-02T17:21:57.263Z"
   },
   {
    "duration": 95,
    "start_time": "2023-04-02T17:21:57.274Z"
   },
   {
    "duration": 47,
    "start_time": "2023-04-02T17:21:57.371Z"
   },
   {
    "duration": 37,
    "start_time": "2023-04-02T17:21:57.420Z"
   },
   {
    "duration": 25,
    "start_time": "2023-04-02T17:21:57.459Z"
   },
   {
    "duration": 11,
    "start_time": "2023-04-02T17:21:57.486Z"
   },
   {
    "duration": 8,
    "start_time": "2023-04-02T17:21:57.498Z"
   },
   {
    "duration": 45,
    "start_time": "2023-04-02T17:21:57.507Z"
   },
   {
    "duration": 42,
    "start_time": "2023-04-02T17:21:57.553Z"
   },
   {
    "duration": 147,
    "start_time": "2023-04-02T17:21:57.596Z"
   },
   {
    "duration": 40,
    "start_time": "2023-04-02T17:21:57.745Z"
   },
   {
    "duration": 95,
    "start_time": "2023-04-02T17:21:57.786Z"
   },
   {
    "duration": 764,
    "start_time": "2023-04-02T17:21:57.882Z"
   },
   {
    "duration": 19,
    "start_time": "2023-04-02T17:21:58.648Z"
   },
   {
    "duration": 515,
    "start_time": "2023-04-02T17:21:58.669Z"
   },
   {
    "duration": 277,
    "start_time": "2023-04-02T17:21:59.186Z"
   },
   {
    "duration": 6,
    "start_time": "2023-04-02T17:21:59.464Z"
   },
   {
    "duration": 382,
    "start_time": "2023-04-02T17:21:59.471Z"
   },
   {
    "duration": 8,
    "start_time": "2023-04-02T17:21:59.855Z"
   },
   {
    "duration": 63,
    "start_time": "2023-04-02T17:21:59.865Z"
   },
   {
    "duration": 5,
    "start_time": "2023-04-02T17:21:59.931Z"
   },
   {
    "duration": 40,
    "start_time": "2023-04-02T17:21:59.938Z"
   },
   {
    "duration": 50,
    "start_time": "2023-04-02T18:24:31.913Z"
   },
   {
    "duration": 1319,
    "start_time": "2023-04-02T18:24:47.550Z"
   },
   {
    "duration": 772,
    "start_time": "2023-04-02T18:24:48.871Z"
   },
   {
    "duration": 12,
    "start_time": "2023-04-02T18:24:49.645Z"
   },
   {
    "duration": 12,
    "start_time": "2023-04-02T18:24:49.659Z"
   },
   {
    "duration": 11,
    "start_time": "2023-04-02T18:24:49.672Z"
   },
   {
    "duration": 42,
    "start_time": "2023-04-02T18:24:49.685Z"
   },
   {
    "duration": 200,
    "start_time": "2023-04-02T18:24:49.729Z"
   },
   {
    "duration": 9,
    "start_time": "2023-04-02T18:24:50.750Z"
   },
   {
    "duration": 11,
    "start_time": "2023-04-02T18:24:51.142Z"
   },
   {
    "duration": 7,
    "start_time": "2023-04-02T18:24:51.610Z"
   },
   {
    "duration": 23,
    "start_time": "2023-04-02T18:24:51.930Z"
   },
   {
    "duration": 7,
    "start_time": "2023-04-02T18:24:53.780Z"
   },
   {
    "duration": 30,
    "start_time": "2023-04-02T18:24:53.916Z"
   },
   {
    "duration": 8,
    "start_time": "2023-04-02T18:24:54.326Z"
   },
   {
    "duration": 29,
    "start_time": "2023-04-02T18:24:56.868Z"
   },
   {
    "duration": 15,
    "start_time": "2023-04-02T18:24:58.213Z"
   },
   {
    "duration": 14,
    "start_time": "2023-04-02T18:24:58.701Z"
   },
   {
    "duration": 6,
    "start_time": "2023-04-02T18:24:59.572Z"
   },
   {
    "duration": 75,
    "start_time": "2023-04-02T18:24:59.839Z"
   },
   {
    "duration": 99,
    "start_time": "2023-04-02T18:25:00.118Z"
   },
   {
    "duration": 11,
    "start_time": "2023-04-02T18:25:00.520Z"
   },
   {
    "duration": 90,
    "start_time": "2023-04-02T18:26:05.435Z"
   },
   {
    "duration": 13,
    "start_time": "2023-04-02T18:26:10.975Z"
   },
   {
    "duration": 45,
    "start_time": "2023-04-02T18:27:55.770Z"
   },
   {
    "duration": 14,
    "start_time": "2023-04-02T18:28:28.470Z"
   },
   {
    "duration": 1224,
    "start_time": "2023-04-02T18:32:18.036Z"
   },
   {
    "duration": 265,
    "start_time": "2023-04-02T18:32:19.262Z"
   },
   {
    "duration": 13,
    "start_time": "2023-04-02T18:32:19.529Z"
   },
   {
    "duration": 13,
    "start_time": "2023-04-02T18:32:19.545Z"
   },
   {
    "duration": 13,
    "start_time": "2023-04-02T18:32:19.559Z"
   },
   {
    "duration": 55,
    "start_time": "2023-04-02T18:32:19.573Z"
   },
   {
    "duration": 216,
    "start_time": "2023-04-02T18:32:19.629Z"
   },
   {
    "duration": 10,
    "start_time": "2023-04-02T18:32:19.847Z"
   },
   {
    "duration": 12,
    "start_time": "2023-04-02T18:32:19.859Z"
   },
   {
    "duration": 10,
    "start_time": "2023-04-02T18:32:19.875Z"
   },
   {
    "duration": 53,
    "start_time": "2023-04-02T18:32:19.887Z"
   },
   {
    "duration": 7,
    "start_time": "2023-04-02T18:32:19.942Z"
   },
   {
    "duration": 30,
    "start_time": "2023-04-02T18:32:19.951Z"
   },
   {
    "duration": 8,
    "start_time": "2023-04-02T18:32:19.983Z"
   },
   {
    "duration": 61,
    "start_time": "2023-04-02T18:32:19.993Z"
   },
   {
    "duration": 46,
    "start_time": "2023-04-02T18:32:20.057Z"
   },
   {
    "duration": 23,
    "start_time": "2023-04-02T18:32:20.105Z"
   },
   {
    "duration": 15,
    "start_time": "2023-04-02T18:32:20.129Z"
   },
   {
    "duration": 17,
    "start_time": "2023-04-02T18:32:20.146Z"
   },
   {
    "duration": 87,
    "start_time": "2023-04-02T18:32:20.165Z"
   },
   {
    "duration": 121,
    "start_time": "2023-04-02T18:32:20.253Z"
   },
   {
    "duration": 15,
    "start_time": "2023-04-02T18:32:20.376Z"
   },
   {
    "duration": 57,
    "start_time": "2023-04-02T18:32:20.393Z"
   },
   {
    "duration": 9,
    "start_time": "2023-04-02T18:32:20.452Z"
   },
   {
    "duration": 78,
    "start_time": "2023-04-02T18:32:20.464Z"
   },
   {
    "duration": 41,
    "start_time": "2023-04-02T18:32:20.545Z"
   },
   {
    "duration": 67,
    "start_time": "2023-04-02T18:32:20.588Z"
   },
   {
    "duration": 193,
    "start_time": "2023-04-02T18:32:20.660Z"
   },
   {
    "duration": 45,
    "start_time": "2023-04-02T18:32:20.855Z"
   },
   {
    "duration": 67,
    "start_time": "2023-04-02T18:32:20.902Z"
   },
   {
    "duration": 5,
    "start_time": "2023-04-02T18:32:20.971Z"
   },
   {
    "duration": 6,
    "start_time": "2023-04-02T18:32:20.978Z"
   },
   {
    "duration": 442,
    "start_time": "2023-04-02T18:32:20.985Z"
   },
   {
    "duration": 329,
    "start_time": "2023-04-02T18:32:21.429Z"
   },
   {
    "duration": 93,
    "start_time": "2023-04-02T18:32:21.759Z"
   },
   {
    "duration": 163,
    "start_time": "2023-04-02T18:32:21.854Z"
   },
   {
    "duration": 385,
    "start_time": "2023-04-02T18:32:22.019Z"
   },
   {
    "duration": 23,
    "start_time": "2023-04-02T18:32:22.406Z"
   },
   {
    "duration": 350,
    "start_time": "2023-04-02T18:32:22.431Z"
   },
   {
    "duration": 11,
    "start_time": "2023-04-02T18:32:22.782Z"
   },
   {
    "duration": 63,
    "start_time": "2023-04-02T18:32:22.794Z"
   },
   {
    "duration": 45,
    "start_time": "2023-04-02T18:32:22.859Z"
   },
   {
    "duration": 18,
    "start_time": "2023-04-02T18:32:22.906Z"
   },
   {
    "duration": 25,
    "start_time": "2023-04-02T18:32:22.926Z"
   },
   {
    "duration": 15,
    "start_time": "2023-04-02T18:32:22.953Z"
   },
   {
    "duration": 173,
    "start_time": "2023-04-02T18:32:22.970Z"
   },
   {
    "duration": 68,
    "start_time": "2023-04-02T18:32:23.145Z"
   },
   {
    "duration": 276,
    "start_time": "2023-04-02T18:32:23.223Z"
   },
   {
    "duration": 8,
    "start_time": "2023-04-02T18:32:23.501Z"
   },
   {
    "duration": 14,
    "start_time": "2023-04-02T18:32:23.511Z"
   },
   {
    "duration": 26,
    "start_time": "2023-04-02T18:32:23.527Z"
   },
   {
    "duration": 85,
    "start_time": "2023-04-02T18:32:23.554Z"
   },
   {
    "duration": 42,
    "start_time": "2023-04-02T18:32:23.640Z"
   },
   {
    "duration": 19,
    "start_time": "2023-04-02T18:32:23.684Z"
   },
   {
    "duration": 35,
    "start_time": "2023-04-02T18:32:23.705Z"
   },
   {
    "duration": 12,
    "start_time": "2023-04-02T18:32:23.742Z"
   },
   {
    "duration": 9,
    "start_time": "2023-04-02T18:32:23.756Z"
   },
   {
    "duration": 15,
    "start_time": "2023-04-02T18:32:23.767Z"
   },
   {
    "duration": 76,
    "start_time": "2023-04-02T18:32:23.784Z"
   },
   {
    "duration": 167,
    "start_time": "2023-04-02T18:32:23.861Z"
   },
   {
    "duration": 40,
    "start_time": "2023-04-02T18:32:24.030Z"
   },
   {
    "duration": 90,
    "start_time": "2023-04-02T18:32:24.072Z"
   },
   {
    "duration": 840,
    "start_time": "2023-04-02T18:32:24.164Z"
   },
   {
    "duration": 29,
    "start_time": "2023-04-02T18:32:25.006Z"
   },
   {
    "duration": 458,
    "start_time": "2023-04-02T18:32:25.037Z"
   },
   {
    "duration": 303,
    "start_time": "2023-04-02T18:32:25.497Z"
   },
   {
    "duration": 5,
    "start_time": "2023-04-02T18:32:25.802Z"
   },
   {
    "duration": 372,
    "start_time": "2023-04-02T18:32:25.823Z"
   },
   {
    "duration": 9,
    "start_time": "2023-04-02T18:32:26.197Z"
   },
   {
    "duration": 46,
    "start_time": "2023-04-02T18:32:26.208Z"
   },
   {
    "duration": 4,
    "start_time": "2023-04-02T18:32:26.256Z"
   },
   {
    "duration": 26,
    "start_time": "2023-04-02T18:32:26.262Z"
   },
   {
    "duration": 17,
    "start_time": "2023-04-02T18:33:37.172Z"
   },
   {
    "duration": 15,
    "start_time": "2023-04-02T18:36:39.517Z"
   },
   {
    "duration": 37,
    "start_time": "2023-04-02T18:37:21.787Z"
   },
   {
    "duration": 16,
    "start_time": "2023-04-02T18:37:25.581Z"
   },
   {
    "duration": 38,
    "start_time": "2023-04-02T18:37:27.116Z"
   },
   {
    "duration": 14,
    "start_time": "2023-04-02T18:37:30.637Z"
   },
   {
    "duration": 41,
    "start_time": "2023-04-02T18:37:33.388Z"
   },
   {
    "duration": 121,
    "start_time": "2023-04-02T18:46:17.483Z"
   },
   {
    "duration": 17,
    "start_time": "2023-04-02T18:46:31.691Z"
   },
   {
    "duration": 51,
    "start_time": "2023-04-02T18:46:32.995Z"
   },
   {
    "duration": 281,
    "start_time": "2023-04-02T18:46:35.298Z"
   },
   {
    "duration": 51,
    "start_time": "2023-04-02T18:47:02.155Z"
   },
   {
    "duration": 277,
    "start_time": "2023-04-02T18:47:07.403Z"
   },
   {
    "duration": 263,
    "start_time": "2023-04-02T18:49:11.490Z"
   },
   {
    "duration": 274,
    "start_time": "2023-04-02T18:50:43.938Z"
   },
   {
    "duration": 275,
    "start_time": "2023-04-02T18:51:12.210Z"
   },
   {
    "duration": 402,
    "start_time": "2023-04-02T18:51:28.327Z"
   },
   {
    "duration": 9,
    "start_time": "2023-04-02T18:53:42.206Z"
   },
   {
    "duration": 3,
    "start_time": "2023-04-02T18:53:45.810Z"
   },
   {
    "duration": 4,
    "start_time": "2023-04-02T18:53:47.400Z"
   },
   {
    "duration": 7,
    "start_time": "2023-04-02T18:55:00.225Z"
   },
   {
    "duration": 4,
    "start_time": "2023-04-02T18:55:02.759Z"
   },
   {
    "duration": 9,
    "start_time": "2023-04-02T18:55:33.344Z"
   },
   {
    "duration": 8,
    "start_time": "2023-04-02T18:55:45.552Z"
   },
   {
    "duration": 8,
    "start_time": "2023-04-02T18:56:56.607Z"
   },
   {
    "duration": 11,
    "start_time": "2023-04-02T18:57:10.409Z"
   },
   {
    "duration": 8,
    "start_time": "2023-04-02T18:57:19.400Z"
   },
   {
    "duration": 5,
    "start_time": "2023-04-02T18:57:20.228Z"
   },
   {
    "duration": 4,
    "start_time": "2023-04-02T18:57:20.800Z"
   },
   {
    "duration": 116,
    "start_time": "2023-04-02T18:57:30.047Z"
   },
   {
    "duration": 57,
    "start_time": "2023-04-02T18:57:32.384Z"
   },
   {
    "duration": 23,
    "start_time": "2023-04-02T18:57:33.232Z"
   },
   {
    "duration": 29,
    "start_time": "2023-04-02T18:57:33.888Z"
   },
   {
    "duration": 11,
    "start_time": "2023-04-02T18:57:35.456Z"
   },
   {
    "duration": 10,
    "start_time": "2023-04-02T18:57:35.833Z"
   },
   {
    "duration": 14,
    "start_time": "2023-04-02T18:57:36.296Z"
   },
   {
    "duration": 36,
    "start_time": "2023-04-02T18:57:39.552Z"
   },
   {
    "duration": 181,
    "start_time": "2023-04-02T18:57:40.160Z"
   },
   {
    "duration": 163,
    "start_time": "2023-04-02T18:58:10.495Z"
   },
   {
    "duration": 156,
    "start_time": "2023-04-02T18:58:30.040Z"
   },
   {
    "duration": 157,
    "start_time": "2023-04-02T18:59:43.416Z"
   },
   {
    "duration": 154,
    "start_time": "2023-04-02T19:00:14.175Z"
   },
   {
    "duration": 41,
    "start_time": "2023-04-02T19:00:20.615Z"
   },
   {
    "duration": 56,
    "start_time": "2023-04-02T19:00:21.039Z"
   },
   {
    "duration": 854,
    "start_time": "2023-04-02T19:02:12.912Z"
   },
   {
    "duration": 48,
    "start_time": "2023-04-02T19:02:48.182Z"
   },
   {
    "duration": 52,
    "start_time": "2023-04-02T19:02:48.623Z"
   },
   {
    "duration": 957,
    "start_time": "2023-04-02T19:02:53.408Z"
   },
   {
    "duration": 3,
    "start_time": "2023-04-02T19:10:36.805Z"
   },
   {
    "duration": 21,
    "start_time": "2023-04-02T19:12:14.206Z"
   },
   {
    "duration": 6,
    "start_time": "2023-04-02T19:13:31.749Z"
   },
   {
    "duration": 16,
    "start_time": "2023-04-02T19:13:38.292Z"
   },
   {
    "duration": 778,
    "start_time": "2023-04-02T19:14:48.553Z"
   },
   {
    "duration": 28,
    "start_time": "2023-04-02T19:14:50.828Z"
   },
   {
    "duration": 19,
    "start_time": "2023-04-02T19:14:56.499Z"
   },
   {
    "duration": 1260,
    "start_time": "2023-04-02T19:15:14.300Z"
   },
   {
    "duration": 285,
    "start_time": "2023-04-02T19:15:15.562Z"
   },
   {
    "duration": 14,
    "start_time": "2023-04-02T19:15:15.849Z"
   },
   {
    "duration": 19,
    "start_time": "2023-04-02T19:15:15.866Z"
   },
   {
    "duration": 39,
    "start_time": "2023-04-02T19:15:15.888Z"
   },
   {
    "duration": 43,
    "start_time": "2023-04-02T19:15:15.929Z"
   },
   {
    "duration": 257,
    "start_time": "2023-04-02T19:15:15.974Z"
   },
   {
    "duration": 11,
    "start_time": "2023-04-02T19:15:16.233Z"
   },
   {
    "duration": 14,
    "start_time": "2023-04-02T19:15:16.245Z"
   },
   {
    "duration": 9,
    "start_time": "2023-04-02T19:15:16.261Z"
   },
   {
    "duration": 62,
    "start_time": "2023-04-02T19:15:16.273Z"
   },
   {
    "duration": 7,
    "start_time": "2023-04-02T19:15:16.337Z"
   },
   {
    "duration": 46,
    "start_time": "2023-04-02T19:15:16.346Z"
   },
   {
    "duration": 7,
    "start_time": "2023-04-02T19:15:16.423Z"
   },
   {
    "duration": 32,
    "start_time": "2023-04-02T19:15:16.432Z"
   },
   {
    "duration": 15,
    "start_time": "2023-04-02T19:15:16.465Z"
   },
   {
    "duration": 43,
    "start_time": "2023-04-02T19:15:16.481Z"
   },
   {
    "duration": 48,
    "start_time": "2023-04-02T19:15:16.526Z"
   },
   {
    "duration": 8,
    "start_time": "2023-04-02T19:15:16.576Z"
   },
   {
    "duration": 119,
    "start_time": "2023-04-02T19:15:16.586Z"
   },
   {
    "duration": 129,
    "start_time": "2023-04-02T19:15:16.707Z"
   },
   {
    "duration": 11,
    "start_time": "2023-04-02T19:15:16.838Z"
   },
   {
    "duration": 73,
    "start_time": "2023-04-02T19:15:16.851Z"
   },
   {
    "duration": 15,
    "start_time": "2023-04-02T19:15:16.926Z"
   },
   {
    "duration": 53,
    "start_time": "2023-04-02T19:15:16.945Z"
   },
   {
    "duration": 60,
    "start_time": "2023-04-02T19:15:17.000Z"
   },
   {
    "duration": 41,
    "start_time": "2023-04-02T19:15:17.062Z"
   },
   {
    "duration": 180,
    "start_time": "2023-04-02T19:15:17.105Z"
   },
   {
    "duration": 81,
    "start_time": "2023-04-02T19:15:17.287Z"
   },
   {
    "duration": 64,
    "start_time": "2023-04-02T19:15:17.370Z"
   },
   {
    "duration": 5,
    "start_time": "2023-04-02T19:15:17.435Z"
   },
   {
    "duration": 12,
    "start_time": "2023-04-02T19:15:17.442Z"
   },
   {
    "duration": 462,
    "start_time": "2023-04-02T19:15:17.457Z"
   },
   {
    "duration": 338,
    "start_time": "2023-04-02T19:15:17.922Z"
   },
   {
    "duration": 93,
    "start_time": "2023-04-02T19:15:18.261Z"
   },
   {
    "duration": 156,
    "start_time": "2023-04-02T19:15:18.355Z"
   },
   {
    "duration": 400,
    "start_time": "2023-04-02T19:15:18.513Z"
   },
   {
    "duration": 19,
    "start_time": "2023-04-02T19:15:18.914Z"
   },
   {
    "duration": 337,
    "start_time": "2023-04-02T19:15:18.934Z"
   },
   {
    "duration": 12,
    "start_time": "2023-04-02T19:15:19.273Z"
   },
   {
    "duration": 66,
    "start_time": "2023-04-02T19:15:19.289Z"
   },
   {
    "duration": 46,
    "start_time": "2023-04-02T19:15:19.357Z"
   },
   {
    "duration": 21,
    "start_time": "2023-04-02T19:15:19.405Z"
   },
   {
    "duration": 10,
    "start_time": "2023-04-02T19:15:19.427Z"
   },
   {
    "duration": 9,
    "start_time": "2023-04-02T19:15:19.438Z"
   },
   {
    "duration": 188,
    "start_time": "2023-04-02T19:15:19.448Z"
   },
   {
    "duration": 64,
    "start_time": "2023-04-02T19:15:19.638Z"
   },
   {
    "duration": 287,
    "start_time": "2023-04-02T19:15:19.703Z"
   },
   {
    "duration": 9,
    "start_time": "2023-04-02T19:15:19.991Z"
   },
   {
    "duration": 23,
    "start_time": "2023-04-02T19:15:20.001Z"
   },
   {
    "duration": 15,
    "start_time": "2023-04-02T19:15:20.026Z"
   },
   {
    "duration": 19,
    "start_time": "2023-04-02T19:15:20.043Z"
   },
   {
    "duration": 84,
    "start_time": "2023-04-02T19:15:20.064Z"
   },
   {
    "duration": 49,
    "start_time": "2023-04-02T19:15:20.150Z"
   },
   {
    "duration": 30,
    "start_time": "2023-04-02T19:15:20.200Z"
   },
   {
    "duration": 32,
    "start_time": "2023-04-02T19:15:20.232Z"
   },
   {
    "duration": 15,
    "start_time": "2023-04-02T19:15:20.267Z"
   },
   {
    "duration": 40,
    "start_time": "2023-04-02T19:15:20.284Z"
   },
   {
    "duration": 19,
    "start_time": "2023-04-02T19:15:20.326Z"
   },
   {
    "duration": 50,
    "start_time": "2023-04-02T19:15:20.347Z"
   },
   {
    "duration": 208,
    "start_time": "2023-04-02T19:15:20.424Z"
   },
   {
    "duration": 42,
    "start_time": "2023-04-02T19:15:20.634Z"
   },
   {
    "duration": 108,
    "start_time": "2023-04-02T19:15:20.678Z"
   },
   {
    "duration": 853,
    "start_time": "2023-04-02T19:15:20.788Z"
   },
   {
    "duration": 22,
    "start_time": "2023-04-02T19:15:21.643Z"
   },
   {
    "duration": 470,
    "start_time": "2023-04-02T19:15:21.667Z"
   },
   {
    "duration": 304,
    "start_time": "2023-04-02T19:15:22.139Z"
   },
   {
    "duration": 6,
    "start_time": "2023-04-02T19:15:22.445Z"
   },
   {
    "duration": 404,
    "start_time": "2023-04-02T19:15:22.452Z"
   },
   {
    "duration": 8,
    "start_time": "2023-04-02T19:15:22.858Z"
   },
   {
    "duration": 16,
    "start_time": "2023-04-02T19:15:22.868Z"
   },
   {
    "duration": 127,
    "start_time": "2023-04-02T19:15:22.885Z"
   },
   {
    "duration": 0,
    "start_time": "2023-04-02T19:15:23.013Z"
   },
   {
    "duration": 0,
    "start_time": "2023-04-02T19:15:23.023Z"
   },
   {
    "duration": 0,
    "start_time": "2023-04-02T19:15:23.024Z"
   },
   {
    "duration": 8,
    "start_time": "2023-04-02T19:16:07.692Z"
   },
   {
    "duration": 369,
    "start_time": "2023-04-02T19:17:07.626Z"
   },
   {
    "duration": 0,
    "start_time": "2023-04-02T19:17:31.147Z"
   },
   {
    "duration": 44,
    "start_time": "2023-04-02T19:17:51.393Z"
   },
   {
    "duration": 1562,
    "start_time": "2023-04-02T19:18:39.780Z"
   },
   {
    "duration": 497,
    "start_time": "2023-04-02T19:20:00.179Z"
   },
   {
    "duration": 98,
    "start_time": "2023-04-02T19:20:03.957Z"
   },
   {
    "duration": 354,
    "start_time": "2023-04-02T19:20:13.941Z"
   },
   {
    "duration": 24,
    "start_time": "2023-04-02T19:21:09.444Z"
   },
   {
    "duration": 7,
    "start_time": "2023-04-02T19:21:11.739Z"
   },
   {
    "duration": 13,
    "start_time": "2023-04-02T19:26:56.048Z"
   },
   {
    "duration": 42,
    "start_time": "2023-04-02T19:26:58.919Z"
   },
   {
    "duration": 31,
    "start_time": "2023-04-02T19:27:01.683Z"
   },
   {
    "duration": 9,
    "start_time": "2023-04-02T19:27:02.227Z"
   },
   {
    "duration": 25,
    "start_time": "2023-04-02T19:27:13.472Z"
   },
   {
    "duration": 25,
    "start_time": "2023-04-02T19:30:22.152Z"
   },
   {
    "duration": 24,
    "start_time": "2023-04-02T19:33:43.583Z"
   },
   {
    "duration": 75,
    "start_time": "2023-04-02T19:34:48.637Z"
   },
   {
    "duration": 28,
    "start_time": "2023-04-02T19:35:24.831Z"
   },
   {
    "duration": 30,
    "start_time": "2023-04-02T19:57:23.587Z"
   },
   {
    "duration": 23,
    "start_time": "2023-04-02T19:57:29.983Z"
   },
   {
    "duration": 30,
    "start_time": "2023-04-02T19:57:34.331Z"
   },
   {
    "duration": 25,
    "start_time": "2023-04-02T19:57:46.107Z"
   },
   {
    "duration": 26,
    "start_time": "2023-04-02T19:57:50.011Z"
   },
   {
    "duration": 24,
    "start_time": "2023-04-02T19:57:55.060Z"
   },
   {
    "duration": 25,
    "start_time": "2023-04-02T19:57:58.852Z"
   },
   {
    "duration": 24,
    "start_time": "2023-04-02T19:58:02.659Z"
   },
   {
    "duration": 24,
    "start_time": "2023-04-02T19:58:07.147Z"
   },
   {
    "duration": 25,
    "start_time": "2023-04-02T19:58:12.267Z"
   },
   {
    "duration": 23,
    "start_time": "2023-04-02T19:58:37.401Z"
   },
   {
    "duration": 25,
    "start_time": "2023-04-02T20:01:38.242Z"
   },
   {
    "duration": 24,
    "start_time": "2023-04-02T20:01:42.810Z"
   },
   {
    "duration": 26,
    "start_time": "2023-04-02T20:01:48.241Z"
   },
   {
    "duration": 22,
    "start_time": "2023-04-02T20:01:52.148Z"
   },
   {
    "duration": 24,
    "start_time": "2023-04-02T20:01:56.601Z"
   },
   {
    "duration": 73,
    "start_time": "2023-04-02T20:06:05.656Z"
   },
   {
    "duration": 27,
    "start_time": "2023-04-02T20:06:25.713Z"
   },
   {
    "duration": 28,
    "start_time": "2023-04-02T20:06:31.024Z"
   },
   {
    "duration": 72,
    "start_time": "2023-04-02T20:07:19.025Z"
   },
   {
    "duration": 28,
    "start_time": "2023-04-02T20:08:35.367Z"
   },
   {
    "duration": 32,
    "start_time": "2023-04-02T20:08:36.928Z"
   },
   {
    "duration": 1274,
    "start_time": "2023-04-02T20:11:01.315Z"
   },
   {
    "duration": 299,
    "start_time": "2023-04-02T20:11:02.591Z"
   },
   {
    "duration": 13,
    "start_time": "2023-04-02T20:11:02.893Z"
   },
   {
    "duration": 17,
    "start_time": "2023-04-02T20:11:02.909Z"
   },
   {
    "duration": 18,
    "start_time": "2023-04-02T20:11:02.928Z"
   },
   {
    "duration": 39,
    "start_time": "2023-04-02T20:11:02.948Z"
   },
   {
    "duration": 227,
    "start_time": "2023-04-02T20:11:02.988Z"
   },
   {
    "duration": 16,
    "start_time": "2023-04-02T20:11:03.216Z"
   },
   {
    "duration": 65,
    "start_time": "2023-04-02T20:11:03.235Z"
   },
   {
    "duration": 8,
    "start_time": "2023-04-02T20:11:03.303Z"
   },
   {
    "duration": 23,
    "start_time": "2023-04-02T20:11:03.313Z"
   },
   {
    "duration": 8,
    "start_time": "2023-04-02T20:11:03.338Z"
   },
   {
    "duration": 44,
    "start_time": "2023-04-02T20:11:03.348Z"
   },
   {
    "duration": 11,
    "start_time": "2023-04-02T20:11:03.394Z"
   },
   {
    "duration": 43,
    "start_time": "2023-04-02T20:11:03.407Z"
   },
   {
    "duration": 16,
    "start_time": "2023-04-02T20:11:03.452Z"
   },
   {
    "duration": 13,
    "start_time": "2023-04-02T20:11:03.470Z"
   },
   {
    "duration": 81,
    "start_time": "2023-04-02T20:11:03.485Z"
   },
   {
    "duration": 5,
    "start_time": "2023-04-02T20:11:03.567Z"
   },
   {
    "duration": 103,
    "start_time": "2023-04-02T20:11:03.575Z"
   },
   {
    "duration": 113,
    "start_time": "2023-04-02T20:11:03.680Z"
   },
   {
    "duration": 9,
    "start_time": "2023-04-02T20:11:03.796Z"
   },
   {
    "duration": 49,
    "start_time": "2023-04-02T20:11:03.807Z"
   },
   {
    "duration": 10,
    "start_time": "2023-04-02T20:11:03.858Z"
   },
   {
    "duration": 66,
    "start_time": "2023-04-02T20:11:03.869Z"
   },
   {
    "duration": 41,
    "start_time": "2023-04-02T20:11:03.937Z"
   },
   {
    "duration": 46,
    "start_time": "2023-04-02T20:11:03.980Z"
   },
   {
    "duration": 181,
    "start_time": "2023-04-02T20:11:04.031Z"
   },
   {
    "duration": 56,
    "start_time": "2023-04-02T20:11:04.213Z"
   },
   {
    "duration": 71,
    "start_time": "2023-04-02T20:11:04.271Z"
   },
   {
    "duration": 9,
    "start_time": "2023-04-02T20:11:04.344Z"
   },
   {
    "duration": 5,
    "start_time": "2023-04-02T20:11:04.354Z"
   },
   {
    "duration": 463,
    "start_time": "2023-04-02T20:11:04.361Z"
   },
   {
    "duration": 371,
    "start_time": "2023-04-02T20:11:04.826Z"
   },
   {
    "duration": 108,
    "start_time": "2023-04-02T20:11:05.199Z"
   },
   {
    "duration": 187,
    "start_time": "2023-04-02T20:11:05.309Z"
   },
   {
    "duration": 425,
    "start_time": "2023-04-02T20:11:05.498Z"
   },
   {
    "duration": 16,
    "start_time": "2023-04-02T20:11:05.926Z"
   },
   {
    "duration": 365,
    "start_time": "2023-04-02T20:11:05.944Z"
   },
   {
    "duration": 19,
    "start_time": "2023-04-02T20:11:06.311Z"
   },
   {
    "duration": 55,
    "start_time": "2023-04-02T20:11:06.332Z"
   },
   {
    "duration": 64,
    "start_time": "2023-04-02T20:11:06.389Z"
   },
   {
    "duration": 7,
    "start_time": "2023-04-02T20:11:06.456Z"
   },
   {
    "duration": 10,
    "start_time": "2023-04-02T20:11:06.465Z"
   },
   {
    "duration": 8,
    "start_time": "2023-04-02T20:11:06.478Z"
   },
   {
    "duration": 231,
    "start_time": "2023-04-02T20:11:06.488Z"
   },
   {
    "duration": 76,
    "start_time": "2023-04-02T20:11:06.724Z"
   },
   {
    "duration": 324,
    "start_time": "2023-04-02T20:11:06.802Z"
   },
   {
    "duration": 10,
    "start_time": "2023-04-02T20:11:07.129Z"
   },
   {
    "duration": 21,
    "start_time": "2023-04-02T20:11:07.141Z"
   },
   {
    "duration": 21,
    "start_time": "2023-04-02T20:11:07.164Z"
   },
   {
    "duration": 10,
    "start_time": "2023-04-02T20:11:07.187Z"
   },
   {
    "duration": 95,
    "start_time": "2023-04-02T20:11:07.199Z"
   },
   {
    "duration": 54,
    "start_time": "2023-04-02T20:11:07.296Z"
   },
   {
    "duration": 24,
    "start_time": "2023-04-02T20:11:07.352Z"
   },
   {
    "duration": 28,
    "start_time": "2023-04-02T20:11:07.377Z"
   },
   {
    "duration": 15,
    "start_time": "2023-04-02T20:11:07.423Z"
   },
   {
    "duration": 10,
    "start_time": "2023-04-02T20:11:07.440Z"
   },
   {
    "duration": 28,
    "start_time": "2023-04-02T20:11:07.453Z"
   },
   {
    "duration": 62,
    "start_time": "2023-04-02T20:11:07.483Z"
   },
   {
    "duration": 178,
    "start_time": "2023-04-02T20:11:07.548Z"
   },
   {
    "duration": 42,
    "start_time": "2023-04-02T20:11:07.727Z"
   },
   {
    "duration": 95,
    "start_time": "2023-04-02T20:11:07.772Z"
   },
   {
    "duration": 937,
    "start_time": "2023-04-02T20:11:07.869Z"
   },
   {
    "duration": 34,
    "start_time": "2023-04-02T20:11:08.808Z"
   },
   {
    "duration": 517,
    "start_time": "2023-04-02T20:11:08.844Z"
   },
   {
    "duration": 326,
    "start_time": "2023-04-02T20:11:09.363Z"
   },
   {
    "duration": 6,
    "start_time": "2023-04-02T20:11:09.691Z"
   },
   {
    "duration": 404,
    "start_time": "2023-04-02T20:11:09.699Z"
   },
   {
    "duration": 22,
    "start_time": "2023-04-02T20:11:10.105Z"
   },
   {
    "duration": 26,
    "start_time": "2023-04-02T20:11:10.129Z"
   },
   {
    "duration": 7,
    "start_time": "2023-04-02T20:11:10.158Z"
   },
   {
    "duration": 62,
    "start_time": "2023-04-02T20:11:10.167Z"
   },
   {
    "duration": 6,
    "start_time": "2023-04-02T20:11:10.233Z"
   },
   {
    "duration": 34,
    "start_time": "2023-04-02T20:11:10.242Z"
   },
   {
    "duration": 48,
    "start_time": "2023-04-02T20:11:10.279Z"
   },
   {
    "duration": 31,
    "start_time": "2023-04-02T20:11:10.329Z"
   },
   {
    "duration": 1024,
    "start_time": "2023-04-02T20:12:03.599Z"
   },
   {
    "duration": 50,
    "start_time": "2023-04-02T20:12:45.654Z"
   },
   {
    "duration": 312,
    "start_time": "2023-04-02T20:18:49.316Z"
   },
   {
    "duration": 289,
    "start_time": "2023-04-02T20:19:34.585Z"
   },
   {
    "duration": 307,
    "start_time": "2023-04-02T20:20:26.597Z"
   },
   {
    "duration": 503,
    "start_time": "2023-04-02T20:22:03.912Z"
   },
   {
    "duration": 294,
    "start_time": "2023-04-02T20:22:18.460Z"
   },
   {
    "duration": 276,
    "start_time": "2023-04-02T20:22:29.244Z"
   },
   {
    "duration": 277,
    "start_time": "2023-04-02T20:25:27.786Z"
   },
   {
    "duration": 291,
    "start_time": "2023-04-02T20:25:52.943Z"
   },
   {
    "duration": 292,
    "start_time": "2023-04-02T20:26:26.019Z"
   },
   {
    "duration": 39,
    "start_time": "2023-04-02T20:26:47.755Z"
   },
   {
    "duration": 230,
    "start_time": "2023-04-02T20:26:51.444Z"
   },
   {
    "duration": 1567,
    "start_time": "2023-04-02T20:28:02.098Z"
   },
   {
    "duration": 408,
    "start_time": "2023-04-02T20:28:03.667Z"
   },
   {
    "duration": 12,
    "start_time": "2023-04-02T20:28:04.077Z"
   },
   {
    "duration": 39,
    "start_time": "2023-04-02T20:28:04.091Z"
   },
   {
    "duration": 22,
    "start_time": "2023-04-02T20:28:04.133Z"
   },
   {
    "duration": 38,
    "start_time": "2023-04-02T20:28:04.157Z"
   },
   {
    "duration": 250,
    "start_time": "2023-04-02T20:28:04.197Z"
   },
   {
    "duration": 14,
    "start_time": "2023-04-02T20:28:04.449Z"
   },
   {
    "duration": 13,
    "start_time": "2023-04-02T20:28:04.465Z"
   },
   {
    "duration": 20,
    "start_time": "2023-04-02T20:28:04.481Z"
   },
   {
    "duration": 51,
    "start_time": "2023-04-02T20:28:04.503Z"
   },
   {
    "duration": 9,
    "start_time": "2023-04-02T20:28:04.557Z"
   },
   {
    "duration": 33,
    "start_time": "2023-04-02T20:28:04.568Z"
   },
   {
    "duration": 24,
    "start_time": "2023-04-02T20:28:04.603Z"
   },
   {
    "duration": 42,
    "start_time": "2023-04-02T20:28:04.630Z"
   },
   {
    "duration": 16,
    "start_time": "2023-04-02T20:28:04.674Z"
   },
   {
    "duration": 16,
    "start_time": "2023-04-02T20:28:04.692Z"
   },
   {
    "duration": 74,
    "start_time": "2023-04-02T20:28:04.725Z"
   },
   {
    "duration": 7,
    "start_time": "2023-04-02T20:28:04.801Z"
   },
   {
    "duration": 85,
    "start_time": "2023-04-02T20:28:04.827Z"
   },
   {
    "duration": 114,
    "start_time": "2023-04-02T20:28:04.927Z"
   },
   {
    "duration": 14,
    "start_time": "2023-04-02T20:28:05.043Z"
   },
   {
    "duration": 42,
    "start_time": "2023-04-02T20:28:05.060Z"
   },
   {
    "duration": 25,
    "start_time": "2023-04-02T20:28:05.104Z"
   },
   {
    "duration": 45,
    "start_time": "2023-04-02T20:28:05.133Z"
   },
   {
    "duration": 58,
    "start_time": "2023-04-02T20:28:05.180Z"
   },
   {
    "duration": 45,
    "start_time": "2023-04-02T20:28:05.240Z"
   },
   {
    "duration": 199,
    "start_time": "2023-04-02T20:28:05.289Z"
   },
   {
    "duration": 59,
    "start_time": "2023-04-02T20:28:05.490Z"
   },
   {
    "duration": 54,
    "start_time": "2023-04-02T20:28:05.552Z"
   },
   {
    "duration": 23,
    "start_time": "2023-04-02T20:28:05.608Z"
   },
   {
    "duration": 13,
    "start_time": "2023-04-02T20:28:05.632Z"
   },
   {
    "duration": 465,
    "start_time": "2023-04-02T20:28:05.647Z"
   },
   {
    "duration": 370,
    "start_time": "2023-04-02T20:28:06.115Z"
   },
   {
    "duration": 108,
    "start_time": "2023-04-02T20:28:06.487Z"
   },
   {
    "duration": 191,
    "start_time": "2023-04-02T20:28:06.597Z"
   },
   {
    "duration": 429,
    "start_time": "2023-04-02T20:28:06.790Z"
   },
   {
    "duration": 17,
    "start_time": "2023-04-02T20:28:07.223Z"
   },
   {
    "duration": 409,
    "start_time": "2023-04-02T20:28:07.243Z"
   },
   {
    "duration": 14,
    "start_time": "2023-04-02T20:28:07.654Z"
   },
   {
    "duration": 56,
    "start_time": "2023-04-02T20:28:07.669Z"
   },
   {
    "duration": 55,
    "start_time": "2023-04-02T20:28:07.727Z"
   },
   {
    "duration": 7,
    "start_time": "2023-04-02T20:28:07.784Z"
   },
   {
    "duration": 14,
    "start_time": "2023-04-02T20:28:07.793Z"
   },
   {
    "duration": 8,
    "start_time": "2023-04-02T20:28:07.824Z"
   },
   {
    "duration": 195,
    "start_time": "2023-04-02T20:28:07.834Z"
   },
   {
    "duration": 60,
    "start_time": "2023-04-02T20:28:08.033Z"
   },
   {
    "duration": 213,
    "start_time": "2023-04-02T20:28:08.094Z"
   },
   {
    "duration": 23,
    "start_time": "2023-04-02T20:28:08.309Z"
   },
   {
    "duration": 17,
    "start_time": "2023-04-02T20:28:08.338Z"
   },
   {
    "duration": 10,
    "start_time": "2023-04-02T20:28:08.358Z"
   },
   {
    "duration": 7,
    "start_time": "2023-04-02T20:28:08.370Z"
   },
   {
    "duration": 106,
    "start_time": "2023-04-02T20:28:08.379Z"
   },
   {
    "duration": 60,
    "start_time": "2023-04-02T20:28:08.487Z"
   },
   {
    "duration": 24,
    "start_time": "2023-04-02T20:28:08.550Z"
   },
   {
    "duration": 34,
    "start_time": "2023-04-02T20:28:08.576Z"
   },
   {
    "duration": 26,
    "start_time": "2023-04-02T20:28:08.612Z"
   },
   {
    "duration": 15,
    "start_time": "2023-04-02T20:28:08.642Z"
   },
   {
    "duration": 16,
    "start_time": "2023-04-02T20:28:08.659Z"
   },
   {
    "duration": 72,
    "start_time": "2023-04-02T20:28:08.677Z"
   },
   {
    "duration": 180,
    "start_time": "2023-04-02T20:28:08.752Z"
   },
   {
    "duration": 50,
    "start_time": "2023-04-02T20:28:08.937Z"
   },
   {
    "duration": 106,
    "start_time": "2023-04-02T20:28:08.990Z"
   },
   {
    "duration": 980,
    "start_time": "2023-04-02T20:28:09.097Z"
   },
   {
    "duration": 21,
    "start_time": "2023-04-02T20:28:10.079Z"
   },
   {
    "duration": 608,
    "start_time": "2023-04-02T20:28:10.102Z"
   },
   {
    "duration": 377,
    "start_time": "2023-04-02T20:28:10.712Z"
   },
   {
    "duration": 6,
    "start_time": "2023-04-02T20:28:11.091Z"
   },
   {
    "duration": 443,
    "start_time": "2023-04-02T20:28:11.099Z"
   },
   {
    "duration": 13,
    "start_time": "2023-04-02T20:28:11.544Z"
   },
   {
    "duration": 21,
    "start_time": "2023-04-02T20:28:11.559Z"
   },
   {
    "duration": 6,
    "start_time": "2023-04-02T20:28:11.582Z"
   },
   {
    "duration": 70,
    "start_time": "2023-04-02T20:28:11.590Z"
   },
   {
    "duration": 5,
    "start_time": "2023-04-02T20:28:11.663Z"
   },
   {
    "duration": 35,
    "start_time": "2023-04-02T20:28:11.670Z"
   },
   {
    "duration": 33,
    "start_time": "2023-04-02T20:28:11.723Z"
   },
   {
    "duration": 23,
    "start_time": "2023-04-02T20:28:11.758Z"
   },
   {
    "duration": 1322,
    "start_time": "2023-04-03T15:12:55.424Z"
   },
   {
    "duration": 772,
    "start_time": "2023-04-03T15:12:56.748Z"
   },
   {
    "duration": 13,
    "start_time": "2023-04-03T15:12:57.522Z"
   },
   {
    "duration": 19,
    "start_time": "2023-04-03T15:12:57.536Z"
   },
   {
    "duration": 12,
    "start_time": "2023-04-03T15:12:57.557Z"
   },
   {
    "duration": 50,
    "start_time": "2023-04-03T15:12:57.571Z"
   },
   {
    "duration": 172,
    "start_time": "2023-04-03T15:12:57.623Z"
   },
   {
    "duration": 8,
    "start_time": "2023-04-03T15:12:57.797Z"
   },
   {
    "duration": 17,
    "start_time": "2023-04-03T15:12:57.806Z"
   },
   {
    "duration": 25,
    "start_time": "2023-04-03T15:12:57.824Z"
   },
   {
    "duration": 27,
    "start_time": "2023-04-03T15:12:57.851Z"
   },
   {
    "duration": 12,
    "start_time": "2023-04-03T15:12:57.880Z"
   },
   {
    "duration": 48,
    "start_time": "2023-04-03T15:12:57.894Z"
   },
   {
    "duration": 6,
    "start_time": "2023-04-03T15:12:57.945Z"
   },
   {
    "duration": 33,
    "start_time": "2023-04-03T15:12:57.952Z"
   },
   {
    "duration": 13,
    "start_time": "2023-04-03T15:12:57.987Z"
   },
   {
    "duration": 33,
    "start_time": "2023-04-03T15:12:58.002Z"
   },
   {
    "duration": 44,
    "start_time": "2023-04-03T15:12:58.037Z"
   },
   {
    "duration": 4,
    "start_time": "2023-04-03T15:12:58.083Z"
   },
   {
    "duration": 84,
    "start_time": "2023-04-03T15:12:58.088Z"
   },
   {
    "duration": 91,
    "start_time": "2023-04-03T15:12:58.173Z"
   },
   {
    "duration": 10,
    "start_time": "2023-04-03T15:12:58.265Z"
   },
   {
    "duration": 40,
    "start_time": "2023-04-03T15:12:58.276Z"
   },
   {
    "duration": 9,
    "start_time": "2023-04-03T15:12:58.317Z"
   },
   {
    "duration": 38,
    "start_time": "2023-04-03T15:12:58.334Z"
   },
   {
    "duration": 28,
    "start_time": "2023-04-03T15:12:58.374Z"
   },
   {
    "duration": 38,
    "start_time": "2023-04-03T15:12:58.404Z"
   },
   {
    "duration": 143,
    "start_time": "2023-04-03T15:12:58.443Z"
   },
   {
    "duration": 47,
    "start_time": "2023-04-03T15:12:58.588Z"
   },
   {
    "duration": 47,
    "start_time": "2023-04-03T15:12:58.636Z"
   },
   {
    "duration": 4,
    "start_time": "2023-04-03T15:12:58.684Z"
   },
   {
    "duration": 7,
    "start_time": "2023-04-03T15:12:58.689Z"
   },
   {
    "duration": 364,
    "start_time": "2023-04-03T15:12:58.698Z"
   },
   {
    "duration": 280,
    "start_time": "2023-04-03T15:12:59.064Z"
   },
   {
    "duration": 89,
    "start_time": "2023-04-03T15:12:59.346Z"
   },
   {
    "duration": 169,
    "start_time": "2023-04-03T15:12:59.437Z"
   },
   {
    "duration": 356,
    "start_time": "2023-04-03T15:12:59.607Z"
   },
   {
    "duration": 11,
    "start_time": "2023-04-03T15:12:59.964Z"
   },
   {
    "duration": 306,
    "start_time": "2023-04-03T15:12:59.976Z"
   },
   {
    "duration": 9,
    "start_time": "2023-04-03T15:13:00.284Z"
   },
   {
    "duration": 71,
    "start_time": "2023-04-03T15:13:00.297Z"
   },
   {
    "duration": 88,
    "start_time": "2023-04-03T15:13:00.370Z"
   },
   {
    "duration": 43,
    "start_time": "2023-04-03T15:13:00.460Z"
   },
   {
    "duration": 44,
    "start_time": "2023-04-03T15:13:00.505Z"
   },
   {
    "duration": 37,
    "start_time": "2023-04-03T15:13:00.550Z"
   },
   {
    "duration": 187,
    "start_time": "2023-04-03T15:13:00.588Z"
   },
   {
    "duration": 58,
    "start_time": "2023-04-03T15:13:00.776Z"
   },
   {
    "duration": 182,
    "start_time": "2023-04-03T15:13:00.836Z"
   },
   {
    "duration": 16,
    "start_time": "2023-04-03T15:13:01.020Z"
   },
   {
    "duration": 38,
    "start_time": "2023-04-03T15:13:01.038Z"
   },
   {
    "duration": 34,
    "start_time": "2023-04-03T15:13:01.077Z"
   },
   {
    "duration": 39,
    "start_time": "2023-04-03T15:13:01.113Z"
   },
   {
    "duration": 135,
    "start_time": "2023-04-03T15:13:01.154Z"
   },
   {
    "duration": 54,
    "start_time": "2023-04-03T15:13:01.291Z"
   },
   {
    "duration": 33,
    "start_time": "2023-04-03T15:13:01.347Z"
   },
   {
    "duration": 41,
    "start_time": "2023-04-03T15:13:01.382Z"
   },
   {
    "duration": 24,
    "start_time": "2023-04-03T15:13:01.425Z"
   },
   {
    "duration": 39,
    "start_time": "2023-04-03T15:13:01.451Z"
   },
   {
    "duration": 45,
    "start_time": "2023-04-03T15:13:01.492Z"
   },
   {
    "duration": 84,
    "start_time": "2023-04-03T15:13:01.538Z"
   },
   {
    "duration": 139,
    "start_time": "2023-04-03T15:13:01.623Z"
   },
   {
    "duration": 37,
    "start_time": "2023-04-03T15:13:01.763Z"
   },
   {
    "duration": 95,
    "start_time": "2023-04-03T15:13:01.802Z"
   },
   {
    "duration": 709,
    "start_time": "2023-04-03T15:13:01.899Z"
   },
   {
    "duration": 25,
    "start_time": "2023-04-03T15:13:02.610Z"
   },
   {
    "duration": 420,
    "start_time": "2023-04-03T15:13:02.637Z"
   },
   {
    "duration": 255,
    "start_time": "2023-04-03T15:13:03.059Z"
   },
   {
    "duration": 5,
    "start_time": "2023-04-03T15:13:03.315Z"
   },
   {
    "duration": 324,
    "start_time": "2023-04-03T15:13:03.321Z"
   },
   {
    "duration": 7,
    "start_time": "2023-04-03T15:13:03.646Z"
   },
   {
    "duration": 29,
    "start_time": "2023-04-03T15:13:03.654Z"
   },
   {
    "duration": 99,
    "start_time": "2023-04-03T15:13:03.685Z"
   },
   {
    "duration": 42,
    "start_time": "2023-04-03T15:13:03.785Z"
   },
   {
    "duration": 24,
    "start_time": "2023-04-03T15:13:03.829Z"
   },
   {
    "duration": 62,
    "start_time": "2023-04-03T15:13:03.854Z"
   },
   {
    "duration": 33,
    "start_time": "2023-04-03T15:13:03.917Z"
   },
   {
    "duration": 21,
    "start_time": "2023-04-03T15:13:03.952Z"
   },
   {
    "duration": 99,
    "start_time": "2023-04-03T15:31:07.574Z"
   },
   {
    "duration": 311,
    "start_time": "2023-04-03T15:31:18.784Z"
   },
   {
    "duration": 550,
    "start_time": "2023-04-03T15:31:27.708Z"
   },
   {
    "duration": 11,
    "start_time": "2023-04-03T15:37:34.917Z"
   },
   {
    "duration": 52,
    "start_time": "2023-04-03T15:37:45.902Z"
   },
   {
    "duration": 49,
    "start_time": "2023-04-03T15:37:52.450Z"
   },
   {
    "duration": 47,
    "start_time": "2023-04-03T15:38:46.337Z"
   },
   {
    "duration": 76,
    "start_time": "2023-04-03T15:38:51.847Z"
   },
   {
    "duration": 47,
    "start_time": "2023-04-03T15:40:22.153Z"
   },
   {
    "duration": 864,
    "start_time": "2023-04-03T15:40:31.549Z"
   },
   {
    "duration": 49,
    "start_time": "2023-04-03T15:40:47.946Z"
   },
   {
    "duration": 34,
    "start_time": "2023-04-03T15:41:47.617Z"
   },
   {
    "duration": 31,
    "start_time": "2023-04-03T15:42:12.860Z"
   },
   {
    "duration": 53,
    "start_time": "2023-04-03T15:44:04.146Z"
   },
   {
    "duration": 49,
    "start_time": "2023-04-03T15:44:43.296Z"
   },
   {
    "duration": 32,
    "start_time": "2023-04-03T15:45:56.703Z"
   },
   {
    "duration": 32,
    "start_time": "2023-04-03T15:45:58.287Z"
   },
   {
    "duration": 58,
    "start_time": "2023-04-03T15:49:22.443Z"
   },
   {
    "duration": 51,
    "start_time": "2023-04-03T15:49:37.798Z"
   },
   {
    "duration": 9,
    "start_time": "2023-04-03T15:57:30.868Z"
   },
   {
    "duration": 59,
    "start_time": "2023-04-03T15:57:40.460Z"
   },
   {
    "duration": 40,
    "start_time": "2023-04-03T15:58:00.446Z"
   },
   {
    "duration": 31,
    "start_time": "2023-04-03T15:58:35.916Z"
   },
   {
    "duration": 30,
    "start_time": "2023-04-03T15:58:38.580Z"
   },
   {
    "duration": 38,
    "start_time": "2023-04-03T15:59:25.180Z"
   },
   {
    "duration": 5,
    "start_time": "2023-04-03T15:59:44.420Z"
   },
   {
    "duration": 30,
    "start_time": "2023-04-03T16:00:16.460Z"
   },
   {
    "duration": 6,
    "start_time": "2023-04-03T16:00:17.100Z"
   },
   {
    "duration": 39,
    "start_time": "2023-04-03T16:02:29.747Z"
   },
   {
    "duration": 5,
    "start_time": "2023-04-03T16:02:31.978Z"
   },
   {
    "duration": 34,
    "start_time": "2023-04-03T16:02:34.403Z"
   },
   {
    "duration": 4,
    "start_time": "2023-04-03T16:02:35.986Z"
   },
   {
    "duration": 20,
    "start_time": "2023-04-03T16:02:50.011Z"
   },
   {
    "duration": 54,
    "start_time": "2023-04-03T16:03:53.403Z"
   },
   {
    "duration": 8,
    "start_time": "2023-04-03T16:04:17.877Z"
   },
   {
    "duration": 30,
    "start_time": "2023-04-03T16:04:47.019Z"
   },
   {
    "duration": 8,
    "start_time": "2023-04-03T16:04:48.539Z"
   },
   {
    "duration": 29,
    "start_time": "2023-04-03T16:04:53.322Z"
   },
   {
    "duration": 9,
    "start_time": "2023-04-03T16:04:54.931Z"
   },
   {
    "duration": 8,
    "start_time": "2023-04-03T16:04:56.889Z"
   },
   {
    "duration": 29,
    "start_time": "2023-04-03T16:05:00.883Z"
   },
   {
    "duration": 6,
    "start_time": "2023-04-03T16:05:01.281Z"
   },
   {
    "duration": 7,
    "start_time": "2023-04-03T16:05:06.738Z"
   },
   {
    "duration": 9,
    "start_time": "2023-04-03T16:05:07.987Z"
   },
   {
    "duration": 7,
    "start_time": "2023-04-03T16:05:12.274Z"
   },
   {
    "duration": 21,
    "start_time": "2023-04-03T16:05:39.067Z"
   },
   {
    "duration": 24,
    "start_time": "2023-04-03T16:06:19.739Z"
   },
   {
    "duration": 23,
    "start_time": "2023-04-03T16:08:29.074Z"
   },
   {
    "duration": 10,
    "start_time": "2023-04-03T16:08:58.722Z"
   },
   {
    "duration": 6,
    "start_time": "2023-04-03T16:09:34.257Z"
   },
   {
    "duration": 24,
    "start_time": "2023-04-03T16:09:59.553Z"
   },
   {
    "duration": 6,
    "start_time": "2023-04-03T16:10:16.553Z"
   },
   {
    "duration": 21,
    "start_time": "2023-04-03T16:10:47.433Z"
   },
   {
    "duration": 31,
    "start_time": "2023-04-03T16:11:03.721Z"
   },
   {
    "duration": 25,
    "start_time": "2023-04-03T16:12:00.992Z"
   },
   {
    "duration": 28,
    "start_time": "2023-04-03T16:12:15.737Z"
   },
   {
    "duration": 24,
    "start_time": "2023-04-03T16:12:18.520Z"
   },
   {
    "duration": 5,
    "start_time": "2023-04-03T16:12:39.832Z"
   },
   {
    "duration": 21,
    "start_time": "2023-04-03T16:12:42.144Z"
   },
   {
    "duration": 9,
    "start_time": "2023-04-03T16:13:04.904Z"
   },
   {
    "duration": 6,
    "start_time": "2023-04-03T16:13:16.928Z"
   },
   {
    "duration": 23,
    "start_time": "2023-04-03T16:13:19.649Z"
   },
   {
    "duration": 9,
    "start_time": "2023-04-03T16:13:21.520Z"
   },
   {
    "duration": 5,
    "start_time": "2023-04-03T16:13:22.864Z"
   },
   {
    "duration": 22,
    "start_time": "2023-04-03T16:13:24.904Z"
   },
   {
    "duration": 23,
    "start_time": "2023-04-03T16:13:26.816Z"
   },
   {
    "duration": 24,
    "start_time": "2023-04-03T16:13:40.224Z"
   },
   {
    "duration": 133,
    "start_time": "2023-04-03T16:14:04.296Z"
   },
   {
    "duration": 26,
    "start_time": "2023-04-03T16:14:20.592Z"
   },
   {
    "duration": 21,
    "start_time": "2023-04-03T16:16:26.712Z"
   },
   {
    "duration": 11,
    "start_time": "2023-04-03T16:20:18.007Z"
   },
   {
    "duration": 29,
    "start_time": "2023-04-03T16:20:22.486Z"
   },
   {
    "duration": 22,
    "start_time": "2023-04-03T16:20:26.551Z"
   },
   {
    "duration": 7,
    "start_time": "2023-04-03T16:20:41.877Z"
   },
   {
    "duration": 7,
    "start_time": "2023-04-03T16:21:07.127Z"
   },
   {
    "duration": 26,
    "start_time": "2023-04-03T16:21:08.649Z"
   },
   {
    "duration": 24,
    "start_time": "2023-04-03T16:21:16.094Z"
   },
   {
    "duration": 11,
    "start_time": "2023-04-03T16:21:33.006Z"
   },
   {
    "duration": 12,
    "start_time": "2023-04-03T16:21:36.158Z"
   },
   {
    "duration": 5,
    "start_time": "2023-04-03T16:21:50.126Z"
   },
   {
    "duration": 31,
    "start_time": "2023-04-03T16:21:57.088Z"
   },
   {
    "duration": 3,
    "start_time": "2023-04-03T16:21:57.854Z"
   },
   {
    "duration": 21,
    "start_time": "2023-04-03T16:21:59.973Z"
   },
   {
    "duration": 9,
    "start_time": "2023-04-03T16:22:02.407Z"
   },
   {
    "duration": 25,
    "start_time": "2023-04-03T16:22:03.893Z"
   },
   {
    "duration": 30,
    "start_time": "2023-04-03T16:22:21.286Z"
   },
   {
    "duration": 5,
    "start_time": "2023-04-03T16:22:21.614Z"
   },
   {
    "duration": 30,
    "start_time": "2023-04-03T16:23:34.245Z"
   },
   {
    "duration": 6,
    "start_time": "2023-04-03T16:23:34.693Z"
   },
   {
    "duration": 11,
    "start_time": "2023-04-03T16:23:57.789Z"
   },
   {
    "duration": 96,
    "start_time": "2023-04-03T16:24:11.181Z"
   },
   {
    "duration": 5,
    "start_time": "2023-04-03T16:24:14.437Z"
   },
   {
    "duration": 49,
    "start_time": "2023-04-03T16:25:26.989Z"
   },
   {
    "duration": 46,
    "start_time": "2023-04-03T16:25:31.980Z"
   },
   {
    "duration": 6,
    "start_time": "2023-04-03T16:25:35.605Z"
   },
   {
    "duration": 5,
    "start_time": "2023-04-03T16:25:49.308Z"
   },
   {
    "duration": 7,
    "start_time": "2023-04-03T16:25:55.228Z"
   },
   {
    "duration": 10,
    "start_time": "2023-04-03T16:26:04.405Z"
   },
   {
    "duration": 11,
    "start_time": "2023-04-03T16:26:08.485Z"
   },
   {
    "duration": 6,
    "start_time": "2023-04-03T16:26:29.117Z"
   },
   {
    "duration": 13,
    "start_time": "2023-04-03T16:26:39.649Z"
   },
   {
    "duration": 11,
    "start_time": "2023-04-03T16:26:50.557Z"
   },
   {
    "duration": 5,
    "start_time": "2023-04-03T16:27:09.917Z"
   },
   {
    "duration": 33,
    "start_time": "2023-04-03T16:27:29.188Z"
   },
   {
    "duration": 23,
    "start_time": "2023-04-03T16:27:32.100Z"
   },
   {
    "duration": 31,
    "start_time": "2023-04-03T16:27:40.125Z"
   },
   {
    "duration": 4,
    "start_time": "2023-04-03T16:27:40.851Z"
   },
   {
    "duration": 22,
    "start_time": "2023-04-03T16:27:42.812Z"
   },
   {
    "duration": 34,
    "start_time": "2023-04-03T16:27:44.764Z"
   },
   {
    "duration": 24,
    "start_time": "2023-04-03T16:27:45.236Z"
   },
   {
    "duration": 33,
    "start_time": "2023-04-03T16:27:51.453Z"
   },
   {
    "duration": 9,
    "start_time": "2023-04-03T16:27:52.004Z"
   },
   {
    "duration": 38,
    "start_time": "2023-04-03T16:28:40.932Z"
   },
   {
    "duration": 23,
    "start_time": "2023-04-03T16:28:47.003Z"
   },
   {
    "duration": 32,
    "start_time": "2023-04-03T16:28:49.484Z"
   },
   {
    "duration": 22,
    "start_time": "2023-04-03T16:28:50.562Z"
   },
   {
    "duration": 47,
    "start_time": "2023-04-03T16:28:56.197Z"
   },
   {
    "duration": 36,
    "start_time": "2023-04-03T16:28:59.220Z"
   },
   {
    "duration": 27,
    "start_time": "2023-04-03T16:29:01.708Z"
   },
   {
    "duration": 39,
    "start_time": "2023-04-03T16:29:15.404Z"
   },
   {
    "duration": 40,
    "start_time": "2023-04-03T16:29:17.989Z"
   },
   {
    "duration": 34,
    "start_time": "2023-04-03T16:29:20.812Z"
   },
   {
    "duration": 20,
    "start_time": "2023-04-03T16:29:33.900Z"
   },
   {
    "duration": 38,
    "start_time": "2023-04-03T16:29:41.484Z"
   },
   {
    "duration": 25,
    "start_time": "2023-04-03T16:29:54.660Z"
   },
   {
    "duration": 35,
    "start_time": "2023-04-03T16:30:02.884Z"
   },
   {
    "duration": 34,
    "start_time": "2023-04-03T16:31:04.515Z"
   },
   {
    "duration": 36,
    "start_time": "2023-04-03T16:31:06.091Z"
   },
   {
    "duration": 35,
    "start_time": "2023-04-03T16:31:08.650Z"
   },
   {
    "duration": 35,
    "start_time": "2023-04-03T16:31:10.820Z"
   },
   {
    "duration": 36,
    "start_time": "2023-04-03T16:31:19.515Z"
   },
   {
    "duration": 43,
    "start_time": "2023-04-03T16:31:25.355Z"
   },
   {
    "duration": 36,
    "start_time": "2023-04-03T16:32:31.323Z"
   },
   {
    "duration": 35,
    "start_time": "2023-04-03T16:32:33.372Z"
   },
   {
    "duration": 25,
    "start_time": "2023-04-03T16:32:33.958Z"
   },
   {
    "duration": 35,
    "start_time": "2023-04-03T16:32:35.754Z"
   },
   {
    "duration": 36,
    "start_time": "2023-04-03T16:32:42.155Z"
   },
   {
    "duration": 26,
    "start_time": "2023-04-03T16:32:43.650Z"
   },
   {
    "duration": 36,
    "start_time": "2023-04-03T16:32:51.324Z"
   },
   {
    "duration": 28,
    "start_time": "2023-04-03T16:32:53.195Z"
   },
   {
    "duration": 20,
    "start_time": "2023-04-03T16:33:04.150Z"
   },
   {
    "duration": 36,
    "start_time": "2023-04-03T16:33:55.973Z"
   },
   {
    "duration": 21,
    "start_time": "2023-04-03T16:33:57.057Z"
   },
   {
    "duration": 119,
    "start_time": "2023-04-03T20:32:28.609Z"
   }
  ],
  "kernelspec": {
   "display_name": "Python 3 (ipykernel)",
   "language": "python",
   "name": "python3"
  },
  "language_info": {
   "codemirror_mode": {
    "name": "ipython",
    "version": 3
   },
   "file_extension": ".py",
   "mimetype": "text/x-python",
   "name": "python",
   "nbconvert_exporter": "python",
   "pygments_lexer": "ipython3",
   "version": "3.9.13"
  },
  "toc": {
   "base_numbering": 1,
   "nav_menu": {
    "height": "340px",
    "width": "357px"
   },
   "number_sections": false,
   "sideBar": true,
   "skip_h1_title": true,
   "title_cell": "Table of Contents",
   "title_sidebar": "Contents",
   "toc_cell": false,
   "toc_position": {
    "height": "calc(100% - 180px)",
    "left": "10px",
    "top": "150px",
    "width": "165px"
   },
   "toc_section_display": true,
   "toc_window_display": true
  }
 },
 "nbformat": 4,
 "nbformat_minor": 2
}
