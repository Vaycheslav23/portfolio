{
 "cells": [
  {
   "cell_type": "markdown",
   "id": "10d0789d",
   "metadata": {
    "deletable": false,
    "editable": false,
    "id": "c81daeeb"
   },
   "source": [
    "# Исследование надежности заемщиков"
   ]
  },
  {
   "cell_type": "markdown",
   "id": "55b1193a",
   "metadata": {
    "deletable": false,
    "editable": false,
    "id": "-G3EJWzf62s6"
   },
   "source": [
    "Это первая часть проекта, она будет проверена автоматически. Вторую часть проверит ревьюер. "
   ]
  },
  {
   "cell_type": "markdown",
   "id": "8f9d58be",
   "metadata": {
    "deletable": false,
    "editable": false,
    "id": "744d7639"
   },
   "source": [
    "## Откройте таблицу и изучите общую информацию о данных"
   ]
  },
  {
   "cell_type": "markdown",
   "id": "12414a32",
   "metadata": {
    "deletable": false,
    "editable": false,
    "id": "e7a14c31",
    "tags": [
     "start_task"
    ]
   },
   "source": [
    "**Задание 1. Импортируйте библиотеку pandas. Считайте данные из csv-файла в датафрейм и сохраните в переменную `data`. Путь к файлу:**\n",
    "\n",
    "`/datasets/data.csv`"
   ]
  },
  {
   "cell_type": "code",
   "execution_count": 1,
   "id": "385c81a9",
   "metadata": {
    "id": "7bcf75c9"
   },
   "outputs": [],
   "source": [
    "import pandas as pd# импортируйте библиотеку pandas"
   ]
  },
  {
   "cell_type": "code",
   "execution_count": 2,
   "id": "b335ceee",
   "metadata": {
    "id": "4d240ee2"
   },
   "outputs": [],
   "source": [
    "data = pd.read_csv('/datasets/data.csv')# прочитайте csv-файл"
   ]
  },
  {
   "cell_type": "markdown",
   "id": "f2824035",
   "metadata": {
    "deletable": false,
    "editable": false,
    "id": "b8038fe3",
    "tags": [
     "start_task"
    ]
   },
   "source": [
    "**Задание 2. Выведите первые 20 строчек датафрейма `data` на экран.**"
   ]
  },
  {
   "cell_type": "code",
   "execution_count": 3,
   "id": "216dd1d4",
   "metadata": {
    "id": "2a7cab99"
   },
   "outputs": [
    {
     "name": "stdout",
     "output_type": "stream",
     "text": [
      "    children  days_employed  dob_years            education  education_id  \\\n",
      "0          1   -8437.673028         42               высшее             0   \n",
      "1          1   -4024.803754         36              среднее             1   \n",
      "2          0   -5623.422610         33              Среднее             1   \n",
      "3          3   -4124.747207         32              среднее             1   \n",
      "4          0  340266.072047         53              среднее             1   \n",
      "5          0    -926.185831         27               высшее             0   \n",
      "6          0   -2879.202052         43               высшее             0   \n",
      "7          0    -152.779569         50              СРЕДНЕЕ             1   \n",
      "8          2   -6929.865299         35               ВЫСШЕЕ             0   \n",
      "9          0   -2188.756445         41              среднее             1   \n",
      "10         2   -4171.483647         36               высшее             0   \n",
      "11         0    -792.701887         40              среднее             1   \n",
      "12         0            NaN         65              среднее             1   \n",
      "13         0   -1846.641941         54  неоконченное высшее             2   \n",
      "14         0   -1844.956182         56               высшее             0   \n",
      "15         1    -972.364419         26              среднее             1   \n",
      "16         0   -1719.934226         35              среднее             1   \n",
      "17         0   -2369.999720         33               высшее             0   \n",
      "18         0  400281.136913         53              среднее             1   \n",
      "19         0  -10038.818549         48              СРЕДНЕЕ             1   \n",
      "\n",
      "       family_status  family_status_id gender income_type  debt  \\\n",
      "0    женат / замужем                 0      F   сотрудник     0   \n",
      "1    женат / замужем                 0      F   сотрудник     0   \n",
      "2    женат / замужем                 0      M   сотрудник     0   \n",
      "3    женат / замужем                 0      M   сотрудник     0   \n",
      "4   гражданский брак                 1      F   пенсионер     0   \n",
      "5   гражданский брак                 1      M   компаньон     0   \n",
      "6    женат / замужем                 0      F   компаньон     0   \n",
      "7    женат / замужем                 0      M   сотрудник     0   \n",
      "8   гражданский брак                 1      F   сотрудник     0   \n",
      "9    женат / замужем                 0      M   сотрудник     0   \n",
      "10   женат / замужем                 0      M   компаньон     0   \n",
      "11   женат / замужем                 0      F   сотрудник     0   \n",
      "12  гражданский брак                 1      M   пенсионер     0   \n",
      "13   женат / замужем                 0      F   сотрудник     0   \n",
      "14  гражданский брак                 1      F   компаньон     1   \n",
      "15   женат / замужем                 0      F   сотрудник     0   \n",
      "16   женат / замужем                 0      F   сотрудник     0   \n",
      "17  гражданский брак                 1      M   сотрудник     0   \n",
      "18    вдовец / вдова                 2      F   пенсионер     0   \n",
      "19         в разводе                 3      F   сотрудник     0   \n",
      "\n",
      "     total_income                                 purpose  \n",
      "0   253875.639453                           покупка жилья  \n",
      "1   112080.014102                 приобретение автомобиля  \n",
      "2   145885.952297                           покупка жилья  \n",
      "3   267628.550329              дополнительное образование  \n",
      "4   158616.077870                         сыграть свадьбу  \n",
      "5   255763.565419                           покупка жилья  \n",
      "6   240525.971920                       операции с жильем  \n",
      "7   135823.934197                             образование  \n",
      "8    95856.832424                   на проведение свадьбы  \n",
      "9   144425.938277                 покупка жилья для семьи  \n",
      "10  113943.491460                    покупка недвижимости  \n",
      "11   77069.234271       покупка коммерческой недвижимости  \n",
      "12            NaN                         сыграть свадьбу  \n",
      "13  130458.228857                 приобретение автомобиля  \n",
      "14  165127.911772              покупка жилой недвижимости  \n",
      "15  116820.904450  строительство собственной недвижимости  \n",
      "16  289202.704229                            недвижимость  \n",
      "17   90410.586745              строительство недвижимости  \n",
      "18   56823.777243      на покупку подержанного автомобиля  \n",
      "19  242831.107982            на покупку своего автомобиля  \n"
     ]
    }
   ],
   "source": [
    "print (data.head(20))# ваш код здесь"
   ]
  },
  {
   "cell_type": "markdown",
   "id": "00bd50be",
   "metadata": {
    "deletable": false,
    "editable": false,
    "id": "1c12e233",
    "tags": [
     "start_task"
    ]
   },
   "source": [
    "**Задание 3. Выведите основную информацию о датафрейме с помощью метода `info()`.**"
   ]
  },
  {
   "cell_type": "code",
   "execution_count": 4,
   "id": "34418ae1",
   "metadata": {
    "id": "2b757bca"
   },
   "outputs": [
    {
     "name": "stdout",
     "output_type": "stream",
     "text": [
      "<class 'pandas.core.frame.DataFrame'>\n",
      "RangeIndex: 21525 entries, 0 to 21524\n",
      "Data columns (total 12 columns):\n",
      " #   Column            Non-Null Count  Dtype  \n",
      "---  ------            --------------  -----  \n",
      " 0   children          21525 non-null  int64  \n",
      " 1   days_employed     19351 non-null  float64\n",
      " 2   dob_years         21525 non-null  int64  \n",
      " 3   education         21525 non-null  object \n",
      " 4   education_id      21525 non-null  int64  \n",
      " 5   family_status     21525 non-null  object \n",
      " 6   family_status_id  21525 non-null  int64  \n",
      " 7   gender            21525 non-null  object \n",
      " 8   income_type       21525 non-null  object \n",
      " 9   debt              21525 non-null  int64  \n",
      " 10  total_income      19351 non-null  float64\n",
      " 11  purpose           21525 non-null  object \n",
      "dtypes: float64(2), int64(5), object(5)\n",
      "memory usage: 2.0+ MB\n"
     ]
    }
   ],
   "source": [
    "data.info()# ваш код здесь"
   ]
  },
  {
   "cell_type": "markdown",
   "id": "b7d1e56e",
   "metadata": {
    "deletable": false,
    "editable": false,
    "id": "333ec665"
   },
   "source": [
    "## Предобработка данных"
   ]
  },
  {
   "cell_type": "markdown",
   "id": "363f52e3",
   "metadata": {
    "deletable": false,
    "editable": false,
    "id": "02d92d53"
   },
   "source": [
    "### Удаление пропусков"
   ]
  },
  {
   "cell_type": "markdown",
   "id": "1a52681f",
   "metadata": {
    "deletable": false,
    "editable": false,
    "id": "cd84967c",
    "tags": [
     "start_task"
    ]
   },
   "source": [
    "**Задание 4. Выведите количество пропущенных значений для каждого столбца. Используйте комбинацию двух методов.**"
   ]
  },
  {
   "cell_type": "code",
   "execution_count": 5,
   "id": "ebfc215f",
   "metadata": {
    "id": "7f9b2309"
   },
   "outputs": [
    {
     "name": "stdout",
     "output_type": "stream",
     "text": [
      "children               0\n",
      "days_employed       2174\n",
      "dob_years              0\n",
      "education              0\n",
      "education_id           0\n",
      "family_status          0\n",
      "family_status_id       0\n",
      "gender                 0\n",
      "income_type            0\n",
      "debt                   0\n",
      "total_income        2174\n",
      "purpose                0\n",
      "dtype: int64\n"
     ]
    }
   ],
   "source": [
    "import pandas as pd\n",
    "data = pd.read_csv('/datasets/data.csv')# прочитайте csv-файл\n",
    "print (data.isnull().sum())"
   ]
  },
  {
   "cell_type": "markdown",
   "id": "7916e954",
   "metadata": {
    "deletable": false,
    "editable": false,
    "id": "db86e27b",
    "tags": [
     "start_task"
    ]
   },
   "source": [
    "**Задание 5. В двух столбцах есть пропущенные значения. Один из них — `days_employed`. Пропуски в этом столбце вы обработаете на следующем этапе. Другой столбец с пропущенными значениями — `total_income` — хранит данные о доходах. На сумму дохода сильнее всего влияет тип занятости, поэтому заполнить пропуски в этом столбце нужно медианным значением по каждому типу из столбца `income_type`. Например, у человека с типом занятости `сотрудник` пропуск в столбце `total_income` должен быть заполнен медианным доходом среди всех записей с тем же типом.**"
   ]
  },
  {
   "cell_type": "code",
   "execution_count": 6,
   "id": "fa4f51cd",
   "metadata": {
    "id": "42006a93"
   },
   "outputs": [],
   "source": [
    "for i in data['income_type'].unique():\n",
    "    data.loc[(data['income_type'] == i) & (data['total_income'].isna()), 'total_income'] = \\\n",
    "    data.loc[(data['income_type'] == i), 'total_income'].median()\n",
    "\n",
    "\n",
    "\n"
   ]
  },
  {
   "cell_type": "markdown",
   "id": "99714cad",
   "metadata": {
    "deletable": false,
    "editable": false,
    "id": "89da5ece"
   },
   "source": [
    "### Обработка аномальных значений"
   ]
  },
  {
   "cell_type": "markdown",
   "id": "00e1b008",
   "metadata": {
    "deletable": false,
    "editable": false,
    "id": "57964554",
    "tags": [
     "start_task"
    ]
   },
   "source": [
    "**Задание 6. В данных могут встречаться артефакты (аномалии) — значения, которые не отражают действительность и появились по какой-то ошибке. Таким артефактом будет отрицательное количество дней трудового стажа в столбце `days_employed`. Для реальных данных это нормально. Обработайте значения в этом столбце: замените все отрицательные значения положительными с помощью метода `abs()`.**"
   ]
  },
  {
   "cell_type": "code",
   "execution_count": 7,
   "id": "4be530d5",
   "metadata": {
    "id": "f6f055bf"
   },
   "outputs": [],
   "source": [
    "data['days_employed'] = data['days_employed'].abs()\n"
   ]
  },
  {
   "cell_type": "markdown",
   "id": "e64b7562",
   "metadata": {
    "deletable": false,
    "editable": false,
    "id": "6107dd2f",
    "tags": [
     "start_task"
    ]
   },
   "source": [
    "**Задание 7. Для каждого типа занятости выведите медианное значение трудового стажа `days_employed` в днях.**"
   ]
  },
  {
   "cell_type": "code",
   "execution_count": 8,
   "id": "7b2d084a",
   "metadata": {
    "id": "85a5faf6"
   },
   "outputs": [
    {
     "name": "stdout",
     "output_type": "stream",
     "text": [
      "income_type\n",
      "безработный        366413.652744\n",
      "в декрете            3296.759962\n",
      "госслужащий          2689.368353\n",
      "компаньон            1547.382223\n",
      "пенсионер          365213.306266\n",
      "предприниматель       520.848083\n",
      "сотрудник            1574.202821\n",
      "студент               578.751554\n",
      "Name: days_employed, dtype: float64\n"
     ]
    }
   ],
   "source": [
    "print (data.groupby('income_type')['days_employed'].median())# ваш код здесь"
   ]
  },
  {
   "cell_type": "markdown",
   "id": "5770ef89",
   "metadata": {
    "deletable": false,
    "editable": false,
    "id": "38d1a030"
   },
   "source": [
    "У двух типов (безработные и пенсионеры) получатся аномально большие значения. Исправить такие значения сложно, поэтому оставьте их как есть. Тем более этот столбец не понадобится вам для исследования."
   ]
  },
  {
   "cell_type": "markdown",
   "id": "057f8ab6",
   "metadata": {
    "deletable": false,
    "editable": false,
    "id": "d8a9f147",
    "tags": [
     "start_task"
    ]
   },
   "source": [
    "**Задание 8. Выведите перечень уникальных значений столбца `children`.**"
   ]
  },
  {
   "cell_type": "code",
   "execution_count": 9,
   "id": "966724e3",
   "metadata": {
    "id": "ef5056eb"
   },
   "outputs": [
    {
     "name": "stdout",
     "output_type": "stream",
     "text": [
      "[ 1  0  3  2 -1  4 20  5]\n"
     ]
    }
   ],
   "source": [
    "print (data['children'].unique())# ваш код здесь"
   ]
  },
  {
   "cell_type": "markdown",
   "id": "4cf79a76",
   "metadata": {
    "deletable": false,
    "editable": false,
    "id": "40b9ebf2",
    "tags": [
     "start_task"
    ]
   },
   "source": [
    "**Задание 9. В столбце `children` есть два аномальных значения. Удалите строки, в которых встречаются такие аномальные значения из датафрейма `data`.**"
   ]
  },
  {
   "cell_type": "code",
   "execution_count": 10,
   "id": "5efd0885",
   "metadata": {
    "id": "3ff9801d"
   },
   "outputs": [],
   "source": [
    "data = data[data.children != 20] # ваш код здесь\n",
    "data = data[data.children != -1] # ваш код здесь\n"
   ]
  },
  {
   "cell_type": "markdown",
   "id": "d1bfb1fc",
   "metadata": {
    "deletable": false,
    "editable": false,
    "id": "bbc4d0ce",
    "tags": [
     "start_task"
    ]
   },
   "source": [
    "**Задание 10. Ещё раз выведите перечень уникальных значений столбца `children`, чтобы убедиться, что артефакты удалены.**"
   ]
  },
  {
   "cell_type": "code",
   "execution_count": 11,
   "id": "d75a8def",
   "metadata": {
    "id": "ad4fa8b7"
   },
   "outputs": [
    {
     "name": "stdout",
     "output_type": "stream",
     "text": [
      "[1 0 3 2 4 5]\n"
     ]
    }
   ],
   "source": [
    "print (data['children'].unique())# ваш код здесь\n"
   ]
  },
  {
   "cell_type": "markdown",
   "id": "a93e705c",
   "metadata": {
    "deletable": false,
    "editable": false,
    "id": "75440b63"
   },
   "source": [
    "### Удаление пропусков (продолжение)"
   ]
  },
  {
   "cell_type": "markdown",
   "id": "f20a9149",
   "metadata": {
    "deletable": false,
    "editable": false,
    "id": "f4ea573f",
    "tags": [
     "start_task"
    ]
   },
   "source": [
    "**Задание 11. Заполните пропуски в столбце `days_employed` медианными значениями по каждому типу занятости `income_type`.**"
   ]
  },
  {
   "cell_type": "code",
   "execution_count": 12,
   "id": "de4c0f03",
   "metadata": {
    "id": "af6b1a7e"
   },
   "outputs": [],
   "source": [
    "for i in data['income_type'].unique():\n",
    "    data.loc[(data['income_type'] == i) & (data['days_employed'].isna()), 'days_employed'] = \\\n",
    "    data.loc[(data['income_type'] == i), 'days_employed'].median()\n",
    "\n"
   ]
  },
  {
   "cell_type": "markdown",
   "id": "a166b54b",
   "metadata": {
    "deletable": false,
    "editable": false,
    "id": "2753f40d",
    "tags": [
     "start_task"
    ]
   },
   "source": [
    "**Задание 12. Убедитесь, что все пропуски заполнены. Проверьте себя и ещё раз выведите количество пропущенных значений для каждого столбца с помощью двух методов.**"
   ]
  },
  {
   "cell_type": "code",
   "execution_count": 13,
   "id": "e00f2bd9",
   "metadata": {
    "id": "55f78bc2"
   },
   "outputs": [
    {
     "name": "stdout",
     "output_type": "stream",
     "text": [
      "children            0\n",
      "days_employed       0\n",
      "dob_years           0\n",
      "education           0\n",
      "education_id        0\n",
      "family_status       0\n",
      "family_status_id    0\n",
      "gender              0\n",
      "income_type         0\n",
      "debt                0\n",
      "total_income        0\n",
      "purpose             0\n",
      "dtype: int64\n"
     ]
    }
   ],
   "source": [
    "print (data.isnull().sum())# ваш код здесь"
   ]
  },
  {
   "cell_type": "markdown",
   "id": "262270bc",
   "metadata": {
    "deletable": false,
    "editable": false,
    "id": "ddc81e43"
   },
   "source": [
    "### Изменение типов данных"
   ]
  },
  {
   "cell_type": "markdown",
   "id": "5f563d35",
   "metadata": {
    "deletable": false,
    "editable": false,
    "id": "42d19d24",
    "tags": [
     "start_task"
    ]
   },
   "source": [
    "**Задание 13. Замените вещественный тип данных в столбце `total_income` на целочисленный с помощью метода `astype()`.**"
   ]
  },
  {
   "cell_type": "code",
   "execution_count": 14,
   "id": "7ca3abba",
   "metadata": {
    "id": "920b65ad"
   },
   "outputs": [],
   "source": [
    "data['total_income'] = data['total_income'].astype('int')"
   ]
  },
  {
   "cell_type": "markdown",
   "id": "65d27dbe",
   "metadata": {
    "deletable": false,
    "editable": false,
    "id": "80c420ba"
   },
   "source": [
    "### Обработка дубликатов"
   ]
  },
  {
   "cell_type": "markdown",
   "id": "b368c043",
   "metadata": {
    "deletable": false,
    "editable": false,
    "tags": [
     "start_task"
    ]
   },
   "source": [
    "**Задание 14. Обработайте неявные дубликаты в столбце `education`. В этом столбце есть одни и те же значения, но записанные по-разному: с использованием заглавных и строчных букв. Приведите их к нижнему регистру. Проверьте остальные столбцы.**"
   ]
  },
  {
   "cell_type": "code",
   "execution_count": 15,
   "id": "11d96569",
   "metadata": {},
   "outputs": [],
   "source": [
    "data['education'] = data['education'].str.lower() # ваш код здесь"
   ]
  },
  {
   "cell_type": "markdown",
   "id": "8826c99d",
   "metadata": {
    "deletable": false,
    "editable": false,
    "id": "dc587695",
    "tags": [
     "start_task"
    ]
   },
   "source": [
    "**Задание 15. Выведите на экран количество строк-дубликатов в данных. Если такие строки присутствуют, удалите их.**"
   ]
  },
  {
   "cell_type": "code",
   "execution_count": 16,
   "id": "c4316e87",
   "metadata": {
    "id": "3ee445e4"
   },
   "outputs": [
    {
     "data": {
      "text/plain": [
       "71"
      ]
     },
     "execution_count": 16,
     "metadata": {},
     "output_type": "execute_result"
    }
   ],
   "source": [
    "data.duplicated().sum()"
   ]
  },
  {
   "cell_type": "code",
   "execution_count": 17,
   "id": "d4d24a4c",
   "metadata": {
    "id": "8575fe05"
   },
   "outputs": [],
   "source": [
    "data = data.drop_duplicates()"
   ]
  },
  {
   "cell_type": "markdown",
   "id": "7582deb0",
   "metadata": {
    "deletable": false,
    "editable": false,
    "id": "9904cf55"
   },
   "source": [
    "### Категоризация данных"
   ]
  },
  {
   "cell_type": "markdown",
   "id": "f4390f59",
   "metadata": {
    "deletable": false,
    "editable": false,
    "id": "72fcc8a2",
    "tags": [
     "start_task"
    ]
   },
   "source": [
    "**Задание 16. На основании диапазонов, указанных ниже, создайте в датафрейме `data` столбец `total_income_category` с категориями:**\n",
    "\n",
    "- 0–30000 — `'E'`;\n",
    "- 30001–50000 — `'D'`;\n",
    "- 50001–200000 — `'C'`;\n",
    "- 200001–1000000 — `'B'`;\n",
    "- 1000001 и выше — `'A'`.\n",
    "\n",
    "\n",
    "**Например, кредитополучателю с доходом 25000 нужно назначить категорию `'E'`, а клиенту, получающему 235000, — `'B'`. Используйте собственную функцию с именем `categorize_income()` и метод `apply()`.**"
   ]
  },
  {
   "cell_type": "code",
   "execution_count": 22,
   "id": "fddc87a7",
   "metadata": {
    "id": "e1771346"
   },
   "outputs": [],
   "source": [
    "def categorize_income(income):\n",
    "    if income <= 30000:\n",
    "        return 'E'\n",
    "    if income <= 50000:\n",
    "        return 'D'\n",
    "    if income <= 200000:\n",
    "        return 'C'\n",
    "    if income <= 1000000:\n",
    "        return 'B'\n",
    "    return 'A'"
   ]
  },
  {
   "cell_type": "code",
   "execution_count": 23,
   "id": "a2fc9886",
   "metadata": {
    "id": "d5f3586d"
   },
   "outputs": [],
   "source": [
    "data['total_income_category'] = data['total_income'].apply(categorize_income)# примените функцию методом apply()"
   ]
  },
  {
   "cell_type": "markdown",
   "id": "294aa804",
   "metadata": {
    "deletable": false,
    "editable": false,
    "id": "dde49b5c",
    "tags": [
     "start_task"
    ]
   },
   "source": [
    "**Задание 17. Выведите на экран перечень уникальных целей взятия кредита из столбца `purpose`.**"
   ]
  },
  {
   "cell_type": "code",
   "execution_count": 20,
   "id": "d89fa5db",
   "metadata": {
    "id": "f67ce9b3"
   },
   "outputs": [
    {
     "name": "stdout",
     "output_type": "stream",
     "text": [
      "['покупка жилья' 'приобретение автомобиля' 'дополнительное образование'\n",
      " 'сыграть свадьбу' 'операции с жильем' 'образование'\n",
      " 'на проведение свадьбы' 'покупка жилья для семьи' 'покупка недвижимости'\n",
      " 'покупка коммерческой недвижимости' 'покупка жилой недвижимости'\n",
      " 'строительство собственной недвижимости' 'недвижимость'\n",
      " 'строительство недвижимости' 'на покупку подержанного автомобиля'\n",
      " 'на покупку своего автомобиля' 'операции с коммерческой недвижимостью'\n",
      " 'строительство жилой недвижимости' 'жилье'\n",
      " 'операции со своей недвижимостью' 'автомобили' 'заняться образованием'\n",
      " 'сделка с подержанным автомобилем' 'получение образования' 'автомобиль'\n",
      " 'свадьба' 'получение дополнительного образования' 'покупка своего жилья'\n",
      " 'операции с недвижимостью' 'получение высшего образования'\n",
      " 'свой автомобиль' 'сделка с автомобилем' 'профильное образование'\n",
      " 'высшее образование' 'покупка жилья для сдачи' 'на покупку автомобиля'\n",
      " 'ремонт жилью' 'заняться высшим образованием']\n"
     ]
    }
   ],
   "source": [
    "print (data['purpose'].unique())# ваш код здесь"
   ]
  },
  {
   "cell_type": "markdown",
   "id": "2ce79320",
   "metadata": {
    "deletable": false,
    "editable": false,
    "id": "85d0aef0",
    "tags": [
     "start_task"
    ]
   },
   "source": [
    "**Задание 18. Создайте функцию, которая на основании данных из столбца `purpose` сформирует новый столбец `purpose_category`, в который войдут следующие категории:**\n",
    "\n",
    "- `'операции с автомобилем'`,\n",
    "- `'операции с недвижимостью'`,\n",
    "- `'проведение свадьбы'`,\n",
    "- `'получение образования'`.\n",
    "\n",
    "**Например, если в столбце `purpose` находится подстрока `'на покупку автомобиля'`, то в столбце `purpose_category` должна появиться строка `'операции с автомобилем'`.**\n",
    "\n",
    "**Используйте собственную функцию с именем `categorize_purpose()` и метод `apply()`. Изучите данные в столбце `purpose` и определите, какие подстроки помогут вам правильно определить категорию.**"
   ]
  },
  {
   "cell_type": "code",
   "execution_count": 24,
   "id": "9a3f1a82",
   "metadata": {
    "id": "e149fab4"
   },
   "outputs": [],
   "source": [
    "def categorize_purpose(row):\n",
    "    try:\n",
    "        if 'автом' in row:\n",
    "            return 'операции с автомобилем'\n",
    "        elif 'жил' in row or 'недвиж' in row:\n",
    "            return 'операции с недвижимостью'\n",
    "        elif 'свад' in row:\n",
    "            return 'проведение свадьбы'\n",
    "        elif 'образов' in row:\n",
    "            return 'получение образования'\n",
    "    except:\n",
    "        return 'нет категории'"
   ]
  },
  {
   "cell_type": "code",
   "execution_count": 27,
   "id": "afd266cd",
   "metadata": {
    "id": "bf36e69b"
   },
   "outputs": [
    {
     "name": "stdout",
     "output_type": "stream",
     "text": [
      "       children  days_employed  dob_years education  education_id  \\\n",
      "0             1    8437.673028         42    высшее             0   \n",
      "1             1    4024.803754         36   среднее             1   \n",
      "2             0    5623.422610         33   среднее             1   \n",
      "3             3    4124.747207         32   среднее             1   \n",
      "4             0  340266.072047         53   среднее             1   \n",
      "...         ...            ...        ...       ...           ...   \n",
      "21520         1    4529.316663         43   среднее             1   \n",
      "21521         0  343937.404131         67   среднее             1   \n",
      "21522         1    2113.346888         38   среднее             1   \n",
      "21523         3    3112.481705         38   среднее             1   \n",
      "21524         2    1984.507589         40   среднее             1   \n",
      "\n",
      "          family_status  family_status_id gender income_type  debt  \\\n",
      "0       женат / замужем                 0      F   сотрудник     0   \n",
      "1       женат / замужем                 0      F   сотрудник     0   \n",
      "2       женат / замужем                 0      M   сотрудник     0   \n",
      "3       женат / замужем                 0      M   сотрудник     0   \n",
      "4      гражданский брак                 1      F   пенсионер     0   \n",
      "...                 ...               ...    ...         ...   ...   \n",
      "21520  гражданский брак                 1      F   компаньон     0   \n",
      "21521   женат / замужем                 0      F   пенсионер     0   \n",
      "21522  гражданский брак                 1      M   сотрудник     1   \n",
      "21523   женат / замужем                 0      M   сотрудник     1   \n",
      "21524   женат / замужем                 0      F   сотрудник     0   \n",
      "\n",
      "       total_income                       purpose total_income_category  \\\n",
      "0            253875                 покупка жилья                     B   \n",
      "1            112080       приобретение автомобиля                     C   \n",
      "2            145885                 покупка жилья                     C   \n",
      "3            267628    дополнительное образование                     B   \n",
      "4            158616               сыграть свадьбу                     C   \n",
      "...             ...                           ...                   ...   \n",
      "21520        224791             операции с жильем                     B   \n",
      "21521        155999          сделка с автомобилем                     C   \n",
      "21522         89672                  недвижимость                     C   \n",
      "21523        244093  на покупку своего автомобиля                     B   \n",
      "21524         82047         на покупку автомобиля                     C   \n",
      "\n",
      "               purpose_category  \n",
      "0      операции с недвижимостью  \n",
      "1        операции с автомобилем  \n",
      "2      операции с недвижимостью  \n",
      "3         получение образования  \n",
      "4            проведение свадьбы  \n",
      "...                         ...  \n",
      "21520  операции с недвижимостью  \n",
      "21521    операции с автомобилем  \n",
      "21522  операции с недвижимостью  \n",
      "21523    операции с автомобилем  \n",
      "21524    операции с автомобилем  \n",
      "\n",
      "[21331 rows x 14 columns]\n"
     ]
    }
   ],
   "source": [
    "data['purpose_category'] = data['purpose'].apply(categorize_purpose)# примените функцию методом apply()\n",
    "print (data)"
   ]
  },
  {
   "cell_type": "code",
   "execution_count": null,
   "id": "e62a86f6",
   "metadata": {},
   "outputs": [],
   "source": []
  },
  {
   "cell_type": "code",
   "execution_count": null,
   "id": "b40a5d2a",
   "metadata": {},
   "outputs": [],
   "source": []
  },
  {
   "cell_type": "code",
   "execution_count": null,
   "id": "cbd40412",
   "metadata": {},
   "outputs": [],
   "source": []
  }
 ],
 "metadata": {
  "ExecuteTimeLog": [
   {
    "duration": 47,
    "start_time": "2022-10-10T18:18:53.373Z"
   },
   {
    "duration": 5,
    "start_time": "2022-10-10T18:28:31.369Z"
   },
   {
    "duration": 720,
    "start_time": "2022-10-10T18:29:05.813Z"
   },
   {
    "duration": 49,
    "start_time": "2022-10-10T19:25:18.262Z"
   },
   {
    "duration": 758,
    "start_time": "2022-10-10T19:25:21.746Z"
   },
   {
    "duration": 6,
    "start_time": "2022-10-10T19:25:24.661Z"
   },
   {
    "duration": 10,
    "start_time": "2022-10-10T19:30:51.501Z"
   },
   {
    "duration": 11,
    "start_time": "2022-10-10T19:54:06.317Z"
   },
   {
    "duration": 55,
    "start_time": "2022-10-10T19:54:25.885Z"
   },
   {
    "duration": 16,
    "start_time": "2022-10-10T19:55:44.141Z"
   },
   {
    "duration": 75,
    "start_time": "2022-10-10T19:55:48.429Z"
   },
   {
    "duration": 19,
    "start_time": "2022-10-10T19:55:50.557Z"
   },
   {
    "duration": 16,
    "start_time": "2022-10-10T19:56:58.117Z"
   },
   {
    "duration": 79,
    "start_time": "2022-10-10T19:57:00.748Z"
   },
   {
    "duration": 11,
    "start_time": "2022-10-10T19:57:03.125Z"
   },
   {
    "duration": 18,
    "start_time": "2022-10-10T20:00:18.076Z"
   },
   {
    "duration": 78,
    "start_time": "2022-10-10T20:00:24.116Z"
   },
   {
    "duration": 12,
    "start_time": "2022-10-10T20:00:25.691Z"
   },
   {
    "duration": 17,
    "start_time": "2022-10-10T20:00:29.059Z"
   },
   {
    "duration": 15,
    "start_time": "2022-10-10T20:00:33.285Z"
   },
   {
    "duration": 83,
    "start_time": "2022-10-10T20:00:35.395Z"
   },
   {
    "duration": 16,
    "start_time": "2022-10-10T20:00:37.804Z"
   },
   {
    "duration": 16,
    "start_time": "2022-10-10T20:01:16.651Z"
   },
   {
    "duration": 80,
    "start_time": "2022-10-10T20:01:41.139Z"
   },
   {
    "duration": 78,
    "start_time": "2022-10-10T20:01:42.883Z"
   },
   {
    "duration": 89,
    "start_time": "2022-10-10T20:01:59.251Z"
   },
   {
    "duration": 90,
    "start_time": "2022-10-10T20:02:36.621Z"
   },
   {
    "duration": 84,
    "start_time": "2022-10-10T20:04:32.216Z"
   },
   {
    "duration": 80,
    "start_time": "2022-10-10T20:05:03.002Z"
   },
   {
    "duration": 406,
    "start_time": "2022-10-10T20:05:23.868Z"
   },
   {
    "duration": 76,
    "start_time": "2022-10-10T20:05:24.276Z"
   },
   {
    "duration": 10,
    "start_time": "2022-10-10T20:05:24.354Z"
   },
   {
    "duration": 23,
    "start_time": "2022-10-10T20:05:24.366Z"
   },
   {
    "duration": 66,
    "start_time": "2022-10-10T20:05:24.392Z"
   },
   {
    "duration": 58,
    "start_time": "2022-10-10T20:05:24.459Z"
   },
   {
    "duration": 2,
    "start_time": "2022-10-10T20:05:24.519Z"
   },
   {
    "duration": 8,
    "start_time": "2022-10-10T20:05:24.523Z"
   },
   {
    "duration": 6,
    "start_time": "2022-10-10T20:05:24.532Z"
   },
   {
    "duration": 2,
    "start_time": "2022-10-10T20:05:24.555Z"
   },
   {
    "duration": 5,
    "start_time": "2022-10-10T20:05:24.559Z"
   },
   {
    "duration": 5,
    "start_time": "2022-10-10T20:05:24.566Z"
   },
   {
    "duration": 6,
    "start_time": "2022-10-10T20:05:24.572Z"
   },
   {
    "duration": 4,
    "start_time": "2022-10-10T20:05:24.580Z"
   },
   {
    "duration": 6,
    "start_time": "2022-10-10T20:05:24.585Z"
   },
   {
    "duration": 6,
    "start_time": "2022-10-10T20:05:24.593Z"
   },
   {
    "duration": 4,
    "start_time": "2022-10-10T20:05:24.601Z"
   },
   {
    "duration": 7,
    "start_time": "2022-10-10T20:05:24.607Z"
   },
   {
    "duration": 6,
    "start_time": "2022-10-10T20:05:24.616Z"
   },
   {
    "duration": 5,
    "start_time": "2022-10-10T20:05:24.623Z"
   },
   {
    "duration": 5,
    "start_time": "2022-10-10T20:05:24.629Z"
   },
   {
    "duration": 2,
    "start_time": "2022-10-10T20:05:24.656Z"
   },
   {
    "duration": 81,
    "start_time": "2022-10-10T20:07:12.633Z"
   },
   {
    "duration": 90,
    "start_time": "2022-10-10T20:07:30.953Z"
   },
   {
    "duration": 85,
    "start_time": "2022-10-10T20:08:38.233Z"
   },
   {
    "duration": 90,
    "start_time": "2022-10-10T20:15:04.104Z"
   },
   {
    "duration": 85,
    "start_time": "2022-10-10T20:15:46.559Z"
   },
   {
    "duration": 157,
    "start_time": "2022-10-10T20:16:59.998Z"
   },
   {
    "duration": 794,
    "start_time": "2022-10-10T20:17:30.662Z"
   },
   {
    "duration": 853,
    "start_time": "2022-10-10T20:17:32.431Z"
   },
   {
    "duration": 1280,
    "start_time": "2022-10-10T20:18:02.375Z"
   },
   {
    "duration": 88,
    "start_time": "2022-10-10T20:18:52.246Z"
   },
   {
    "duration": 109,
    "start_time": "2022-10-10T20:19:21.678Z"
   },
   {
    "duration": 11,
    "start_time": "2022-10-10T20:23:29.068Z"
   },
   {
    "duration": 10,
    "start_time": "2022-10-10T20:23:31.236Z"
   },
   {
    "duration": 14,
    "start_time": "2022-10-10T20:25:36.246Z"
   },
   {
    "duration": 77,
    "start_time": "2022-10-10T20:25:39.555Z"
   },
   {
    "duration": 9,
    "start_time": "2022-10-10T20:25:44.674Z"
   },
   {
    "duration": 16,
    "start_time": "2022-10-10T20:26:05.731Z"
   },
   {
    "duration": 15,
    "start_time": "2022-10-10T20:26:24.963Z"
   },
   {
    "duration": 398,
    "start_time": "2022-10-10T20:26:41.591Z"
   },
   {
    "duration": 78,
    "start_time": "2022-10-10T20:26:41.991Z"
   },
   {
    "duration": 11,
    "start_time": "2022-10-10T20:26:42.071Z"
   },
   {
    "duration": 16,
    "start_time": "2022-10-10T20:26:42.084Z"
   },
   {
    "duration": 66,
    "start_time": "2022-10-10T20:26:42.102Z"
   },
   {
    "duration": 15,
    "start_time": "2022-10-10T20:26:42.170Z"
   },
   {
    "duration": 2,
    "start_time": "2022-10-10T20:26:42.187Z"
   },
   {
    "duration": 5,
    "start_time": "2022-10-10T20:26:42.190Z"
   },
   {
    "duration": 5,
    "start_time": "2022-10-10T20:26:42.197Z"
   },
   {
    "duration": 4,
    "start_time": "2022-10-10T20:26:42.204Z"
   },
   {
    "duration": 5,
    "start_time": "2022-10-10T20:26:42.210Z"
   },
   {
    "duration": 6,
    "start_time": "2022-10-10T20:26:42.216Z"
   },
   {
    "duration": 6,
    "start_time": "2022-10-10T20:26:42.253Z"
   },
   {
    "duration": 3,
    "start_time": "2022-10-10T20:26:42.262Z"
   },
   {
    "duration": 5,
    "start_time": "2022-10-10T20:26:42.267Z"
   },
   {
    "duration": 6,
    "start_time": "2022-10-10T20:26:42.273Z"
   },
   {
    "duration": 5,
    "start_time": "2022-10-10T20:26:42.280Z"
   },
   {
    "duration": 5,
    "start_time": "2022-10-10T20:26:42.286Z"
   },
   {
    "duration": 5,
    "start_time": "2022-10-10T20:26:42.293Z"
   },
   {
    "duration": 5,
    "start_time": "2022-10-10T20:26:42.299Z"
   },
   {
    "duration": 4,
    "start_time": "2022-10-10T20:26:42.306Z"
   },
   {
    "duration": 5,
    "start_time": "2022-10-10T20:26:42.312Z"
   },
   {
    "duration": 17,
    "start_time": "2022-10-10T20:27:16.808Z"
   },
   {
    "duration": 22,
    "start_time": "2022-10-10T20:29:03.056Z"
   },
   {
    "duration": 15,
    "start_time": "2022-10-10T20:29:07.335Z"
   },
   {
    "duration": 16,
    "start_time": "2022-10-10T20:29:09.823Z"
   },
   {
    "duration": 16,
    "start_time": "2022-10-10T20:30:18.512Z"
   },
   {
    "duration": 65,
    "start_time": "2022-10-10T20:30:33.935Z"
   },
   {
    "duration": 54,
    "start_time": "2022-10-11T19:28:08.112Z"
   },
   {
    "duration": 477,
    "start_time": "2022-10-11T19:28:10.746Z"
   },
   {
    "duration": 31,
    "start_time": "2022-10-11T19:28:12.850Z"
   },
   {
    "duration": 32,
    "start_time": "2022-10-11T19:28:15.122Z"
   },
   {
    "duration": 12,
    "start_time": "2022-10-11T19:31:21.730Z"
   },
   {
    "duration": 7,
    "start_time": "2022-10-11T19:34:42.265Z"
   },
   {
    "duration": 7,
    "start_time": "2022-10-11T19:39:04.661Z"
   },
   {
    "duration": 36,
    "start_time": "2022-10-11T19:43:21.119Z"
   },
   {
    "duration": 5,
    "start_time": "2022-10-11T19:43:31.052Z"
   },
   {
    "duration": 19,
    "start_time": "2022-10-11T19:46:28.117Z"
   },
   {
    "duration": 5,
    "start_time": "2022-10-11T20:08:04.534Z"
   },
   {
    "duration": 6,
    "start_time": "2022-10-11T20:08:19.708Z"
   },
   {
    "duration": 5,
    "start_time": "2022-10-11T20:08:28.951Z"
   },
   {
    "duration": 4,
    "start_time": "2022-10-11T20:08:30.808Z"
   },
   {
    "duration": 8,
    "start_time": "2022-10-11T20:12:36.939Z"
   },
   {
    "duration": 4,
    "start_time": "2022-10-11T20:12:38.503Z"
   },
   {
    "duration": 54,
    "start_time": "2022-10-12T18:18:30.920Z"
   },
   {
    "duration": 6,
    "start_time": "2022-10-12T18:25:37.293Z"
   },
   {
    "duration": 7,
    "start_time": "2022-10-12T18:27:11.750Z"
   },
   {
    "duration": 6,
    "start_time": "2022-10-12T18:27:21.157Z"
   },
   {
    "duration": 429,
    "start_time": "2022-10-12T18:27:37.812Z"
   },
   {
    "duration": 109,
    "start_time": "2022-10-12T18:27:38.243Z"
   },
   {
    "duration": 11,
    "start_time": "2022-10-12T18:27:38.354Z"
   },
   {
    "duration": 34,
    "start_time": "2022-10-12T18:27:38.367Z"
   },
   {
    "duration": 58,
    "start_time": "2022-10-12T18:27:38.404Z"
   },
   {
    "duration": 46,
    "start_time": "2022-10-12T18:27:38.464Z"
   },
   {
    "duration": 11,
    "start_time": "2022-10-12T18:27:38.513Z"
   },
   {
    "duration": 15,
    "start_time": "2022-10-12T18:27:38.526Z"
   },
   {
    "duration": 9,
    "start_time": "2022-10-12T18:27:38.543Z"
   },
   {
    "duration": 24,
    "start_time": "2022-10-12T18:27:38.554Z"
   },
   {
    "duration": 5,
    "start_time": "2022-10-12T18:27:38.580Z"
   },
   {
    "duration": 17,
    "start_time": "2022-10-12T18:27:38.588Z"
   },
   {
    "duration": 14,
    "start_time": "2022-10-12T18:27:38.607Z"
   },
   {
    "duration": 8,
    "start_time": "2022-10-12T18:27:38.624Z"
   },
   {
    "duration": 14,
    "start_time": "2022-10-12T18:27:38.633Z"
   },
   {
    "duration": 5,
    "start_time": "2022-10-12T18:27:38.650Z"
   },
   {
    "duration": 8,
    "start_time": "2022-10-12T18:27:38.657Z"
   },
   {
    "duration": 14,
    "start_time": "2022-10-12T18:27:38.667Z"
   },
   {
    "duration": 14,
    "start_time": "2022-10-12T18:27:38.684Z"
   },
   {
    "duration": 7,
    "start_time": "2022-10-12T18:27:38.700Z"
   },
   {
    "duration": 11,
    "start_time": "2022-10-12T18:27:38.709Z"
   },
   {
    "duration": 10,
    "start_time": "2022-10-12T18:27:38.723Z"
   },
   {
    "duration": 8,
    "start_time": "2022-10-12T18:27:58.133Z"
   },
   {
    "duration": 9,
    "start_time": "2022-10-12T18:28:41.052Z"
   },
   {
    "duration": 9,
    "start_time": "2022-10-12T18:29:16.172Z"
   },
   {
    "duration": 4,
    "start_time": "2022-10-12T18:29:17.748Z"
   },
   {
    "duration": 4,
    "start_time": "2022-10-12T18:29:23.292Z"
   },
   {
    "duration": 80,
    "start_time": "2022-10-12T18:30:50.044Z"
   },
   {
    "duration": 13,
    "start_time": "2022-10-12T18:32:23.687Z"
   },
   {
    "duration": 12,
    "start_time": "2022-10-12T18:32:28.195Z"
   },
   {
    "duration": 427,
    "start_time": "2022-10-12T18:32:43.552Z"
   },
   {
    "duration": 70,
    "start_time": "2022-10-12T18:32:43.981Z"
   },
   {
    "duration": 12,
    "start_time": "2022-10-12T18:32:44.052Z"
   },
   {
    "duration": 44,
    "start_time": "2022-10-12T18:32:44.065Z"
   },
   {
    "duration": 85,
    "start_time": "2022-10-12T18:32:44.111Z"
   },
   {
    "duration": 41,
    "start_time": "2022-10-12T18:32:44.198Z"
   },
   {
    "duration": 4,
    "start_time": "2022-10-12T18:32:44.241Z"
   },
   {
    "duration": 25,
    "start_time": "2022-10-12T18:32:44.247Z"
   },
   {
    "duration": 30,
    "start_time": "2022-10-12T18:32:44.274Z"
   },
   {
    "duration": 28,
    "start_time": "2022-10-12T18:32:44.306Z"
   },
   {
    "duration": 33,
    "start_time": "2022-10-12T18:32:44.337Z"
   },
   {
    "duration": 42,
    "start_time": "2022-10-12T18:32:44.372Z"
   },
   {
    "duration": 33,
    "start_time": "2022-10-12T18:32:44.415Z"
   },
   {
    "duration": 36,
    "start_time": "2022-10-12T18:32:44.451Z"
   },
   {
    "duration": 31,
    "start_time": "2022-10-12T18:32:44.488Z"
   },
   {
    "duration": 26,
    "start_time": "2022-10-12T18:32:44.522Z"
   },
   {
    "duration": 33,
    "start_time": "2022-10-12T18:32:44.550Z"
   },
   {
    "duration": 34,
    "start_time": "2022-10-12T18:32:44.585Z"
   },
   {
    "duration": 19,
    "start_time": "2022-10-12T18:32:44.621Z"
   },
   {
    "duration": 29,
    "start_time": "2022-10-12T18:32:44.642Z"
   },
   {
    "duration": 19,
    "start_time": "2022-10-12T18:32:44.672Z"
   },
   {
    "duration": 26,
    "start_time": "2022-10-12T18:32:44.693Z"
   },
   {
    "duration": 10,
    "start_time": "2022-10-12T18:38:06.559Z"
   },
   {
    "duration": 9,
    "start_time": "2022-10-12T18:38:12.937Z"
   },
   {
    "duration": 9,
    "start_time": "2022-10-12T18:38:16.294Z"
   },
   {
    "duration": 36,
    "start_time": "2022-10-12T18:47:54.412Z"
   },
   {
    "duration": 8,
    "start_time": "2022-10-12T18:47:57.436Z"
   },
   {
    "duration": 4,
    "start_time": "2022-10-12T18:52:47.716Z"
   },
   {
    "duration": 4,
    "start_time": "2022-10-12T18:53:12.235Z"
   },
   {
    "duration": 69,
    "start_time": "2022-10-12T18:55:54.691Z"
   },
   {
    "duration": 11,
    "start_time": "2022-10-12T18:56:51.323Z"
   },
   {
    "duration": 54,
    "start_time": "2022-10-12T18:58:42.946Z"
   },
   {
    "duration": 10,
    "start_time": "2022-10-12T18:59:22.587Z"
   },
   {
    "duration": 60,
    "start_time": "2022-10-12T18:59:50.010Z"
   },
   {
    "duration": 35,
    "start_time": "2022-10-12T19:00:13.738Z"
   },
   {
    "duration": 20,
    "start_time": "2022-10-12T19:01:10.431Z"
   },
   {
    "duration": 20,
    "start_time": "2022-10-12T19:03:06.377Z"
   },
   {
    "duration": 8,
    "start_time": "2022-10-12T19:06:08.480Z"
   },
   {
    "duration": 25,
    "start_time": "2022-10-12T19:06:22.536Z"
   },
   {
    "duration": 23,
    "start_time": "2022-10-12T19:06:58.976Z"
   },
   {
    "duration": 17,
    "start_time": "2022-10-12T19:08:29.008Z"
   },
   {
    "duration": 20,
    "start_time": "2022-10-12T19:23:11.126Z"
   },
   {
    "duration": 51,
    "start_time": "2022-10-12T19:23:52.076Z"
   },
   {
    "duration": 14,
    "start_time": "2022-10-12T19:24:07.867Z"
   },
   {
    "duration": 4,
    "start_time": "2022-10-12T19:24:24.780Z"
   },
   {
    "duration": 10,
    "start_time": "2022-10-12T19:24:25.668Z"
   },
   {
    "duration": 48,
    "start_time": "2022-10-12T19:25:29.115Z"
   },
   {
    "duration": 5,
    "start_time": "2022-10-12T19:25:45.635Z"
   },
   {
    "duration": 64,
    "start_time": "2022-10-12T19:51:12.582Z"
   },
   {
    "duration": 13,
    "start_time": "2022-10-12T19:55:17.405Z"
   },
   {
    "duration": 13,
    "start_time": "2022-10-12T19:56:35.523Z"
   },
   {
    "duration": 3,
    "start_time": "2022-10-12T19:57:39.683Z"
   },
   {
    "duration": 11,
    "start_time": "2022-10-12T19:57:41.292Z"
   },
   {
    "duration": 12,
    "start_time": "2022-10-12T19:58:02.787Z"
   },
   {
    "duration": 3,
    "start_time": "2022-10-12T19:58:04.587Z"
   },
   {
    "duration": 51,
    "start_time": "2022-10-12T19:59:46.651Z"
   },
   {
    "duration": 3,
    "start_time": "2022-10-12T19:59:57.962Z"
   },
   {
    "duration": 13,
    "start_time": "2022-10-12T19:59:59.259Z"
   },
   {
    "duration": 3,
    "start_time": "2022-10-12T20:01:29.278Z"
   },
   {
    "duration": 10,
    "start_time": "2022-10-12T20:01:30.074Z"
   },
   {
    "duration": 10,
    "start_time": "2022-10-12T20:07:48.003Z"
   },
   {
    "duration": 383,
    "start_time": "2022-10-12T20:09:07.472Z"
   },
   {
    "duration": 63,
    "start_time": "2022-10-12T20:09:07.857Z"
   },
   {
    "duration": 11,
    "start_time": "2022-10-12T20:09:07.923Z"
   },
   {
    "duration": 19,
    "start_time": "2022-10-12T20:09:07.937Z"
   },
   {
    "duration": 75,
    "start_time": "2022-10-12T20:09:07.959Z"
   },
   {
    "duration": 37,
    "start_time": "2022-10-12T20:09:08.035Z"
   },
   {
    "duration": 4,
    "start_time": "2022-10-12T20:09:08.074Z"
   },
   {
    "duration": 23,
    "start_time": "2022-10-12T20:09:08.080Z"
   },
   {
    "duration": 14,
    "start_time": "2022-10-12T20:09:08.106Z"
   },
   {
    "duration": 13,
    "start_time": "2022-10-12T20:09:08.124Z"
   },
   {
    "duration": 6,
    "start_time": "2022-10-12T20:09:08.139Z"
   },
   {
    "duration": 73,
    "start_time": "2022-10-12T20:09:08.147Z"
   },
   {
    "duration": 14,
    "start_time": "2022-10-12T20:09:08.223Z"
   },
   {
    "duration": 5,
    "start_time": "2022-10-12T20:09:08.239Z"
   },
   {
    "duration": 19,
    "start_time": "2022-10-12T20:09:08.246Z"
   },
   {
    "duration": 54,
    "start_time": "2022-10-12T20:09:08.267Z"
   },
   {
    "duration": 20,
    "start_time": "2022-10-12T20:09:08.324Z"
   },
   {
    "duration": 4,
    "start_time": "2022-10-12T20:09:08.346Z"
   },
   {
    "duration": 11,
    "start_time": "2022-10-12T20:09:08.352Z"
   },
   {
    "duration": 8,
    "start_time": "2022-10-12T20:09:08.365Z"
   },
   {
    "duration": 144,
    "start_time": "2022-10-12T20:09:08.375Z"
   },
   {
    "duration": 0,
    "start_time": "2022-10-12T20:09:08.522Z"
   },
   {
    "duration": 4,
    "start_time": "2022-10-12T20:13:09.279Z"
   },
   {
    "duration": 9,
    "start_time": "2022-10-12T20:13:09.799Z"
   },
   {
    "duration": 4,
    "start_time": "2022-10-12T20:20:02.973Z"
   },
   {
    "duration": 243,
    "start_time": "2022-10-12T20:21:34.198Z"
   },
   {
    "duration": 10,
    "start_time": "2022-10-12T20:22:00.685Z"
   },
   {
    "duration": 20,
    "start_time": "2022-10-12T20:22:21.408Z"
   }
  ],
  "colab": {
   "name": "dpp_template_part1.ipynb",
   "provenance": []
  },
  "kernelspec": {
   "display_name": "Python 3 (ipykernel)",
   "language": "python",
   "name": "python3"
  },
  "language_info": {
   "codemirror_mode": {
    "name": "ipython",
    "version": 3
   },
   "file_extension": ".py",
   "mimetype": "text/x-python",
   "name": "python",
   "nbconvert_exporter": "python",
   "pygments_lexer": "ipython3",
   "version": "3.9.5"
  },
  "toc": {
   "base_numbering": 1,
   "nav_menu": {},
   "number_sections": true,
   "sideBar": true,
   "skip_h1_title": true,
   "title_cell": "Table of Contents",
   "title_sidebar": "Contents",
   "toc_cell": false,
   "toc_position": {},
   "toc_section_display": true,
   "toc_window_display": false
  }
 },
 "nbformat": 4,
 "nbformat_minor": 5
}
