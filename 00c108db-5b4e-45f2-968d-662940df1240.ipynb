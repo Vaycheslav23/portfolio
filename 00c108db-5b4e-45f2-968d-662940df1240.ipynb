{
 "cells": [
  {
   "cell_type": "markdown",
   "metadata": {},
   "source": [
    "<div style=\"border:solid Chocolate 2px; padding: 40px\">\n",
    "\n",
    "<b> Вячеслав, привет!👋</b>\n",
    "\n",
    "Меня зовут Алексей Гриб, и я буду ревьюером твоего проекта. \n",
    "\n",
    "Сразу хочу предложить в дальнейшем общаться на \"ты\" - надеюсь, так будет комфортнее:) Но если это неудобно, обязательно дай знать, и мы придумаем что-нибудь ещё!\n",
    "    \n",
    "Цель ревью - не искать ошибки в твоём проекте, а помочь тебе сделать твою работу ещё лучше, устранив недочёты и приблизив её к реальным задачам аналитика. Поэтому не расстраивайся, если что-то не получилось с первого раза - это нормально, и это поможет тебе вырасти!\n",
    "    \n",
    "Ты можешь найти мои комментарии, обозначенные <font color='green'>зеленым</font>, <font color='gold'>желтым</font> и <font color='red'>красным</font> цветами, например:\n",
    "\n",
    "<br/>\n",
    "\n",
    "<div class=\"alert alert-success\">\n",
    "<h2> Комментарий ревьюера <a class=\"tocSkip\"> </h2>\n",
    "\n",
    "<b>Все отлично!👍:</b> похвала, рекомендации «со звёздочкой», полезные лайфхаки, которые сделают и без того красивое решение ещё более элегантным.\n",
    "</div>\n",
    "\n",
    "<br/>\n",
    "\n",
    "<div class=\"alert alert-warning\">\n",
    "    <h2> Комментарий ревьюера <a class=\"tocSkip\"> </h2>\n",
    "    \n",
    "<b>Некоторые замечания и рекомендации⚠️:</b> некритичные ошибки или развивающие рекомендации на будущее. \n",
    "</div>\n",
    "\n",
    "\n",
    "<br/>\n",
    "<div class=\"alert alert-block alert-danger\">\n",
    "<h2> Комментарий ревьюера <a class=\"tocSkip\"></h2>\n",
    "\n",
    "    \n",
    "<b>На доработку❌:</b>\n",
    "Критичные ошибки, которые обязательно нужно исправить.\n",
    "</div>\n",
    "\n",
    "Я не смогу принять проект, если в нём будет хотя бы одна критичная ошибка или несколько некритичных ошибок - тогда проект нужно будет немного доработать. Но это нестрашно - я обязательно дам тебе подсказку или укажу верное направление.\n",
    "    \n",
    "Пожалуйста, не удаляй мои комментарии, они будут особенно полезны для нашей работы в случае повторной проверки проекта. \n",
    "    \n",
    "Ты также можешь задавать свои вопросы, реагировать на мои комментарии, делать пометки и пояснения - полная творческая свобода! Но маленькая просьба - пускай они будут отличаться от моих комментариев, это поможет избежать путаницы в нашем общении:)\n",
    "Например, вот так:\n",
    "    \n",
    "<div class=\"alert alert-info\">\n",
    "<h2> Комментарий студента <a class=\"tocSkip\"> </h2>\n",
    "\n",
    "А как изменить маштаб графиков?\n",
    "</div> \n",
    "    \n",
    "Давай посмотрим на твой проект!"
   ]
  },
  {
   "cell_type": "markdown",
   "metadata": {},
   "source": [
    "<div class=\"alert alert-block alert-danger\">\n",
    "<h2> Комментарий ревьюера <a class=\"tocSkip\"></h2>\n",
    "\n",
    "    \n",
    "<b>На доработку❌:</b>\n",
    "В твоём проекте полностью отсутствует вступление - это важная часть проекта, которая позволяет сформировать о нём первое представление. Хорошее вступление должно содержать: \n",
    "- название проекта (например, `Принятие решений в бизнесе`);\n",
    "- краткое описание проекта (можно скопировать из вводной части проекта в тренажёре);\n",
    "- цель проекта (что-то глобальное, ради чего делаем проект - нужно сформулировать самостоятельно);\n",
    "- задачи проекта (маленькие шаги по достижению цели проекта, в нашем проекте это могут быть этапы самого проекта в соответствии с его разделами);\n",
    "- описание данных (можно также скопировать из вводной части);\n",
    "- оглавление, оно же план работы (материал об этом есть в блоке курса Полезные инструкции для учёбы - Оформление проекта - Изменения в Jupyter: автоматическое оглавление и горячие клавиши, либо ты можешь использовать гиперссылки - подробнее об их применении можно прочитать тут: https://sebastianraschka.com/Articles/2014_ipython_internal_links.html).\n",
    "</div>"
   ]
  },
  {
   "cell_type": "markdown",
   "metadata": {},
   "source": [
    "<div class=\"alert alert-success\">\n",
    "<h2> Комментарий ревьюера v.2 <a class=\"tocSkip\"> </h2>\n",
    "\n",
    "<b>Все отлично!👍:</b> Учтено."
   ]
  },
  {
   "cell_type": "markdown",
   "metadata": {},
   "source": [
    "# Проект: Принятие решений в бизнесе"
   ]
  },
  {
   "cell_type": "markdown",
   "metadata": {},
   "source": [
    "Вы — аналитик крупного интернет-магазина. Вместе с отделом маркетинга вы подготовили список гипотез для увеличения выручки.\n",
    "Приоритизируйте гипотезы, запустите A/B-тест и проанализируйте результаты. \n",
    "\n",
    "Задачи проекта: \n",
    "1) Приоритизация гипотез, для того  чтобы сократить расходы на эксперименты и запускать тестирование только наиболее перспективных идей.\n",
    "2) Анализ A/B-теста для того, чтобы точно измерить эффект от внедрения изменения.\n",
    "\n",
    "Описание данных:\n",
    "Описание данных\n",
    "Данные для первой части\n",
    "Файл /datasets/hypothesis.csv. Скачать датасет\n",
    "Hypothesis — краткое описание гипотезы;\n",
    "Reach — охват пользователей по 10-балльной шкале;\n",
    "Impact — влияние на пользователей по 10-балльной шкале;\n",
    "Confidence — уверенность в гипотезе по 10-балльной шкале;\n",
    "Efforts — затраты ресурсов на проверку гипотезы по 10-балльной шкале. Чем больше значение Efforts, тем дороже проверка гипотезы.\n",
    "Данные для второй части\n",
    "Файл /datasets/orders.csv. Скачать датасет\n",
    "transactionId — идентификатор заказа;\n",
    "visitorId — идентификатор пользователя, совершившего заказ;\n",
    "date — дата, когда был совершён заказ;\n",
    "revenue — выручка заказа;\n",
    "group — группа A/B-теста, в которую попал заказ.\n",
    "Файл /datasets/visitors.csv. Скачать датасет\n",
    "date — дата;\n",
    "group — группа A/B-теста;\n",
    "visitors — количество пользователей в указанную дату в указанной группе A/B-тест"
   ]
  },
  {
   "cell_type": "markdown",
   "metadata": {},
   "source": [
    "# Часть 1. Приоритизация гипотез."
   ]
  },
  {
   "cell_type": "markdown",
   "metadata": {},
   "source": [
    "## 1. Примените фреймворк ICE для приоритизации гипотез. Отсортируйте их по убыванию приоритета.¶"
   ]
  },
  {
   "cell_type": "markdown",
   "metadata": {},
   "source": [
    "## 2. Примените фреймворк RICE для приоритизации гипотез. Отсортируйте их по убыванию приоритета."
   ]
  },
  {
   "cell_type": "markdown",
   "metadata": {},
   "source": [
    "## 3. Укажите, как изменилась приоритизация гипотез при применении RICE вместо ICE. Объясните, почему так произошло."
   ]
  },
  {
   "cell_type": "markdown",
   "metadata": {},
   "source": [
    "# Часть 2. Анализ A/B-теста"
   ]
  },
  {
   "cell_type": "markdown",
   "metadata": {},
   "source": [
    "## 1. Постройте график кумулятивной выручки по группам. Сделайте выводы и предположения."
   ]
  },
  {
   "cell_type": "markdown",
   "metadata": {},
   "source": [
    "## 2. Постройте график кумулятивного среднего чека по группам. Сделайте выводы и предположения."
   ]
  },
  {
   "cell_type": "markdown",
   "metadata": {},
   "source": [
    "## 3. Постройте график относительного изменения кумулятивного среднего чека группы B к группе A. Сделайте выводы и предположения."
   ]
  },
  {
   "cell_type": "markdown",
   "metadata": {},
   "source": [
    "## 4. Постройте график кумулятивного среднего количества заказов на посетителя по группам. Сделайте выводы и предположения."
   ]
  },
  {
   "cell_type": "markdown",
   "metadata": {},
   "source": [
    "## 5. Постройте график относительного изменения кумулятивного среднего количества заказов на посетителя группы B к группе A. Сделайте выводы и предположения."
   ]
  },
  {
   "cell_type": "markdown",
   "metadata": {},
   "source": [
    "## 6. Постройте точечный график количества заказов по пользователям. Сделайте выводы и предположения."
   ]
  },
  {
   "cell_type": "markdown",
   "metadata": {},
   "source": [
    "## 7. Посчитайте 95-й и 99-й перцентили количества заказов на пользователя. Выберите границу для определения аномальных пользователей."
   ]
  },
  {
   "cell_type": "markdown",
   "metadata": {},
   "source": [
    "## 8. Постройте точечный график стоимостей заказов. Сделайте выводы и предположения."
   ]
  },
  {
   "cell_type": "markdown",
   "metadata": {},
   "source": [
    "## 9. Посчитайте 95-й и 99-й перцентили стоимости заказов. Выберите границу для определения аномальных заказов."
   ]
  },
  {
   "cell_type": "markdown",
   "metadata": {},
   "source": [
    "## 10. Посчитайте статистическую значимость различий в среднем количестве заказов на посетителя между группами по «сырым» данным. Сделайте выводы и предположения."
   ]
  },
  {
   "cell_type": "markdown",
   "metadata": {},
   "source": [
    "## 11. Посчитайте статистическую значимость различий в среднем чеке заказа между группами по «сырым» данным. Сделайте выводы и предположения."
   ]
  },
  {
   "cell_type": "markdown",
   "metadata": {},
   "source": [
    "## 12. Посчитайте статистическую значимость различий в среднем количестве заказов на посетителя между группами по «очищенным» данным. Сделайте выводы и предположения."
   ]
  },
  {
   "cell_type": "markdown",
   "metadata": {},
   "source": [
    "## 13. Посчитайте статистическую значимость различий в среднем чеке заказа между группами по «очищенным» данным. Сделайте выводы и предположения."
   ]
  },
  {
   "cell_type": "markdown",
   "metadata": {},
   "source": [
    "## 14. Примите решение по результатам теста и объясните его. Варианты решений:\n",
    "1. Остановить тест, зафиксировать победу одной из групп.\n",
    "2. Остановить тест, зафиксировать отсутствие различий между группами.\n",
    "3. Продолжить тест."
   ]
  },
  {
   "cell_type": "markdown",
   "metadata": {},
   "source": [
    "Импортируем библиотеки"
   ]
  },
  {
   "cell_type": "code",
   "execution_count": 3,
   "metadata": {},
   "outputs": [],
   "source": [
    "import pandas as pd\n",
    "import datetime as dt\n",
    "import numpy as np\n",
    "import matplotlib.pyplot as plt\n",
    "import scipy.stats as stats"
   ]
  },
  {
   "cell_type": "markdown",
   "metadata": {},
   "source": [
    "<div class=\"alert alert-success\">\n",
    "<h2> Комментарий ревьюера <a class=\"tocSkip\"> </h2>\n",
    "\n",
    "<b>Все отлично!👍:</b> Библиотеки импортировали - отлично!"
   ]
  },
  {
   "cell_type": "markdown",
   "metadata": {},
   "source": [
    "<div class=\"alert alert-warning\">\n",
    "    <h2> Комментарий ревьюера <a class=\"tocSkip\"> </h2>\n",
    "    \n",
    "<b>Некоторые замечания и рекомендации⚠️:</b> \n",
    "\n",
    "Я вижу, исполнение твоего кода начинается в ячейке с номером, который отличается от единицы. Перед отправкой проекта стоит проверять работоспособность кода — это можно сделать, нажав на панели Jupiter Hub ``Kernel`` и ``Restart & Run All`` (см скриншот ниже).\n",
    "\n",
    "![](https://i.postimg.cc/yd19rYf6/Screenshot-428.png)\n",
    "        \n",
    "Важно также убедиться, что все ячейки проекта исполнились - можно просто пролистать работу до конца и убедиться, что последняя ячейка исполнена. Такая проверка поможет тебе убедиться, что твоё решение будет должным образом воспроизведено во время ревью или во время передачи его заказчику - это очень важный этап, пренебрегать которым не стоит:)\n",
    "        \n",
    "В рамках ревью я перезапустил проект на своей стороне для проверки воспроизводимости решения, но на будущее, пожалуйста, не забывай про это:)\n",
    "        \n",
    "</div>"
   ]
  },
  {
   "cell_type": "markdown",
   "metadata": {},
   "source": [
    "<div class=\"alert alert-success\">\n",
    "<h2> Комментарий ревьюера v.2 <a class=\"tocSkip\"> </h2>\n",
    "\n",
    "<b>Все отлично!👍:</b> Учтено."
   ]
  },
  {
   "cell_type": "markdown",
   "metadata": {},
   "source": [
    "Объявляем переменные"
   ]
  },
  {
   "cell_type": "code",
   "execution_count": 4,
   "metadata": {},
   "outputs": [],
   "source": [
    "data = pd.read_csv('/datasets/hypothesis.csv', sep=',')\n",
    "orders = pd.read_csv('/datasets/orders.csv', sep=',')\n",
    "orders['date'] = orders['date'].astype(\"datetime64\")\n",
    "visitors = pd.read_csv('/datasets/visitors.csv', sep=',')\n",
    "visitors['date'] = visitors['date'].astype(\"datetime64\")"
   ]
  },
  {
   "cell_type": "markdown",
   "metadata": {},
   "source": [
    "<div class=\"alert alert-success\">\n",
    "<h2> Комментарий ревьюера <a class=\"tocSkip\"> </h2>\n",
    "\n",
    "<b>Все отлично!👍</b> \n",
    "    \n",
    "Данные загрузили.\n",
    "    \n",
    "При считывании данных из файла здорово перестраховывать себя от ошибок, связанных, например, с неверным указанием пути к файлу. А иногда бывает, что работаешь с файлом локально, выгружаешь его на сервер, ожидая, что он будет принимать данные, которые лежат на том же сервере, а код падает с ошибкой, потому что путь к файлу не поменялся с локального на серверный.\n",
    "    \n",
    "Для этого, например, можно использовать конструкцию `try-except`: сначала пробуешь локальный путь, при возникновении ошибки используется серверный путь (подробнее можешь почитать тут: https://pythonworld.ru/tipy-dannyx-v-python/isklyucheniya-v-python-konstrukciya-try-except-dlya-obrabotki-isklyuchenij.html).\n",
    "    \n",
    "Но еще лучше использовать библиотеку `os` - её использование позволит тебе отойти от прописывания путей к файлу (а локальные директории могут меняться часто в зависимости от пользователя) и перейти к автоматическому определению пути к файлу с помощью модуля `path`. Как пример:\n",
    "    \n",
    "    import os\n",
    "\n",
    "    pth1 = '/folder_1/data.csv'\n",
    "    pth2 = '/folder_2/data.csv'\n",
    "    \n",
    "    if os.path.exists(pth1):\n",
    "        query_1 = pd.read_csv(pth1)\n",
    "    elif os.path.exists(pth2):\n",
    "        query_1 = pd.read_csv(pth2)\n",
    "    else:\n",
    "        print('Something is wrong')\n",
    "    \n",
    "В нём мы указываем только непосредственно директорию с файлом, а уже путь к ней модуль `path` определит самостоятельно.\n",
    "\n",
    "Также ещё на этапе считывания данных можно спарсить дату: за это действие отвечает параметр `parse_dates` метода `read_csv()`, в него нужно передать список с названием полей-дат, и в большинстве случаев дата будет корректно преобразована в нужный формат сразу:) \n",
    "</div>"
   ]
  },
  {
   "cell_type": "markdown",
   "metadata": {},
   "source": [
    "1. Примените фреймворк ICE для приоритизации гипотез. Отсортируйте их по убыванию приоритета."
   ]
  },
  {
   "cell_type": "code",
   "execution_count": 5,
   "metadata": {},
   "outputs": [
    {
     "data": {
      "text/html": [
       "<div>\n",
       "<style scoped>\n",
       "    .dataframe tbody tr th:only-of-type {\n",
       "        vertical-align: middle;\n",
       "    }\n",
       "\n",
       "    .dataframe tbody tr th {\n",
       "        vertical-align: top;\n",
       "    }\n",
       "\n",
       "    .dataframe thead th {\n",
       "        text-align: right;\n",
       "    }\n",
       "</style>\n",
       "<table border=\"1\" class=\"dataframe\">\n",
       "  <thead>\n",
       "    <tr style=\"text-align: right;\">\n",
       "      <th></th>\n",
       "      <th>Hypothesis</th>\n",
       "      <th>ICE</th>\n",
       "    </tr>\n",
       "  </thead>\n",
       "  <tbody>\n",
       "    <tr>\n",
       "      <th>8</th>\n",
       "      <td>Запустить акцию, дающую скидку на товар в день рождения</td>\n",
       "      <td>16.20</td>\n",
       "    </tr>\n",
       "    <tr>\n",
       "      <th>0</th>\n",
       "      <td>Добавить два новых канала привлечения трафика, что позволит привлекать на 30% больше пользователей</td>\n",
       "      <td>13.33</td>\n",
       "    </tr>\n",
       "    <tr>\n",
       "      <th>7</th>\n",
       "      <td>Добавить форму подписки на все основные страницы, чтобы собрать базу клиентов для email-рассылок</td>\n",
       "      <td>11.20</td>\n",
       "    </tr>\n",
       "    <tr>\n",
       "      <th>6</th>\n",
       "      <td>Показать на главной странице баннеры с актуальными акциями и распродажами, чтобы увеличить конверсию</td>\n",
       "      <td>8.00</td>\n",
       "    </tr>\n",
       "    <tr>\n",
       "      <th>2</th>\n",
       "      <td>Добавить блоки рекомендаций товаров на сайт интернет магазина, чтобы повысить конверсию и средний чек заказа</td>\n",
       "      <td>7.00</td>\n",
       "    </tr>\n",
       "    <tr>\n",
       "      <th>1</th>\n",
       "      <td>Запустить собственную службу доставки, что сократит срок доставки заказов</td>\n",
       "      <td>2.00</td>\n",
       "    </tr>\n",
       "    <tr>\n",
       "      <th>5</th>\n",
       "      <td>Добавить страницу отзывов клиентов о магазине, что позволит увеличить количество заказов</td>\n",
       "      <td>1.33</td>\n",
       "    </tr>\n",
       "    <tr>\n",
       "      <th>3</th>\n",
       "      <td>Изменить структура категорий, что увеличит конверсию, т.к. пользователи быстрее найдут нужный товар</td>\n",
       "      <td>1.12</td>\n",
       "    </tr>\n",
       "    <tr>\n",
       "      <th>4</th>\n",
       "      <td>Изменить цвет фона главной страницы, чтобы увеличить вовлеченность пользователей</td>\n",
       "      <td>1.00</td>\n",
       "    </tr>\n",
       "  </tbody>\n",
       "</table>\n",
       "</div>"
      ],
      "text/plain": [
       "                                                                                                     Hypothesis  \\\n",
       "8                                                       Запустить акцию, дающую скидку на товар в день рождения   \n",
       "0            Добавить два новых канала привлечения трафика, что позволит привлекать на 30% больше пользователей   \n",
       "7              Добавить форму подписки на все основные страницы, чтобы собрать базу клиентов для email-рассылок   \n",
       "6          Показать на главной странице баннеры с актуальными акциями и распродажами, чтобы увеличить конверсию   \n",
       "2  Добавить блоки рекомендаций товаров на сайт интернет магазина, чтобы повысить конверсию и средний чек заказа   \n",
       "1                                     Запустить собственную службу доставки, что сократит срок доставки заказов   \n",
       "5                      Добавить страницу отзывов клиентов о магазине, что позволит увеличить количество заказов   \n",
       "3           Изменить структура категорий, что увеличит конверсию, т.к. пользователи быстрее найдут нужный товар   \n",
       "4                              Изменить цвет фона главной страницы, чтобы увеличить вовлеченность пользователей   \n",
       "\n",
       "     ICE  \n",
       "8  16.20  \n",
       "0  13.33  \n",
       "7  11.20  \n",
       "6   8.00  \n",
       "2   7.00  \n",
       "1   2.00  \n",
       "5   1.33  \n",
       "3   1.12  \n",
       "4   1.00  "
      ]
     },
     "execution_count": 5,
     "metadata": {},
     "output_type": "execute_result"
    }
   ],
   "source": [
    "pd.options.display.max_colwidth = 150\n",
    "data['ICE'] = round(data['Impact'] * data['Confidence'] / data['Efforts'], 2)\n",
    "# вывести несколько столбцов:\n",
    "data[['Hypothesis', 'ICE']].sort_values(by='ICE', ascending=False).head(100)"
   ]
  },
  {
   "cell_type": "markdown",
   "metadata": {},
   "source": [
    "<div class=\"alert alert-success\">\n",
    "<h2> Комментарий ревьюера <a class=\"tocSkip\"> </h2>\n",
    "\n",
    "<b>Все отлично!👍:</b> Приоритизация по ICE в порядке!"
   ]
  },
  {
   "cell_type": "markdown",
   "metadata": {},
   "source": [
    "<div class=\"alert alert-warning\">\n",
    "    <h2> Комментарий ревьюера <a class=\"tocSkip\"> </h2>\n",
    "    \n",
    "<b>Некоторые замечания и рекомендации⚠️:</b> \n",
    "\n",
    "1. Стоит настроить отображение гипотез в таблице таким образом, чтобы они отображались в своём столбце целиком - для этого можно настроить параметр `pd.options.display.max_colwidth = 150`.\n",
    "2. Метод `.print()` не очень подходит для работы с таблицами типа `pd.DataFrame`, так как выводит их на экран просто как отформатированный текст. Для отображения небольших таблиц можно воспользоваться методом `.head()`, для таблиц побольше - модулем `display`.\n",
    "         \n",
    "</div>"
   ]
  },
  {
   "cell_type": "markdown",
   "metadata": {},
   "source": [
    "<div class=\"alert alert-success\">\n",
    "<h2> Комментарий ревьюера v.2 <a class=\"tocSkip\"> </h2>\n",
    "\n",
    "<b>Все отлично!👍:</b> Учтено."
   ]
  },
  {
   "cell_type": "markdown",
   "metadata": {},
   "source": [
    "2. Примените фреймворк RICE для приоритизации гипотез. Отсортируйте их по убыванию приоритета."
   ]
  },
  {
   "cell_type": "code",
   "execution_count": 6,
   "metadata": {},
   "outputs": [
    {
     "data": {
      "text/html": [
       "<div>\n",
       "<style scoped>\n",
       "    .dataframe tbody tr th:only-of-type {\n",
       "        vertical-align: middle;\n",
       "    }\n",
       "\n",
       "    .dataframe tbody tr th {\n",
       "        vertical-align: top;\n",
       "    }\n",
       "\n",
       "    .dataframe thead th {\n",
       "        text-align: right;\n",
       "    }\n",
       "</style>\n",
       "<table border=\"1\" class=\"dataframe\">\n",
       "  <thead>\n",
       "    <tr style=\"text-align: right;\">\n",
       "      <th></th>\n",
       "      <th>Hypothesis</th>\n",
       "      <th>RICE</th>\n",
       "    </tr>\n",
       "  </thead>\n",
       "  <tbody>\n",
       "    <tr>\n",
       "      <th>7</th>\n",
       "      <td>Добавить форму подписки на все основные страницы, чтобы собрать базу клиентов для email-рассылок</td>\n",
       "      <td>112.0</td>\n",
       "    </tr>\n",
       "    <tr>\n",
       "      <th>2</th>\n",
       "      <td>Добавить блоки рекомендаций товаров на сайт интернет магазина, чтобы повысить конверсию и средний чек заказа</td>\n",
       "      <td>56.0</td>\n",
       "    </tr>\n",
       "    <tr>\n",
       "      <th>0</th>\n",
       "      <td>Добавить два новых канала привлечения трафика, что позволит привлекать на 30% больше пользователей</td>\n",
       "      <td>40.0</td>\n",
       "    </tr>\n",
       "    <tr>\n",
       "      <th>6</th>\n",
       "      <td>Показать на главной странице баннеры с актуальными акциями и распродажами, чтобы увеличить конверсию</td>\n",
       "      <td>40.0</td>\n",
       "    </tr>\n",
       "    <tr>\n",
       "      <th>8</th>\n",
       "      <td>Запустить акцию, дающую скидку на товар в день рождения</td>\n",
       "      <td>16.2</td>\n",
       "    </tr>\n",
       "    <tr>\n",
       "      <th>3</th>\n",
       "      <td>Изменить структура категорий, что увеличит конверсию, т.к. пользователи быстрее найдут нужный товар</td>\n",
       "      <td>9.0</td>\n",
       "    </tr>\n",
       "    <tr>\n",
       "      <th>1</th>\n",
       "      <td>Запустить собственную службу доставки, что сократит срок доставки заказов</td>\n",
       "      <td>4.0</td>\n",
       "    </tr>\n",
       "    <tr>\n",
       "      <th>5</th>\n",
       "      <td>Добавить страницу отзывов клиентов о магазине, что позволит увеличить количество заказов</td>\n",
       "      <td>4.0</td>\n",
       "    </tr>\n",
       "    <tr>\n",
       "      <th>4</th>\n",
       "      <td>Изменить цвет фона главной страницы, чтобы увеличить вовлеченность пользователей</td>\n",
       "      <td>3.0</td>\n",
       "    </tr>\n",
       "  </tbody>\n",
       "</table>\n",
       "</div>"
      ],
      "text/plain": [
       "                                                                                                     Hypothesis  \\\n",
       "7              Добавить форму подписки на все основные страницы, чтобы собрать базу клиентов для email-рассылок   \n",
       "2  Добавить блоки рекомендаций товаров на сайт интернет магазина, чтобы повысить конверсию и средний чек заказа   \n",
       "0            Добавить два новых канала привлечения трафика, что позволит привлекать на 30% больше пользователей   \n",
       "6          Показать на главной странице баннеры с актуальными акциями и распродажами, чтобы увеличить конверсию   \n",
       "8                                                       Запустить акцию, дающую скидку на товар в день рождения   \n",
       "3           Изменить структура категорий, что увеличит конверсию, т.к. пользователи быстрее найдут нужный товар   \n",
       "1                                     Запустить собственную службу доставки, что сократит срок доставки заказов   \n",
       "5                      Добавить страницу отзывов клиентов о магазине, что позволит увеличить количество заказов   \n",
       "4                              Изменить цвет фона главной страницы, чтобы увеличить вовлеченность пользователей   \n",
       "\n",
       "    RICE  \n",
       "7  112.0  \n",
       "2   56.0  \n",
       "0   40.0  \n",
       "6   40.0  \n",
       "8   16.2  \n",
       "3    9.0  \n",
       "1    4.0  \n",
       "5    4.0  \n",
       "4    3.0  "
      ]
     },
     "execution_count": 6,
     "metadata": {},
     "output_type": "execute_result"
    }
   ],
   "source": [
    "data['RICE'] = data['Reach'] * data['Impact'] * data['Confidence'] / data['Efforts']\n",
    "# вывести несколько столбцов:\n",
    "data[['Hypothesis', 'RICE']].sort_values(by='RICE', ascending=False).head(100)\n"
   ]
  },
  {
   "cell_type": "markdown",
   "metadata": {},
   "source": [
    "<div class=\"alert alert-success\">\n",
    "<h2> Комментарий ревьюера <a class=\"tocSkip\"> </h2>\n",
    "\n",
    "<b>Все отлично!👍:</b> Приоритизация по RICE выполнена."
   ]
  },
  {
   "cell_type": "markdown",
   "metadata": {},
   "source": [
    "3. Укажите, как изменилась приоритизация гипотез при применении RICE вместо ICE. Объясните, почему так произошло."
   ]
  },
  {
   "cell_type": "markdown",
   "metadata": {},
   "source": [
    "Результаты отличаются. RICE, в отличие от ICE учитывает еще охват пользователей.  Охват показывает на какое количество людей  повлияет изменение, и сколько пользователей увидят такие изменения.\n",
    "\n",
    "Тройка лидеров в ICE:\n",
    "8\tЗапустить акцию, дающую скидку на товар в день рождения\t16.200000\n",
    "0\tДобавить два новых канала привлечения трафика, что позволит привлекать на 30% больше пользователей\t13.333333\n",
    "7\tДобавить форму подписки на все основные страницы, чтобы собрать базу клиентов для email-рассылок\t11.200000\n",
    "\n",
    "Тройка лидеров в RICE:\n",
    "7\tДобавить форму подписки на все основные страницы, чтобы собрать базу клиентов для email-рассылок\t112.0\n",
    "2\tДобавить блоки рекомендаций товаров на сайт интернет магазина, чтобы повысить конверсию и средний чек заказа\t56.0\n",
    "0\tДобавить два новых канала привлечения трафика, что позволит привлекать на 30% больше пользователей\t40.0\n"
   ]
  },
  {
   "cell_type": "markdown",
   "metadata": {},
   "source": [
    "<div class=\"alert alert-success\">\n",
    "<h2> Комментарий ревьюера <a class=\"tocSkip\"> </h2>\n",
    "\n",
    "<b>Все отлично!👍:</b> Пояснили различия фреймворков - отлично!"
   ]
  },
  {
   "cell_type": "markdown",
   "metadata": {},
   "source": [
    "<div class=\"alert alert-block alert-danger\">\n",
    "<h2> Комментарий ревьюера <a class=\"tocSkip\"></h2>\n",
    "\n",
    "    \n",
    "<b>На доработку❌:</b>\n",
    "В выводе важно добавить, какие гипотезы вышли на лидирующие позиции в зависимости от применяемого фреймворка."
   ]
  },
  {
   "cell_type": "markdown",
   "metadata": {},
   "source": [
    "<div class=\"alert alert-success\">\n",
    "<h2> Комментарий ревьюера v.2 <a class=\"tocSkip\"> </h2>\n",
    "\n",
    "<b>Все отлично!👍:</b> Учтено."
   ]
  },
  {
   "cell_type": "markdown",
   "metadata": {},
   "source": [
    "# Часть 2. Анализ A/B-теста"
   ]
  },
  {
   "cell_type": "markdown",
   "metadata": {},
   "source": [
    "Проведем парный А/В тест. У нас 2 группы - группа А и группа В. Тест проводился с 1 по 31 августа 2019 года"
   ]
  },
  {
   "cell_type": "markdown",
   "metadata": {},
   "source": [
    "<div class=\"alert alert-warning\">\n",
    "    <h2> Комментарий ревьюера <a class=\"tocSkip\"> </h2>\n",
    "    \n",
    "<b>Некоторые замечания и рекомендации⚠️:</b> \n",
    "\n",
    "При анализе А/В тестов очень важно отвтетить на следующие вопросы:\n",
    "- сколько у нас групп в А/В тесте - важно понять, парный он или множественный;\n",
    "- даты начала и окончания теста - не помешает в целом понимание временных рамок теста, а также в случае, если у нас есть информация о том, как тест был запроектирован, важно сравнить даты его фактического проведения с запланированными;\n",
    "- сколько пользователей в каждой группе (по таблице с заказами) - поможет сделать вывод о сбалансированности групп по числу пользователей.\n",
    "         \n",
    "</div>"
   ]
  },
  {
   "cell_type": "markdown",
   "metadata": {},
   "source": [
    "<div class=\"alert alert-warning\">\n",
    "    <h2> Комментарий ревьюера v.2 <a class=\"tocSkip\"> </h2>\n",
    "    \n",
    "<b>Некоторые замечания и рекомендации⚠️:</b> \n",
    "\n",
    "Это лучше посчитать с помощью кода: выводы, написанные от руки, теряют актуальность при изменении данных. "
   ]
  },
  {
   "cell_type": "markdown",
   "metadata": {},
   "source": [
    "<div class=\"alert alert-block alert-danger\">\n",
    "<h2> Комментарий ревьюера <a class=\"tocSkip\"></h2>\n",
    "\n",
    "    \n",
    "<b>На доработку❌:</b>\n",
    "\n",
    "Очень важно также проверить, нет ли в данных пользователей, участвовавших в нескольких группах теста одновременно - это иногда случается в реальных А/В тестах из-за технических ошибок в распределяющей системе, и такие моменты важно отлавливать, потому что пользователи, участвующие в нескольких группах, не позволят проверсти корректное сравнение конверсии между группами: если, например, пользователь, участвующий в обоих группах, совершил целевое событие, мы не сможем оценить, повлияло на это нововведение в системе, или это стандартное повдение пользователя.\n",
    "    \n",
    "Если такие пользователи найдутся, тебе, как аналитику, важно сделать вывод и принять решение о том, как дальше работать с такими пользователями - удалить из данных или продолжить работать с данными с учётом таких пользователей.\n",
    "    \n",
    "Также стоит выполнить проверку данных на пропуски и дубликаты.\n",
    "        \n",
    "</div>"
   ]
  },
  {
   "cell_type": "markdown",
   "metadata": {},
   "source": [
    "<div class=\"alert alert-block alert-danger\">\n",
    "<h2> Комментарий ревьюера v.2 <a class=\"tocSkip\"></h2>\n",
    "\n",
    "    \n",
    "<b>На доработку❌:</b>\n",
    "\n",
    "1. Решение о дальнейшей работе с пользователями из пересечения не обосновано - стоит пояснить, почему ты решил их удалить.\n",
    "2. Нет проверки на дубликаты/пропуски."
   ]
  },
  {
   "cell_type": "markdown",
   "metadata": {},
   "source": [
    "<div class=\"alert alert-block alert-danger\">\n",
    "<h2> Комментарий ревьюера v.3 <a class=\"tocSkip\"></h2>\n",
    "\n",
    "    \n",
    "<b>На доработку❌:</b>\n",
    "\n",
    "Стоит явно проверить пропуски с помощью `isna()`: отмечу, что метод `count()` не подходит для этих целей, потому что считает строки, даже те, в которых есть пропуски."
   ]
  },
  {
   "cell_type": "markdown",
   "metadata": {},
   "source": [
    "<div class=\"alert alert-success\">\n",
    "<h2> Комментарий ревьюера v.4 <a class=\"tocSkip\"> </h2>\n",
    "\n",
    "<b>Все отлично!👍:</b> Учтено."
   ]
  },
  {
   "cell_type": "markdown",
   "metadata": {},
   "source": [
    "Считаем пропуски:"
   ]
  },
  {
   "cell_type": "code",
   "execution_count": 38,
   "metadata": {},
   "outputs": [
    {
     "name": "stdout",
     "output_type": "stream",
     "text": [
      "Кол-во пропусков: transactionId    0\n",
      "visitorId        0\n",
      "date             0\n",
      "revenue          0\n",
      "group            0\n",
      "dtype: int64\n",
      "Кол-во пропусков: date        0\n",
      "group       0\n",
      "visitors    0\n",
      "dtype: int64\n"
     ]
    }
   ],
   "source": [
    "print(\"Кол-во пропусков:\",orders.isna().sum())\n",
    "print(\"Кол-во пропусков:\",visitors.isna().sum())"
   ]
  },
  {
   "cell_type": "markdown",
   "metadata": {},
   "source": [
    "Пропусков нет"
   ]
  },
  {
   "cell_type": "markdown",
   "metadata": {},
   "source": [
    "Проверим дубликаты:"
   ]
  },
  {
   "cell_type": "code",
   "execution_count": 36,
   "metadata": {},
   "outputs": [
    {
     "name": "stdout",
     "output_type": "stream",
     "text": [
      "Кол-во дубликатов = 0\n",
      "Кол-во дубликатов = 0\n"
     ]
    }
   ],
   "source": [
    "print(\"Кол-во дубликатов =\",orders.duplicated().sum())\n",
    "print(\"Кол-во дубликатов =\",visitors.duplicated().sum())"
   ]
  },
  {
   "cell_type": "markdown",
   "metadata": {},
   "source": [
    "Все данные корректны, целостны, дубликатов нет - и готовы к анализу"
   ]
  },
  {
   "cell_type": "markdown",
   "metadata": {},
   "source": [
    "Считаем число записей в каждой группе:"
   ]
  },
  {
   "cell_type": "code",
   "execution_count": 31,
   "metadata": {},
   "outputs": [
    {
     "name": "stdout",
     "output_type": "stream",
     "text": [
      "Количество записей для группы А\n",
      "transactionId    468\n",
      "visitorId        468\n",
      "date             468\n",
      "revenue          468\n",
      "group            468\n",
      "dtype: int64\n",
      "Количество записей для группы B\n",
      "transactionId    548\n",
      "visitorId        548\n",
      "date             548\n",
      "revenue          548\n",
      "group            548\n",
      "dtype: int64\n"
     ]
    }
   ],
   "source": [
    "print ('Количество записей для группы А')\n",
    "print (orders[orders['group'] == 'A'].isna().count())\n",
    "\n",
    "print ('Количество записей для группы B')\n",
    "print (orders[orders['group'] == 'B'].isna().count())"
   ]
  },
  {
   "cell_type": "markdown",
   "metadata": {},
   "source": [
    "Проверим, сколько пользователей попали одновременно в обе группы:"
   ]
  },
  {
   "cell_type": "code",
   "execution_count": 9,
   "metadata": {},
   "outputs": [
    {
     "data": {
      "text/plain": [
       "group    58\n",
       "dtype: int64"
      ]
     },
     "execution_count": 9,
     "metadata": {},
     "output_type": "execute_result"
    }
   ],
   "source": [
    "orders.groupby('visitorId').agg({'group' : 'nunique'}).query('group>1').count()"
   ]
  },
  {
   "cell_type": "code",
   "execution_count": 10,
   "metadata": {},
   "outputs": [],
   "source": [
    "#Далее создаем список пользователей с 2 группами:\n",
    "double_users = orders.groupby('visitorId').agg({'group' : 'nunique'}).reset_index().query('group>1')['visitorId'].unique()"
   ]
  },
  {
   "cell_type": "code",
   "execution_count": 11,
   "metadata": {},
   "outputs": [],
   "source": [
    "#И удаляем этих пользователей из таблицы orders:\n",
    "orders = orders.query('visitorId not in @double_users')"
   ]
  },
  {
   "cell_type": "markdown",
   "metadata": {},
   "source": [
    "Для чистоты эксперимента нашел и удалил пользователей участвовавших в двух группах теста одновременно"
   ]
  },
  {
   "cell_type": "markdown",
   "metadata": {},
   "source": [
    "1. Постройте график кумулятивной выручки по группам. Сделайте выводы и предположения."
   ]
  },
  {
   "cell_type": "code",
   "execution_count": 12,
   "metadata": {
    "scrolled": true
   },
   "outputs": [],
   "source": [
    "# Cоздайте датафрейм datesGroups с уникальными парами значений 'date' и 'group', таблицы orders. Избавьтесь от дубликатов методом drop_duplicates().\n",
    "datesGroups = orders[['date','group']].drop_duplicates()\n",
    "\n",
    "# Объявите переменную ordersAggregated, содержащую: дату; группу A/B-теста; число уникальных заказов в группе теста по указанную дату включительно; число уникальных пользователей, совершивших хотя бы 1 заказ в группе теста по указанную дату включительно; суммарную выручку заказов в группе теста по указанную дату включительно.\n",
    "ordersAggregated = datesGroups.apply(\n",
    "    lambda x: orders[np.logical_and(orders['date'] <= x['date'], orders['group'] == x['group'])].agg({\n",
    "'date' : 'max',\n",
    "'group' : 'max',\n",
    "'transactionId' : pd.Series.nunique,\n",
    "'visitorId' : pd.Series.nunique,\n",
    "'revenue' : 'sum'}), axis=1).sort_values(by=['date','group']) "
   ]
  },
  {
   "cell_type": "markdown",
   "metadata": {},
   "source": [
    "<div class=\"alert alert-success\">\n",
    "<h2> Комментарий ревьюера <a class=\"tocSkip\"> </h2>\n",
    "\n",
    "<b>Все отлично!👍:</b> Кумулятивные данные собрали - отлично!"
   ]
  },
  {
   "cell_type": "code",
   "execution_count": 13,
   "metadata": {},
   "outputs": [
    {
     "data": {
      "image/png": "[encoded data removed]",
      "text/plain": [
       "<Figure size 1080x360 with 1 Axes>"
      ]
     },
     "metadata": {
      "needs_background": "light"
     },
     "output_type": "display_data"
    }
   ],
   "source": [
    "#Объявите переменную visitorsAggregated, содержащую:дату; группу A/B-теста; количество уникальных посетителей в группе теста по указанную дату включительно.\n",
    "visitorsAggregated = datesGroups.apply(lambda x: visitors[np.logical_and(visitors['date'] <= x['date'], visitors['group'] == x['group'])].agg({'date' : 'max', 'group' : 'max', 'visitors' : 'sum'}), axis=1).sort_values(by=['date','group'])\n",
    "\n",
    "# Определите переменную cumulativeData, объединив ordersAggregated и visitorsAggregated по колонкам 'date', 'group' методом merge()\n",
    "cumulativeData = ordersAggregated.merge(visitorsAggregated, left_on=['date', 'group'], right_on=['date', 'group'])\n",
    "\n",
    "# Присвойте столбцам cumulativeData названия\n",
    "cumulativeData.columns = ['date', 'group', 'orders', 'buyers', 'revenue', 'visitors']\n",
    "\n",
    "\n",
    "#2.Объявите переменные cumulativeRevenueA и cumulativeRevenueB, в которых сохраните данные о датах, выручке и числе заказов в группах A и B.\n",
    "#Постройте графики кумулятивной выручки по дням по группам.\n",
    "\n",
    "# датафрейм с кумулятивным количеством заказов и кумулятивной выручкой по дням в группе А\n",
    "cumulativeRevenueA = cumulativeData[cumulativeData['group']=='A'][['date','revenue', 'orders']]\n",
    "\n",
    "# датафрейм с кумулятивным количеством заказов и кумулятивной выручкой по дням в группе B\n",
    "cumulativeRevenueB = cumulativeData[cumulativeData['group']=='B'][['date','revenue', 'orders']]\n",
    "\n",
    "plt.figure(figsize=(15,5))\n",
    "# Строим график выручки группы А\n",
    "plt.plot(cumulativeRevenueA['date'], cumulativeRevenueA['revenue'], label='A')\n",
    "\n",
    "# Строим график выручки группы B\n",
    "plt.plot(cumulativeRevenueB['date'], cumulativeRevenueB['revenue'], label='B')\n",
    "\n",
    "plt.title('График кумулятивной выручки по группам')\n",
    "plt.xlabel('Дата')\n",
    "plt.ylabel('Кумулятивная выручка')\n",
    "\n",
    "\n",
    "plt.legend()\n",
    "plt.show()\n"
   ]
  },
  {
   "cell_type": "markdown",
   "metadata": {},
   "source": [
    "<div class=\"alert alert-block alert-danger\">\n",
    "<h2> Комментарий ревьюера <a class=\"tocSkip\"></h2>\n",
    "\n",
    "    \n",
    "<b>На доработку❌:</b>\n",
    "\n",
    "Есть несколько рекомендаций по улучшению твоих визуализаций:\n",
    "1. Стоит подписать названия осей X и Y.\n",
    "2. Также стоит дать название графику.\n",
    "3. Технические комментарии типа `<AxesSubplot:xlabel='datetime'>` или `(18109.0, 18140.0, 0.0, 0.1)` стоит убирать - это можно сделать, поставив точку с запятой в последней строке кода в блоке визуализации, либо сделать последней строкой кода этого блока метод `plt.show()`.\n",
    "4. Стоит оптимизировать график по размеру: не стоит делать графики слишком маленькими, но и перебарщивать с размером, чтобы график в ячейке приходилось скроллить, тоже не стоит. Дефолтный размер графика почти всегда не самый оптимальный, поэтому его стоит оптимизировать всегда:)\n",
    "        \n",
    "Несколько таких нехитрых приёмов очень повысят ценность твоей визуализации:)\n",
    "        \n",
    "Будет здорово, если ты учтёшь эти комментарии для всех графиков в твоей работе.\n",
    "</div>\n",
    "    \n",
    "   "
   ]
  },
  {
   "cell_type": "markdown",
   "metadata": {},
   "source": [
    "<div class=\"alert alert-success\">\n",
    "<h2> Комментарий ревьюера v.2 <a class=\"tocSkip\"> </h2>\n",
    "\n",
    "<b>Все отлично!👍:</b> Учтено."
   ]
  },
  {
   "cell_type": "markdown",
   "metadata": {},
   "source": [
    "Кумулятивная выручка в группе В больше чем в группе А"
   ]
  },
  {
   "cell_type": "markdown",
   "metadata": {},
   "source": [
    "2 Постройте график кумулятивного среднего чека по группам. Сделайте выводы и предположения."
   ]
  },
  {
   "cell_type": "code",
   "execution_count": 14,
   "metadata": {},
   "outputs": [
    {
     "data": {
      "image/png": "[encoded data removed]",
      "text/plain": [
       "<Figure size 1080x360 with 1 Axes>"
      ]
     },
     "metadata": {
      "needs_background": "light"
     },
     "output_type": "display_data"
    }
   ],
   "source": [
    "plt.figure(figsize=(15,5))\n",
    "plt.plot(cumulativeRevenueA['date'], cumulativeRevenueA['revenue']/cumulativeRevenueA['orders'], label='A')\n",
    "plt.plot(cumulativeRevenueB['date'], cumulativeRevenueB['revenue']/cumulativeRevenueB['orders'], label='B')\n",
    "plt.title('График кумулятивного среднего чека по группам')\n",
    "plt.xlabel('Дата')\n",
    "plt.ylabel('Средний чек')\n",
    "plt.legend()\n",
    "plt.show()\n",
    "\n"
   ]
  },
  {
   "cell_type": "markdown",
   "metadata": {},
   "source": [
    "Средний чек в группе В тоже больше чем в группе А"
   ]
  },
  {
   "cell_type": "markdown",
   "metadata": {},
   "source": [
    "3. Постройте график относительного изменения кумулятивного среднего чека группы B к группе A. Сделайте выводы и предположения."
   ]
  },
  {
   "cell_type": "code",
   "execution_count": 15,
   "metadata": {},
   "outputs": [
    {
     "data": {
      "image/png": "[encoded data removed]",
      "text/plain": [
       "<Figure size 1080x360 with 1 Axes>"
      ]
     },
     "metadata": {
      "needs_background": "light"
     },
     "output_type": "display_data"
    }
   ],
   "source": [
    "# собираем данные в одном датафрейме\n",
    "mergedCumulativeRevenue = cumulativeRevenueA.merge(cumulativeRevenueB, left_on='date', right_on='date', how='left', suffixes=['A', 'B'])\n",
    "plt.figure(figsize=(15,5))\n",
    "# cтроим отношение средних чеков\n",
    "plt.plot(mergedCumulativeRevenue['date'], (mergedCumulativeRevenue['revenueB']/mergedCumulativeRevenue['ordersB'])/(mergedCumulativeRevenue['revenueA']/mergedCumulativeRevenue['ordersA'])-1)\n",
    "\n",
    "# добавляем ось X\n",
    "plt.axhline(y=0, color='black', linestyle='--')\n",
    "\n",
    "plt.title('График относительного изменения кумулятивного среднего чека')\n",
    "plt.xlabel('Дата')\n",
    "plt.ylabel('Кумулитивный средний чек')\n",
    "plt.show()\n"
   ]
  },
  {
   "cell_type": "markdown",
   "metadata": {},
   "source": [
    "График неоднороден. Есть резкие измененения. Возможно дело в аномальных заказах"
   ]
  },
  {
   "cell_type": "markdown",
   "metadata": {},
   "source": [
    "4. Постройте график кумулятивного среднего количества заказов на посетителя по группам. Сделайте выводы и предположения."
   ]
  },
  {
   "cell_type": "code",
   "execution_count": 16,
   "metadata": {},
   "outputs": [
    {
     "data": {
      "image/png": "[encoded data removed]",
      "text/plain": [
       "<Figure size 1080x360 with 1 Axes>"
      ]
     },
     "metadata": {
      "needs_background": "light"
     },
     "output_type": "display_data"
    }
   ],
   "source": [
    "# считаем кумулятивную конверсию\n",
    "cumulativeData['conversion'] = cumulativeData['orders']/cumulativeData['visitors']\n",
    "\n",
    "# отделяем данные по группе A\n",
    "cumulativeDataA = cumulativeData[cumulativeData['group']=='A']\n",
    "\n",
    "# отделяем данные по группе B\n",
    "cumulativeDataB = cumulativeData[cumulativeData['group']=='B']\n",
    "plt.figure(figsize=(15,5))\n",
    "# строим графики\n",
    "plt.plot(cumulativeDataA['date'], cumulativeDataA['conversion'], label='A')\n",
    "plt.plot(cumulativeDataB['date'], cumulativeDataB['conversion'], label='B')\n",
    "plt.legend()\n",
    "\n",
    "# задаем масштаб осей\n",
    "plt.axis([dt.datetime(2019, 8, 1), dt.datetime(2019, 8, 31), 0, 0.05])\n",
    "plt.ylim(0.024, 0.036)\n",
    "plt.title('График кумулятивного среднего количества заказов на посетителя по группам')\n",
    "plt.xlabel('Дата')\n",
    "plt.ylabel('Среднее количества заказов на посетителя')\n",
    "plt.show()\n"
   ]
  },
  {
   "cell_type": "markdown",
   "metadata": {},
   "source": [
    "Группа В опять лидирует, хотя группа А начинала более успешно"
   ]
  },
  {
   "cell_type": "markdown",
   "metadata": {},
   "source": [
    "<div class=\"alert alert-block alert-danger\">\n",
    "<h2> Комментарий ревьюера <a class=\"tocSkip\"></h2>\n",
    "\n",
    "    \n",
    "<b>На доработку❌:</b>\n",
    "\n",
    "Этот график стоит центрировать - для этого стоит задать минимальное и максимальное значение по шкале Y в соответствии с минимальным и максимальным значением конверсии (с небольшими отступами с обоих сторон, чтобы линия не касалась границ графика в точках минимума и максимума). Это позволит более явно видеть динамику конверсии. Для изменения минимального и максимального значения по оси Y можно использовать метод `ylim()`."
   ]
  },
  {
   "cell_type": "markdown",
   "metadata": {},
   "source": [
    "<div class=\"alert alert-success\">\n",
    "<h2> Комментарий ревьюера v.2 <a class=\"tocSkip\"> </h2>\n",
    "\n",
    "<b>Все отлично!👍:</b> Учтено."
   ]
  },
  {
   "cell_type": "markdown",
   "metadata": {},
   "source": [
    "5 Постройте график относительного изменения кумулятивного среднего количества заказов на посетителя группы B к группе A. Сделайте выводы и предположения."
   ]
  },
  {
   "cell_type": "code",
   "execution_count": 17,
   "metadata": {},
   "outputs": [
    {
     "data": {
      "image/png": "[encoded data removed]",
      "text/plain": [
       "<Figure size 1080x360 with 1 Axes>"
      ]
     },
     "metadata": {
      "needs_background": "light"
     },
     "output_type": "display_data"
    }
   ],
   "source": [
    "# Объедините таблицы cumulativeDataA и cumulativeDataB методом merge() так, чтобы она содержала столбцы: ['date', 'conversionA', 'conversionB']. Сохраните в переменной mergedCumulativeConversions. \n",
    "mergedCumulativeConversions = cumulativeDataA[['date','conversion']].merge(cumulativeDataB[['date','conversion']], left_on='date', right_on='date', how='left', suffixes=['A', 'B'])\n",
    "plt.figure(figsize=(15,5))\n",
    "#Постройте график относительного различия кумулятивной конверсии группы B к группе A.\n",
    "plt.plot(mergedCumulativeConversions['date'], mergedCumulativeConversions['conversionB']/mergedCumulativeConversions['conversionA']-1, label=\"Относительный прирост кумулятивного среднего количества заказов на посетителя группы B к группе A\")\n",
    "plt.legend()\n",
    "\n",
    "#Добавьте пунктирную линию оси X чёрного цвета ('black') со значением оси Y = 0 методом plt.axhline(). И ещё одну линию оси X серого цвета ('grey') со значением оси Y = 0.2. \n",
    "plt.axhline(y=0, color='black', linestyle='--')\n",
    "plt.axhline(y=0.2, color='grey', linestyle='--')\n",
    "plt.axis([dt.datetime(2019, 8, 1), dt.datetime(2019, 8, 31), -0.5, 0.5])\n",
    "\n",
    "plt.title('График относительного изменения кумулятивного среднего количества заказов на посетителя')\n",
    "plt.xlabel('Дата')\n",
    "plt.ylabel('Среднее количества заказов на посетителя')\n",
    "plt.show()"
   ]
  },
  {
   "cell_type": "markdown",
   "metadata": {},
   "source": [
    "Группа В явно лидирует по среднему количеству заказов на посетителя. В середине периода максимальный подъем (порядка 20%) а потом небольшой спад. "
   ]
  },
  {
   "cell_type": "markdown",
   "metadata": {},
   "source": [
    "<div class=\"alert alert-block alert-danger\">\n",
    "<h2> Комментарий ревьюера <a class=\"tocSkip\"></h2>\n",
    "\n",
    "    \n",
    "<b>На доработку❌:</b>\n",
    "\n",
    "Тут в целом верно, но в выводе и легенде ты пишешь про конверсию, а анализируешь среднее количество покупок на посетителя - стоит скорректировать."
   ]
  },
  {
   "cell_type": "markdown",
   "metadata": {},
   "source": [
    "<div class=\"alert alert-block alert-danger\">\n",
    "<h2> Комментарий ревьюера v.2 <a class=\"tocSkip\"></h2>\n",
    "\n",
    "    \n",
    "<b>На доработку❌:</b>\n",
    "\n",
    "В легенде всё ещё подпись про конверсию."
   ]
  },
  {
   "cell_type": "markdown",
   "metadata": {},
   "source": [
    "<div class=\"alert alert-success\">\n",
    "<h2> Комментарий ревьюера v.3 <a class=\"tocSkip\"> </h2>\n",
    "\n",
    "<b>Все отлично!👍:</b> Учтено."
   ]
  },
  {
   "cell_type": "markdown",
   "metadata": {},
   "source": [
    "6 Постройте точечный график количества заказов по пользователям. Сделайте выводы и предположения."
   ]
  },
  {
   "cell_type": "code",
   "execution_count": 18,
   "metadata": {},
   "outputs": [
    {
     "data": {
      "image/png": "[encoded data removed]",
      "text/plain": [
       "<Figure size 1080x360 with 1 Axes>"
      ]
     },
     "metadata": {
      "needs_background": "light"
     },
     "output_type": "display_data"
    }
   ],
   "source": [
    "#Найдем число заказов по пользователем\n",
    "ordersByUsers = (\n",
    "    orders.groupby('visitorId', as_index=False)\n",
    "    .agg({'transactionId': 'nunique'}))\n",
    "ordersByUsers.columns = ['visitorId', 'orders']\n",
    "plt.figure(figsize=(15,5))\n",
    "#Построим точечный график количества заказов по пользователям\n",
    "x_values = pd.Series(range(0, len(ordersByUsers)))\n",
    "plt.scatter(x_values, ordersByUsers['orders'])\n",
    "\n",
    "plt.title('График количества заказов по пользователям')\n",
    "plt.xlabel('Дата')\n",
    "plt.ylabel('Количества заказов')\n",
    "plt.show()\n"
   ]
  },
  {
   "cell_type": "markdown",
   "metadata": {},
   "source": [
    "<div class=\"alert alert-block alert-danger\">\n",
    "<h2> Комментарий ревьюера v.2 <a class=\"tocSkip\"></h2>\n",
    "\n",
    "    \n",
    "<b>На доработку❌:</b>\n",
    "\n",
    "График не оформлен."
   ]
  },
  {
   "cell_type": "markdown",
   "metadata": {},
   "source": [
    "Пользователей, заказавших более 2 раз довольно мало. Возможно это аномалии\n"
   ]
  },
  {
   "cell_type": "markdown",
   "metadata": {},
   "source": [
    "<div class=\"alert alert-success\">\n",
    "<h2> Комментарий ревьюера <a class=\"tocSkip\"> </h2>\n",
    "\n",
    "<b>Все отлично!👍:</b> Проанализировали распределение количества покупок на пользователя и нашли аномальных покупателей - отлично!"
   ]
  },
  {
   "cell_type": "markdown",
   "metadata": {},
   "source": [
    "7. Посчитайте 95-й и 99-й перцентили количества заказов на пользователя. Выберите границу для определения аномальных пользователей."
   ]
  },
  {
   "cell_type": "code",
   "execution_count": 19,
   "metadata": {},
   "outputs": [
    {
     "name": "stdout",
     "output_type": "stream",
     "text": [
      "[1. 2.]\n"
     ]
    }
   ],
   "source": [
    "print(np.percentile(ordersByUsers['orders'], [95, 99]))"
   ]
  },
  {
   "cell_type": "markdown",
   "metadata": {},
   "source": [
    "Не более 5 процентов пользователей совершали больше 2 заказов, И не более 1 процента пользователей 4 заказа и более"
   ]
  },
  {
   "cell_type": "markdown",
   "metadata": {},
   "source": [
    "<div class=\"alert alert-success\">\n",
    "<h2> Комментарий ревьюера <a class=\"tocSkip\"> </h2>\n",
    "\n",
    "<b>Все отлично!👍:</b> Персентили посчитаны верно."
   ]
  },
  {
   "cell_type": "markdown",
   "metadata": {},
   "source": [
    "8. Постройте точечный график стоимостей заказов. Сделайте выводы и предположения."
   ]
  },
  {
   "cell_type": "code",
   "execution_count": 20,
   "metadata": {},
   "outputs": [
    {
     "data": {
      "image/png": "[encoded data removed]",
      "text/plain": [
       "<Figure size 1080x360 with 1 Axes>"
      ]
     },
     "metadata": {
      "needs_background": "light"
     },
     "output_type": "display_data"
    }
   ],
   "source": [
    "x_values = pd.Series(range(0, len(orders['revenue'])))\n",
    "plt.figure(figsize=(15,5))\n",
    "plt.scatter(x_values, orders['revenue'])\n",
    "\n",
    "plt.title('График стоимостей заказов')\n",
    "plt.xlabel('Дата')\n",
    "plt.ylabel('Стоимость заказов')\n",
    "plt.show()"
   ]
  },
  {
   "cell_type": "markdown",
   "metadata": {},
   "source": [
    "<div class=\"alert alert-block alert-danger\">\n",
    "<h2> Комментарий ревьюера v.2 <a class=\"tocSkip\"></h2>\n",
    "\n",
    "    \n",
    "<b>На доработку❌:</b>\n",
    "\n",
    "График не оформлен."
   ]
  },
  {
   "cell_type": "markdown",
   "metadata": {},
   "source": [
    "<div class=\"alert alert-success\">\n",
    "<h2> Комментарий ревьюера v.3 <a class=\"tocSkip\"> </h2>\n",
    "\n",
    "<b>Все отлично!👍:</b> Учтено."
   ]
  },
  {
   "cell_type": "markdown",
   "metadata": {},
   "source": [
    "Четко видны 2 выброса по стоимости. Возможно это аномалии"
   ]
  },
  {
   "cell_type": "markdown",
   "metadata": {},
   "source": [
    "<div class=\"alert alert-success\">\n",
    "<h2> Комментарий ревьюера <a class=\"tocSkip\"> </h2>\n",
    "\n",
    "<b>Все отлично!👍:</b> Проанализировали распределение стоимости заказов и нашли аномально дорогие заказы - отлично!"
   ]
  },
  {
   "cell_type": "markdown",
   "metadata": {},
   "source": [
    "<div class=\"alert alert-warning\">\n",
    "    <h2> Комментарий ревьюера <a class=\"tocSkip\"> </h2>\n",
    "    \n",
    "<b>Некоторые замечания и рекомендации⚠️:</b> \n",
    "\n",
    "Как видишь, на фоне двух достаточно крупных заказов остальные, менее аномальные заказы, сбились в одну кучу на оси Х. Было бы полезно сделать такой же график, но без двух крупных покупок, чтобы исследовать распределение менее аномальных покупок.\n",
    "        \n",
    "</div>"
   ]
  },
  {
   "cell_type": "markdown",
   "metadata": {},
   "source": [
    "<div class=\"alert alert-warning\">\n",
    "    <h2> Комментарий ревьюера v.2 <a class=\"tocSkip\"> </h2>\n",
    "    \n",
    "<b>Некоторые замечания и рекомендации⚠️:</b> \n",
    "\n",
    "Не учтено."
   ]
  },
  {
   "cell_type": "markdown",
   "metadata": {},
   "source": [
    "9. Посчитайте 95-й и 99-й перцентили стоимости заказов. Выберите границу для определения аномальных заказов."
   ]
  },
  {
   "cell_type": "code",
   "execution_count": 21,
   "metadata": {},
   "outputs": [
    {
     "name": "stdout",
     "output_type": "stream",
     "text": [
      "[26785. 53904.]\n"
     ]
    }
   ],
   "source": [
    "print(np.percentile(orders['revenue'], [95, 99]))"
   ]
  },
  {
   "cell_type": "markdown",
   "metadata": {},
   "source": [
    "Не более чем 5 процентов заказов дороже 28000 рублей, и не более 1 процента заказов дороже 58233 рублей"
   ]
  },
  {
   "cell_type": "markdown",
   "metadata": {},
   "source": [
    "<div class=\"alert alert-success\">\n",
    "<h2> Комментарий ревьюера <a class=\"tocSkip\"> </h2>\n",
    "\n",
    "<b>Все отлично!👍:</b> Персентили посчитаны верно."
   ]
  },
  {
   "cell_type": "markdown",
   "metadata": {},
   "source": [
    "10. Посчитайте статистическую значимость различий в среднем количестве заказов на посетителя между группами по «сырым» данным. Сделайте выводы и предположения."
   ]
  },
  {
   "cell_type": "code",
   "execution_count": 22,
   "metadata": {},
   "outputs": [],
   "source": [
    "visitorsADaily = visitors[visitors['group'] == 'A'][['date', 'visitors']]\n",
    "visitorsADaily.columns = ['date', 'visitorsPerDateA']\n",
    "\n",
    "visitorsACummulative = visitorsADaily.apply(\n",
    "    lambda x: visitorsADaily[visitorsADaily['date'] <= x['date']].agg(\n",
    "        {'date': 'max', 'visitorsPerDateA': 'sum'}\n",
    "    ),\n",
    "    axis=1,\n",
    ")\n",
    "visitorsACummulative.columns = ['date', 'visitorsCummulativeA']\n",
    "\n",
    "visitorsBDaily = visitors[visitors['group'] == 'B'][['date', 'visitors']]\n",
    "visitorsBDaily.columns = ['date', 'visitorsPerDateB']\n",
    "\n",
    "visitorsBCummulative = visitorsBDaily.apply(\n",
    "    lambda x: visitorsBDaily[visitorsBDaily['date'] <= x['date']].agg(\n",
    "        {'date': 'max', 'visitorsPerDateB': 'sum'}\n",
    "    ),\n",
    "    axis=1,\n",
    ")\n",
    "visitorsBCummulative.columns = ['date', 'visitorsCummulativeB']\n",
    "\n",
    "ordersADaily = (\n",
    "    orders[orders['group'] == 'A'][['date', 'transactionId', 'visitorId', 'revenue']]\n",
    "    .groupby('date', as_index=False)\n",
    "    .agg({'visitorId': pd.Series.nunique, 'revenue': 'sum'})\n",
    ")\n",
    "ordersADaily.columns = ['date', 'ordersPerDateA', 'revenuePerDateA']\n",
    "\n",
    "ordersACummulative = ordersADaily.apply(\n",
    "    lambda x: ordersADaily[ordersADaily['date'] <= x['date']].agg(\n",
    "        {'date': 'max', 'ordersPerDateA': 'sum', 'revenuePerDateA': 'sum'}\n",
    "    ),\n",
    "    axis=1,\n",
    ").sort_values(by=['date'])\n",
    "ordersACummulative.columns = [\n",
    "    'date',\n",
    "    'ordersCummulativeA',\n",
    "    'revenueCummulativeA',\n",
    "]\n",
    "\n",
    "ordersBDaily = (\n",
    "    orders[orders['group'] == 'B'][['date', 'transactionId', 'visitorId', 'revenue']]\n",
    "    .groupby('date', as_index=False)\n",
    "    .agg({'transactionId': pd.Series.nunique, 'revenue': 'sum'})\n",
    ")\n",
    "ordersBDaily.columns = ['date', 'ordersPerDateB', 'revenuePerDateB']\n",
    "\n",
    "ordersBCummulative = ordersBDaily.apply(\n",
    "    lambda x: ordersBDaily[ordersBDaily['date'] <= x['date']].agg(\n",
    "        {'date': 'max', 'ordersPerDateB': 'sum', 'revenuePerDateB': 'sum'}\n",
    "    ),\n",
    "    axis=1,\n",
    ").sort_values(by=['date'])\n",
    "ordersBCummulative.columns = [\n",
    "    'date',\n",
    "    'ordersCummulativeB',\n",
    "    'revenueCummulativeB',\n",
    "]\n",
    "\n",
    "data = (\n",
    "    ordersADaily.merge(\n",
    "        ordersBDaily, left_on='date', right_on='date', how='left'\n",
    "    )\n",
    "    .merge(ordersACummulative, left_on='date', right_on='date', how='left')\n",
    "    .merge(ordersBCummulative, left_on='date', right_on='date', how='left')\n",
    "    .merge(visitorsADaily, left_on='date', right_on='date', how='left')\n",
    "    .merge(visitorsBDaily, left_on='date', right_on='date', how='left')\n",
    "    .merge(visitorsACummulative, left_on='date', right_on='date', how='left')\n",
    "    .merge(visitorsBCummulative, left_on='date', right_on='date', how='left')\n",
    ")"
   ]
  },
  {
   "cell_type": "markdown",
   "metadata": {},
   "source": [
    "<div class=\"alert alert-warning\">\n",
    "    <h2> Комментарий ревьюера <a class=\"tocSkip\"> </h2>\n",
    "    \n",
    "<b>Некоторые замечания и рекомендации⚠️:</b> \n",
    "\n",
    "Здесь заново собираются кумулятивные данные: из переменной `data` далее в расчётах мы берём только количество посетителей в зависимости от группы - эти данные у нас уже есть в переменной `visitors`. Нет большого смысла писать полотно кода и тратить ресурсы на его выполнение, если эти данные есть в исходной таблице - давай попробуем использовать исходные данные?\n",
    "        \n",
    "</div>"
   ]
  },
  {
   "cell_type": "markdown",
   "metadata": {},
   "source": [
    "<div class=\"alert alert-warning\">\n",
    "    <h2> Комментарий ревьюера v.2 <a class=\"tocSkip\"> </h2>\n",
    "    \n",
    "<b>Некоторые замечания и рекомендации⚠️:</b> \n",
    "\n",
    "Не учтено."
   ]
  },
  {
   "cell_type": "markdown",
   "metadata": {},
   "source": [
    "<div class=\"alert alert-block alert-danger\">\n",
    "<h2> Комментарий ревьюера <a class=\"tocSkip\"></h2>\n",
    "\n",
    "    \n",
    "<b>На доработку❌:</b>\n",
    "Перед проведением А/В тестов обязательно стоит:\n",
    "- сформулировать гипотезы - нулевую и альтернативную;\n",
    "- указать, с помощью какого статистического критерия мы будем осуществлять их проверку, а также обосновать его выбор - это связано с наличием в данных каких-то особенностей и характера их распределения (про это упоминалось в тренажёре).\n",
    "    \n",
    "Так как мы проверяем две разные величины на сырых и очищенных данных, гипотезы стоит формулировать перед каждым сравнением, указывая, что и на каких данных сравниваем.\n",
    "    \n",
    "Статистический критерий можно указать один раз.\n",
    "    \n",
    "</div>"
   ]
  },
  {
   "cell_type": "markdown",
   "metadata": {},
   "source": [
    "<div class=\"alert alert-block alert-danger\">\n",
    "<h2> Комментарий ревьюера v.2 <a class=\"tocSkip\"></h2>\n",
    "\n",
    "    \n",
    "<b>На доработку❌:</b>\n",
    "\n",
    "В тексте гипотез нужно пояснить, что мы проверяем и на каких данных."
   ]
  },
  {
   "cell_type": "markdown",
   "metadata": {},
   "source": [
    "<div class=\"alert alert-block alert-danger\">\n",
    "<h2> Комментарий ревьюера v.3 <a class=\"tocSkip\"></h2>\n",
    "\n",
    "    \n",
    "<b>На доработку❌:</b>\n",
    "\n",
    "Гипотезы всё ещё сформулированы в общем виде - стоит внести в них уточнения, что именно и на каких данных мы их проверяем:\n",
    "- ищем различия в среднем количестве заказов или в среднем чеке;\n",
    "- ищем различия на сырых или очищенных данных."
   ]
  },
  {
   "cell_type": "markdown",
   "metadata": {},
   "source": [
    "<div class=\"alert alert-success\">\n",
    "<h2> Комментарий ревьюера v.4 <a class=\"tocSkip\"> </h2>\n",
    "\n",
    "<b>Все отлично!👍:</b> Учтено."
   ]
  },
  {
   "cell_type": "markdown",
   "metadata": {},
   "source": [
    "- За нулевую гипотезу возьмём что: \"статистической значимости различий в среднем количестве заказов на посетителя между группами по «сырым» данным нет\"; тогда альтернативная гипотеза будет гласить - статистически значимые различия есть. \n",
    "- Применим статистический критерий Манна-Уитни к полученным выборкам\n",
    "\n",
    "Считаем  статистическую значимость различий в среднем количестве заказов на посетителя между группами по «сырым» данным"
   ]
  },
  {
   "cell_type": "code",
   "execution_count": 23,
   "metadata": {},
   "outputs": [
    {
     "name": "stdout",
     "output_type": "stream",
     "text": [
      "p-value = 0.01102\n",
      "Относительный показатель 'B' и 'A'= 0.15980\n"
     ]
    }
   ],
   "source": [
    "#Создадим переменные ordersByUsersA и ordersByUsersB со столбцами ['visitorId', 'orders']. В них для пользователей, которые заказывали хотя бы 1 раз, укажем число совершённых заказов. \n",
    "ordersByUsersA = (\n",
    "    orders[orders['group'] == 'A']\n",
    "    .groupby('visitorId', as_index=False)\n",
    "    .agg({'transactionId': pd.Series.nunique})\n",
    ")\n",
    "ordersByUsersA.columns = ['visitorId', 'orders']\n",
    "\n",
    "ordersByUsersB = (\n",
    "    orders[orders['group'] == 'B']\n",
    "    .groupby('visitorId', as_index=False)\n",
    "    .agg({'transactionId': pd.Series.nunique})\n",
    ")\n",
    "ordersByUsersB.columns = ['visitorId', 'orders'] \n",
    "\n",
    "#Объявите переменные sampleA и sampleB, в которых пользователям с заказами будет соответствовать число заказов пользователя. А пользователям без заказов — нули. \n",
    "sampleA = pd.concat([ordersByUsersA['orders'],pd.Series(0, index=np.arange(data['visitorsPerDateA'].sum() - len(ordersByUsersA['orders'])), name='orders')],axis=0)\n",
    "sampleB = pd.concat([ordersByUsersB['orders'],pd.Series(0, index=np.arange(data['visitorsPerDateB'].sum() - len(ordersByUsersB['orders'])), name='orders')],axis=0)\n",
    "\n",
    "#Посчитайте статистическую значимость различия среднего количества заказов по результатам двух недель теста. Примените тест Манна-Уитни. \n",
    "ordersByUsersA = (\n",
    "    orders[orders['group'] == 'A']\n",
    "    .groupby('visitorId', as_index=False)\n",
    "    .agg({'transactionId': pd.Series.nunique})\n",
    ")\n",
    "ordersByUsersA.columns = ['userId', 'orders']\n",
    "ordersByUsersB = (\n",
    "    orders[orders['group'] == 'B']\n",
    "    .groupby('visitorId', as_index=False)\n",
    "    .agg({'transactionId': pd.Series.nunique})\n",
    ")\n",
    "ordersByUsersB.columns = ['visitorId', 'orders']\n",
    "\n",
    "sampleA = pd.concat(\n",
    "    [\n",
    "        ordersByUsersA['orders'],\n",
    "        pd.Series(\n",
    "            0,\n",
    "            index=np.arange(\n",
    "                data['visitorsPerDateA'].sum() - len(ordersByUsersA['orders'])\n",
    "            ),\n",
    "            name='orders',\n",
    "        ),\n",
    "    ],\n",
    "    axis=0,\n",
    ")\n",
    "\n",
    "sampleB = pd.concat(\n",
    "    [\n",
    "        ordersByUsersB['orders'],\n",
    "        pd.Series(\n",
    "            0,\n",
    "            index=np.arange(\n",
    "                data['visitorsPerDateB'].sum() - len(ordersByUsersB['orders'])\n",
    "            ),\n",
    "            name='orders',\n",
    "        ),\n",
    "    ],\n",
    "    axis=0,\n",
    ")\n",
    "#Выведите p-value для сравнения среднего между группами. Округлите p-value до 5 знаков после запятой. \n",
    "print(\"p-value = {0:.5f}\".format(stats.mannwhitneyu(sampleA, sampleB)[1]))\n",
    "print(\"Относительный показатель 'B' и 'A'= {0:.5f}\".format(sampleB.mean() / sampleA.mean() - 1))"
   ]
  },
  {
   "cell_type": "markdown",
   "metadata": {},
   "source": [
    "Вывод: p-value = 0.01 меньше 0.05. Значит, нулевую гипотезу о том, что статистически значимых различий в среднем количестве заказов на посетителя между группами нет, - отвергаем\n",
    "Статистическая значимость достигнута. Сегмент В лучше сегмента А"
   ]
  },
  {
   "cell_type": "markdown",
   "metadata": {},
   "source": [
    "<div class=\"alert alert-success\">\n",
    "<h2> Комментарий ревьюера <a class=\"tocSkip\"> </h2>\n",
    "\n",
    "<b>Все отлично!👍:</b> Оценили значимость различий среднего количества заказов на посетителя между группами на сырых данных - отлично!"
   ]
  },
  {
   "cell_type": "markdown",
   "metadata": {},
   "source": [
    "<div class=\"alert alert-block alert-danger\">\n",
    "<h2> Комментарий ревьюера <a class=\"tocSkip\"></h2>\n",
    "\n",
    "    \n",
    "<b>На доработку❌:</b>\n",
    "\n",
    "В выводе кода стоит явно подписать, какое из двух значений - `p-value`, а какое - относительная разница между сравниваемыми величинами. Замечание актуально для этой и следующих проверок."
   ]
  },
  {
   "cell_type": "markdown",
   "metadata": {},
   "source": [
    "<div class=\"alert alert-success\">\n",
    "<h2> Комментарий ревьюера v.2 <a class=\"tocSkip\"> </h2>\n",
    "\n",
    "<b>Все отлично!👍:</b> Учтено."
   ]
  },
  {
   "cell_type": "markdown",
   "metadata": {},
   "source": [
    "11 Посчитайте статистическую значимость различий в среднем чеке заказа между группами по «сырым» данным. Сделайте выводы и предположения.\n",
    "\n",
    "За нулевую гипотезу возьмём что: \"статистически значимых различий в среднем чеке между группами нет\"; тогда альтернативная гипотеза будет гласить - статистически значимые различия есть."
   ]
  },
  {
   "cell_type": "code",
   "execution_count": 24,
   "metadata": {},
   "outputs": [
    {
     "name": "stdout",
     "output_type": "stream",
     "text": [
      "p-value = 0.829\n",
      "Относительный показатель 'B' и 'A' = 0.287\n"
     ]
    }
   ],
   "source": [
    "ordersByUsersA = (\n",
    "    orders[orders['group'] == 'A']\n",
    "    .groupby('visitorId', as_index=False)\n",
    "    .agg({'transactionId': pd.Series.nunique})\n",
    ")\n",
    "ordersByUsersA.columns = ['userId', 'orders']\n",
    "\n",
    "ordersByUsersB = (\n",
    "    orders[orders['group'] == 'B']\n",
    "    .groupby('visitorId', as_index=False)\n",
    "    .agg({'transactionId': pd.Series.nunique})\n",
    ")\n",
    "ordersByUsersB.columns = ['userId', 'orders']\n",
    "\n",
    "sampleA = pd.concat(\n",
    "    [\n",
    "        ordersByUsersA['orders'],\n",
    "        pd.Series(\n",
    "            0,\n",
    "            index=np.arange(\n",
    "                data['visitorsPerDateA'].sum() - len(ordersByUsersA['orders'])\n",
    "            ),\n",
    "            name='orders',\n",
    "        ),\n",
    "    ],\n",
    "    axis=0,\n",
    ")\n",
    "\n",
    "sampleB = pd.concat(\n",
    "    [\n",
    "        ordersByUsersB['orders'],\n",
    "        pd.Series(\n",
    "            0,\n",
    "            index=np.arange(\n",
    "                data['visitorsPerDateB'].sum() - len(ordersByUsersB['orders'])\n",
    "            ),\n",
    "            name='orders',\n",
    "        ),\n",
    "    ],\n",
    "    axis=0,\n",
    ")\n",
    "#Выведите p-value для сравнения средних чеков между группами. Округлите p-value до трёх знаков после запятой.\n",
    "#Выведите относительный прирост среднего чека группы B, округлив до трёх знаков после запятой.\n",
    "print(\"p-value = {0:.3f}\".format(stats.mannwhitneyu(orders[orders['group']=='A']['revenue'], orders[orders['group']=='B']['revenue'])[1]))\n",
    "print(\"Относительный показатель 'B' и 'A' = {0:.3f}\".format(orders[orders['group']=='B']['revenue'].mean()/orders[orders['group']=='A']['revenue'].mean()-1))\n"
   ]
  },
  {
   "cell_type": "markdown",
   "metadata": {},
   "source": [
    "P-value значительно больше 0.05. Значит, причин отвергать нулевую гипотезу и считать, что в среднем чеке есть различия, нет И при этом, средний чек группы B значительно выше среднего чека группы A на 28.7%!"
   ]
  },
  {
   "cell_type": "markdown",
   "metadata": {},
   "source": [
    "<div class=\"alert alert-success\">\n",
    "<h2> Комментарий ревьюера <a class=\"tocSkip\"> </h2>\n",
    "\n",
    "<b>Все отлично!👍:</b> Оценили значимость различий среднего чека между группами на сырых данных - отлично!"
   ]
  },
  {
   "cell_type": "markdown",
   "metadata": {},
   "source": [
    "<div class=\"alert alert-block alert-danger\">\n",
    "<h2> Комментарий ревьюера <a class=\"tocSkip\"></h2>\n",
    "\n",
    "    \n",
    "<b>На доработку❌:</b>\n",
    "\n",
    "В этом случае `p-value` больше уровня значимости - мы должны отклонить нулевую гипотезу. Вывод нужно скорректировать."
   ]
  },
  {
   "cell_type": "markdown",
   "metadata": {},
   "source": [
    "<div class=\"alert alert-success\">\n",
    "<h2> Комментарий ревьюера v.2 <a class=\"tocSkip\"> </h2>\n",
    "\n",
    "<b>Все отлично!👍:</b> Учтено."
   ]
  },
  {
   "cell_type": "markdown",
   "metadata": {},
   "source": [
    "<div class=\"alert alert-success\">\n",
    "<h2> Комментарий ревьюера <a class=\"tocSkip\"> </h2>\n",
    "\n",
    "<b>Все отлично!👍:</b> Определили границы фильтрации аномалий - отлично!"
   ]
  },
  {
   "cell_type": "markdown",
   "metadata": {},
   "source": [
    "<div class=\"alert alert-warning\">\n",
    "    <h2> Комментарий ревьюера <a class=\"tocSkip\"> </h2>\n",
    "    \n",
    "<b>Некоторые замечания и рекомендации⚠️:</b> \n",
    "\n",
    "Здесь рекомендую в качестве границ аномалий брать именно расчётное значение персентиля, по двум причинам:\n",
    "- если берёшь что-то с отступом от персентиля, будет тяжелее отвечать на вопрос коллег, знакомых со статистикой, `По какому персентилю отфильтрованы аномалии` (скорее всего, для рандомного значения ты не определишь точный персентиль), а также могут быть сложности с дальнейшими статистическими расчётами, где вещи вроде степеней свободы и размера персентиля важно знать как входной параметр;\n",
    "- вопрос автоматизации - проще указать как значение `np.percentile(x)`, чем каждый раз писать переменную руками.\n",
    "        \n",
    "</div>"
   ]
  },
  {
   "cell_type": "markdown",
   "metadata": {},
   "source": [
    "<div class=\"alert alert-warning\">\n",
    "    <h2> Комментарий ревьюера v.2 <a class=\"tocSkip\"> </h2>\n",
    "    \n",
    "<b>Некоторые замечания и рекомендации⚠️:</b> \n",
    "\n",
    "Не учтено."
   ]
  },
  {
   "cell_type": "markdown",
   "metadata": {},
   "source": [
    "<div class=\"alert alert-block alert-danger\">\n",
    "<h2> Комментарий ревьюера <a class=\"tocSkip\"></h2>\n",
    "\n",
    "    \n",
    "<b>На доработку❌:</b>\n",
    "\n",
    "Комментарий о границах нужно оформить как Markdown-ячейку, а не комментарий к коду."
   ]
  },
  {
   "cell_type": "markdown",
   "metadata": {},
   "source": [
    "<div class=\"alert alert-success\">\n",
    "<h2> Комментарий ревьюера v.2 <a class=\"tocSkip\"> </h2>\n",
    "\n",
    "<b>Все отлично!👍:</b> Учтено."
   ]
  },
  {
   "cell_type": "markdown",
   "metadata": {},
   "source": [
    "Приступаем к подготовке очищенных от аномалий данных\n",
    "Примем за аномальных пользователей тех, кто совершил 3 заказа и более, или совершил заказ на сумму свыше 40 000 рублей"
   ]
  },
  {
   "cell_type": "code",
   "execution_count": 25,
   "metadata": {},
   "outputs": [
    {
     "name": "stdout",
     "output_type": "stream",
     "text": [
      "Всего нетипичных пользователей = 30\n",
      "Доля нетипичных пользователей = 0.030832476875642344\n"
     ]
    }
   ],
   "source": [
    "usersWithManyOrders = pd.concat(\n",
    "    [\n",
    "        ordersByUsersA[ordersByUsersA['orders'] > 2]['userId'],\n",
    "        ordersByUsersB[ordersByUsersB['orders'] > 2]['userId'],\n",
    "    ],\n",
    "    axis=0,\n",
    ")\n",
    "usersWithExpensiveOrders = orders[orders['revenue'] > 40000]['visitorId']\n",
    "abnormalUsers = (\n",
    "    pd.concat([usersWithManyOrders, usersWithExpensiveOrders], axis=0)\n",
    "    .drop_duplicates()\n",
    "    .sort_values()\n",
    ")\n",
    "abnormalUsers = pd.concat([usersWithManyOrders, usersWithExpensiveOrders], axis = 0).drop_duplicates().sort_values()\n",
    "print(\"Всего нетипичных пользователей =\" ,len(abnormalUsers))\n",
    "print (\"Доля нетипичных пользователей =\" ,len(abnormalUsers) / len(orders.groupby('visitorId')))"
   ]
  },
  {
   "cell_type": "markdown",
   "metadata": {},
   "source": [
    "Нетипичных пользователей около 3%"
   ]
  },
  {
   "cell_type": "markdown",
   "metadata": {},
   "source": [
    "<div class=\"alert alert-success\">\n",
    "<h2> Комментарий ревьюера <a class=\"tocSkip\"> </h2>\n",
    "\n",
    "<b>Все отлично!👍:</b> Отфильтровали аномалии - отлично!"
   ]
  },
  {
   "cell_type": "markdown",
   "metadata": {},
   "source": [
    "<div class=\"alert alert-warning\">\n",
    "    <h2> Комментарий ревьюера <a class=\"tocSkip\"> </h2>\n",
    "    \n",
    "<b>Некоторые замечания и рекомендации⚠️:</b>\n",
    "\n",
    "Значения границ для фильтрации заданы руками - такой подход делает твоё решение зависимым от внешних данных: при их изменении тебе придётся вносить изменения в код, чтобы текущее решение адекватно работало для других А/В тестов. Очень удобно использовать в качестве значения результат метода для расчёта персентилей.\n",
    "        \n",
    "Например вместо `orders > 2` лучше будет сделать `orders > np.percentile(x, 95)` - такой подход сделает решение более универсальным.\n",
    "        \n",
    "</div>"
   ]
  },
  {
   "cell_type": "markdown",
   "metadata": {},
   "source": [
    "<div class=\"alert alert-warning\">\n",
    "    <h2> Комментарий ревьюера v.2 <a class=\"tocSkip\"> </h2>\n",
    "    \n",
    "<b>Некоторые замечания и рекомендации⚠️:</b> \n",
    "\n",
    "Не учтено."
   ]
  },
  {
   "cell_type": "markdown",
   "metadata": {},
   "source": [
    "<div class=\"alert alert-block alert-danger\">\n",
    "<h2> Комментарий ревьюера <a class=\"tocSkip\"></h2>\n",
    "\n",
    "    \n",
    "<b>На доработку❌:</b>\n",
    "\n",
    "Тут очень важно в явном виде (с помощью кода) посчитать потери пользователей. При этом важно сделать это как в абсолютном, так и относительном выражениях: любой вид потерь из этих двух сам по себе недостаточно информативен, а вот вместе они уже помогут читателю составить полную картину о масштабе потерь.\n",
    "        \n",
    "</div>"
   ]
  },
  {
   "cell_type": "markdown",
   "metadata": {},
   "source": [
    "<div class=\"alert alert-block alert-danger\">\n",
    "<h2> Комментарий ревьюера v.2 <a class=\"tocSkip\"></h2>\n",
    "\n",
    "    \n",
    "<b>На доработку❌:</b>\n",
    "\n",
    "Нет оценки относительных потерь."
   ]
  },
  {
   "cell_type": "markdown",
   "metadata": {},
   "source": [
    "<div class=\"alert alert-success\">\n",
    "<h2> Комментарий ревьюера v.3 <a class=\"tocSkip\"> </h2>\n",
    "\n",
    "<b>Все отлично!👍:</b> Учтено."
   ]
  },
  {
   "cell_type": "markdown",
   "metadata": {},
   "source": [
    "12. Посчитайте статистическую значимость различий в среднем количестве заказов на посетителя между группами по «очищенным» данным. Сделайте выводы и предположения.\n",
    "\n",
    "За нулевую гипотезу возьмём что: \"статистически значимых различий в среднем количестве заказов на посетителя нет\"; тогда альтернативная гипотеза будет гласить - статистически значимые различия есть."
   ]
  },
  {
   "cell_type": "code",
   "execution_count": 26,
   "metadata": {},
   "outputs": [
    {
     "name": "stdout",
     "output_type": "stream",
     "text": [
      "p-value = 0.00442\n",
      "Относительный показатель 'B' и 'A' = 0.205\n"
     ]
    }
   ],
   "source": [
    "#Посчитаем статистическую значимость различий в среднем количестве заказов между группами теста по очищенным данным.\n",
    "sampleAFiltered = pd.concat(\n",
    "    [\n",
    "        ordersByUsersA[\n",
    "            np.logical_not(ordersByUsersA['userId'].isin(abnormalUsers))\n",
    "        ]['orders'],\n",
    "        pd.Series(\n",
    "            0,\n",
    "            index=np.arange(\n",
    "                data['visitorsPerDateA'].sum() - len(ordersByUsersA['orders'])\n",
    "            ),\n",
    "            name='orders',\n",
    "        ),\n",
    "    ],\n",
    "    axis=0,\n",
    ")\n",
    "\n",
    "sampleBFiltered = pd.concat(\n",
    "    [\n",
    "        ordersByUsersB[\n",
    "            np.logical_not(ordersByUsersB['userId'].isin(abnormalUsers))\n",
    "        ]['orders'],\n",
    "        pd.Series(\n",
    "            0,\n",
    "            index=np.arange(\n",
    "                data['visitorsPerDateB'].sum() - len(ordersByUsersB['orders'])\n",
    "            ),\n",
    "            name='orders',\n",
    "        ),\n",
    "    ],\n",
    "    axis=0,\n",
    ") \n",
    "#Применим статистический критерий Манна-Уитни к полученным выборкам:\n",
    "print(\"p-value = {0:.5f}\".format(stats.mannwhitneyu(sampleAFiltered, sampleBFiltered)[1]))\n",
    "print(\"Относительный показатель 'B' и 'A' = {0:.3f}\".format(sampleBFiltered.mean()/sampleAFiltered.mean()-1))"
   ]
  },
  {
   "cell_type": "markdown",
   "metadata": {},
   "source": [
    "Вывод: p-value = 0.0044 меньше 0.05. Значит, нулевую гипотезу о том, что статистически значимых различий в среднем количестве заказов на посетителя между группами нет, - отвергаем\n",
    "Статистическая значимость достигнута. Сегмент В лучше сегмента А"
   ]
  },
  {
   "cell_type": "markdown",
   "metadata": {},
   "source": [
    "<div class=\"alert alert-block alert-danger\">\n",
    "<h2> Комментарий ревьюера v.2 <a class=\"tocSkip\"></h2>\n",
    "\n",
    "    \n",
    "<b>На доработку❌:</b>\n",
    "\n",
    "Метрики не подписаны."
   ]
  },
  {
   "cell_type": "markdown",
   "metadata": {},
   "source": [
    "<div class=\"alert alert-success\">\n",
    "<h2> Комментарий ревьюера v.3 <a class=\"tocSkip\"> </h2>\n",
    "\n",
    "<b>Все отлично!👍:</b> Учтено."
   ]
  },
  {
   "cell_type": "markdown",
   "metadata": {},
   "source": [
    "<div class=\"alert alert-success\">\n",
    "<h2> Комментарий ревьюера <a class=\"tocSkip\"> </h2>\n",
    "\n",
    "<b>Все отлично!👍:</b> Оценили значимость различий среднего количества заказов на посетителя между группами на очищеных данных - отлично!"
   ]
  },
  {
   "cell_type": "markdown",
   "metadata": {},
   "source": [
    "13.Посчитайте статистическую значимость различий в среднем чеке заказа между группами по «очищенным» данным. Сделайте выводы и предположения.\n",
    "\n",
    "За нулевую гипотезу возьмём что: \"статистически значимых различий в средних чеках между группами нет\"; тогда альтернативная гипотеза будет гласить - статистически значимые различия есть."
   ]
  },
  {
   "cell_type": "code",
   "execution_count": 40,
   "metadata": {},
   "outputs": [
    {
     "name": "stdout",
     "output_type": "stream",
     "text": [
      "p-value = 0.93740\n",
      "Относительный показатель 'B' и 'A' = 0.055\n"
     ]
    }
   ],
   "source": [
    "print(\n",
    "    \"p-value = {0:.5f}\".format(\n",
    "        stats.mannwhitneyu(\n",
    "            orders[\n",
    "                np.logical_and(\n",
    "                    orders['group'] == 'A',\n",
    "                    np.logical_not(orders['visitorId'].isin(abnormalUsers)),\n",
    "                )\n",
    "            ]['revenue'],\n",
    "            orders[\n",
    "                np.logical_and(\n",
    "                    orders['group'] == 'B',\n",
    "                    np.logical_not(orders['visitorId'].isin(abnormalUsers)),\n",
    "                )\n",
    "            ]['revenue'],\n",
    "        )[1]\n",
    "    )\n",
    ")\n",
    "\n",
    "print(\n",
    "    \"Относительный показатель 'B' и 'A' = {0:.3f}\".format(\n",
    "        orders[\n",
    "            np.logical_and(\n",
    "                orders['group'] == 'B',\n",
    "                np.logical_not(orders['visitorId'].isin(abnormalUsers)),\n",
    "            )\n",
    "        ]['revenue'].mean()\n",
    "        / orders[\n",
    "            np.logical_and(\n",
    "                orders['group'] == 'A',\n",
    "                np.logical_not(orders['visitorId'].isin(abnormalUsers)),\n",
    "            )\n",
    "        ]['revenue'].mean()\n",
    "        - 1\n",
    "    )\n",
    ")\n"
   ]
  },
  {
   "cell_type": "markdown",
   "metadata": {},
   "source": [
    "P-value значительно больше 0.05. Значит, причин отвергать нулевую гипотезу и считать, что в среднем чеке есть различия,тоже нет (как и с \"Сырыми\" данными). А вот средний чек группы B оказался незначительно (на 5%) выше среднего чека группы A, в то время как по \"сырым\" данным, он был больше аж на ~28%. И все из за аномалий"
   ]
  },
  {
   "cell_type": "markdown",
   "metadata": {},
   "source": [
    "<div class=\"alert alert-block alert-danger\">\n",
    "<h2> Комментарий ревьюера v.2 <a class=\"tocSkip\"></h2>\n",
    "\n",
    "    \n",
    "<b>На доработку❌:</b>\n",
    "\n",
    "Метрики не подписаны."
   ]
  },
  {
   "cell_type": "markdown",
   "metadata": {},
   "source": [
    "<div class=\"alert alert-success\">\n",
    "<h2> Комментарий ревьюера v.3 <a class=\"tocSkip\"> </h2>\n",
    "\n",
    "<b>Все отлично!👍:</b> Учтено."
   ]
  },
  {
   "cell_type": "markdown",
   "metadata": {},
   "source": [
    "<div class=\"alert alert-success\">\n",
    "<h2> Комментарий ревьюера <a class=\"tocSkip\"> </h2>\n",
    "\n",
    "<b>Все отлично!👍:</b> Оценили значимость различий среднего чека между группами на очищенных данных - отлично!"
   ]
  },
  {
   "cell_type": "markdown",
   "metadata": {},
   "source": [
    "<div class=\"alert alert-block alert-danger\">\n",
    "<h2> Комментарий ревьюера <a class=\"tocSkip\"></h2>\n",
    "\n",
    "    \n",
    "<b>На доработку❌:</b>\n",
    "\n",
    "Аналогично нужно пересмотреть вывод."
   ]
  },
  {
   "cell_type": "markdown",
   "metadata": {},
   "source": [
    "<div class=\"alert alert-block alert-danger\">\n",
    "<h2> Комментарий ревьюера v.2 <a class=\"tocSkip\"></h2>\n",
    "\n",
    "    \n",
    "<b>На доработку❌:</b>\n",
    "\n",
    "Вывод не исправлен - ошибка аналогична блоку со средним чеком на сырых данных."
   ]
  },
  {
   "cell_type": "markdown",
   "metadata": {},
   "source": [
    "<div class=\"alert alert-block alert-danger\">\n",
    "<h2> Комментарий ревьюера v.3 <a class=\"tocSkip\"></h2>\n",
    "\n",
    "    \n",
    "<b>На доработку❌:</b>\n",
    "\n",
    "Всё ещё актуально - обрати ещё раз внимание на значение `p-value` и подумай, действительно ли есть статистическая значимость по среднему чеку на очищенных данных?"
   ]
  },
  {
   "cell_type": "markdown",
   "metadata": {},
   "source": [
    "<div class=\"alert alert-success\">\n",
    "<h2> Комментарий ревьюера v.4 <a class=\"tocSkip\"> </h2>\n",
    "\n",
    "<b>Все отлично!👍:</b> Учтено."
   ]
  },
  {
   "cell_type": "markdown",
   "metadata": {},
   "source": [
    "14. Примите решение по результатам теста и объясните его. Варианты решений:\n",
    "\n",
    "- Остановить тест, зафиксировать победу одной из групп.\n",
    "- Остановить тест, зафиксировать отсутствие различий между группами.\n",
    "- Продолжить тест."
   ]
  },
  {
   "cell_type": "markdown",
   "metadata": {},
   "source": [
    "1 Есть статистически значимое различие по конверсии между группами как по сырым данным, так и после фильтрации аномалий.\n",
    "\n",
    "2 Нет различий в среднем чеке как по сырым, так и по очищенным данным\n",
    "\n",
    "3 \tГрафик различия конверсии между группами сообщает, что результаты группы B лучше группы A: В середине периода максимальный подъем (порядка 20%) а потом небольшой спад.\n",
    "\n",
    "4\tГрафик различия среднего чека колеблется: он-то и позволил вам найти аномалии\n"
   ]
  },
  {
   "cell_type": "markdown",
   "metadata": {},
   "source": [
    "<div class=\"alert alert-block alert-danger\">\n",
    "<h2> Комментарий ревьюера <a class=\"tocSkip\"></h2>\n",
    "\n",
    "    \n",
    "<b>На доработку❌:</b>\n",
    "\n",
    "В части среднего чека нужно скорректировать."
   ]
  },
  {
   "cell_type": "markdown",
   "metadata": {},
   "source": [
    "<div class=\"alert alert-block alert-danger\">\n",
    "<h2> Комментарий ревьюера v.2 <a class=\"tocSkip\"></h2>\n",
    "\n",
    "    \n",
    "<b>На доработку❌:</b>\n",
    "\n",
    "Всё ещё нужны корректировки."
   ]
  },
  {
   "cell_type": "markdown",
   "metadata": {},
   "source": [
    "<div class=\"alert alert-block alert-danger\">\n",
    "<h2> Комментарий ревьюера v.3 <a class=\"tocSkip\"></h2>\n",
    "\n",
    "    \n",
    "<b>На доработку❌:</b>\n",
    "\n",
    "Всё ещё нужны корректировки."
   ]
  },
  {
   "cell_type": "markdown",
   "metadata": {},
   "source": [
    "<div class=\"alert alert-success\">\n",
    "<h2> Комментарий ревьюера v.4 <a class=\"tocSkip\"> </h2>\n",
    "\n",
    "<b>Все отлично!👍:</b> Учтено."
   ]
  },
  {
   "cell_type": "markdown",
   "metadata": {},
   "source": [
    "ВЫВОД: Остановить тест, зафиксировать победу группы В."
   ]
  },
  {
   "cell_type": "markdown",
   "metadata": {},
   "source": [
    "<div class=\"alert alert-success\">\n",
    "<h2> Комментарий ревьюера <a class=\"tocSkip\"> </h2>\n",
    "\n",
    "<b>Все отлично!👍:</b> Решение по тесту принято верное - отличная работа!"
   ]
  },
  {
   "cell_type": "markdown",
   "metadata": {},
   "source": [
    "<div style=\"border:solid Chocolate 2px; padding: 40px\">\n",
    "\n",
    "# Комментарий ревьюера: общий вывод по проекту.\n",
    "\n",
    "Вячеслав, проект получился на довольно хорошем уровне - ты хорошо постарался, молодец!\n",
    "\n",
    "Мне нравится твой аналитический подход к выполнению проекта, ты соблюдаешь структуру работы, выполняешь её последовательно - это очень хорошо! Шаги проекта выполнены по порядку согласно плану проекта, нет смысловых и структурных ям. Важно, что не забываешь про выводы.\n",
    "\n",
    "Работа с кумулятивными данными выполнена отлично - данные собраны корректно, графики построены верно, выводы сделаны корректные.\n",
    "    \n",
    "Над проектом ещё стоит поработать - есть рекомендации по дополнению некоторых твоих шагов проекта. Такие рекомендации я отметил жёлтыми комментариями. Будет здорово, если ты учтёшь их - так проект станет структурно и содержательно более совершенным.\n",
    "    \n",
    "Также в работе есть критические замечания. К этим замечаниям я оставил пояснительные комментарии красного цвета, в которых перечислил возможные варианты дальнейших действий. Уверен, ты быстро с этим управишься:)\n",
    "    \n",
    "Если о том, что нужно сделать в рамках комментариев, будут возникать вопросы - оставь их, пожалуйста, в комментариях, и я отвечу на них во время следующего ревью.\n",
    "    \n",
    "Также буду рад ответить на любые твои вопросы по проекту или на какие-либо другие, если они у тебя имеются - оставь их в комментариях, и я постараюсь ответить:)\n",
    "    \n",
    "Жду твой проект на повторном ревью. До встречи:)"
   ]
  },
  {
   "cell_type": "markdown",
   "metadata": {},
   "source": [
    "<div style=\"border:solid Chocolate 2px; padding: 40px\">\n",
    "\n",
    "# Комментарий ревьюера: общий вывод по проекту v.2.\n",
    "\n",
    "Вячеслав, продолжаем работу над проектом - актуальные замечания отмечены комментариями с меткой `v.2`.\n",
    "    \n",
    "Жду тебя снова:)"
   ]
  },
  {
   "cell_type": "markdown",
   "metadata": {},
   "source": [
    "<div style=\"border:solid Chocolate 2px; padding: 40px\">\n",
    "\n",
    "# Комментарий ревьюера: общий вывод по проекту v.3.\n",
    "\n",
    "Вячеслав, продолжаем работу над проектом - актуальные замечания отмечены комментариями с меткой `v.3`.\n",
    "\n",
    "Также прошу тебя чуть активнее включиться в работу: будет эффективнее, если ты будешь оствлять свои вопросы под замечаниями, которые не понимаешь, а не игнорировать их - от этого замечания никуда не денутся, но в диалоге мы сможем быстрее их исправить и сэкономить количество потраченных итераций.\n",
    "    \n",
    "Жду тебя снова:)"
   ]
  },
  {
   "cell_type": "markdown",
   "metadata": {},
   "source": [
    "<div style=\"border:solid Chocolate 2px; padding: 40px\">\n",
    "\n",
    "# Комментарий ревьюера: общий вывод по проекту v.4.\n",
    "\n",
    "Вячеслав, все замечания учтены - проект принят!\n",
    "    \n",
    "Спасибо за работу над проектом, желаю успехов в дальнейшем обучении:)"
   ]
  }
 ],
 "metadata": {
  "ExecuteTimeLog": [
   {
    "duration": 53,
    "start_time": "2023-02-02T18:52:41.183Z"
   },
   {
    "duration": 421,
    "start_time": "2023-02-02T18:52:53.244Z"
   },
   {
    "duration": 3,
    "start_time": "2023-02-02T18:53:02.066Z"
   },
   {
    "duration": 79,
    "start_time": "2023-02-02T18:53:03.164Z"
   },
   {
    "duration": 726,
    "start_time": "2023-02-02T18:53:03.812Z"
   },
   {
    "duration": 31,
    "start_time": "2023-02-02T18:53:44.212Z"
   },
   {
    "duration": 14,
    "start_time": "2023-02-02T18:55:38.701Z"
   },
   {
    "duration": 14,
    "start_time": "2023-02-02T18:55:41.211Z"
   },
   {
    "duration": 9,
    "start_time": "2023-02-02T18:55:54.540Z"
   },
   {
    "duration": 9,
    "start_time": "2023-02-02T18:56:21.659Z"
   },
   {
    "duration": 9,
    "start_time": "2023-02-02T18:58:29.601Z"
   },
   {
    "duration": 70,
    "start_time": "2023-02-02T19:17:16.416Z"
   },
   {
    "duration": 55,
    "start_time": "2023-02-02T19:17:47.074Z"
   },
   {
    "duration": 345,
    "start_time": "2023-02-02T19:18:13.435Z"
   },
   {
    "duration": 319,
    "start_time": "2023-02-02T19:20:55.746Z"
   },
   {
    "duration": 243,
    "start_time": "2023-02-02T19:21:09.994Z"
   },
   {
    "duration": 3,
    "start_time": "2023-02-02T19:21:38.650Z"
   },
   {
    "duration": 26,
    "start_time": "2023-02-02T19:21:39.148Z"
   },
   {
    "duration": 8,
    "start_time": "2023-02-02T19:21:39.546Z"
   },
   {
    "duration": 10,
    "start_time": "2023-02-02T19:21:39.979Z"
   },
   {
    "duration": 266,
    "start_time": "2023-02-02T19:21:41.627Z"
   },
   {
    "duration": 342,
    "start_time": "2023-02-02T19:22:35.106Z"
   },
   {
    "duration": 281,
    "start_time": "2023-02-02T19:23:11.867Z"
   },
   {
    "duration": 258,
    "start_time": "2023-02-02T19:23:58.210Z"
   },
   {
    "duration": 3,
    "start_time": "2023-02-02T19:24:25.353Z"
   },
   {
    "duration": 25,
    "start_time": "2023-02-02T19:24:25.950Z"
   },
   {
    "duration": 9,
    "start_time": "2023-02-02T19:24:26.387Z"
   },
   {
    "duration": 9,
    "start_time": "2023-02-02T19:24:26.857Z"
   },
   {
    "duration": 221,
    "start_time": "2023-02-02T19:24:28.132Z"
   },
   {
    "duration": 325,
    "start_time": "2023-02-02T19:33:10.985Z"
   },
   {
    "duration": 95,
    "start_time": "2023-02-02T19:33:49.063Z"
   },
   {
    "duration": 105,
    "start_time": "2023-02-02T19:34:01.217Z"
   },
   {
    "duration": 75,
    "start_time": "2023-02-02T19:37:42.192Z"
   },
   {
    "duration": 74,
    "start_time": "2023-02-02T19:38:30.674Z"
   },
   {
    "duration": 3,
    "start_time": "2023-02-02T19:38:56.535Z"
   },
   {
    "duration": 28,
    "start_time": "2023-02-02T19:38:57.255Z"
   },
   {
    "duration": 13,
    "start_time": "2023-02-02T19:38:57.935Z"
   },
   {
    "duration": 12,
    "start_time": "2023-02-02T19:38:58.632Z"
   },
   {
    "duration": 77,
    "start_time": "2023-02-02T19:39:01.232Z"
   },
   {
    "duration": 484,
    "start_time": "2023-02-02T19:40:18.351Z"
   },
   {
    "duration": 29,
    "start_time": "2023-02-02T19:40:19.087Z"
   },
   {
    "duration": 9,
    "start_time": "2023-02-02T19:40:19.511Z"
   },
   {
    "duration": 10,
    "start_time": "2023-02-02T19:40:20.047Z"
   },
   {
    "duration": 86,
    "start_time": "2023-02-02T19:40:22.527Z"
   },
   {
    "duration": 52,
    "start_time": "2023-02-02T19:42:37.256Z"
   },
   {
    "duration": 93,
    "start_time": "2023-02-02T19:42:48.143Z"
   },
   {
    "duration": 637,
    "start_time": "2023-02-02T19:45:21.935Z"
   },
   {
    "duration": 604,
    "start_time": "2023-02-02T19:45:45.287Z"
   },
   {
    "duration": 536,
    "start_time": "2023-02-02T19:50:50.716Z"
   },
   {
    "duration": 526,
    "start_time": "2023-02-02T19:51:05.700Z"
   },
   {
    "duration": 241,
    "start_time": "2023-02-02T19:52:05.011Z"
   },
   {
    "duration": 359,
    "start_time": "2023-02-02T19:55:11.515Z"
   },
   {
    "duration": 57,
    "start_time": "2023-02-02T19:57:03.226Z"
   },
   {
    "duration": 176,
    "start_time": "2023-02-02T19:58:53.026Z"
   },
   {
    "duration": 296,
    "start_time": "2023-02-02T19:59:19.121Z"
   },
   {
    "duration": 208,
    "start_time": "2023-02-02T20:03:14.780Z"
   },
   {
    "duration": 6,
    "start_time": "2023-02-02T20:04:14.378Z"
   },
   {
    "duration": 167,
    "start_time": "2023-02-02T20:04:22.713Z"
   },
   {
    "duration": 295,
    "start_time": "2023-02-02T20:11:40.183Z"
   },
   {
    "duration": 340,
    "start_time": "2023-02-02T20:12:47.207Z"
   },
   {
    "duration": 352,
    "start_time": "2023-02-02T20:13:14.391Z"
   },
   {
    "duration": 281,
    "start_time": "2023-02-02T20:13:55.543Z"
   },
   {
    "duration": 71,
    "start_time": "2023-02-02T20:17:09.038Z"
   },
   {
    "duration": 46,
    "start_time": "2023-02-04T12:35:28.525Z"
   },
   {
    "duration": 759,
    "start_time": "2023-02-04T12:35:43.371Z"
   },
   {
    "duration": 81,
    "start_time": "2023-02-04T12:35:44.132Z"
   },
   {
    "duration": 12,
    "start_time": "2023-02-04T12:35:44.215Z"
   },
   {
    "duration": 9,
    "start_time": "2023-02-04T12:35:44.576Z"
   },
   {
    "duration": 708,
    "start_time": "2023-02-04T12:35:45.643Z"
   },
   {
    "duration": 179,
    "start_time": "2023-02-04T12:35:46.353Z"
   },
   {
    "duration": 378,
    "start_time": "2023-02-04T12:35:47.012Z"
   },
   {
    "duration": 225,
    "start_time": "2023-02-04T12:35:47.651Z"
   },
   {
    "duration": 282,
    "start_time": "2023-02-04T12:35:48.347Z"
   },
   {
    "duration": 40,
    "start_time": "2023-02-04T12:35:49.115Z"
   },
   {
    "duration": 11,
    "start_time": "2023-02-04T12:37:12.732Z"
   },
   {
    "duration": 11,
    "start_time": "2023-02-04T12:37:30.771Z"
   },
   {
    "duration": 25,
    "start_time": "2023-02-04T12:40:31.890Z"
   },
   {
    "duration": 9,
    "start_time": "2023-02-04T12:41:13.623Z"
   },
   {
    "duration": 122,
    "start_time": "2023-02-04T12:43:12.385Z"
   },
   {
    "duration": 115,
    "start_time": "2023-02-04T12:43:32.922Z"
   },
   {
    "duration": 4,
    "start_time": "2023-02-04T12:46:28.171Z"
   },
   {
    "duration": 5,
    "start_time": "2023-02-04T12:46:41.319Z"
   },
   {
    "duration": 901,
    "start_time": "2023-02-04T12:49:40.424Z"
   },
   {
    "duration": 132,
    "start_time": "2023-02-04T12:50:28.751Z"
   },
   {
    "duration": 995,
    "start_time": "2023-02-04T12:51:25.183Z"
   },
   {
    "duration": 133,
    "start_time": "2023-02-04T12:51:34.125Z"
   },
   {
    "duration": 143,
    "start_time": "2023-02-04T12:51:40.223Z"
   },
   {
    "duration": 924,
    "start_time": "2023-02-04T12:54:00.529Z"
   },
   {
    "duration": 7,
    "start_time": "2023-02-04T12:54:15.023Z"
   },
   {
    "duration": 113,
    "start_time": "2023-02-04T12:57:59.326Z"
   },
   {
    "duration": 120,
    "start_time": "2023-02-04T12:59:58.963Z"
   },
   {
    "duration": 175,
    "start_time": "2023-02-04T13:00:44.261Z"
   },
   {
    "duration": 229,
    "start_time": "2023-02-04T13:01:01.125Z"
   },
   {
    "duration": 251,
    "start_time": "2023-02-04T13:02:11.958Z"
   },
   {
    "duration": 245,
    "start_time": "2023-02-04T13:03:08.871Z"
   },
   {
    "duration": 502,
    "start_time": "2023-02-04T13:04:38.259Z"
   },
   {
    "duration": 466,
    "start_time": "2023-02-04T13:05:08.358Z"
   },
   {
    "duration": 102,
    "start_time": "2023-02-04T13:05:09.167Z"
   },
   {
    "duration": 7,
    "start_time": "2023-02-04T13:05:09.271Z"
   },
   {
    "duration": 8,
    "start_time": "2023-02-04T13:05:09.290Z"
   },
   {
    "duration": 497,
    "start_time": "2023-02-04T13:05:09.461Z"
   },
   {
    "duration": 200,
    "start_time": "2023-02-04T13:05:09.960Z"
   },
   {
    "duration": 326,
    "start_time": "2023-02-04T13:05:10.162Z"
   },
   {
    "duration": 184,
    "start_time": "2023-02-04T13:05:10.491Z"
   },
   {
    "duration": 341,
    "start_time": "2023-02-04T13:05:10.677Z"
   },
   {
    "duration": 140,
    "start_time": "2023-02-04T13:05:11.021Z"
   },
   {
    "duration": 5,
    "start_time": "2023-02-04T13:05:11.163Z"
   },
   {
    "duration": 222,
    "start_time": "2023-02-04T13:05:11.169Z"
   },
   {
    "duration": 16,
    "start_time": "2023-02-04T13:05:11.393Z"
   },
   {
    "duration": 503,
    "start_time": "2023-02-04T13:05:11.417Z"
   },
   {
    "duration": 39,
    "start_time": "2023-02-04T13:12:07.244Z"
   },
   {
    "duration": 160,
    "start_time": "2023-02-04T13:13:26.469Z"
   },
   {
    "duration": 4,
    "start_time": "2023-02-04T13:22:53.483Z"
   },
   {
    "duration": 3,
    "start_time": "2023-02-04T13:22:58.882Z"
   },
   {
    "duration": 5,
    "start_time": "2023-02-04T13:23:07.429Z"
   },
   {
    "duration": 905,
    "start_time": "2023-02-04T13:23:45.674Z"
   },
   {
    "duration": 906,
    "start_time": "2023-02-04T13:24:12.946Z"
   },
   {
    "duration": 1008,
    "start_time": "2023-02-04T13:24:38.178Z"
   },
   {
    "duration": 8,
    "start_time": "2023-02-04T13:25:27.019Z"
   },
   {
    "duration": 42,
    "start_time": "2023-02-04T13:27:15.681Z"
   },
   {
    "duration": 141,
    "start_time": "2023-02-04T13:31:21.609Z"
   },
   {
    "duration": 34,
    "start_time": "2023-02-04T13:31:27.097Z"
   },
   {
    "duration": 691,
    "start_time": "2023-02-04T13:32:48.992Z"
   },
   {
    "duration": 13,
    "start_time": "2023-02-04T13:33:26.280Z"
   },
   {
    "duration": 1365,
    "start_time": "2023-02-05T13:49:19.377Z"
   },
   {
    "duration": 270,
    "start_time": "2023-02-05T13:49:20.746Z"
   },
   {
    "duration": 13,
    "start_time": "2023-02-05T13:49:21.018Z"
   },
   {
    "duration": 43,
    "start_time": "2023-02-05T13:49:21.033Z"
   },
   {
    "duration": 243,
    "start_time": "2023-02-05T13:49:21.081Z"
   },
   {
    "duration": 459,
    "start_time": "2023-02-05T13:49:21.326Z"
   },
   {
    "duration": 186,
    "start_time": "2023-02-05T13:49:21.791Z"
   },
   {
    "duration": 330,
    "start_time": "2023-02-05T13:49:21.980Z"
   },
   {
    "duration": 191,
    "start_time": "2023-02-05T13:49:22.312Z"
   },
   {
    "duration": 326,
    "start_time": "2023-02-05T13:49:22.506Z"
   },
   {
    "duration": 132,
    "start_time": "2023-02-05T13:49:22.834Z"
   },
   {
    "duration": 9,
    "start_time": "2023-02-05T13:49:22.968Z"
   },
   {
    "duration": 136,
    "start_time": "2023-02-05T13:49:22.979Z"
   },
   {
    "duration": 3,
    "start_time": "2023-02-05T13:49:23.117Z"
   },
   {
    "duration": 560,
    "start_time": "2023-02-05T13:49:23.122Z"
   },
   {
    "duration": 180,
    "start_time": "2023-02-05T13:49:23.684Z"
   },
   {
    "duration": 56,
    "start_time": "2023-02-05T13:49:23.866Z"
   },
   {
    "duration": 0,
    "start_time": "2023-02-05T13:49:23.924Z"
   },
   {
    "duration": 0,
    "start_time": "2023-02-05T13:49:23.925Z"
   },
   {
    "duration": 1117,
    "start_time": "2023-02-05T13:52:23.878Z"
   },
   {
    "duration": 101,
    "start_time": "2023-02-05T13:52:24.997Z"
   },
   {
    "duration": 13,
    "start_time": "2023-02-05T13:52:25.101Z"
   },
   {
    "duration": 29,
    "start_time": "2023-02-05T13:52:25.116Z"
   },
   {
    "duration": 234,
    "start_time": "2023-02-05T13:52:25.146Z"
   },
   {
    "duration": 388,
    "start_time": "2023-02-05T13:52:25.382Z"
   },
   {
    "duration": 194,
    "start_time": "2023-02-05T13:52:25.772Z"
   },
   {
    "duration": 267,
    "start_time": "2023-02-05T13:52:25.968Z"
   },
   {
    "duration": 169,
    "start_time": "2023-02-05T13:52:26.246Z"
   },
   {
    "duration": 317,
    "start_time": "2023-02-05T13:52:26.417Z"
   },
   {
    "duration": 121,
    "start_time": "2023-02-05T13:52:26.743Z"
   },
   {
    "duration": 5,
    "start_time": "2023-02-05T13:52:26.865Z"
   },
   {
    "duration": 149,
    "start_time": "2023-02-05T13:52:26.871Z"
   },
   {
    "duration": 5,
    "start_time": "2023-02-05T13:52:27.022Z"
   },
   {
    "duration": 230,
    "start_time": "2023-02-05T13:52:27.029Z"
   },
   {
    "duration": 299,
    "start_time": "2023-02-05T13:52:27.261Z"
   },
   {
    "duration": 152,
    "start_time": "2023-02-05T13:52:27.562Z"
   },
   {
    "duration": 56,
    "start_time": "2023-02-05T13:52:27.716Z"
   },
   {
    "duration": 0,
    "start_time": "2023-02-05T13:52:27.773Z"
   },
   {
    "duration": 0,
    "start_time": "2023-02-05T13:52:27.774Z"
   },
   {
    "duration": 1059,
    "start_time": "2023-02-05T13:52:37.624Z"
   },
   {
    "duration": 90,
    "start_time": "2023-02-05T13:52:38.684Z"
   },
   {
    "duration": 11,
    "start_time": "2023-02-05T13:52:38.775Z"
   },
   {
    "duration": 8,
    "start_time": "2023-02-05T13:52:38.788Z"
   },
   {
    "duration": 178,
    "start_time": "2023-02-05T13:52:38.798Z"
   },
   {
    "duration": 396,
    "start_time": "2023-02-05T13:52:38.978Z"
   },
   {
    "duration": 193,
    "start_time": "2023-02-05T13:52:39.376Z"
   },
   {
    "duration": 293,
    "start_time": "2023-02-05T13:52:39.570Z"
   },
   {
    "duration": 172,
    "start_time": "2023-02-05T13:52:39.864Z"
   },
   {
    "duration": 293,
    "start_time": "2023-02-05T13:52:40.044Z"
   },
   {
    "duration": 128,
    "start_time": "2023-02-05T13:52:40.339Z"
   },
   {
    "duration": 4,
    "start_time": "2023-02-05T13:52:40.469Z"
   },
   {
    "duration": 147,
    "start_time": "2023-02-05T13:52:40.474Z"
   },
   {
    "duration": 4,
    "start_time": "2023-02-05T13:52:40.623Z"
   },
   {
    "duration": 232,
    "start_time": "2023-02-05T13:52:40.629Z"
   },
   {
    "duration": 269,
    "start_time": "2023-02-05T13:52:40.863Z"
   },
   {
    "duration": 161,
    "start_time": "2023-02-05T13:52:41.134Z"
   },
   {
    "duration": 35,
    "start_time": "2023-02-05T13:52:41.298Z"
   },
   {
    "duration": 27,
    "start_time": "2023-02-05T13:52:41.335Z"
   },
   {
    "duration": 1036,
    "start_time": "2023-02-05T13:53:30.052Z"
   },
   {
    "duration": 84,
    "start_time": "2023-02-05T13:53:31.090Z"
   },
   {
    "duration": 10,
    "start_time": "2023-02-05T13:53:31.175Z"
   },
   {
    "duration": 18,
    "start_time": "2023-02-05T13:53:31.187Z"
   },
   {
    "duration": 196,
    "start_time": "2023-02-05T13:53:31.207Z"
   },
   {
    "duration": 392,
    "start_time": "2023-02-05T13:53:31.405Z"
   },
   {
    "duration": 179,
    "start_time": "2023-02-05T13:53:31.798Z"
   },
   {
    "duration": 275,
    "start_time": "2023-02-05T13:53:31.978Z"
   },
   {
    "duration": 159,
    "start_time": "2023-02-05T13:53:32.260Z"
   },
   {
    "duration": 306,
    "start_time": "2023-02-05T13:53:32.421Z"
   },
   {
    "duration": 126,
    "start_time": "2023-02-05T13:53:32.729Z"
   },
   {
    "duration": 6,
    "start_time": "2023-02-05T13:53:32.856Z"
   },
   {
    "duration": 133,
    "start_time": "2023-02-05T13:53:32.863Z"
   },
   {
    "duration": 4,
    "start_time": "2023-02-05T13:53:33.000Z"
   },
   {
    "duration": 217,
    "start_time": "2023-02-05T13:53:33.006Z"
   },
   {
    "duration": 286,
    "start_time": "2023-02-05T13:53:33.225Z"
   },
   {
    "duration": 160,
    "start_time": "2023-02-05T13:53:33.513Z"
   },
   {
    "duration": 7,
    "start_time": "2023-02-05T13:53:33.675Z"
   },
   {
    "duration": 34,
    "start_time": "2023-02-05T13:53:33.684Z"
   },
   {
    "duration": 40,
    "start_time": "2023-02-05T13:53:33.719Z"
   },
   {
    "duration": 1189,
    "start_time": "2023-02-05T13:54:00.265Z"
   },
   {
    "duration": 82,
    "start_time": "2023-02-05T13:54:01.460Z"
   },
   {
    "duration": 11,
    "start_time": "2023-02-05T13:54:01.544Z"
   },
   {
    "duration": 35,
    "start_time": "2023-02-05T13:54:01.557Z"
   },
   {
    "duration": 237,
    "start_time": "2023-02-05T13:54:01.594Z"
   },
   {
    "duration": 396,
    "start_time": "2023-02-05T13:54:01.833Z"
   },
   {
    "duration": 181,
    "start_time": "2023-02-05T13:54:02.231Z"
   },
   {
    "duration": 326,
    "start_time": "2023-02-05T13:54:02.413Z"
   },
   {
    "duration": 166,
    "start_time": "2023-02-05T13:54:02.746Z"
   },
   {
    "duration": 310,
    "start_time": "2023-02-05T13:54:02.914Z"
   },
   {
    "duration": 122,
    "start_time": "2023-02-05T13:54:03.225Z"
   },
   {
    "duration": 10,
    "start_time": "2023-02-05T13:54:03.352Z"
   },
   {
    "duration": 121,
    "start_time": "2023-02-05T13:54:03.364Z"
   },
   {
    "duration": 4,
    "start_time": "2023-02-05T13:54:03.487Z"
   },
   {
    "duration": 236,
    "start_time": "2023-02-05T13:54:03.492Z"
   },
   {
    "duration": 407,
    "start_time": "2023-02-05T13:54:03.730Z"
   },
   {
    "duration": 150,
    "start_time": "2023-02-05T13:54:04.139Z"
   },
   {
    "duration": 8,
    "start_time": "2023-02-05T13:54:04.291Z"
   },
   {
    "duration": 58,
    "start_time": "2023-02-05T13:54:04.301Z"
   },
   {
    "duration": 17,
    "start_time": "2023-02-05T13:54:04.364Z"
   },
   {
    "duration": 12,
    "start_time": "2023-02-05T17:59:03.273Z"
   },
   {
    "duration": 3,
    "start_time": "2023-02-05T18:12:25.110Z"
   },
   {
    "duration": 2,
    "start_time": "2023-02-05T18:24:02.746Z"
   },
   {
    "duration": 3,
    "start_time": "2023-02-05T18:32:09.192Z"
   },
   {
    "duration": 45,
    "start_time": "2023-02-05T18:41:30.848Z"
   },
   {
    "duration": 1024,
    "start_time": "2023-02-05T18:41:38.620Z"
   },
   {
    "duration": 73,
    "start_time": "2023-02-05T18:41:40.190Z"
   },
   {
    "duration": 14,
    "start_time": "2023-02-05T18:44:16.590Z"
   },
   {
    "duration": 10,
    "start_time": "2023-02-05T18:45:30.011Z"
   },
   {
    "duration": 10,
    "start_time": "2023-02-05T18:45:35.534Z"
   },
   {
    "duration": 11,
    "start_time": "2023-02-05T18:48:01.341Z"
   },
   {
    "duration": 8,
    "start_time": "2023-02-05T18:48:21.876Z"
   },
   {
    "duration": 10,
    "start_time": "2023-02-05T18:48:36.917Z"
   },
   {
    "duration": 75,
    "start_time": "2023-02-05T18:54:53.544Z"
   },
   {
    "duration": 4,
    "start_time": "2023-02-05T19:05:31.429Z"
   },
   {
    "duration": 83,
    "start_time": "2023-02-05T19:08:26.604Z"
   },
   {
    "duration": 28,
    "start_time": "2023-02-05T19:08:48.049Z"
   },
   {
    "duration": 28,
    "start_time": "2023-02-05T19:08:56.152Z"
   },
   {
    "duration": 8,
    "start_time": "2023-02-05T19:09:14.581Z"
   },
   {
    "duration": 26,
    "start_time": "2023-02-05T19:09:31.768Z"
   },
   {
    "duration": 14,
    "start_time": "2023-02-05T19:10:01.455Z"
   },
   {
    "duration": 8,
    "start_time": "2023-02-05T19:10:13.436Z"
   },
   {
    "duration": 9,
    "start_time": "2023-02-05T19:10:40.863Z"
   },
   {
    "duration": 9,
    "start_time": "2023-02-05T19:10:45.878Z"
   },
   {
    "duration": 8,
    "start_time": "2023-02-05T19:11:28.440Z"
   },
   {
    "duration": 67,
    "start_time": "2023-02-05T19:14:08.229Z"
   },
   {
    "duration": 71,
    "start_time": "2023-02-05T19:16:26.013Z"
   },
   {
    "duration": 8,
    "start_time": "2023-02-05T19:16:31.653Z"
   },
   {
    "duration": 8,
    "start_time": "2023-02-05T19:16:42.645Z"
   },
   {
    "duration": 13,
    "start_time": "2023-02-05T19:17:35.886Z"
   },
   {
    "duration": 7,
    "start_time": "2023-02-05T19:17:48.460Z"
   },
   {
    "duration": 4,
    "start_time": "2023-02-05T19:19:35.596Z"
   },
   {
    "duration": 10,
    "start_time": "2023-02-05T19:19:39.725Z"
   },
   {
    "duration": 3,
    "start_time": "2023-02-05T19:19:52.004Z"
   },
   {
    "duration": 3,
    "start_time": "2023-02-05T19:19:58.692Z"
   },
   {
    "duration": 7,
    "start_time": "2023-02-05T19:20:03.907Z"
   },
   {
    "duration": 9,
    "start_time": "2023-02-05T19:20:45.363Z"
   },
   {
    "duration": 79,
    "start_time": "2023-02-05T19:21:22.532Z"
   },
   {
    "duration": 7,
    "start_time": "2023-02-05T19:21:29.884Z"
   },
   {
    "duration": 7,
    "start_time": "2023-02-05T19:21:55.045Z"
   },
   {
    "duration": 7,
    "start_time": "2023-02-05T19:23:05.396Z"
   },
   {
    "duration": 7,
    "start_time": "2023-02-05T19:23:09.075Z"
   },
   {
    "duration": 10,
    "start_time": "2023-02-05T19:23:28.947Z"
   },
   {
    "duration": 74,
    "start_time": "2023-02-05T19:39:42.598Z"
   },
   {
    "duration": 17,
    "start_time": "2023-02-05T19:42:30.599Z"
   },
   {
    "duration": 12,
    "start_time": "2023-02-05T19:44:03.829Z"
   },
   {
    "duration": 11,
    "start_time": "2023-02-05T19:46:37.996Z"
   },
   {
    "duration": 68,
    "start_time": "2023-02-05T19:46:42.573Z"
   },
   {
    "duration": 70,
    "start_time": "2023-02-05T19:46:56.501Z"
   },
   {
    "duration": 8,
    "start_time": "2023-02-05T19:47:33.084Z"
   },
   {
    "duration": 26,
    "start_time": "2023-02-05T19:47:38.125Z"
   },
   {
    "duration": 6,
    "start_time": "2023-02-05T19:47:46.758Z"
   },
   {
    "duration": 8,
    "start_time": "2023-02-05T19:48:52.861Z"
   },
   {
    "duration": 6,
    "start_time": "2023-02-05T19:48:53.445Z"
   },
   {
    "duration": 202,
    "start_time": "2023-02-05T19:48:55.157Z"
   },
   {
    "duration": 364,
    "start_time": "2023-02-05T19:48:57.204Z"
   },
   {
    "duration": 180,
    "start_time": "2023-02-05T19:49:01.157Z"
   },
   {
    "duration": 294,
    "start_time": "2023-02-05T19:49:02.476Z"
   },
   {
    "duration": 154,
    "start_time": "2023-02-05T19:49:03.247Z"
   },
   {
    "duration": 276,
    "start_time": "2023-02-05T19:49:03.844Z"
   },
   {
    "duration": 185,
    "start_time": "2023-02-05T19:49:04.123Z"
   },
   {
    "duration": 4,
    "start_time": "2023-02-05T19:49:04.310Z"
   },
   {
    "duration": 145,
    "start_time": "2023-02-05T19:49:04.316Z"
   },
   {
    "duration": 4,
    "start_time": "2023-02-05T19:49:04.463Z"
   },
   {
    "duration": 216,
    "start_time": "2023-02-05T19:49:04.535Z"
   },
   {
    "duration": 272,
    "start_time": "2023-02-05T19:49:04.753Z"
   },
   {
    "duration": 151,
    "start_time": "2023-02-05T19:49:05.027Z"
   },
   {
    "duration": 16,
    "start_time": "2023-02-05T19:49:05.179Z"
   },
   {
    "duration": 31,
    "start_time": "2023-02-05T19:49:05.197Z"
   },
   {
    "duration": 13,
    "start_time": "2023-02-05T19:49:05.330Z"
   },
   {
    "duration": 11,
    "start_time": "2023-02-05T19:50:35.073Z"
   },
   {
    "duration": 8,
    "start_time": "2023-02-05T19:50:37.804Z"
   },
   {
    "duration": 374,
    "start_time": "2023-02-05T19:51:14.892Z"
   },
   {
    "duration": 303,
    "start_time": "2023-02-05T19:51:29.708Z"
   },
   {
    "duration": 280,
    "start_time": "2023-02-05T19:51:33.468Z"
   },
   {
    "duration": 310,
    "start_time": "2023-02-05T19:51:38.724Z"
   },
   {
    "duration": 287,
    "start_time": "2023-02-05T19:51:42.373Z"
   },
   {
    "duration": 6,
    "start_time": "2023-02-05T19:53:41.014Z"
   },
   {
    "duration": 283,
    "start_time": "2023-02-05T19:53:46.276Z"
   },
   {
    "duration": 297,
    "start_time": "2023-02-05T19:53:55.652Z"
   },
   {
    "duration": 319,
    "start_time": "2023-02-05T19:54:00.188Z"
   },
   {
    "duration": 421,
    "start_time": "2023-02-05T19:56:03.907Z"
   },
   {
    "duration": 283,
    "start_time": "2023-02-05T19:56:09.810Z"
   },
   {
    "duration": 288,
    "start_time": "2023-02-05T19:56:17.220Z"
   },
   {
    "duration": 265,
    "start_time": "2023-02-05T19:57:02.618Z"
   },
   {
    "duration": 94,
    "start_time": "2023-02-05T19:57:15.291Z"
   },
   {
    "duration": 353,
    "start_time": "2023-02-05T19:57:20.852Z"
   },
   {
    "duration": 441,
    "start_time": "2023-02-05T19:58:10.148Z"
   },
   {
    "duration": 362,
    "start_time": "2023-02-05T19:58:24.723Z"
   },
   {
    "duration": 390,
    "start_time": "2023-02-05T19:58:47.067Z"
   },
   {
    "duration": 364,
    "start_time": "2023-02-05T19:58:55.402Z"
   },
   {
    "duration": 361,
    "start_time": "2023-02-05T19:59:52.315Z"
   },
   {
    "duration": 297,
    "start_time": "2023-02-05T19:59:57.794Z"
   },
   {
    "duration": 261,
    "start_time": "2023-02-05T20:00:23.619Z"
   },
   {
    "duration": 279,
    "start_time": "2023-02-05T20:00:30.362Z"
   },
   {
    "duration": 286,
    "start_time": "2023-02-05T20:00:43.050Z"
   },
   {
    "duration": 280,
    "start_time": "2023-02-05T20:00:48.619Z"
   },
   {
    "duration": 367,
    "start_time": "2023-02-05T20:00:53.154Z"
   },
   {
    "duration": 317,
    "start_time": "2023-02-05T20:04:42.172Z"
   },
   {
    "duration": 75,
    "start_time": "2023-02-05T20:07:25.074Z"
   },
   {
    "duration": 268,
    "start_time": "2023-02-05T20:07:44.656Z"
   },
   {
    "duration": 289,
    "start_time": "2023-02-05T20:09:01.568Z"
   },
   {
    "duration": 263,
    "start_time": "2023-02-05T20:10:03.392Z"
   },
   {
    "duration": 325,
    "start_time": "2023-02-05T20:10:13.879Z"
   },
   {
    "duration": 255,
    "start_time": "2023-02-05T20:10:27.179Z"
   },
   {
    "duration": 295,
    "start_time": "2023-02-05T20:10:43.351Z"
   },
   {
    "duration": 272,
    "start_time": "2023-02-05T20:10:50.967Z"
   },
   {
    "duration": 338,
    "start_time": "2023-02-05T20:11:45.623Z"
   },
   {
    "duration": 413,
    "start_time": "2023-02-05T20:13:31.161Z"
   },
   {
    "duration": 279,
    "start_time": "2023-02-05T20:13:45.350Z"
   },
   {
    "duration": 254,
    "start_time": "2023-02-05T20:13:54.368Z"
   },
   {
    "duration": 354,
    "start_time": "2023-02-05T20:14:00.767Z"
   },
   {
    "duration": 276,
    "start_time": "2023-02-05T20:14:21.608Z"
   },
   {
    "duration": 338,
    "start_time": "2023-02-05T20:14:23.918Z"
   },
   {
    "duration": 266,
    "start_time": "2023-02-05T20:14:57.415Z"
   },
   {
    "duration": 266,
    "start_time": "2023-02-05T20:15:57.240Z"
   },
   {
    "duration": 287,
    "start_time": "2023-02-05T21:00:50.282Z"
   },
   {
    "duration": 299,
    "start_time": "2023-02-05T21:02:16.496Z"
   },
   {
    "duration": 191,
    "start_time": "2023-02-05T21:03:28.752Z"
   },
   {
    "duration": 299,
    "start_time": "2023-02-05T21:03:44.256Z"
   },
   {
    "duration": 314,
    "start_time": "2023-02-05T21:04:04.572Z"
   },
   {
    "duration": 328,
    "start_time": "2023-02-05T21:04:11.594Z"
   },
   {
    "duration": 292,
    "start_time": "2023-02-05T21:04:20.547Z"
   },
   {
    "duration": 245,
    "start_time": "2023-02-05T21:05:03.322Z"
   },
   {
    "duration": 275,
    "start_time": "2023-02-05T21:06:06.049Z"
   },
   {
    "duration": 280,
    "start_time": "2023-02-05T21:06:54.713Z"
   },
   {
    "duration": 268,
    "start_time": "2023-02-05T21:07:30.841Z"
   },
   {
    "duration": 213,
    "start_time": "2023-02-05T21:10:21.904Z"
   },
   {
    "duration": 204,
    "start_time": "2023-02-05T21:10:39.296Z"
   },
   {
    "duration": 185,
    "start_time": "2023-02-05T21:10:49.264Z"
   },
   {
    "duration": 204,
    "start_time": "2023-02-05T21:10:55.103Z"
   },
   {
    "duration": 191,
    "start_time": "2023-02-05T21:11:00.048Z"
   },
   {
    "duration": 193,
    "start_time": "2023-02-05T21:11:04.432Z"
   },
   {
    "duration": 198,
    "start_time": "2023-02-05T21:11:14.703Z"
   },
   {
    "duration": 192,
    "start_time": "2023-02-05T21:11:20.879Z"
   },
   {
    "duration": 174,
    "start_time": "2023-02-05T21:11:39.074Z"
   },
   {
    "duration": 390,
    "start_time": "2023-02-05T21:16:40.766Z"
   },
   {
    "duration": 208,
    "start_time": "2023-02-05T21:17:16.270Z"
   },
   {
    "duration": 321,
    "start_time": "2023-02-05T21:17:23.086Z"
   },
   {
    "duration": 197,
    "start_time": "2023-02-05T21:17:31.646Z"
   },
   {
    "duration": 354,
    "start_time": "2023-02-05T21:17:43.279Z"
   },
   {
    "duration": 158,
    "start_time": "2023-02-05T21:18:13.518Z"
   },
   {
    "duration": 132,
    "start_time": "2023-02-05T21:18:21.173Z"
   },
   {
    "duration": 239,
    "start_time": "2023-02-05T21:26:42.804Z"
   },
   {
    "duration": 269,
    "start_time": "2023-02-05T21:28:58.180Z"
   },
   {
    "duration": 77,
    "start_time": "2023-02-05T21:31:12.411Z"
   },
   {
    "duration": 80,
    "start_time": "2023-02-05T21:31:56.364Z"
   },
   {
    "duration": 142,
    "start_time": "2023-02-05T21:32:25.634Z"
   },
   {
    "duration": 146,
    "start_time": "2023-02-05T21:32:51.490Z"
   },
   {
    "duration": 8,
    "start_time": "2023-02-05T21:47:11.741Z"
   },
   {
    "duration": 8,
    "start_time": "2023-02-05T21:47:20.686Z"
   },
   {
    "duration": 10,
    "start_time": "2023-02-05T21:48:19.967Z"
   },
   {
    "duration": 387,
    "start_time": "2023-02-05T21:49:31.272Z"
   },
   {
    "duration": 8,
    "start_time": "2023-02-05T21:49:42.317Z"
   },
   {
    "duration": 12,
    "start_time": "2023-02-05T21:50:46.326Z"
   },
   {
    "duration": 9,
    "start_time": "2023-02-05T21:51:12.165Z"
   },
   {
    "duration": 15,
    "start_time": "2023-02-05T21:53:24.500Z"
   },
   {
    "duration": 16,
    "start_time": "2023-02-05T21:54:37.220Z"
   },
   {
    "duration": 15,
    "start_time": "2023-02-05T21:55:37.149Z"
   },
   {
    "duration": 11,
    "start_time": "2023-02-05T21:56:04.484Z"
   },
   {
    "duration": 11,
    "start_time": "2023-02-05T21:56:20.780Z"
   },
   {
    "duration": 1209,
    "start_time": "2023-02-06T17:09:29.050Z"
   },
   {
    "duration": 198,
    "start_time": "2023-02-06T17:09:30.261Z"
   },
   {
    "duration": 17,
    "start_time": "2023-02-06T17:09:30.461Z"
   },
   {
    "duration": 17,
    "start_time": "2023-02-06T17:09:30.480Z"
   },
   {
    "duration": 57,
    "start_time": "2023-02-06T17:09:30.499Z"
   },
   {
    "duration": 29,
    "start_time": "2023-02-06T17:09:30.558Z"
   },
   {
    "duration": 52,
    "start_time": "2023-02-06T17:09:30.589Z"
   },
   {
    "duration": 84,
    "start_time": "2023-02-06T17:09:30.644Z"
   },
   {
    "duration": 227,
    "start_time": "2023-02-06T17:09:30.730Z"
   },
   {
    "duration": 459,
    "start_time": "2023-02-06T17:09:30.959Z"
   },
   {
    "duration": 230,
    "start_time": "2023-02-06T17:09:31.420Z"
   },
   {
    "duration": 341,
    "start_time": "2023-02-06T17:09:31.652Z"
   },
   {
    "duration": 244,
    "start_time": "2023-02-06T17:09:31.995Z"
   },
   {
    "duration": 418,
    "start_time": "2023-02-06T17:09:32.242Z"
   },
   {
    "duration": 184,
    "start_time": "2023-02-06T17:09:32.662Z"
   },
   {
    "duration": 4,
    "start_time": "2023-02-06T17:09:32.849Z"
   },
   {
    "duration": 167,
    "start_time": "2023-02-06T17:09:32.855Z"
   },
   {
    "duration": 5,
    "start_time": "2023-02-06T17:09:33.024Z"
   },
   {
    "duration": 249,
    "start_time": "2023-02-06T17:09:33.030Z"
   },
   {
    "duration": 304,
    "start_time": "2023-02-06T17:09:33.281Z"
   },
   {
    "duration": 184,
    "start_time": "2023-02-06T17:09:33.587Z"
   },
   {
    "duration": 19,
    "start_time": "2023-02-06T17:09:33.772Z"
   },
   {
    "duration": 37,
    "start_time": "2023-02-06T17:09:33.792Z"
   },
   {
    "duration": 19,
    "start_time": "2023-02-06T17:09:33.831Z"
   },
   {
    "duration": 57,
    "start_time": "2023-02-07T07:31:49.671Z"
   },
   {
    "duration": 1349,
    "start_time": "2023-02-07T07:32:03.477Z"
   },
   {
    "duration": 259,
    "start_time": "2023-02-07T07:32:05.076Z"
   },
   {
    "duration": 16,
    "start_time": "2023-02-07T07:32:05.788Z"
   },
   {
    "duration": 12,
    "start_time": "2023-02-07T07:32:06.988Z"
   },
   {
    "duration": 7,
    "start_time": "2023-02-07T07:32:10.817Z"
   },
   {
    "duration": 10,
    "start_time": "2023-02-07T07:32:11.676Z"
   },
   {
    "duration": 5,
    "start_time": "2023-02-07T07:32:51.061Z"
   },
   {
    "duration": 7,
    "start_time": "2023-02-07T07:33:27.172Z"
   },
   {
    "duration": 169,
    "start_time": "2023-02-07T07:48:07.344Z"
   },
   {
    "duration": 368,
    "start_time": "2023-02-07T07:48:08.208Z"
   },
   {
    "duration": 66,
    "start_time": "2023-02-07T07:49:30.224Z"
   },
   {
    "duration": 3,
    "start_time": "2023-02-07T07:49:36.435Z"
   },
   {
    "duration": 83,
    "start_time": "2023-02-07T07:49:36.589Z"
   },
   {
    "duration": 13,
    "start_time": "2023-02-07T07:49:36.684Z"
   },
   {
    "duration": 11,
    "start_time": "2023-02-07T07:49:36.857Z"
   },
   {
    "duration": 7,
    "start_time": "2023-02-07T07:49:37.313Z"
   },
   {
    "duration": 10,
    "start_time": "2023-02-07T07:49:37.409Z"
   },
   {
    "duration": 11,
    "start_time": "2023-02-07T07:49:37.475Z"
   },
   {
    "duration": 8,
    "start_time": "2023-02-07T07:49:37.520Z"
   },
   {
    "duration": 4,
    "start_time": "2023-02-07T07:49:37.552Z"
   },
   {
    "duration": 175,
    "start_time": "2023-02-07T07:49:37.648Z"
   },
   {
    "duration": 336,
    "start_time": "2023-02-07T07:49:37.826Z"
   },
   {
    "duration": 219,
    "start_time": "2023-02-07T07:49:38.167Z"
   },
   {
    "duration": 319,
    "start_time": "2023-02-07T07:49:38.387Z"
   },
   {
    "duration": 215,
    "start_time": "2023-02-07T07:49:38.708Z"
   },
   {
    "duration": 312,
    "start_time": "2023-02-07T07:49:38.925Z"
   },
   {
    "duration": 166,
    "start_time": "2023-02-07T07:49:39.238Z"
   },
   {
    "duration": 5,
    "start_time": "2023-02-07T07:49:39.405Z"
   },
   {
    "duration": 140,
    "start_time": "2023-02-07T07:49:39.412Z"
   },
   {
    "duration": 4,
    "start_time": "2023-02-07T07:49:39.554Z"
   },
   {
    "duration": 298,
    "start_time": "2023-02-07T07:49:39.559Z"
   },
   {
    "duration": 240,
    "start_time": "2023-02-07T07:49:39.859Z"
   },
   {
    "duration": 158,
    "start_time": "2023-02-07T07:51:02.739Z"
   },
   {
    "duration": 145,
    "start_time": "2023-02-07T07:51:48.309Z"
   },
   {
    "duration": 147,
    "start_time": "2023-02-07T07:51:58.989Z"
   },
   {
    "duration": 4,
    "start_time": "2023-02-07T07:52:02.518Z"
   },
   {
    "duration": 219,
    "start_time": "2023-02-07T07:52:05.413Z"
   },
   {
    "duration": 26,
    "start_time": "2023-02-07T08:03:18.856Z"
   },
   {
    "duration": 24,
    "start_time": "2023-02-07T08:03:33.032Z"
   },
   {
    "duration": 25,
    "start_time": "2023-02-07T08:04:00.576Z"
   },
   {
    "duration": 25,
    "start_time": "2023-02-07T08:04:33.943Z"
   },
   {
    "duration": 3,
    "start_time": "2023-02-07T08:04:38.882Z"
   },
   {
    "duration": 83,
    "start_time": "2023-02-07T08:04:39.053Z"
   },
   {
    "duration": 12,
    "start_time": "2023-02-07T08:04:39.150Z"
   },
   {
    "duration": 11,
    "start_time": "2023-02-07T08:04:39.303Z"
   },
   {
    "duration": 8,
    "start_time": "2023-02-07T08:04:39.776Z"
   },
   {
    "duration": 9,
    "start_time": "2023-02-07T08:04:39.872Z"
   },
   {
    "duration": 9,
    "start_time": "2023-02-07T08:04:39.937Z"
   },
   {
    "duration": 7,
    "start_time": "2023-02-07T08:04:39.969Z"
   },
   {
    "duration": 5,
    "start_time": "2023-02-07T08:04:40.000Z"
   },
   {
    "duration": 167,
    "start_time": "2023-02-07T08:04:40.113Z"
   },
   {
    "duration": 309,
    "start_time": "2023-02-07T08:04:40.283Z"
   },
   {
    "duration": 201,
    "start_time": "2023-02-07T08:04:40.594Z"
   },
   {
    "duration": 279,
    "start_time": "2023-02-07T08:04:40.796Z"
   },
   {
    "duration": 209,
    "start_time": "2023-02-07T08:04:41.077Z"
   },
   {
    "duration": 302,
    "start_time": "2023-02-07T08:04:41.288Z"
   },
   {
    "duration": 163,
    "start_time": "2023-02-07T08:04:41.592Z"
   },
   {
    "duration": 12,
    "start_time": "2023-02-07T08:04:41.757Z"
   },
   {
    "duration": 152,
    "start_time": "2023-02-07T08:04:41.771Z"
   },
   {
    "duration": 4,
    "start_time": "2023-02-07T08:04:41.925Z"
   },
   {
    "duration": 304,
    "start_time": "2023-02-07T08:04:41.931Z"
   },
   {
    "duration": 250,
    "start_time": "2023-02-07T08:04:42.237Z"
   },
   {
    "duration": 151,
    "start_time": "2023-02-07T08:04:42.488Z"
   },
   {
    "duration": 10,
    "start_time": "2023-02-07T08:04:42.640Z"
   },
   {
    "duration": 53,
    "start_time": "2023-02-07T08:04:42.652Z"
   },
   {
    "duration": 13,
    "start_time": "2023-02-07T08:04:42.707Z"
   },
   {
    "duration": 18,
    "start_time": "2023-02-07T08:04:55.632Z"
   },
   {
    "duration": 27,
    "start_time": "2023-02-07T08:05:18.303Z"
   },
   {
    "duration": 5,
    "start_time": "2023-02-07T08:06:13.986Z"
   },
   {
    "duration": 9,
    "start_time": "2023-02-07T08:06:18.263Z"
   },
   {
    "duration": 10,
    "start_time": "2023-02-07T08:06:29.303Z"
   },
   {
    "duration": 14,
    "start_time": "2023-02-07T08:06:58.312Z"
   },
   {
    "duration": 15,
    "start_time": "2023-02-07T08:10:40.829Z"
   },
   {
    "duration": 16,
    "start_time": "2023-02-07T08:11:25.980Z"
   },
   {
    "duration": 15,
    "start_time": "2023-02-07T08:11:52.901Z"
   },
   {
    "duration": 17,
    "start_time": "2023-02-07T08:11:59.357Z"
   },
   {
    "duration": 26,
    "start_time": "2023-02-07T08:12:37.021Z"
   },
   {
    "duration": 6,
    "start_time": "2023-02-07T08:14:17.101Z"
   },
   {
    "duration": 6,
    "start_time": "2023-02-07T08:14:38.548Z"
   },
   {
    "duration": 25,
    "start_time": "2023-02-07T08:15:19.980Z"
   },
   {
    "duration": 13,
    "start_time": "2023-02-07T08:16:13.348Z"
   },
   {
    "duration": 47,
    "start_time": "2023-02-08T07:14:22.638Z"
   },
   {
    "duration": 8,
    "start_time": "2023-02-08T07:16:07.227Z"
   },
   {
    "duration": 1390,
    "start_time": "2023-02-08T07:16:23.409Z"
   },
   {
    "duration": 228,
    "start_time": "2023-02-08T07:16:24.801Z"
   },
   {
    "duration": 20,
    "start_time": "2023-02-08T07:16:25.031Z"
   },
   {
    "duration": 11,
    "start_time": "2023-02-08T07:16:25.054Z"
   },
   {
    "duration": 16,
    "start_time": "2023-02-08T07:16:25.068Z"
   },
   {
    "duration": 13,
    "start_time": "2023-02-08T07:16:25.085Z"
   },
   {
    "duration": 24,
    "start_time": "2023-02-08T07:16:25.100Z"
   },
   {
    "duration": 20,
    "start_time": "2023-02-08T07:16:25.126Z"
   },
   {
    "duration": 46,
    "start_time": "2023-02-08T07:16:25.148Z"
   },
   {
    "duration": 222,
    "start_time": "2023-02-08T07:16:25.199Z"
   },
   {
    "duration": 478,
    "start_time": "2023-02-08T07:16:25.423Z"
   },
   {
    "duration": 205,
    "start_time": "2023-02-08T07:16:25.903Z"
   },
   {
    "duration": 333,
    "start_time": "2023-02-08T07:16:26.110Z"
   },
   {
    "duration": 237,
    "start_time": "2023-02-08T07:16:26.444Z"
   },
   {
    "duration": 339,
    "start_time": "2023-02-08T07:16:26.682Z"
   },
   {
    "duration": 163,
    "start_time": "2023-02-08T07:16:27.023Z"
   },
   {
    "duration": 4,
    "start_time": "2023-02-08T07:16:27.193Z"
   },
   {
    "duration": 174,
    "start_time": "2023-02-08T07:16:27.199Z"
   },
   {
    "duration": 5,
    "start_time": "2023-02-08T07:16:27.375Z"
   },
   {
    "duration": 217,
    "start_time": "2023-02-08T07:16:27.393Z"
   },
   {
    "duration": 303,
    "start_time": "2023-02-08T07:16:27.612Z"
   },
   {
    "duration": 136,
    "start_time": "2023-02-08T07:16:27.916Z"
   },
   {
    "duration": 16,
    "start_time": "2023-02-08T07:16:28.054Z"
   },
   {
    "duration": 37,
    "start_time": "2023-02-08T07:16:28.072Z"
   },
   {
    "duration": 13,
    "start_time": "2023-02-08T07:16:28.111Z"
   },
   {
    "duration": 10,
    "start_time": "2023-02-08T07:17:39.026Z"
   },
   {
    "duration": 10,
    "start_time": "2023-02-08T07:17:41.273Z"
   },
   {
    "duration": 10,
    "start_time": "2023-02-08T07:17:53.644Z"
   },
   {
    "duration": 10,
    "start_time": "2023-02-08T07:17:55.824Z"
   },
   {
    "duration": 7,
    "start_time": "2023-02-08T07:19:57.388Z"
   },
   {
    "duration": 77,
    "start_time": "2023-02-08T07:21:14.001Z"
   },
   {
    "duration": 11,
    "start_time": "2023-02-08T07:21:22.455Z"
   },
   {
    "duration": 11,
    "start_time": "2023-02-08T07:22:52.031Z"
   },
   {
    "duration": 7,
    "start_time": "2023-02-08T07:24:24.542Z"
   },
   {
    "duration": 10,
    "start_time": "2023-02-08T07:25:00.350Z"
   },
   {
    "duration": 7,
    "start_time": "2023-02-08T07:25:46.918Z"
   },
   {
    "duration": 87,
    "start_time": "2023-02-08T07:44:26.849Z"
   },
   {
    "duration": 13,
    "start_time": "2023-02-08T07:49:09.279Z"
   }
  ],
  "kernelspec": {
   "display_name": "Python 3 (ipykernel)",
   "language": "python",
   "name": "python3"
  },
  "language_info": {
   "codemirror_mode": {
    "name": "ipython",
    "version": 3
   },
   "file_extension": ".py",
   "mimetype": "text/x-python",
   "name": "python",
   "nbconvert_exporter": "python",
   "pygments_lexer": "ipython3",
   "version": "3.9.5"
  },
  "toc": {
   "base_numbering": 1,
   "nav_menu": {
    "height": "167px",
    "width": "160px"
   },
   "number_sections": false,
   "sideBar": true,
   "skip_h1_title": true,
   "title_cell": "Table of Contents",
   "title_sidebar": "Contents",
   "toc_cell": false,
   "toc_position": {},
   "toc_section_display": true,
   "toc_window_display": true
  }
 },
 "nbformat": 4,
 "nbformat_minor": 2
}
